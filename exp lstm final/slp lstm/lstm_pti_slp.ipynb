{
  "nbformat": 4,
  "nbformat_minor": 0,
  "metadata": {
    "colab": {
      "provenance": []
    },
    "kernelspec": {
      "name": "python3",
      "display_name": "Python 3"
    },
    "language_info": {
      "name": "python"
    }
  },
  "cells": [
    {
      "cell_type": "markdown",
      "source": [
        "Test 1 (SAND) GRU model"
      ],
      "metadata": {
        "id": "imX7FpVVdT0L"
      }
    },
    {
      "cell_type": "code",
      "execution_count": 27,
      "metadata": {
        "id": "6r5emgwN_F-_"
      },
      "outputs": [],
      "source": [
        "import numpy as np\n",
        "import pandas as pd\n",
        "from keras.models import Sequential\n",
        "from keras.layers import LSTM, Dense, Dropout\n",
        "from keras import optimizers\n",
        "import matplotlib.pyplot as plt\n",
        "from keras.models import load_model\n",
        "from sklearn.preprocessing import MinMaxScaler\n",
        "from sklearn.model_selection import train_test_split\n",
        "import sklearn.metrics as metrics\n",
        "from keras.models import Sequential\n",
        "from keras.layers import LSTM, GRU, Dense, Dropout,Activation\n",
        "from keras import optimizers\n",
        "import numpy\n",
        "import matplotlib.pyplot as plt\n",
        "import pandas\n",
        "import math\n",
        "from keras.models import Sequential\n",
        "from keras.layers import Dense\n",
        "from keras.layers import LSTM\n",
        "from sklearn.preprocessing import MinMaxScaler\n",
        "from sklearn.metrics import mean_squared_error"
      ]
    },
    {
      "cell_type": "code",
      "source": [
        "#sand = 'https://raw.githubusercontent.com/loguansiang/fyp/main/SAND%20fyp.csv'\n",
        "slp= 'https://raw.githubusercontent.com/loguansiang/fyp/main/SLP%20fyp.csv'\n",
        "# mana = 'https://raw.githubusercontent.com/loguansiang/fyp/main/MANA%20fyp.csv'\n",
        "\n",
        "df = pd.read_csv(slp)"
      ],
      "metadata": {
        "id": "QsNzkIw1_IjO"
      },
      "execution_count": 28,
      "outputs": []
    },
    {
      "cell_type": "code",
      "source": [
        "df['Date'] = pd.to_datetime(df['Date'])\n",
        "df.set_index('Date', inplace = True)"
      ],
      "metadata": {
        "id": "V1EiUFwj_L7L"
      },
      "execution_count": 29,
      "outputs": []
    },
    {
      "cell_type": "code",
      "source": [
        "df"
      ],
      "metadata": {
        "colab": {
          "base_uri": "https://localhost:8080/",
          "height": 455
        },
        "id": "t2qffNXdEOmT",
        "outputId": "d97e455a-f693-4961-edd2-8a1c5496ba8b"
      },
      "execution_count": 30,
      "outputs": [
        {
          "output_type": "execute_result",
          "data": {
            "text/plain": [
              "                Open      High       Low     Close  Adj Close     Volume\n",
              "Date                                                                    \n",
              "2020-07-08  0.199600  0.200201  0.109705  0.110012   0.110012       8412\n",
              "2020-07-09  0.110270  0.149273  0.062864  0.091263   0.091263       5864\n",
              "2020-07-10  0.091247  0.104638  0.045408  0.055206   0.055206        302\n",
              "2020-07-11  0.055206  0.089824  0.023832  0.033257   0.033257        380\n",
              "2020-07-12  0.033253  0.033525  0.018149  0.018416   0.018416         42\n",
              "...              ...       ...       ...       ...        ...        ...\n",
              "2022-04-13  0.016956  0.017662  0.016659  0.017561   0.017561  195753852\n",
              "2022-04-14  0.017563  0.018326  0.016753  0.017127   0.017127  214228125\n",
              "2022-04-15  0.017128  0.017279  0.016853  0.017239   0.017239  107932100\n",
              "2022-04-16  0.017242  0.017618  0.016952  0.017152   0.017152  128101400\n",
              "2022-04-17  0.017156  0.017343  0.017092  0.017194   0.017194  110862176\n",
              "\n",
              "[649 rows x 6 columns]"
            ],
            "text/html": [
              "\n",
              "  <div id=\"df-5bb39c8d-55c2-4d8d-bf74-f1d8ad7ad968\">\n",
              "    <div class=\"colab-df-container\">\n",
              "      <div>\n",
              "<style scoped>\n",
              "    .dataframe tbody tr th:only-of-type {\n",
              "        vertical-align: middle;\n",
              "    }\n",
              "\n",
              "    .dataframe tbody tr th {\n",
              "        vertical-align: top;\n",
              "    }\n",
              "\n",
              "    .dataframe thead th {\n",
              "        text-align: right;\n",
              "    }\n",
              "</style>\n",
              "<table border=\"1\" class=\"dataframe\">\n",
              "  <thead>\n",
              "    <tr style=\"text-align: right;\">\n",
              "      <th></th>\n",
              "      <th>Open</th>\n",
              "      <th>High</th>\n",
              "      <th>Low</th>\n",
              "      <th>Close</th>\n",
              "      <th>Adj Close</th>\n",
              "      <th>Volume</th>\n",
              "    </tr>\n",
              "    <tr>\n",
              "      <th>Date</th>\n",
              "      <th></th>\n",
              "      <th></th>\n",
              "      <th></th>\n",
              "      <th></th>\n",
              "      <th></th>\n",
              "      <th></th>\n",
              "    </tr>\n",
              "  </thead>\n",
              "  <tbody>\n",
              "    <tr>\n",
              "      <th>2020-07-08</th>\n",
              "      <td>0.199600</td>\n",
              "      <td>0.200201</td>\n",
              "      <td>0.109705</td>\n",
              "      <td>0.110012</td>\n",
              "      <td>0.110012</td>\n",
              "      <td>8412</td>\n",
              "    </tr>\n",
              "    <tr>\n",
              "      <th>2020-07-09</th>\n",
              "      <td>0.110270</td>\n",
              "      <td>0.149273</td>\n",
              "      <td>0.062864</td>\n",
              "      <td>0.091263</td>\n",
              "      <td>0.091263</td>\n",
              "      <td>5864</td>\n",
              "    </tr>\n",
              "    <tr>\n",
              "      <th>2020-07-10</th>\n",
              "      <td>0.091247</td>\n",
              "      <td>0.104638</td>\n",
              "      <td>0.045408</td>\n",
              "      <td>0.055206</td>\n",
              "      <td>0.055206</td>\n",
              "      <td>302</td>\n",
              "    </tr>\n",
              "    <tr>\n",
              "      <th>2020-07-11</th>\n",
              "      <td>0.055206</td>\n",
              "      <td>0.089824</td>\n",
              "      <td>0.023832</td>\n",
              "      <td>0.033257</td>\n",
              "      <td>0.033257</td>\n",
              "      <td>380</td>\n",
              "    </tr>\n",
              "    <tr>\n",
              "      <th>2020-07-12</th>\n",
              "      <td>0.033253</td>\n",
              "      <td>0.033525</td>\n",
              "      <td>0.018149</td>\n",
              "      <td>0.018416</td>\n",
              "      <td>0.018416</td>\n",
              "      <td>42</td>\n",
              "    </tr>\n",
              "    <tr>\n",
              "      <th>...</th>\n",
              "      <td>...</td>\n",
              "      <td>...</td>\n",
              "      <td>...</td>\n",
              "      <td>...</td>\n",
              "      <td>...</td>\n",
              "      <td>...</td>\n",
              "    </tr>\n",
              "    <tr>\n",
              "      <th>2022-04-13</th>\n",
              "      <td>0.016956</td>\n",
              "      <td>0.017662</td>\n",
              "      <td>0.016659</td>\n",
              "      <td>0.017561</td>\n",
              "      <td>0.017561</td>\n",
              "      <td>195753852</td>\n",
              "    </tr>\n",
              "    <tr>\n",
              "      <th>2022-04-14</th>\n",
              "      <td>0.017563</td>\n",
              "      <td>0.018326</td>\n",
              "      <td>0.016753</td>\n",
              "      <td>0.017127</td>\n",
              "      <td>0.017127</td>\n",
              "      <td>214228125</td>\n",
              "    </tr>\n",
              "    <tr>\n",
              "      <th>2022-04-15</th>\n",
              "      <td>0.017128</td>\n",
              "      <td>0.017279</td>\n",
              "      <td>0.016853</td>\n",
              "      <td>0.017239</td>\n",
              "      <td>0.017239</td>\n",
              "      <td>107932100</td>\n",
              "    </tr>\n",
              "    <tr>\n",
              "      <th>2022-04-16</th>\n",
              "      <td>0.017242</td>\n",
              "      <td>0.017618</td>\n",
              "      <td>0.016952</td>\n",
              "      <td>0.017152</td>\n",
              "      <td>0.017152</td>\n",
              "      <td>128101400</td>\n",
              "    </tr>\n",
              "    <tr>\n",
              "      <th>2022-04-17</th>\n",
              "      <td>0.017156</td>\n",
              "      <td>0.017343</td>\n",
              "      <td>0.017092</td>\n",
              "      <td>0.017194</td>\n",
              "      <td>0.017194</td>\n",
              "      <td>110862176</td>\n",
              "    </tr>\n",
              "  </tbody>\n",
              "</table>\n",
              "<p>649 rows × 6 columns</p>\n",
              "</div>\n",
              "      <button class=\"colab-df-convert\" onclick=\"convertToInteractive('df-5bb39c8d-55c2-4d8d-bf74-f1d8ad7ad968')\"\n",
              "              title=\"Convert this dataframe to an interactive table.\"\n",
              "              style=\"display:none;\">\n",
              "        \n",
              "  <svg xmlns=\"http://www.w3.org/2000/svg\" height=\"24px\"viewBox=\"0 0 24 24\"\n",
              "       width=\"24px\">\n",
              "    <path d=\"M0 0h24v24H0V0z\" fill=\"none\"/>\n",
              "    <path d=\"M18.56 5.44l.94 2.06.94-2.06 2.06-.94-2.06-.94-.94-2.06-.94 2.06-2.06.94zm-11 1L8.5 8.5l.94-2.06 2.06-.94-2.06-.94L8.5 2.5l-.94 2.06-2.06.94zm10 10l.94 2.06.94-2.06 2.06-.94-2.06-.94-.94-2.06-.94 2.06-2.06.94z\"/><path d=\"M17.41 7.96l-1.37-1.37c-.4-.4-.92-.59-1.43-.59-.52 0-1.04.2-1.43.59L10.3 9.45l-7.72 7.72c-.78.78-.78 2.05 0 2.83L4 21.41c.39.39.9.59 1.41.59.51 0 1.02-.2 1.41-.59l7.78-7.78 2.81-2.81c.8-.78.8-2.07 0-2.86zM5.41 20L4 18.59l7.72-7.72 1.47 1.35L5.41 20z\"/>\n",
              "  </svg>\n",
              "      </button>\n",
              "      \n",
              "  <style>\n",
              "    .colab-df-container {\n",
              "      display:flex;\n",
              "      flex-wrap:wrap;\n",
              "      gap: 12px;\n",
              "    }\n",
              "\n",
              "    .colab-df-convert {\n",
              "      background-color: #E8F0FE;\n",
              "      border: none;\n",
              "      border-radius: 50%;\n",
              "      cursor: pointer;\n",
              "      display: none;\n",
              "      fill: #1967D2;\n",
              "      height: 32px;\n",
              "      padding: 0 0 0 0;\n",
              "      width: 32px;\n",
              "    }\n",
              "\n",
              "    .colab-df-convert:hover {\n",
              "      background-color: #E2EBFA;\n",
              "      box-shadow: 0px 1px 2px rgba(60, 64, 67, 0.3), 0px 1px 3px 1px rgba(60, 64, 67, 0.15);\n",
              "      fill: #174EA6;\n",
              "    }\n",
              "\n",
              "    [theme=dark] .colab-df-convert {\n",
              "      background-color: #3B4455;\n",
              "      fill: #D2E3FC;\n",
              "    }\n",
              "\n",
              "    [theme=dark] .colab-df-convert:hover {\n",
              "      background-color: #434B5C;\n",
              "      box-shadow: 0px 1px 3px 1px rgba(0, 0, 0, 0.15);\n",
              "      filter: drop-shadow(0px 1px 2px rgba(0, 0, 0, 0.3));\n",
              "      fill: #FFFFFF;\n",
              "    }\n",
              "  </style>\n",
              "\n",
              "      <script>\n",
              "        const buttonEl =\n",
              "          document.querySelector('#df-5bb39c8d-55c2-4d8d-bf74-f1d8ad7ad968 button.colab-df-convert');\n",
              "        buttonEl.style.display =\n",
              "          google.colab.kernel.accessAllowed ? 'block' : 'none';\n",
              "\n",
              "        async function convertToInteractive(key) {\n",
              "          const element = document.querySelector('#df-5bb39c8d-55c2-4d8d-bf74-f1d8ad7ad968');\n",
              "          const dataTable =\n",
              "            await google.colab.kernel.invokeFunction('convertToInteractive',\n",
              "                                                     [key], {});\n",
              "          if (!dataTable) return;\n",
              "\n",
              "          const docLinkHtml = 'Like what you see? Visit the ' +\n",
              "            '<a target=\"_blank\" href=https://colab.research.google.com/notebooks/data_table.ipynb>data table notebook</a>'\n",
              "            + ' to learn more about interactive tables.';\n",
              "          element.innerHTML = '';\n",
              "          dataTable['output_type'] = 'display_data';\n",
              "          await google.colab.output.renderOutput(dataTable, element);\n",
              "          const docLink = document.createElement('div');\n",
              "          docLink.innerHTML = docLinkHtml;\n",
              "          element.appendChild(docLink);\n",
              "        }\n",
              "      </script>\n",
              "    </div>\n",
              "  </div>\n",
              "  "
            ]
          },
          "metadata": {},
          "execution_count": 30
        }
      ]
    },
    {
      "cell_type": "code",
      "source": [
        "pip install ta"
      ],
      "metadata": {
        "colab": {
          "base_uri": "https://localhost:8080/"
        },
        "id": "ytoP2J2Wnpbi",
        "outputId": "f5a449bf-a9a5-4f01-c737-aaffc838234b"
      },
      "execution_count": 31,
      "outputs": [
        {
          "output_type": "stream",
          "name": "stdout",
          "text": [
            "Looking in indexes: https://pypi.org/simple, https://us-python.pkg.dev/colab-wheels/public/simple/\n",
            "Requirement already satisfied: ta in /usr/local/lib/python3.8/dist-packages (0.10.2)\n",
            "Requirement already satisfied: pandas in /usr/local/lib/python3.8/dist-packages (from ta) (1.3.5)\n",
            "Requirement already satisfied: numpy in /usr/local/lib/python3.8/dist-packages (from ta) (1.21.6)\n",
            "Requirement already satisfied: python-dateutil>=2.7.3 in /usr/local/lib/python3.8/dist-packages (from pandas->ta) (2.8.2)\n",
            "Requirement already satisfied: pytz>=2017.3 in /usr/local/lib/python3.8/dist-packages (from pandas->ta) (2022.7)\n",
            "Requirement already satisfied: six>=1.5 in /usr/local/lib/python3.8/dist-packages (from python-dateutil>=2.7.3->pandas->ta) (1.15.0)\n"
          ]
        }
      ]
    },
    {
      "cell_type": "code",
      "source": [
        "import pandas as pd\n",
        "import ta\n",
        "from ta import add_all_ta_features\n",
        "from ta.utils import dropna"
      ],
      "metadata": {
        "id": "4_NDYkO-nrru"
      },
      "execution_count": 32,
      "outputs": []
    },
    {
      "cell_type": "code",
      "source": [
        "df['Pre_Close'] = df['Close'].shift(+1)\n",
        "df[('H-L')] = df['High'] - df['Low']\n",
        "df[('0-C')]= df['Open'] - df['Close']\n",
        "df['SMA_7'] = df.Close.rolling(7, min_periods=1).mean()\n",
        "df['rsi_7']=ta.momentum.rsi(df.Close,window=7)\n",
        "#df['MACD'] = ta.trend.macd_diff(df.Close)\n",
        "df['EMA_7']= df['Close'].ewm(span=7).mean()\n",
        "df = df.drop(columns=['Adj Close'])\n",
        "df.dropna(inplace= True)\n",
        "df"
      ],
      "metadata": {
        "colab": {
          "base_uri": "https://localhost:8080/",
          "height": 455
        },
        "id": "LRlTWlPfmcol",
        "outputId": "7071a0df-f52c-4dc7-f0d3-e47295502620"
      },
      "execution_count": 33,
      "outputs": [
        {
          "output_type": "execute_result",
          "data": {
            "text/plain": [
              "                Open      High       Low     Close     Volume  Pre_Close  \\\n",
              "Date                                                                       \n",
              "2020-07-14  0.012000  0.076397  0.011938  0.034327        419   0.011982   \n",
              "2020-07-15  0.034318  0.034480  0.010670  0.010735         79   0.034327   \n",
              "2020-07-16  0.010729  0.010755  0.009543  0.009627         35   0.010735   \n",
              "2020-07-17  0.009628  0.009658  0.009562  0.009590         35   0.009627   \n",
              "2020-07-18  0.009594  0.011825  0.009574  0.011774         42   0.009590   \n",
              "...              ...       ...       ...       ...        ...        ...   \n",
              "2022-04-13  0.016956  0.017662  0.016659  0.017561  195753852   0.016955   \n",
              "2022-04-14  0.017563  0.018326  0.016753  0.017127  214228125   0.017561   \n",
              "2022-04-15  0.017128  0.017279  0.016853  0.017239  107932100   0.017127   \n",
              "2022-04-16  0.017242  0.017618  0.016952  0.017152  128101400   0.017239   \n",
              "2022-04-17  0.017156  0.017343  0.017092  0.017194  110862176   0.017152   \n",
              "\n",
              "                 H-L       0-C     SMA_7      rsi_7     EMA_7  \n",
              "Date                                                           \n",
              "2020-07-14  0.064459 -0.022327  0.050638  27.681177  0.036470  \n",
              "2020-07-15  0.023810  0.023583  0.036455  20.642657  0.029320  \n",
              "2020-07-16  0.001212  0.001102  0.024793  20.359012  0.023997  \n",
              "2020-07-17  0.000096  0.000038  0.018276  20.348119  0.020181  \n",
              "2020-07-18  0.002251 -0.002180  0.015207  23.178636  0.017986  \n",
              "...              ...       ...       ...        ...       ...  \n",
              "2022-04-13  0.001003 -0.000605  0.018427  37.914164  0.018445  \n",
              "2022-04-14  0.001573  0.000436  0.017850  35.801746  0.018116  \n",
              "2022-04-15  0.000426 -0.000111  0.017545  36.860883  0.017897  \n",
              "2022-04-16  0.000666  0.000090  0.017231  36.317886  0.017710  \n",
              "2022-04-17  0.000251 -0.000038  0.017078  36.841893  0.017581  \n",
              "\n",
              "[643 rows x 11 columns]"
            ],
            "text/html": [
              "\n",
              "  <div id=\"df-ddb90d48-1bca-4b75-838d-41a246d2f3c8\">\n",
              "    <div class=\"colab-df-container\">\n",
              "      <div>\n",
              "<style scoped>\n",
              "    .dataframe tbody tr th:only-of-type {\n",
              "        vertical-align: middle;\n",
              "    }\n",
              "\n",
              "    .dataframe tbody tr th {\n",
              "        vertical-align: top;\n",
              "    }\n",
              "\n",
              "    .dataframe thead th {\n",
              "        text-align: right;\n",
              "    }\n",
              "</style>\n",
              "<table border=\"1\" class=\"dataframe\">\n",
              "  <thead>\n",
              "    <tr style=\"text-align: right;\">\n",
              "      <th></th>\n",
              "      <th>Open</th>\n",
              "      <th>High</th>\n",
              "      <th>Low</th>\n",
              "      <th>Close</th>\n",
              "      <th>Volume</th>\n",
              "      <th>Pre_Close</th>\n",
              "      <th>H-L</th>\n",
              "      <th>0-C</th>\n",
              "      <th>SMA_7</th>\n",
              "      <th>rsi_7</th>\n",
              "      <th>EMA_7</th>\n",
              "    </tr>\n",
              "    <tr>\n",
              "      <th>Date</th>\n",
              "      <th></th>\n",
              "      <th></th>\n",
              "      <th></th>\n",
              "      <th></th>\n",
              "      <th></th>\n",
              "      <th></th>\n",
              "      <th></th>\n",
              "      <th></th>\n",
              "      <th></th>\n",
              "      <th></th>\n",
              "      <th></th>\n",
              "    </tr>\n",
              "  </thead>\n",
              "  <tbody>\n",
              "    <tr>\n",
              "      <th>2020-07-14</th>\n",
              "      <td>0.012000</td>\n",
              "      <td>0.076397</td>\n",
              "      <td>0.011938</td>\n",
              "      <td>0.034327</td>\n",
              "      <td>419</td>\n",
              "      <td>0.011982</td>\n",
              "      <td>0.064459</td>\n",
              "      <td>-0.022327</td>\n",
              "      <td>0.050638</td>\n",
              "      <td>27.681177</td>\n",
              "      <td>0.036470</td>\n",
              "    </tr>\n",
              "    <tr>\n",
              "      <th>2020-07-15</th>\n",
              "      <td>0.034318</td>\n",
              "      <td>0.034480</td>\n",
              "      <td>0.010670</td>\n",
              "      <td>0.010735</td>\n",
              "      <td>79</td>\n",
              "      <td>0.034327</td>\n",
              "      <td>0.023810</td>\n",
              "      <td>0.023583</td>\n",
              "      <td>0.036455</td>\n",
              "      <td>20.642657</td>\n",
              "      <td>0.029320</td>\n",
              "    </tr>\n",
              "    <tr>\n",
              "      <th>2020-07-16</th>\n",
              "      <td>0.010729</td>\n",
              "      <td>0.010755</td>\n",
              "      <td>0.009543</td>\n",
              "      <td>0.009627</td>\n",
              "      <td>35</td>\n",
              "      <td>0.010735</td>\n",
              "      <td>0.001212</td>\n",
              "      <td>0.001102</td>\n",
              "      <td>0.024793</td>\n",
              "      <td>20.359012</td>\n",
              "      <td>0.023997</td>\n",
              "    </tr>\n",
              "    <tr>\n",
              "      <th>2020-07-17</th>\n",
              "      <td>0.009628</td>\n",
              "      <td>0.009658</td>\n",
              "      <td>0.009562</td>\n",
              "      <td>0.009590</td>\n",
              "      <td>35</td>\n",
              "      <td>0.009627</td>\n",
              "      <td>0.000096</td>\n",
              "      <td>0.000038</td>\n",
              "      <td>0.018276</td>\n",
              "      <td>20.348119</td>\n",
              "      <td>0.020181</td>\n",
              "    </tr>\n",
              "    <tr>\n",
              "      <th>2020-07-18</th>\n",
              "      <td>0.009594</td>\n",
              "      <td>0.011825</td>\n",
              "      <td>0.009574</td>\n",
              "      <td>0.011774</td>\n",
              "      <td>42</td>\n",
              "      <td>0.009590</td>\n",
              "      <td>0.002251</td>\n",
              "      <td>-0.002180</td>\n",
              "      <td>0.015207</td>\n",
              "      <td>23.178636</td>\n",
              "      <td>0.017986</td>\n",
              "    </tr>\n",
              "    <tr>\n",
              "      <th>...</th>\n",
              "      <td>...</td>\n",
              "      <td>...</td>\n",
              "      <td>...</td>\n",
              "      <td>...</td>\n",
              "      <td>...</td>\n",
              "      <td>...</td>\n",
              "      <td>...</td>\n",
              "      <td>...</td>\n",
              "      <td>...</td>\n",
              "      <td>...</td>\n",
              "      <td>...</td>\n",
              "    </tr>\n",
              "    <tr>\n",
              "      <th>2022-04-13</th>\n",
              "      <td>0.016956</td>\n",
              "      <td>0.017662</td>\n",
              "      <td>0.016659</td>\n",
              "      <td>0.017561</td>\n",
              "      <td>195753852</td>\n",
              "      <td>0.016955</td>\n",
              "      <td>0.001003</td>\n",
              "      <td>-0.000605</td>\n",
              "      <td>0.018427</td>\n",
              "      <td>37.914164</td>\n",
              "      <td>0.018445</td>\n",
              "    </tr>\n",
              "    <tr>\n",
              "      <th>2022-04-14</th>\n",
              "      <td>0.017563</td>\n",
              "      <td>0.018326</td>\n",
              "      <td>0.016753</td>\n",
              "      <td>0.017127</td>\n",
              "      <td>214228125</td>\n",
              "      <td>0.017561</td>\n",
              "      <td>0.001573</td>\n",
              "      <td>0.000436</td>\n",
              "      <td>0.017850</td>\n",
              "      <td>35.801746</td>\n",
              "      <td>0.018116</td>\n",
              "    </tr>\n",
              "    <tr>\n",
              "      <th>2022-04-15</th>\n",
              "      <td>0.017128</td>\n",
              "      <td>0.017279</td>\n",
              "      <td>0.016853</td>\n",
              "      <td>0.017239</td>\n",
              "      <td>107932100</td>\n",
              "      <td>0.017127</td>\n",
              "      <td>0.000426</td>\n",
              "      <td>-0.000111</td>\n",
              "      <td>0.017545</td>\n",
              "      <td>36.860883</td>\n",
              "      <td>0.017897</td>\n",
              "    </tr>\n",
              "    <tr>\n",
              "      <th>2022-04-16</th>\n",
              "      <td>0.017242</td>\n",
              "      <td>0.017618</td>\n",
              "      <td>0.016952</td>\n",
              "      <td>0.017152</td>\n",
              "      <td>128101400</td>\n",
              "      <td>0.017239</td>\n",
              "      <td>0.000666</td>\n",
              "      <td>0.000090</td>\n",
              "      <td>0.017231</td>\n",
              "      <td>36.317886</td>\n",
              "      <td>0.017710</td>\n",
              "    </tr>\n",
              "    <tr>\n",
              "      <th>2022-04-17</th>\n",
              "      <td>0.017156</td>\n",
              "      <td>0.017343</td>\n",
              "      <td>0.017092</td>\n",
              "      <td>0.017194</td>\n",
              "      <td>110862176</td>\n",
              "      <td>0.017152</td>\n",
              "      <td>0.000251</td>\n",
              "      <td>-0.000038</td>\n",
              "      <td>0.017078</td>\n",
              "      <td>36.841893</td>\n",
              "      <td>0.017581</td>\n",
              "    </tr>\n",
              "  </tbody>\n",
              "</table>\n",
              "<p>643 rows × 11 columns</p>\n",
              "</div>\n",
              "      <button class=\"colab-df-convert\" onclick=\"convertToInteractive('df-ddb90d48-1bca-4b75-838d-41a246d2f3c8')\"\n",
              "              title=\"Convert this dataframe to an interactive table.\"\n",
              "              style=\"display:none;\">\n",
              "        \n",
              "  <svg xmlns=\"http://www.w3.org/2000/svg\" height=\"24px\"viewBox=\"0 0 24 24\"\n",
              "       width=\"24px\">\n",
              "    <path d=\"M0 0h24v24H0V0z\" fill=\"none\"/>\n",
              "    <path d=\"M18.56 5.44l.94 2.06.94-2.06 2.06-.94-2.06-.94-.94-2.06-.94 2.06-2.06.94zm-11 1L8.5 8.5l.94-2.06 2.06-.94-2.06-.94L8.5 2.5l-.94 2.06-2.06.94zm10 10l.94 2.06.94-2.06 2.06-.94-2.06-.94-.94-2.06-.94 2.06-2.06.94z\"/><path d=\"M17.41 7.96l-1.37-1.37c-.4-.4-.92-.59-1.43-.59-.52 0-1.04.2-1.43.59L10.3 9.45l-7.72 7.72c-.78.78-.78 2.05 0 2.83L4 21.41c.39.39.9.59 1.41.59.51 0 1.02-.2 1.41-.59l7.78-7.78 2.81-2.81c.8-.78.8-2.07 0-2.86zM5.41 20L4 18.59l7.72-7.72 1.47 1.35L5.41 20z\"/>\n",
              "  </svg>\n",
              "      </button>\n",
              "      \n",
              "  <style>\n",
              "    .colab-df-container {\n",
              "      display:flex;\n",
              "      flex-wrap:wrap;\n",
              "      gap: 12px;\n",
              "    }\n",
              "\n",
              "    .colab-df-convert {\n",
              "      background-color: #E8F0FE;\n",
              "      border: none;\n",
              "      border-radius: 50%;\n",
              "      cursor: pointer;\n",
              "      display: none;\n",
              "      fill: #1967D2;\n",
              "      height: 32px;\n",
              "      padding: 0 0 0 0;\n",
              "      width: 32px;\n",
              "    }\n",
              "\n",
              "    .colab-df-convert:hover {\n",
              "      background-color: #E2EBFA;\n",
              "      box-shadow: 0px 1px 2px rgba(60, 64, 67, 0.3), 0px 1px 3px 1px rgba(60, 64, 67, 0.15);\n",
              "      fill: #174EA6;\n",
              "    }\n",
              "\n",
              "    [theme=dark] .colab-df-convert {\n",
              "      background-color: #3B4455;\n",
              "      fill: #D2E3FC;\n",
              "    }\n",
              "\n",
              "    [theme=dark] .colab-df-convert:hover {\n",
              "      background-color: #434B5C;\n",
              "      box-shadow: 0px 1px 3px 1px rgba(0, 0, 0, 0.15);\n",
              "      filter: drop-shadow(0px 1px 2px rgba(0, 0, 0, 0.3));\n",
              "      fill: #FFFFFF;\n",
              "    }\n",
              "  </style>\n",
              "\n",
              "      <script>\n",
              "        const buttonEl =\n",
              "          document.querySelector('#df-ddb90d48-1bca-4b75-838d-41a246d2f3c8 button.colab-df-convert');\n",
              "        buttonEl.style.display =\n",
              "          google.colab.kernel.accessAllowed ? 'block' : 'none';\n",
              "\n",
              "        async function convertToInteractive(key) {\n",
              "          const element = document.querySelector('#df-ddb90d48-1bca-4b75-838d-41a246d2f3c8');\n",
              "          const dataTable =\n",
              "            await google.colab.kernel.invokeFunction('convertToInteractive',\n",
              "                                                     [key], {});\n",
              "          if (!dataTable) return;\n",
              "\n",
              "          const docLinkHtml = 'Like what you see? Visit the ' +\n",
              "            '<a target=\"_blank\" href=https://colab.research.google.com/notebooks/data_table.ipynb>data table notebook</a>'\n",
              "            + ' to learn more about interactive tables.';\n",
              "          element.innerHTML = '';\n",
              "          dataTable['output_type'] = 'display_data';\n",
              "          await google.colab.output.renderOutput(dataTable, element);\n",
              "          const docLink = document.createElement('div');\n",
              "          docLink.innerHTML = docLinkHtml;\n",
              "          element.appendChild(docLink);\n",
              "        }\n",
              "      </script>\n",
              "    </div>\n",
              "  </div>\n",
              "  "
            ]
          },
          "metadata": {},
          "execution_count": 33
        }
      ]
    },
    {
      "cell_type": "code",
      "source": [
        "def data_prep(dataset, target, data_start, data_end, look_back, horizon):\n",
        "    dataX,dataY = [],[]\n",
        "    data_start = data_start + look_back\n",
        "    if data_end is None:\n",
        "        data_end = len(dataset) - horizon\n",
        "\n",
        "    for i in range(data_start, data_end):\n",
        "        a = range(i-look_back, i)\n",
        "        dataX.append(dataset[a])\n",
        "\n",
        "        b = range(i+1, i+1+horizon)\n",
        "        dataY.append(target[b])\n",
        "    return np.array(dataX), np.array(dataY)"
      ],
      "metadata": {
        "id": "nUVCrzpt_Xb-"
      },
      "execution_count": 34,
      "outputs": []
    },
    {
      "cell_type": "code",
      "source": [
        "X_scaler = MinMaxScaler()\n",
        "Y_scaler = MinMaxScaler()\n",
        "# X_data = X_scaler.fit_transform(df[['Open', 'High', 'Low','Volume','H-L',\t'0-C','SMA_7','rsi_7','EMA_7']])//experiment4\n",
        "X_data = X_scaler.fit_transform(df[['Open', 'High', 'Low','Volume']])\n",
        "Y_data = Y_scaler.fit_transform(df[['Close']])\n",
        "\n",
        "##['Open', 'High', 'Low','Volume']\n",
        "##['H-L',\t'0-C','SMA_7','rsi_7','EMA_7']"
      ],
      "metadata": {
        "id": "8uxf-46a_Zm1"
      },
      "execution_count": 35,
      "outputs": []
    },
    {
      "cell_type": "code",
      "source": [
        "##TRAIN_SPLIT = int(len(df) * 0.8)\n",
        "look_back = 10\n",
        "horizon = 10\n",
        "train_split = int(len(df) * 0.8)\n",
        "x_train, y_train = data_prep(X_data, Y_data, 0, train_split, look_back, horizon)\n",
        "x_vali, y_vali = data_prep(X_data, Y_data, train_split, None, look_back, horizon)"
      ],
      "metadata": {
        "id": "vhampguE_cgy"
      },
      "execution_count": 36,
      "outputs": []
    },
    {
      "cell_type": "code",
      "source": [
        "x_train"
      ],
      "metadata": {
        "colab": {
          "base_uri": "https://localhost:8080/"
        },
        "id": "BJNFqmFL_eer",
        "outputId": "9f6feb6a-ac13-48a3-829b-80b3dd6f0a37"
      },
      "execution_count": 37,
      "outputs": [
        {
          "output_type": "execute_result",
          "data": {
            "text/plain": [
              "array([[[7.45657624e-03, 1.63011433e-01, 9.82835557e-03, 8.08372041e-08],\n",
              "        [7.04690218e-02, 6.06282653e-02, 5.86324107e-03, 1.52413822e-08],\n",
              "        [3.86804599e-03, 2.67944594e-03, 2.33904231e-03, 6.75251108e-09],\n",
              "        ...,\n",
              "        [7.69656450e-03, 7.18101282e-03, 1.02098571e-02, 0.00000000e+00],\n",
              "        [8.97838412e-03, 9.30112136e-03, 1.12980747e-02, 2.89393332e-09],\n",
              "        [1.14799087e-02, 1.11061447e-02, 1.42938000e-02, 3.08686221e-09]],\n",
              "\n",
              "       [[7.04690218e-02, 6.06282653e-02, 5.86324107e-03, 1.52413822e-08],\n",
              "        [3.86804599e-03, 2.67944594e-03, 2.33904231e-03, 6.75251108e-09],\n",
              "        [7.59492241e-04, 0.00000000e+00, 2.39845648e-03, 6.75251108e-09],\n",
              "        ...,\n",
              "        [8.97838412e-03, 9.30112136e-03, 1.12980747e-02, 2.89393332e-09],\n",
              "        [1.14799087e-02, 1.11061447e-02, 1.42938000e-02, 3.08686221e-09],\n",
              "        [1.32642920e-02, 1.21857391e-02, 1.55790224e-02, 3.08686221e-09]],\n",
              "\n",
              "       [[3.86804599e-03, 2.67944594e-03, 2.33904231e-03, 6.75251108e-09],\n",
              "        [7.59492241e-04, 0.00000000e+00, 2.39845648e-03, 6.75251108e-09],\n",
              "        [6.63496939e-04, 5.29294380e-03, 2.43598123e-03, 8.10301330e-09],\n",
              "        ...,\n",
              "        [1.14799087e-02, 1.11061447e-02, 1.42938000e-02, 3.08686221e-09],\n",
              "        [1.32642920e-02, 1.21857391e-02, 1.55790224e-02, 3.08686221e-09],\n",
              "        [1.39193188e-02, 3.41562188e-02, 1.71519346e-02, 1.35050222e-09]],\n",
              "\n",
              "       ...,\n",
              "\n",
              "       [[1.39647754e-01, 1.23855373e-01, 1.53835810e-01, 5.71150093e-02],\n",
              "        [1.40545592e-01, 1.22069890e-01, 1.43538396e-01, 7.49730192e-02],\n",
              "        [1.40734759e-01, 1.25228070e-01, 1.53013393e-01, 3.16366907e-02],\n",
              "        ...,\n",
              "        [1.16250311e-01, 9.98405034e-02, 8.18539725e-02, 5.13758103e-02],\n",
              "        [9.07720281e-02, 8.13799269e-02, 9.04346303e-02, 3.18517136e-02],\n",
              "        [8.46424457e-02, 7.29727683e-02, 8.07751361e-02, 3.48984279e-02]],\n",
              "\n",
              "       [[1.40545592e-01, 1.22069890e-01, 1.43538396e-01, 7.49730192e-02],\n",
              "        [1.40734759e-01, 1.25228070e-01, 1.53013393e-01, 3.16366907e-02],\n",
              "        [1.39410589e-01, 1.23699052e-01, 1.50283468e-01, 4.16993479e-02],\n",
              "        ...,\n",
              "        [9.07720281e-02, 8.13799269e-02, 9.04346303e-02, 3.18517136e-02],\n",
              "        [8.46424457e-02, 7.29727683e-02, 8.07751361e-02, 3.48984279e-02],\n",
              "        [8.49727825e-02, 7.74254848e-02, 9.26298278e-02, 7.74318732e-02]],\n",
              "\n",
              "       [[1.40734759e-01, 1.25228070e-01, 1.53013393e-01, 3.16366907e-02],\n",
              "        [1.39410589e-01, 1.23699052e-01, 1.50283468e-01, 4.16993479e-02],\n",
              "        [1.37668556e-01, 1.22025925e-01, 1.48666777e-01, 3.21445222e-02],\n",
              "        ...,\n",
              "        [8.46424457e-02, 7.29727683e-02, 8.07751361e-02, 3.48984279e-02],\n",
              "        [8.49727825e-02, 7.74254848e-02, 9.26298278e-02, 7.74318732e-02],\n",
              "        [8.61134326e-02, 1.05331291e-01, 9.61446454e-02, 1.58517484e-01]]])"
            ]
          },
          "metadata": {},
          "execution_count": 37
        }
      ]
    },
    {
      "cell_type": "code",
      "source": [
        "print ('Multiple window of past history\\n')\n",
        "print(x_train[0])\n",
        "print ('\\n Target horizon\\n')\n",
        "print (y_train[0])"
      ],
      "metadata": {
        "colab": {
          "base_uri": "https://localhost:8080/"
        },
        "id": "QxuHL7J-_g9-",
        "outputId": "8cb6f010-4f5e-4784-e351-5c7ed91bbd87"
      },
      "execution_count": 38,
      "outputs": [
        {
          "output_type": "stream",
          "name": "stdout",
          "text": [
            "Multiple window of past history\n",
            "\n",
            "[[7.45657624e-03 1.63011433e-01 9.82835557e-03 8.08372041e-08]\n",
            " [7.04690218e-02 6.06282653e-02 5.86324107e-03 1.52413822e-08]\n",
            " [3.86804599e-03 2.67944594e-03 2.33904231e-03 6.75251108e-09]\n",
            " [7.59492241e-04 0.00000000e+00 2.39845648e-03 6.75251108e-09]\n",
            " [6.63496939e-04 5.29294380e-03 2.43598123e-03 8.10301330e-09]\n",
            " [6.81566643e-03 6.30170512e-03 9.03095479e-03 5.78786664e-10]\n",
            " [8.03254805e-03 6.35299807e-03 1.00753935e-02 5.78786664e-10]\n",
            " [7.69656450e-03 7.18101282e-03 1.02098571e-02 0.00000000e+00]\n",
            " [8.97838412e-03 9.30112136e-03 1.12980747e-02 2.89393332e-09]\n",
            " [1.14799087e-02 1.11061447e-02 1.42938000e-02 3.08686221e-09]]\n",
            "\n",
            " Target horizon\n",
            "\n",
            "[[0.0345849 ]\n",
            " [0.035732  ]\n",
            " [0.04800906]\n",
            " [0.04678023]\n",
            " [0.01231652]\n",
            " [0.01026189]\n",
            " [0.0107692 ]\n",
            " [0.01726849]\n",
            " [0.02293917]\n",
            " [0.02313082]]\n"
          ]
        }
      ]
    },
    {
      "cell_type": "code",
      "source": [
        "import pandas as pd\n",
        "import numpy as np\n",
        "import matplotlib.pyplot as plt\n",
        "import plotly.express as px # to plot the time series plot\n",
        "from sklearn import metrics # for the evalution\n",
        "from sklearn.preprocessing import LabelEncoder,MinMaxScaler\n",
        "\n",
        "import tensorflow as tf"
      ],
      "metadata": {
        "id": "9YHpXcEK_jRu"
      },
      "execution_count": 39,
      "outputs": []
    },
    {
      "cell_type": "code",
      "source": [
        "batch_size = 32\n",
        "buffer_size = 18\n",
        "\n",
        "train_data = tf.data.Dataset.from_tensor_slices((x_train, y_train))\n",
        "train_data = train_data.batch(batch_size).repeat()\n",
        "\n",
        "val_data = tf.data.Dataset.from_tensor_slices((x_vali, y_vali))\n",
        "val_data = val_data.batch(batch_size).repeat()"
      ],
      "metadata": {
        "id": "0zQIYwlSH0yK"
      },
      "execution_count": 40,
      "outputs": []
    },
    {
      "cell_type": "code",
      "source": [
        "from keras.models import Model\n",
        "from keras.layers import Input\n",
        "from keras.layers import Dense\n",
        "from keras.layers import Flatten\n",
        "from keras.layers.convolutional import Conv1D\n",
        "from keras.layers.convolutional import MaxPooling1D\n",
        "# from keras.layers.merge import concatenate\n",
        "import tensorflow as tf"
      ],
      "metadata": {
        "id": "rqnDiq95Drku"
      },
      "execution_count": 41,
      "outputs": []
    },
    {
      "cell_type": "code",
      "source": [
        "x_train.shape[-2:]"
      ],
      "metadata": {
        "colab": {
          "base_uri": "https://localhost:8080/"
        },
        "id": "tIWp2c1XnWf-",
        "outputId": "96a1aa7e-d64f-41e1-d343-d6364d83e7e1"
      },
      "execution_count": 42,
      "outputs": [
        {
          "output_type": "execute_result",
          "data": {
            "text/plain": [
              "(10, 4)"
            ]
          },
          "metadata": {},
          "execution_count": 42
        }
      ]
    },
    {
      "cell_type": "code",
      "source": [
        "'''\n",
        "# define model\n",
        "import tensorflow as tf\n",
        "from tensorflow.keras import layers\n",
        "# Set random seed for as reproducible results as possible\n",
        "tf.random.set_seed(7)\n",
        "cnn_model = Sequential()\n",
        "cnn_model.add(Conv1D(filters=32, kernel_size=1, activation='relu', input_shape=(x_train.shape[-2:])))\n",
        "cnn_model.add(Conv1D(filters=64, kernel_size=1))\n",
        "cnn_model.add(MaxPooling1D(pool_size=(1)))\n",
        "cnn_model.add(Conv1D(filters=128, kernel_size=1))\n",
        "cnn_model.add(Flatten())\n",
        "cnn_model.add(Dense(256,))\n",
        "cnn_model.add(Dropout(0.2))\n",
        "cnn_model.add(Dense(10))\n",
        "cnn_model.compile(optimizer='adam', loss='mse')\n",
        "cnn_model.summary()\n",
        "'''"
      ],
      "metadata": {
        "colab": {
          "base_uri": "https://localhost:8080/",
          "height": 70
        },
        "id": "h7vQ_Ll1_5ec",
        "outputId": "8a47f9a6-562d-4418-cd8c-9abbde0a635a"
      },
      "execution_count": 43,
      "outputs": [
        {
          "output_type": "execute_result",
          "data": {
            "text/plain": [
              "\"\\n# define model\\nimport tensorflow as tf\\nfrom tensorflow.keras import layers\\n# Set random seed for as reproducible results as possible\\ntf.random.set_seed(7)\\ncnn_model = Sequential()\\ncnn_model.add(Conv1D(filters=32, kernel_size=1, activation='relu', input_shape=(x_train.shape[-2:])))\\ncnn_model.add(Conv1D(filters=64, kernel_size=1))\\ncnn_model.add(MaxPooling1D(pool_size=(1)))\\ncnn_model.add(Conv1D(filters=128, kernel_size=1))\\ncnn_model.add(Flatten())\\ncnn_model.add(Dense(256,))\\ncnn_model.add(Dropout(0.2))\\ncnn_model.add(Dense(10))\\ncnn_model.compile(optimizer='adam', loss='mse')\\ncnn_model.summary()\\n\""
            ],
            "application/vnd.google.colaboratory.intrinsic+json": {
              "type": "string"
            }
          },
          "metadata": {},
          "execution_count": 43
        }
      ]
    },
    {
      "cell_type": "code",
      "source": [
        "\n",
        "import tensorflow as tf\n",
        "from tensorflow.keras import layers\n",
        "\n",
        "# Set random seed for as reproducible results as possible\n",
        "tf.random.set_seed(7)\n",
        "\n",
        "lstm_model = Sequential()\n",
        "lstm_model.add(LSTM(100,return_sequences=True,input_shape=(x_train.shape[-2:])))\n",
        "lstm_model.add(Dense(20,activation='linear'))\n",
        "lstm_model.add(LSTM(50))\n",
        "lstm_model.add(Dropout(0.2))\n",
        "lstm_model.add(Dense(units=horizon,activation='linear'))\n",
        "lstm_model.add(Activation('linear'))\n",
        "lstm_model.compile(loss='mean_squared_error', optimizer='adam')\n",
        "lstm_model.summary()\n"
      ],
      "metadata": {
        "colab": {
          "base_uri": "https://localhost:8080/"
        },
        "id": "zts6fS0JE6Hy",
        "outputId": "35165489-7e20-49b0-f957-94598832cca9"
      },
      "execution_count": 44,
      "outputs": [
        {
          "output_type": "stream",
          "name": "stdout",
          "text": [
            "Model: \"sequential_1\"\n",
            "_________________________________________________________________\n",
            " Layer (type)                Output Shape              Param #   \n",
            "=================================================================\n",
            " lstm_2 (LSTM)               (None, 10, 100)           42000     \n",
            "                                                                 \n",
            " dense_2 (Dense)             (None, 10, 20)            2020      \n",
            "                                                                 \n",
            " lstm_3 (LSTM)               (None, 50)                14200     \n",
            "                                                                 \n",
            " dropout_1 (Dropout)         (None, 50)                0         \n",
            "                                                                 \n",
            " dense_3 (Dense)             (None, 10)                510       \n",
            "                                                                 \n",
            " activation_1 (Activation)   (None, 10)                0         \n",
            "                                                                 \n",
            "=================================================================\n",
            "Total params: 58,730\n",
            "Trainable params: 58,730\n",
            "Non-trainable params: 0\n",
            "_________________________________________________________________\n"
          ]
        }
      ]
    },
    {
      "cell_type": "code",
      "source": [
        "#model_path = 'CNN_Multivariate.h5'\n",
        "#early_stopings = tf.keras.callbacks.EarlyStopping(monitor='val_loss', min_delta=0, patience=10, verbose=1, mode='min')\n",
        "#checkpoint =  tf.keras.callbacks.ModelCheckpoint(model_path, monitor='val_loss', save_best_only=True, mode='min', verbose=0)\n",
        "#callbacks=[early_stopings,checkpoint]"
      ],
      "metadata": {
        "id": "pkWp7tm0HoY4"
      },
      "execution_count": 45,
      "outputs": []
    },
    {
      "cell_type": "code",
      "source": [
        "history = lstm_model.fit(train_data,epochs=50,steps_per_epoch=100,validation_data=val_data,validation_steps=50,verbose=1)#callback\n",
        "##history = cnn_model.fit(train_data,epochs=50,steps_per_epoch=100,validation_data=val_data,validation_steps=50,verbose=1)"
      ],
      "metadata": {
        "colab": {
          "base_uri": "https://localhost:8080/"
        },
        "id": "1vqC4wRgHrxZ",
        "outputId": "0d94f61c-0351-4cae-b97e-a06b7a628ce0"
      },
      "execution_count": 46,
      "outputs": [
        {
          "output_type": "stream",
          "name": "stdout",
          "text": [
            "Epoch 1/50\n",
            "100/100 [==============================] - 7s 39ms/step - loss: 0.0239 - val_loss: 6.4826e-04\n",
            "Epoch 2/50\n",
            "100/100 [==============================] - 3s 27ms/step - loss: 0.0203 - val_loss: 5.6844e-04\n",
            "Epoch 3/50\n",
            "100/100 [==============================] - 2s 20ms/step - loss: 0.0198 - val_loss: 0.0010\n",
            "Epoch 4/50\n",
            "100/100 [==============================] - 2s 22ms/step - loss: 0.0162 - val_loss: 0.0017\n",
            "Epoch 5/50\n",
            "100/100 [==============================] - 2s 22ms/step - loss: 0.0155 - val_loss: 0.0024\n",
            "Epoch 6/50\n",
            "100/100 [==============================] - 2s 24ms/step - loss: 0.0145 - val_loss: 0.0031\n",
            "Epoch 7/50\n",
            "100/100 [==============================] - 2s 20ms/step - loss: 0.0165 - val_loss: 0.0029\n",
            "Epoch 8/50\n",
            "100/100 [==============================] - 2s 23ms/step - loss: 0.0137 - val_loss: 0.0034\n",
            "Epoch 9/50\n",
            "100/100 [==============================] - 2s 22ms/step - loss: 0.0131 - val_loss: 0.0031\n",
            "Epoch 10/50\n",
            "100/100 [==============================] - 2s 22ms/step - loss: 0.0128 - val_loss: 0.0040\n",
            "Epoch 11/50\n",
            "100/100 [==============================] - 2s 18ms/step - loss: 0.0142 - val_loss: 0.0030\n",
            "Epoch 12/50\n",
            "100/100 [==============================] - 1s 11ms/step - loss: 0.0126 - val_loss: 0.0017\n",
            "Epoch 13/50\n",
            "100/100 [==============================] - 1s 12ms/step - loss: 0.0128 - val_loss: 0.0019\n",
            "Epoch 14/50\n",
            "100/100 [==============================] - 1s 11ms/step - loss: 0.0124 - val_loss: 0.0015\n",
            "Epoch 15/50\n",
            "100/100 [==============================] - 1s 11ms/step - loss: 0.0134 - val_loss: 0.0012\n",
            "Epoch 16/50\n",
            "100/100 [==============================] - 1s 11ms/step - loss: 0.0119 - val_loss: 9.2976e-04\n",
            "Epoch 17/50\n",
            "100/100 [==============================] - 1s 11ms/step - loss: 0.0118 - val_loss: 0.0016\n",
            "Epoch 18/50\n",
            "100/100 [==============================] - 1s 11ms/step - loss: 0.0120 - val_loss: 0.0028\n",
            "Epoch 19/50\n",
            "100/100 [==============================] - 1s 11ms/step - loss: 0.0131 - val_loss: 0.0028\n",
            "Epoch 20/50\n",
            "100/100 [==============================] - 1s 11ms/step - loss: 0.0116 - val_loss: 0.0014\n",
            "Epoch 21/50\n",
            "100/100 [==============================] - 1s 11ms/step - loss: 0.0112 - val_loss: 0.0042\n",
            "Epoch 22/50\n",
            "100/100 [==============================] - 1s 11ms/step - loss: 0.0118 - val_loss: 0.0010\n",
            "Epoch 23/50\n",
            "100/100 [==============================] - 1s 11ms/step - loss: 0.0122 - val_loss: 0.0047\n",
            "Epoch 24/50\n",
            "100/100 [==============================] - 1s 12ms/step - loss: 0.0113 - val_loss: 5.7101e-04\n",
            "Epoch 25/50\n",
            "100/100 [==============================] - 1s 11ms/step - loss: 0.0107 - val_loss: 0.0019\n",
            "Epoch 26/50\n",
            "100/100 [==============================] - 1s 11ms/step - loss: 0.0114 - val_loss: 8.7041e-04\n",
            "Epoch 27/50\n",
            "100/100 [==============================] - 1s 12ms/step - loss: 0.0120 - val_loss: 0.0010\n",
            "Epoch 28/50\n",
            "100/100 [==============================] - 1s 11ms/step - loss: 0.0107 - val_loss: 0.0019\n",
            "Epoch 29/50\n",
            "100/100 [==============================] - 1s 11ms/step - loss: 0.0106 - val_loss: 0.0024\n",
            "Epoch 30/50\n",
            "100/100 [==============================] - 1s 11ms/step - loss: 0.0119 - val_loss: 9.0017e-04\n",
            "Epoch 31/50\n",
            "100/100 [==============================] - 1s 11ms/step - loss: 0.0126 - val_loss: 0.0020\n",
            "Epoch 32/50\n",
            "100/100 [==============================] - 1s 11ms/step - loss: 0.0108 - val_loss: 0.0019\n",
            "Epoch 33/50\n",
            "100/100 [==============================] - 1s 11ms/step - loss: 0.0105 - val_loss: 0.0015\n",
            "Epoch 34/50\n",
            "100/100 [==============================] - 1s 11ms/step - loss: 0.0112 - val_loss: 6.5138e-04\n",
            "Epoch 35/50\n",
            "100/100 [==============================] - 1s 11ms/step - loss: 0.0114 - val_loss: 0.0021\n",
            "Epoch 36/50\n",
            "100/100 [==============================] - 1s 11ms/step - loss: 0.0113 - val_loss: 6.2372e-04\n",
            "Epoch 37/50\n",
            "100/100 [==============================] - 1s 11ms/step - loss: 0.0104 - val_loss: 9.6721e-04\n",
            "Epoch 38/50\n",
            "100/100 [==============================] - 1s 11ms/step - loss: 0.0114 - val_loss: 0.0011\n",
            "Epoch 39/50\n",
            "100/100 [==============================] - 1s 11ms/step - loss: 0.0115 - val_loss: 0.0011\n",
            "Epoch 40/50\n",
            "100/100 [==============================] - 1s 11ms/step - loss: 0.0105 - val_loss: 0.0051\n",
            "Epoch 41/50\n",
            "100/100 [==============================] - 1s 11ms/step - loss: 0.0101 - val_loss: 0.0014\n",
            "Epoch 42/50\n",
            "100/100 [==============================] - 1s 11ms/step - loss: 0.0112 - val_loss: 7.0946e-04\n",
            "Epoch 43/50\n",
            "100/100 [==============================] - 1s 11ms/step - loss: 0.0120 - val_loss: 8.5106e-04\n",
            "Epoch 44/50\n",
            "100/100 [==============================] - 1s 11ms/step - loss: 0.0102 - val_loss: 6.7956e-04\n",
            "Epoch 45/50\n",
            "100/100 [==============================] - 1s 12ms/step - loss: 0.0100 - val_loss: 0.0017\n",
            "Epoch 46/50\n",
            "100/100 [==============================] - 1s 12ms/step - loss: 0.0104 - val_loss: 7.7020e-04\n",
            "Epoch 47/50\n",
            "100/100 [==============================] - 1s 11ms/step - loss: 0.0111 - val_loss: 8.6498e-04\n",
            "Epoch 48/50\n",
            "100/100 [==============================] - 1s 11ms/step - loss: 0.0090 - val_loss: 0.0015\n",
            "Epoch 49/50\n",
            "100/100 [==============================] - 1s 12ms/step - loss: 0.0094 - val_loss: 0.0018\n",
            "Epoch 50/50\n",
            "100/100 [==============================] - 1s 12ms/step - loss: 0.0098 - val_loss: 9.7756e-04\n"
          ]
        }
      ]
    },
    {
      "cell_type": "code",
      "source": [
        "plt.figure(figsize=(16,9))\n",
        "plt.plot(history.history['loss'])\n",
        "plt.plot(history.history['val_loss'])\n",
        "plt.title('Model loss')\n",
        "plt.ylabel('loss')\n",
        "plt.xlabel('epoch')\n",
        "plt.legend(['train loss', 'validation loss'])\n",
        "plt.show()"
      ],
      "metadata": {
        "id": "05kGXARbH9w3",
        "colab": {
          "base_uri": "https://localhost:8080/",
          "height": 567
        },
        "outputId": "32a38c28-33e8-4580-d584-2411a19e2105"
      },
      "execution_count": 47,
      "outputs": [
        {
          "output_type": "display_data",
          "data": {
            "text/plain": [
              "<Figure size 1152x648 with 1 Axes>"
            ],
            "image/png": "[encoded data removed]"
          },
          "metadata": {
            "needs_background": "light"
          }
        }
      ]
    },
    {
      "cell_type": "code",
      "source": [
        "df.columns"
      ],
      "metadata": {
        "id": "jJ6fj09EIUFi",
        "colab": {
          "base_uri": "https://localhost:8080/"
        },
        "outputId": "2fb19571-6247-4796-baad-7dd3728dff4f"
      },
      "execution_count": 48,
      "outputs": [
        {
          "output_type": "execute_result",
          "data": {
            "text/plain": [
              "Index(['Open', 'High', 'Low', 'Close', 'Volume', 'Pre_Close', 'H-L', '0-C',\n",
              "       'SMA_7', 'rsi_7', 'EMA_7'],\n",
              "      dtype='object')"
            ]
          },
          "metadata": {},
          "execution_count": 48
        }
      ]
    },
    {
      "cell_type": "code",
      "source": [
        "##['Open', 'High', 'Low','Volume']\n",
        "##['H-L',\t'0-C','SMA_7','rsi_7','EMA_7']\n",
        "\n",
        "# data_val = X_scaler.fit_transform(df[['Open', 'High', 'Low','Volume','H-L',\t'0-C','SMA_7','rsi_7','EMA_7']].tail(10))\n",
        "data_val = X_scaler.fit_transform(df[['Open', 'High', 'Low','Volume']].tail(10))\n",
        "# data_val = X_scaler.fit_transform(df[['Open', 'High', 'Low','Volume']].tail(10))\n",
        "val_rescaled = data_val.reshape(1, data_val.shape[0], data_val.shape[1])\n",
        "pred=lstm_model.predict(val_rescaled)\n",
        "pred_Inverse = Y_scaler.inverse_transform(pred)\n",
        "pred_Inverse"
      ],
      "metadata": {
        "id": "eFhfHDpCIbc2",
        "colab": {
          "base_uri": "https://localhost:8080/"
        },
        "outputId": "74e38d46-101d-45bd-ef29-58049fcd99b9"
      },
      "execution_count": 49,
      "outputs": [
        {
          "output_type": "stream",
          "name": "stdout",
          "text": [
            "1/1 [==============================] - 1s 651ms/step\n"
          ]
        },
        {
          "output_type": "execute_result",
          "data": {
            "text/plain": [
              "array([[0.05304035, 0.05174092, 0.05361274, 0.05124409, 0.05586101,\n",
              "        0.05393194, 0.05552186, 0.05588195, 0.05024936, 0.04857283]],\n",
              "      dtype=float32)"
            ]
          },
          "metadata": {},
          "execution_count": 49
        }
      ]
    },
    {
      "cell_type": "code",
      "source": [
        "def timeseries_evaluation_metrics_func(y_true, y_pred):\n",
        "    def mean_absolute_percentage_error(y_true, y_pred): \n",
        "        y_true, y_pred = np.array(y_true), np.array(y_pred)\n",
        "        return np.mean(np.abs((y_true - y_pred) / y_true)) * 100\n",
        "\n",
        "    print('Evaluation metric results:-')\n",
        "    print(f'MSE is : {metrics.mean_squared_error(y_true, y_pred)}')\n",
        "    print(f'MAE is : {metrics.mean_absolute_error(y_true, y_pred)}')\n",
        "    print(f'RMSE is : {np.sqrt(metrics.mean_squared_error(y_true, y_pred))}')\n",
        "    print(f'MAPE is : {mean_absolute_percentage_error(y_true, y_pred)}')\n"
      ],
      "metadata": {
        "id": "qCa3fcUgIro5"
      },
      "execution_count": 50,
      "outputs": []
    },
    {
      "cell_type": "code",
      "source": [
        "validate = (df[['Close']].tail(10))\n",
        "timeseries_evaluation_metrics_func(validate['Close'],pred_Inverse[0])"
      ],
      "metadata": {
        "id": "vZheU0ClIv6C",
        "colab": {
          "base_uri": "https://localhost:8080/"
        },
        "outputId": "6b1d12bf-dd1f-47de-de0a-3385fa8f2f9e"
      },
      "execution_count": 51,
      "outputs": [
        {
          "output_type": "stream",
          "name": "stdout",
          "text": [
            "Evaluation metric results:-\n",
            "MSE is : 0.0012536144415375666\n",
            "MAE is : 0.035312504724192624\n",
            "RMSE is : 0.03540641808397973\n",
            "MAPE is : 200.91480250454632\n"
          ]
        }
      ]
    },
    {
      "cell_type": "code",
      "source": [
        "plt.figure(figsize=(16,9))\n",
        "plt.plot( list(validate['Close']))\n",
        "plt.plot( list(pred_Inverse[0]))\n",
        "plt.title(\"Actual vs Predicted\")\n",
        "plt.ylabel(\"Close\")\n",
        "plt.legend(('Actual','predicted'))\n",
        "plt.show()"
      ],
      "metadata": {
        "id": "9F4dY-uMJau0",
        "colab": {
          "base_uri": "https://localhost:8080/",
          "height": 553
        },
        "outputId": "61797337-9cf6-4a4e-e068-c754315b5f8a"
      },
      "execution_count": 52,
      "outputs": [
        {
          "output_type": "display_data",
          "data": {
            "text/plain": [
              "<Figure size 1152x648 with 1 Axes>"
            ],
            "image/png": "[encoded data removed]"
          },
          "metadata": {
            "needs_background": "light"
          }
        }
      ]
    }
  ]
}