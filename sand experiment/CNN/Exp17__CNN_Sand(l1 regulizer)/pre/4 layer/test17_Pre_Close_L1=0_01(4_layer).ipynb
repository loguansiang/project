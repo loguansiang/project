{
  "cells": [
    {
      "cell_type": "code",
      "execution_count": 79,
      "metadata": {
        "id": "6r5emgwN_F-_"
      },
      "outputs": [],
      "source": [
        "import numpy as np\n",
        "import pandas as pd\n",
        "from keras.models import Sequential\n",
        "from keras.layers import LSTM, Dense, Dropout\n",
        "from keras import optimizers\n",
        "import matplotlib.pyplot as plt\n",
        "from keras.models import load_model\n",
        "from sklearn.preprocessing import MinMaxScaler\n",
        "from sklearn.model_selection import train_test_split\n",
        "import sklearn.metrics as metrics\n",
        "from keras.models import Sequential\n",
        "from keras.layers import LSTM, GRU, Dense, Dropout,Activation\n",
        "from keras import optimizers\n",
        "import numpy\n",
        "import matplotlib.pyplot as plt\n",
        "import pandas\n",
        "import math\n",
        "from keras.models import Sequential\n",
        "from keras.layers import Dense\n",
        "from keras.layers import LSTM\n",
        "from sklearn.preprocessing import MinMaxScaler\n",
        "from sklearn.metrics import mean_squared_error"
      ]
    },
    {
      "cell_type": "code",
      "source": [],
      "metadata": {
        "id": "5Ko99rAsClnD"
      },
      "execution_count": 79,
      "outputs": []
    },
    {
      "cell_type": "code",
      "execution_count": 80,
      "metadata": {
        "id": "QsNzkIw1_IjO"
      },
      "outputs": [],
      "source": [
        "sand = 'https://raw.githubusercontent.com/loguansiang/fyp/main/SAND%20fyp.csv'\n",
        "# slp= 'https://raw.githubusercontent.com/loguansiang/fyp/main/SLP%20fyp.csv'\n",
        "# mana = 'https://raw.githubusercontent.com/loguansiang/fyp/main/MANA%20fyp.csv'\n",
        "\n",
        "df = pd.read_csv(sand)"
      ]
    },
    {
      "cell_type": "code",
      "execution_count": 81,
      "metadata": {
        "id": "V1EiUFwj_L7L"
      },
      "outputs": [],
      "source": [
        "df['Date'] = pd.to_datetime(df['Date'])\n",
        "df.set_index('Date', inplace = True)"
      ]
    },
    {
      "cell_type": "code",
      "execution_count": 82,
      "metadata": {
        "id": "t2qffNXdEOmT",
        "colab": {
          "base_uri": "https://localhost:8080/",
          "height": 455
        },
        "outputId": "3e88dac9-bbea-4b18-977b-19b2dbab7c50"
      },
      "outputs": [
        {
          "output_type": "execute_result",
          "data": {
            "text/plain": [
              "                Open      High       Low     Close  Adj Close     Volume\n",
              "Date                                                                    \n",
              "2020-08-14  0.086577  0.086577  0.059597  0.065645   0.065645  118988161\n",
              "2020-08-15  0.066077  0.069509  0.048985  0.050964   0.050964   36213441\n",
              "2020-08-16  0.051438  0.069508  0.048064  0.060847   0.060847   33023213\n",
              "2020-08-17  0.060847  0.065073  0.052525  0.053999   0.053999   11686493\n",
              "2020-08-18  0.053784  0.060990  0.050675  0.051700   0.051700    7401293\n",
              "...              ...       ...       ...       ...        ...        ...\n",
              "2022-04-13  2.781983  2.886945  2.751847  2.869923   2.869923  321784424\n",
              "2022-04-14  2.869366  2.916186  2.714203  2.780882   2.780882  349909147\n",
              "2022-04-15  2.781060  2.820187  2.755915  2.803639   2.803639  189256519\n",
              "2022-04-16  2.803614  2.901280  2.777383  2.822680   2.822680  234480315\n",
              "2022-04-17  2.820111  2.820111  2.781153  2.790278   2.790278  176793328\n",
              "\n",
              "[612 rows x 6 columns]"
            ],
            "text/html": [
              "\n",
              "  <div id=\"df-b0bcd46f-3e09-44db-be0b-251e51af4940\">\n",
              "    <div class=\"colab-df-container\">\n",
              "      <div>\n",
              "<style scoped>\n",
              "    .dataframe tbody tr th:only-of-type {\n",
              "        vertical-align: middle;\n",
              "    }\n",
              "\n",
              "    .dataframe tbody tr th {\n",
              "        vertical-align: top;\n",
              "    }\n",
              "\n",
              "    .dataframe thead th {\n",
              "        text-align: right;\n",
              "    }\n",
              "</style>\n",
              "<table border=\"1\" class=\"dataframe\">\n",
              "  <thead>\n",
              "    <tr style=\"text-align: right;\">\n",
              "      <th></th>\n",
              "      <th>Open</th>\n",
              "      <th>High</th>\n",
              "      <th>Low</th>\n",
              "      <th>Close</th>\n",
              "      <th>Adj Close</th>\n",
              "      <th>Volume</th>\n",
              "    </tr>\n",
              "    <tr>\n",
              "      <th>Date</th>\n",
              "      <th></th>\n",
              "      <th></th>\n",
              "      <th></th>\n",
              "      <th></th>\n",
              "      <th></th>\n",
              "      <th></th>\n",
              "    </tr>\n",
              "  </thead>\n",
              "  <tbody>\n",
              "    <tr>\n",
              "      <th>2020-08-14</th>\n",
              "      <td>0.086577</td>\n",
              "      <td>0.086577</td>\n",
              "      <td>0.059597</td>\n",
              "      <td>0.065645</td>\n",
              "      <td>0.065645</td>\n",
              "      <td>118988161</td>\n",
              "    </tr>\n",
              "    <tr>\n",
              "      <th>2020-08-15</th>\n",
              "      <td>0.066077</td>\n",
              "      <td>0.069509</td>\n",
              "      <td>0.048985</td>\n",
              "      <td>0.050964</td>\n",
              "      <td>0.050964</td>\n",
              "      <td>36213441</td>\n",
              "    </tr>\n",
              "    <tr>\n",
              "      <th>2020-08-16</th>\n",
              "      <td>0.051438</td>\n",
              "      <td>0.069508</td>\n",
              "      <td>0.048064</td>\n",
              "      <td>0.060847</td>\n",
              "      <td>0.060847</td>\n",
              "      <td>33023213</td>\n",
              "    </tr>\n",
              "    <tr>\n",
              "      <th>2020-08-17</th>\n",
              "      <td>0.060847</td>\n",
              "      <td>0.065073</td>\n",
              "      <td>0.052525</td>\n",
              "      <td>0.053999</td>\n",
              "      <td>0.053999</td>\n",
              "      <td>11686493</td>\n",
              "    </tr>\n",
              "    <tr>\n",
              "      <th>2020-08-18</th>\n",
              "      <td>0.053784</td>\n",
              "      <td>0.060990</td>\n",
              "      <td>0.050675</td>\n",
              "      <td>0.051700</td>\n",
              "      <td>0.051700</td>\n",
              "      <td>7401293</td>\n",
              "    </tr>\n",
              "    <tr>\n",
              "      <th>...</th>\n",
              "      <td>...</td>\n",
              "      <td>...</td>\n",
              "      <td>...</td>\n",
              "      <td>...</td>\n",
              "      <td>...</td>\n",
              "      <td>...</td>\n",
              "    </tr>\n",
              "    <tr>\n",
              "      <th>2022-04-13</th>\n",
              "      <td>2.781983</td>\n",
              "      <td>2.886945</td>\n",
              "      <td>2.751847</td>\n",
              "      <td>2.869923</td>\n",
              "      <td>2.869923</td>\n",
              "      <td>321784424</td>\n",
              "    </tr>\n",
              "    <tr>\n",
              "      <th>2022-04-14</th>\n",
              "      <td>2.869366</td>\n",
              "      <td>2.916186</td>\n",
              "      <td>2.714203</td>\n",
              "      <td>2.780882</td>\n",
              "      <td>2.780882</td>\n",
              "      <td>349909147</td>\n",
              "    </tr>\n",
              "    <tr>\n",
              "      <th>2022-04-15</th>\n",
              "      <td>2.781060</td>\n",
              "      <td>2.820187</td>\n",
              "      <td>2.755915</td>\n",
              "      <td>2.803639</td>\n",
              "      <td>2.803639</td>\n",
              "      <td>189256519</td>\n",
              "    </tr>\n",
              "    <tr>\n",
              "      <th>2022-04-16</th>\n",
              "      <td>2.803614</td>\n",
              "      <td>2.901280</td>\n",
              "      <td>2.777383</td>\n",
              "      <td>2.822680</td>\n",
              "      <td>2.822680</td>\n",
              "      <td>234480315</td>\n",
              "    </tr>\n",
              "    <tr>\n",
              "      <th>2022-04-17</th>\n",
              "      <td>2.820111</td>\n",
              "      <td>2.820111</td>\n",
              "      <td>2.781153</td>\n",
              "      <td>2.790278</td>\n",
              "      <td>2.790278</td>\n",
              "      <td>176793328</td>\n",
              "    </tr>\n",
              "  </tbody>\n",
              "</table>\n",
              "<p>612 rows × 6 columns</p>\n",
              "</div>\n",
              "      <button class=\"colab-df-convert\" onclick=\"convertToInteractive('df-b0bcd46f-3e09-44db-be0b-251e51af4940')\"\n",
              "              title=\"Convert this dataframe to an interactive table.\"\n",
              "              style=\"display:none;\">\n",
              "        \n",
              "  <svg xmlns=\"http://www.w3.org/2000/svg\" height=\"24px\"viewBox=\"0 0 24 24\"\n",
              "       width=\"24px\">\n",
              "    <path d=\"M0 0h24v24H0V0z\" fill=\"none\"/>\n",
              "    <path d=\"M18.56 5.44l.94 2.06.94-2.06 2.06-.94-2.06-.94-.94-2.06-.94 2.06-2.06.94zm-11 1L8.5 8.5l.94-2.06 2.06-.94-2.06-.94L8.5 2.5l-.94 2.06-2.06.94zm10 10l.94 2.06.94-2.06 2.06-.94-2.06-.94-.94-2.06-.94 2.06-2.06.94z\"/><path d=\"M17.41 7.96l-1.37-1.37c-.4-.4-.92-.59-1.43-.59-.52 0-1.04.2-1.43.59L10.3 9.45l-7.72 7.72c-.78.78-.78 2.05 0 2.83L4 21.41c.39.39.9.59 1.41.59.51 0 1.02-.2 1.41-.59l7.78-7.78 2.81-2.81c.8-.78.8-2.07 0-2.86zM5.41 20L4 18.59l7.72-7.72 1.47 1.35L5.41 20z\"/>\n",
              "  </svg>\n",
              "      </button>\n",
              "      \n",
              "  <style>\n",
              "    .colab-df-container {\n",
              "      display:flex;\n",
              "      flex-wrap:wrap;\n",
              "      gap: 12px;\n",
              "    }\n",
              "\n",
              "    .colab-df-convert {\n",
              "      background-color: #E8F0FE;\n",
              "      border: none;\n",
              "      border-radius: 50%;\n",
              "      cursor: pointer;\n",
              "      display: none;\n",
              "      fill: #1967D2;\n",
              "      height: 32px;\n",
              "      padding: 0 0 0 0;\n",
              "      width: 32px;\n",
              "    }\n",
              "\n",
              "    .colab-df-convert:hover {\n",
              "      background-color: #E2EBFA;\n",
              "      box-shadow: 0px 1px 2px rgba(60, 64, 67, 0.3), 0px 1px 3px 1px rgba(60, 64, 67, 0.15);\n",
              "      fill: #174EA6;\n",
              "    }\n",
              "\n",
              "    [theme=dark] .colab-df-convert {\n",
              "      background-color: #3B4455;\n",
              "      fill: #D2E3FC;\n",
              "    }\n",
              "\n",
              "    [theme=dark] .colab-df-convert:hover {\n",
              "      background-color: #434B5C;\n",
              "      box-shadow: 0px 1px 3px 1px rgba(0, 0, 0, 0.15);\n",
              "      filter: drop-shadow(0px 1px 2px rgba(0, 0, 0, 0.3));\n",
              "      fill: #FFFFFF;\n",
              "    }\n",
              "  </style>\n",
              "\n",
              "      <script>\n",
              "        const buttonEl =\n",
              "          document.querySelector('#df-b0bcd46f-3e09-44db-be0b-251e51af4940 button.colab-df-convert');\n",
              "        buttonEl.style.display =\n",
              "          google.colab.kernel.accessAllowed ? 'block' : 'none';\n",
              "\n",
              "        async function convertToInteractive(key) {\n",
              "          const element = document.querySelector('#df-b0bcd46f-3e09-44db-be0b-251e51af4940');\n",
              "          const dataTable =\n",
              "            await google.colab.kernel.invokeFunction('convertToInteractive',\n",
              "                                                     [key], {});\n",
              "          if (!dataTable) return;\n",
              "\n",
              "          const docLinkHtml = 'Like what you see? Visit the ' +\n",
              "            '<a target=\"_blank\" href=https://colab.research.google.com/notebooks/data_table.ipynb>data table notebook</a>'\n",
              "            + ' to learn more about interactive tables.';\n",
              "          element.innerHTML = '';\n",
              "          dataTable['output_type'] = 'display_data';\n",
              "          await google.colab.output.renderOutput(dataTable, element);\n",
              "          const docLink = document.createElement('div');\n",
              "          docLink.innerHTML = docLinkHtml;\n",
              "          element.appendChild(docLink);\n",
              "        }\n",
              "      </script>\n",
              "    </div>\n",
              "  </div>\n",
              "  "
            ]
          },
          "metadata": {},
          "execution_count": 82
        }
      ],
      "source": [
        "df"
      ]
    },
    {
      "cell_type": "code",
      "execution_count": 83,
      "metadata": {
        "id": "ytoP2J2Wnpbi",
        "colab": {
          "base_uri": "https://localhost:8080/"
        },
        "outputId": "921f6aa6-bb93-49d5-f58c-7640754f9dc5"
      },
      "outputs": [
        {
          "output_type": "stream",
          "name": "stdout",
          "text": [
            "Looking in indexes: https://pypi.org/simple, https://us-python.pkg.dev/colab-wheels/public/simple/\n",
            "Requirement already satisfied: ta in /usr/local/lib/python3.8/dist-packages (0.10.2)\n",
            "Requirement already satisfied: pandas in /usr/local/lib/python3.8/dist-packages (from ta) (1.3.5)\n",
            "Requirement already satisfied: numpy in /usr/local/lib/python3.8/dist-packages (from ta) (1.21.6)\n",
            "Requirement already satisfied: pytz>=2017.3 in /usr/local/lib/python3.8/dist-packages (from pandas->ta) (2022.6)\n",
            "Requirement already satisfied: python-dateutil>=2.7.3 in /usr/local/lib/python3.8/dist-packages (from pandas->ta) (2.8.2)\n",
            "Requirement already satisfied: six>=1.5 in /usr/local/lib/python3.8/dist-packages (from python-dateutil>=2.7.3->pandas->ta) (1.15.0)\n"
          ]
        }
      ],
      "source": [
        "pip install ta"
      ]
    },
    {
      "cell_type": "code",
      "execution_count": 84,
      "metadata": {
        "id": "4_NDYkO-nrru"
      },
      "outputs": [],
      "source": [
        "import pandas as pd\n",
        "import ta\n",
        "from ta import add_all_ta_features\n",
        "from ta.utils import dropna"
      ]
    },
    {
      "cell_type": "code",
      "execution_count": 85,
      "metadata": {
        "id": "LRlTWlPfmcol",
        "colab": {
          "base_uri": "https://localhost:8080/",
          "height": 455
        },
        "outputId": "82282eb3-688f-4024-8a6a-3af57a10492a"
      },
      "outputs": [
        {
          "output_type": "execute_result",
          "data": {
            "text/plain": [
              "                Open      High       Low     Close     Volume  Pre_Close  \\\n",
              "Date                                                                       \n",
              "2020-08-20  0.052095  0.057325  0.050800  0.053648    7332475   0.052095   \n",
              "2020-08-21  0.053644  0.053738  0.044235  0.044235    5121097   0.053648   \n",
              "2020-08-22  0.044395  0.049011  0.040692  0.046011    4347394   0.044235   \n",
              "2020-08-23  0.045990  0.048237  0.041965  0.044007    3114426   0.046011   \n",
              "2020-08-24  0.043902  0.053543  0.042178  0.051299    7868186   0.044007   \n",
              "...              ...       ...       ...       ...        ...        ...   \n",
              "2022-04-13  2.781983  2.886945  2.751847  2.869923  321784424   2.782421   \n",
              "2022-04-14  2.869366  2.916186  2.714203  2.780882  349909147   2.869923   \n",
              "2022-04-15  2.781060  2.820187  2.755915  2.803639  189256519   2.780882   \n",
              "2022-04-16  2.803614  2.901280  2.777383  2.822680  234480315   2.803639   \n",
              "2022-04-17  2.820111  2.820111  2.781153  2.790278  176793328   2.822680   \n",
              "\n",
              "                 H-L       0-C     SMA_7      rsi_7     EMA_7  \n",
              "Date                                                           \n",
              "2020-08-20  0.006525 -0.001553  0.055557  36.094661  0.054128  \n",
              "2020-08-21  0.009503  0.009409  0.052498  23.308807  0.051380  \n",
              "2020-08-22  0.008319 -0.001616  0.051791  28.856159  0.049928  \n",
              "2020-08-23  0.006272  0.001983  0.049385  26.347291  0.048360  \n",
              "2020-08-24  0.011365 -0.007397  0.048999  46.203257  0.049127  \n",
              "...              ...       ...       ...        ...       ...  \n",
              "2022-04-13  0.135098 -0.087940  2.886363  40.236566  2.909637  \n",
              "2022-04-14  0.201983  0.088484  2.843185  36.188051  2.877448  \n",
              "2022-04-15  0.064272 -0.022579  2.829312  38.046757  2.858996  \n",
              "2022-04-16  0.123897 -0.019066  2.803156  39.759602  2.849917  \n",
              "2022-04-17  0.038958  0.029833  2.788510  37.690803  2.835007  \n",
              "\n",
              "[606 rows x 11 columns]"
            ],
            "text/html": [
              "\n",
              "  <div id=\"df-309ba717-a5f2-43d9-9bc5-a32c345d2c02\">\n",
              "    <div class=\"colab-df-container\">\n",
              "      <div>\n",
              "<style scoped>\n",
              "    .dataframe tbody tr th:only-of-type {\n",
              "        vertical-align: middle;\n",
              "    }\n",
              "\n",
              "    .dataframe tbody tr th {\n",
              "        vertical-align: top;\n",
              "    }\n",
              "\n",
              "    .dataframe thead th {\n",
              "        text-align: right;\n",
              "    }\n",
              "</style>\n",
              "<table border=\"1\" class=\"dataframe\">\n",
              "  <thead>\n",
              "    <tr style=\"text-align: right;\">\n",
              "      <th></th>\n",
              "      <th>Open</th>\n",
              "      <th>High</th>\n",
              "      <th>Low</th>\n",
              "      <th>Close</th>\n",
              "      <th>Volume</th>\n",
              "      <th>Pre_Close</th>\n",
              "      <th>H-L</th>\n",
              "      <th>0-C</th>\n",
              "      <th>SMA_7</th>\n",
              "      <th>rsi_7</th>\n",
              "      <th>EMA_7</th>\n",
              "    </tr>\n",
              "    <tr>\n",
              "      <th>Date</th>\n",
              "      <th></th>\n",
              "      <th></th>\n",
              "      <th></th>\n",
              "      <th></th>\n",
              "      <th></th>\n",
              "      <th></th>\n",
              "      <th></th>\n",
              "      <th></th>\n",
              "      <th></th>\n",
              "      <th></th>\n",
              "      <th></th>\n",
              "    </tr>\n",
              "  </thead>\n",
              "  <tbody>\n",
              "    <tr>\n",
              "      <th>2020-08-20</th>\n",
              "      <td>0.052095</td>\n",
              "      <td>0.057325</td>\n",
              "      <td>0.050800</td>\n",
              "      <td>0.053648</td>\n",
              "      <td>7332475</td>\n",
              "      <td>0.052095</td>\n",
              "      <td>0.006525</td>\n",
              "      <td>-0.001553</td>\n",
              "      <td>0.055557</td>\n",
              "      <td>36.094661</td>\n",
              "      <td>0.054128</td>\n",
              "    </tr>\n",
              "    <tr>\n",
              "      <th>2020-08-21</th>\n",
              "      <td>0.053644</td>\n",
              "      <td>0.053738</td>\n",
              "      <td>0.044235</td>\n",
              "      <td>0.044235</td>\n",
              "      <td>5121097</td>\n",
              "      <td>0.053648</td>\n",
              "      <td>0.009503</td>\n",
              "      <td>0.009409</td>\n",
              "      <td>0.052498</td>\n",
              "      <td>23.308807</td>\n",
              "      <td>0.051380</td>\n",
              "    </tr>\n",
              "    <tr>\n",
              "      <th>2020-08-22</th>\n",
              "      <td>0.044395</td>\n",
              "      <td>0.049011</td>\n",
              "      <td>0.040692</td>\n",
              "      <td>0.046011</td>\n",
              "      <td>4347394</td>\n",
              "      <td>0.044235</td>\n",
              "      <td>0.008319</td>\n",
              "      <td>-0.001616</td>\n",
              "      <td>0.051791</td>\n",
              "      <td>28.856159</td>\n",
              "      <td>0.049928</td>\n",
              "    </tr>\n",
              "    <tr>\n",
              "      <th>2020-08-23</th>\n",
              "      <td>0.045990</td>\n",
              "      <td>0.048237</td>\n",
              "      <td>0.041965</td>\n",
              "      <td>0.044007</td>\n",
              "      <td>3114426</td>\n",
              "      <td>0.046011</td>\n",
              "      <td>0.006272</td>\n",
              "      <td>0.001983</td>\n",
              "      <td>0.049385</td>\n",
              "      <td>26.347291</td>\n",
              "      <td>0.048360</td>\n",
              "    </tr>\n",
              "    <tr>\n",
              "      <th>2020-08-24</th>\n",
              "      <td>0.043902</td>\n",
              "      <td>0.053543</td>\n",
              "      <td>0.042178</td>\n",
              "      <td>0.051299</td>\n",
              "      <td>7868186</td>\n",
              "      <td>0.044007</td>\n",
              "      <td>0.011365</td>\n",
              "      <td>-0.007397</td>\n",
              "      <td>0.048999</td>\n",
              "      <td>46.203257</td>\n",
              "      <td>0.049127</td>\n",
              "    </tr>\n",
              "    <tr>\n",
              "      <th>...</th>\n",
              "      <td>...</td>\n",
              "      <td>...</td>\n",
              "      <td>...</td>\n",
              "      <td>...</td>\n",
              "      <td>...</td>\n",
              "      <td>...</td>\n",
              "      <td>...</td>\n",
              "      <td>...</td>\n",
              "      <td>...</td>\n",
              "      <td>...</td>\n",
              "      <td>...</td>\n",
              "    </tr>\n",
              "    <tr>\n",
              "      <th>2022-04-13</th>\n",
              "      <td>2.781983</td>\n",
              "      <td>2.886945</td>\n",
              "      <td>2.751847</td>\n",
              "      <td>2.869923</td>\n",
              "      <td>321784424</td>\n",
              "      <td>2.782421</td>\n",
              "      <td>0.135098</td>\n",
              "      <td>-0.087940</td>\n",
              "      <td>2.886363</td>\n",
              "      <td>40.236566</td>\n",
              "      <td>2.909637</td>\n",
              "    </tr>\n",
              "    <tr>\n",
              "      <th>2022-04-14</th>\n",
              "      <td>2.869366</td>\n",
              "      <td>2.916186</td>\n",
              "      <td>2.714203</td>\n",
              "      <td>2.780882</td>\n",
              "      <td>349909147</td>\n",
              "      <td>2.869923</td>\n",
              "      <td>0.201983</td>\n",
              "      <td>0.088484</td>\n",
              "      <td>2.843185</td>\n",
              "      <td>36.188051</td>\n",
              "      <td>2.877448</td>\n",
              "    </tr>\n",
              "    <tr>\n",
              "      <th>2022-04-15</th>\n",
              "      <td>2.781060</td>\n",
              "      <td>2.820187</td>\n",
              "      <td>2.755915</td>\n",
              "      <td>2.803639</td>\n",
              "      <td>189256519</td>\n",
              "      <td>2.780882</td>\n",
              "      <td>0.064272</td>\n",
              "      <td>-0.022579</td>\n",
              "      <td>2.829312</td>\n",
              "      <td>38.046757</td>\n",
              "      <td>2.858996</td>\n",
              "    </tr>\n",
              "    <tr>\n",
              "      <th>2022-04-16</th>\n",
              "      <td>2.803614</td>\n",
              "      <td>2.901280</td>\n",
              "      <td>2.777383</td>\n",
              "      <td>2.822680</td>\n",
              "      <td>234480315</td>\n",
              "      <td>2.803639</td>\n",
              "      <td>0.123897</td>\n",
              "      <td>-0.019066</td>\n",
              "      <td>2.803156</td>\n",
              "      <td>39.759602</td>\n",
              "      <td>2.849917</td>\n",
              "    </tr>\n",
              "    <tr>\n",
              "      <th>2022-04-17</th>\n",
              "      <td>2.820111</td>\n",
              "      <td>2.820111</td>\n",
              "      <td>2.781153</td>\n",
              "      <td>2.790278</td>\n",
              "      <td>176793328</td>\n",
              "      <td>2.822680</td>\n",
              "      <td>0.038958</td>\n",
              "      <td>0.029833</td>\n",
              "      <td>2.788510</td>\n",
              "      <td>37.690803</td>\n",
              "      <td>2.835007</td>\n",
              "    </tr>\n",
              "  </tbody>\n",
              "</table>\n",
              "<p>606 rows × 11 columns</p>\n",
              "</div>\n",
              "      <button class=\"colab-df-convert\" onclick=\"convertToInteractive('df-309ba717-a5f2-43d9-9bc5-a32c345d2c02')\"\n",
              "              title=\"Convert this dataframe to an interactive table.\"\n",
              "              style=\"display:none;\">\n",
              "        \n",
              "  <svg xmlns=\"http://www.w3.org/2000/svg\" height=\"24px\"viewBox=\"0 0 24 24\"\n",
              "       width=\"24px\">\n",
              "    <path d=\"M0 0h24v24H0V0z\" fill=\"none\"/>\n",
              "    <path d=\"M18.56 5.44l.94 2.06.94-2.06 2.06-.94-2.06-.94-.94-2.06-.94 2.06-2.06.94zm-11 1L8.5 8.5l.94-2.06 2.06-.94-2.06-.94L8.5 2.5l-.94 2.06-2.06.94zm10 10l.94 2.06.94-2.06 2.06-.94-2.06-.94-.94-2.06-.94 2.06-2.06.94z\"/><path d=\"M17.41 7.96l-1.37-1.37c-.4-.4-.92-.59-1.43-.59-.52 0-1.04.2-1.43.59L10.3 9.45l-7.72 7.72c-.78.78-.78 2.05 0 2.83L4 21.41c.39.39.9.59 1.41.59.51 0 1.02-.2 1.41-.59l7.78-7.78 2.81-2.81c.8-.78.8-2.07 0-2.86zM5.41 20L4 18.59l7.72-7.72 1.47 1.35L5.41 20z\"/>\n",
              "  </svg>\n",
              "      </button>\n",
              "      \n",
              "  <style>\n",
              "    .colab-df-container {\n",
              "      display:flex;\n",
              "      flex-wrap:wrap;\n",
              "      gap: 12px;\n",
              "    }\n",
              "\n",
              "    .colab-df-convert {\n",
              "      background-color: #E8F0FE;\n",
              "      border: none;\n",
              "      border-radius: 50%;\n",
              "      cursor: pointer;\n",
              "      display: none;\n",
              "      fill: #1967D2;\n",
              "      height: 32px;\n",
              "      padding: 0 0 0 0;\n",
              "      width: 32px;\n",
              "    }\n",
              "\n",
              "    .colab-df-convert:hover {\n",
              "      background-color: #E2EBFA;\n",
              "      box-shadow: 0px 1px 2px rgba(60, 64, 67, 0.3), 0px 1px 3px 1px rgba(60, 64, 67, 0.15);\n",
              "      fill: #174EA6;\n",
              "    }\n",
              "\n",
              "    [theme=dark] .colab-df-convert {\n",
              "      background-color: #3B4455;\n",
              "      fill: #D2E3FC;\n",
              "    }\n",
              "\n",
              "    [theme=dark] .colab-df-convert:hover {\n",
              "      background-color: #434B5C;\n",
              "      box-shadow: 0px 1px 3px 1px rgba(0, 0, 0, 0.15);\n",
              "      filter: drop-shadow(0px 1px 2px rgba(0, 0, 0, 0.3));\n",
              "      fill: #FFFFFF;\n",
              "    }\n",
              "  </style>\n",
              "\n",
              "      <script>\n",
              "        const buttonEl =\n",
              "          document.querySelector('#df-309ba717-a5f2-43d9-9bc5-a32c345d2c02 button.colab-df-convert');\n",
              "        buttonEl.style.display =\n",
              "          google.colab.kernel.accessAllowed ? 'block' : 'none';\n",
              "\n",
              "        async function convertToInteractive(key) {\n",
              "          const element = document.querySelector('#df-309ba717-a5f2-43d9-9bc5-a32c345d2c02');\n",
              "          const dataTable =\n",
              "            await google.colab.kernel.invokeFunction('convertToInteractive',\n",
              "                                                     [key], {});\n",
              "          if (!dataTable) return;\n",
              "\n",
              "          const docLinkHtml = 'Like what you see? Visit the ' +\n",
              "            '<a target=\"_blank\" href=https://colab.research.google.com/notebooks/data_table.ipynb>data table notebook</a>'\n",
              "            + ' to learn more about interactive tables.';\n",
              "          element.innerHTML = '';\n",
              "          dataTable['output_type'] = 'display_data';\n",
              "          await google.colab.output.renderOutput(dataTable, element);\n",
              "          const docLink = document.createElement('div');\n",
              "          docLink.innerHTML = docLinkHtml;\n",
              "          element.appendChild(docLink);\n",
              "        }\n",
              "      </script>\n",
              "    </div>\n",
              "  </div>\n",
              "  "
            ]
          },
          "metadata": {},
          "execution_count": 85
        }
      ],
      "source": [
        "df['Pre_Close'] = df['Close'].shift(+1)\n",
        "df[('H-L')] = df['High'] - df['Low']\n",
        "df[('0-C')]= df['Open'] - df['Close']\n",
        "df['SMA_7'] = df.Close.rolling(7, min_periods=1).mean()\n",
        "df['rsi_7']=ta.momentum.rsi(df.Close,window=7)\n",
        "#df['MACD'] = ta.trend.macd_diff(df.Close)\n",
        "df['EMA_7']= df['Close'].ewm(span=7).mean()\n",
        "df = df.drop(columns=['Adj Close'])\n",
        "df.dropna(inplace= True)\n",
        "df"
      ]
    },
    {
      "cell_type": "code",
      "execution_count": 86,
      "metadata": {
        "id": "nUVCrzpt_Xb-"
      },
      "outputs": [],
      "source": [
        "def data_prep(dataset, target, data_start, data_end, look_back, horizon):\n",
        "    dataX,dataY = [],[]\n",
        "    data_start = data_start + look_back\n",
        "    if data_end is None:\n",
        "        data_end = len(dataset) - horizon\n",
        "\n",
        "    for i in range(data_start, data_end):\n",
        "        a = range(i-look_back, i)\n",
        "        dataX.append(dataset[a])\n",
        "\n",
        "        b = range(i+1, i+1+horizon)\n",
        "        dataY.append(target[b])\n",
        "    return np.array(dataX), np.array(dataY)"
      ]
    },
    {
      "cell_type": "code",
      "execution_count": 87,
      "metadata": {
        "id": "8uxf-46a_Zm1"
      },
      "outputs": [],
      "source": [
        "X_scaler = MinMaxScaler()\n",
        "Y_scaler = MinMaxScaler()\n",
        "# X_data = X_scaler.fit_transform(df[['Open', 'High', 'Low','Volume','H-L',\t'0-C','SMA_7','rsi_7','EMA_7']])//experiment4\n",
        "X_data = X_scaler.fit_transform(df[['Pre_Close']])\n",
        "Y_data = Y_scaler.fit_transform(df[['Close']])\n",
        "\n",
        "##['Open', 'High', 'Low','Volume']\n",
        "##['H-L',\t'0-C','SMA_7','rsi_7','EMA_7']"
      ]
    },
    {
      "cell_type": "code",
      "execution_count": 88,
      "metadata": {
        "id": "vhampguE_cgy"
      },
      "outputs": [],
      "source": [
        "##TRAIN_SPLIT = int(len(df) * 0.8)\n",
        "look_back = 10\n",
        "horizon = 10\n",
        "train_split = int(len(df) * 0.8)\n",
        "x_train, y_train = data_prep(X_data, Y_data, 0, train_split, look_back, horizon)\n",
        "x_vali, y_vali = data_prep(X_data, Y_data, train_split, None, look_back, horizon)"
      ]
    },
    {
      "cell_type": "code",
      "execution_count": 89,
      "metadata": {
        "id": "BJNFqmFL_eer"
      },
      "outputs": [],
      "source": [
        "# x_train"
      ]
    },
    {
      "cell_type": "code",
      "execution_count": 90,
      "metadata": {
        "id": "QxuHL7J-_g9-",
        "colab": {
          "base_uri": "https://localhost:8080/"
        },
        "outputId": "e1a34ff7-cda0-4717-a70f-5b58b21afd49"
      },
      "outputs": [
        {
          "output_type": "stream",
          "name": "stdout",
          "text": [
            "Multiple window of past history\n",
            "\n",
            "[[0.00254128]\n",
            " [0.00272679]\n",
            " [0.00160237]\n",
            " [0.00181452]\n",
            " [0.00157513]\n",
            " [0.00244619]\n",
            " [0.00206167]\n",
            " [0.00325873]\n",
            " [0.00512306]\n",
            " [0.00463735]]\n",
            "\n",
            " Target horizon\n",
            "\n",
            "[[0.0047021 ]\n",
            " [0.00347374]\n",
            " [0.00337472]\n",
            " [0.00161431]\n",
            " [0.00174523]\n",
            " [0.00080584]\n",
            " [0.00120685]\n",
            " [0.00084849]\n",
            " [0.0022731 ]\n",
            " [0.00209141]]\n"
          ]
        }
      ],
      "source": [
        "print ('Multiple window of past history\\n')\n",
        "print(x_train[0])\n",
        "print ('\\n Target horizon\\n')\n",
        "print (y_train[0])"
      ]
    },
    {
      "cell_type": "code",
      "execution_count": 91,
      "metadata": {
        "id": "9YHpXcEK_jRu"
      },
      "outputs": [],
      "source": [
        "import pandas as pd\n",
        "import numpy as np\n",
        "import matplotlib.pyplot as plt\n",
        "import plotly.express as px # to plot the time series plot\n",
        "from sklearn import metrics # for the evalution\n",
        "from sklearn.preprocessing import LabelEncoder,MinMaxScaler\n",
        "\n",
        "import tensorflow as tf"
      ]
    },
    {
      "cell_type": "code",
      "execution_count": 92,
      "metadata": {
        "id": "0zQIYwlSH0yK"
      },
      "outputs": [],
      "source": [
        "batch_size = 16\n",
        "\n",
        "train_data = tf.data.Dataset.from_tensor_slices((x_train, y_train))\n",
        "train_data = train_data.batch(batch_size).repeat()\n",
        "\n",
        "val_data = tf.data.Dataset.from_tensor_slices((x_vali, y_vali))\n",
        "val_data = val_data.batch(batch_size).repeat()"
      ]
    },
    {
      "cell_type": "code",
      "execution_count": 93,
      "metadata": {
        "id": "rqnDiq95Drku"
      },
      "outputs": [],
      "source": [
        "from keras.models import Model\n",
        "from keras.layers import Input\n",
        "from keras.layers import Dense\n",
        "from keras.layers import Flatten\n",
        "from keras.layers.convolutional import Conv1D\n",
        "from keras.layers.convolutional import MaxPooling1D\n",
        "# from keras.layers.merge import concatenate\n",
        "import tensorflow as tf"
      ]
    },
    {
      "cell_type": "code",
      "execution_count": 94,
      "metadata": {
        "id": "tIWp2c1XnWf-",
        "colab": {
          "base_uri": "https://localhost:8080/"
        },
        "outputId": "3dc5c7aa-4be6-499d-8ab4-3629f8bdb4f4"
      },
      "outputs": [
        {
          "output_type": "execute_result",
          "data": {
            "text/plain": [
              "(10, 1)"
            ]
          },
          "metadata": {},
          "execution_count": 94
        }
      ],
      "source": [
        "x_train.shape[-2:]"
      ]
    },
    {
      "cell_type": "code",
      "execution_count": 95,
      "metadata": {
        "id": "h7vQ_Ll1_5ec",
        "colab": {
          "base_uri": "https://localhost:8080/"
        },
        "outputId": "9fd5a392-5b22-4f1e-c571-6234a7b69472"
      },
      "outputs": [
        {
          "output_type": "stream",
          "name": "stdout",
          "text": [
            "Model: \"sequential_3\"\n",
            "_________________________________________________________________\n",
            " Layer (type)                Output Shape              Param #   \n",
            "=================================================================\n",
            " conv1d_9 (Conv1D)           (None, 10, 8)             16        \n",
            "                                                                 \n",
            " conv1d_10 (Conv1D)          (None, 10, 16)            144       \n",
            "                                                                 \n",
            " max_pooling1d_3 (MaxPooling  (None, 10, 16)           0         \n",
            " 1D)                                                             \n",
            "                                                                 \n",
            " conv1d_11 (Conv1D)          (None, 10, 32)            544       \n",
            "                                                                 \n",
            " flatten_3 (Flatten)         (None, 320)               0         \n",
            "                                                                 \n",
            " dense_6 (Dense)             (None, 64)                20544     \n",
            "                                                                 \n",
            " dropout_3 (Dropout)         (None, 64)                0         \n",
            "                                                                 \n",
            " dense_7 (Dense)             (None, 10)                650       \n",
            "                                                                 \n",
            "=================================================================\n",
            "Total params: 21,898\n",
            "Trainable params: 21,898\n",
            "Non-trainable params: 0\n",
            "_________________________________________________________________\n"
          ]
        }
      ],
      "source": [
        "#define model\n",
        "import tensorflow as tf\n",
        "from tensorflow.keras import layers\n",
        "import tensorflow as tf\n",
        "from tensorflow.keras import layers\n",
        "from keras.callbacks import EarlyStopping\n",
        "from keras.optimizers import Adam\n",
        "from tensorflow.python.keras import regularizers\n",
        "# Set the learning rate\n",
        "#0.0001,0.001,0.01,0.1,1\n",
        "learning_rate = 0.00001\n",
        "\n",
        "# Create the optimizer with the desired learning rate\n",
        "optimizer = Adam(learning_rate=learning_rate)\n",
        "l1_rate=regularizers.l1(0.01)\n",
        "# Set random seed for as reproducible results as possible\n",
        "\n",
        "tf.random.set_seed(7)\n",
        "cnn_model = Sequential()\n",
        "cnn_model.add(Conv1D(filters=8, kernel_size=1, activation='relu', input_shape=(x_train.shape[-2:]),\n",
        "activity_regularizer= l1_rate))\n",
        "cnn_model.add(Conv1D(filters=16, kernel_size=1,activity_regularizer= l1_rate))\n",
        "cnn_model.add(MaxPooling1D(pool_size=(1)))\n",
        "cnn_model.add(Conv1D(filters=32, kernel_size=1,activity_regularizer= l1_rate))\n",
        "cnn_model.add(Flatten())\n",
        "cnn_model.add(Dense(64, activity_regularizer= l1_rate))\n",
        "cnn_model.add(Dropout(0.2))\n",
        "cnn_model.add(Dense(10))\n",
        "# Compile the model with the optimizer\n",
        "cnn_model.compile(optimizer=optimizer, loss='mse')\n",
        "cnn_model.summary()\n"
      ]
    },
    {
      "cell_type": "code",
      "execution_count": 96,
      "metadata": {
        "id": "zts6fS0JE6Hy"
      },
      "outputs": [],
      "source": [
        "\n",
        "import tensorflow as tf\n",
        "from tensorflow.keras import layers\n",
        "\n",
        "# Set random seed for as reproducible results as possible\n",
        "# tf.random.set_seed(7)\n",
        "\n",
        "# lstm_model = Sequential()\n",
        "# lstm_model.add(LSTM(100,return_sequences=True,input_shape=(x_train.shape[-2:])))\n",
        "# lstm_model.add(Dense(20,activation='linear'))\n",
        "# lstm_model.add(LSTM(50))\n",
        "# lstm_model.add(Dropout(0.2))\n",
        "# lstm_model.add(Dense(units=horizon,activation='linear'))\n",
        "# lstm_model.compile(loss='mean_squared_error', optimizer='adam')\n",
        "# lstm_model.summary()\n"
      ]
    },
    {
      "cell_type": "code",
      "execution_count": 97,
      "metadata": {
        "id": "pkWp7tm0HoY4"
      },
      "outputs": [],
      "source": [
        "#model_path = 'CNN_Multivariate.h5'\n",
        "#early_stopings = tf.keras.callbacks.EarlyStopping(monitor='val_loss', min_delta=0, patience=10, verbose=1, mode='min')\n",
        "#checkpoint =  tf.keras.callbacks.ModelCheckpoint(model_path, monitor='val_loss', save_best_only=True, mode='min', verbose=0)\n",
        "#callbacks=[early_stopings,checkpoint]"
      ]
    },
    {
      "cell_type": "code",
      "execution_count": 98,
      "metadata": {
        "id": "1vqC4wRgHrxZ",
        "colab": {
          "base_uri": "https://localhost:8080/"
        },
        "outputId": "d0852590-d4da-4fcf-b4b4-7f465ba9da7c"
      },
      "outputs": [
        {
          "output_type": "stream",
          "name": "stdout",
          "text": [
            "Epoch 1/50\n",
            "100/100 [==============================] - 2s 6ms/step - loss: 0.1684 - val_loss: 1.0612\n",
            "Epoch 2/50\n",
            "100/100 [==============================] - 0s 4ms/step - loss: 0.1704 - val_loss: 1.0268\n",
            "Epoch 3/50\n",
            "100/100 [==============================] - 0s 4ms/step - loss: 0.2000 - val_loss: 0.9964\n",
            "Epoch 4/50\n",
            "100/100 [==============================] - 0s 4ms/step - loss: 0.1514 - val_loss: 0.9686\n",
            "Epoch 5/50\n",
            "100/100 [==============================] - 0s 4ms/step - loss: 0.1530 - val_loss: 0.9457\n",
            "Epoch 6/50\n",
            "100/100 [==============================] - 0s 4ms/step - loss: 0.1824 - val_loss: 0.9241\n",
            "Epoch 7/50\n",
            "100/100 [==============================] - 0s 4ms/step - loss: 0.1397 - val_loss: 0.9040\n",
            "Epoch 8/50\n",
            "100/100 [==============================] - 0s 4ms/step - loss: 0.1412 - val_loss: 0.8869\n",
            "Epoch 9/50\n",
            "100/100 [==============================] - 0s 4ms/step - loss: 0.1696 - val_loss: 0.8705\n",
            "Epoch 10/50\n",
            "100/100 [==============================] - 0s 4ms/step - loss: 0.1308 - val_loss: 0.8551\n",
            "Epoch 11/50\n",
            "100/100 [==============================] - 0s 3ms/step - loss: 0.1314 - val_loss: 0.8419\n",
            "Epoch 12/50\n",
            "100/100 [==============================] - 0s 3ms/step - loss: 0.1590 - val_loss: 0.8291\n",
            "Epoch 13/50\n",
            "100/100 [==============================] - 0s 3ms/step - loss: 0.1229 - val_loss: 0.8167\n",
            "Epoch 14/50\n",
            "100/100 [==============================] - 0s 3ms/step - loss: 0.1239 - val_loss: 0.8060\n",
            "Epoch 15/50\n",
            "100/100 [==============================] - 1s 7ms/step - loss: 0.1503 - val_loss: 0.7954\n",
            "Epoch 16/50\n",
            "100/100 [==============================] - 1s 7ms/step - loss: 0.1172 - val_loss: 0.7852\n",
            "Epoch 17/50\n",
            "100/100 [==============================] - 1s 8ms/step - loss: 0.1170 - val_loss: 0.7762\n",
            "Epoch 18/50\n",
            "100/100 [==============================] - 1s 8ms/step - loss: 0.1434 - val_loss: 0.7672\n",
            "Epoch 19/50\n",
            "100/100 [==============================] - 1s 10ms/step - loss: 0.1120 - val_loss: 0.7585\n",
            "Epoch 20/50\n",
            "100/100 [==============================] - 1s 10ms/step - loss: 0.1122 - val_loss: 0.7507\n",
            "Epoch 21/50\n",
            "100/100 [==============================] - 1s 7ms/step - loss: 0.1374 - val_loss: 0.7425\n",
            "Epoch 22/50\n",
            "100/100 [==============================] - 1s 8ms/step - loss: 0.1076 - val_loss: 0.7346\n",
            "Epoch 23/50\n",
            "100/100 [==============================] - 1s 10ms/step - loss: 0.1074 - val_loss: 0.7276\n",
            "Epoch 24/50\n",
            "100/100 [==============================] - 1s 8ms/step - loss: 0.1316 - val_loss: 0.7203\n",
            "Epoch 25/50\n",
            "100/100 [==============================] - 1s 8ms/step - loss: 0.1030 - val_loss: 0.7131\n",
            "Epoch 26/50\n",
            "100/100 [==============================] - 1s 7ms/step - loss: 0.1033 - val_loss: 0.7067\n",
            "Epoch 27/50\n",
            "100/100 [==============================] - 1s 9ms/step - loss: 0.1270 - val_loss: 0.6999\n",
            "Epoch 28/50\n",
            "100/100 [==============================] - 1s 9ms/step - loss: 0.0992 - val_loss: 0.6934\n",
            "Epoch 29/50\n",
            "100/100 [==============================] - 1s 8ms/step - loss: 0.0996 - val_loss: 0.6876\n",
            "Epoch 30/50\n",
            "100/100 [==============================] - 1s 9ms/step - loss: 0.1225 - val_loss: 0.6814\n",
            "Epoch 31/50\n",
            "100/100 [==============================] - 1s 8ms/step - loss: 0.0956 - val_loss: 0.6754\n",
            "Epoch 32/50\n",
            "100/100 [==============================] - 1s 8ms/step - loss: 0.0955 - val_loss: 0.6699\n",
            "Epoch 33/50\n",
            "100/100 [==============================] - 1s 9ms/step - loss: 0.1186 - val_loss: 0.6644\n",
            "Epoch 34/50\n",
            "100/100 [==============================] - 1s 7ms/step - loss: 0.0921 - val_loss: 0.6588\n",
            "Epoch 35/50\n",
            "100/100 [==============================] - 1s 7ms/step - loss: 0.0922 - val_loss: 0.6538\n",
            "Epoch 36/50\n",
            "100/100 [==============================] - 1s 8ms/step - loss: 0.1145 - val_loss: 0.6486\n",
            "Epoch 37/50\n",
            "100/100 [==============================] - 1s 8ms/step - loss: 0.0890 - val_loss: 0.6433\n",
            "Epoch 38/50\n",
            "100/100 [==============================] - 1s 10ms/step - loss: 0.0888 - val_loss: 0.6384\n",
            "Epoch 39/50\n",
            "100/100 [==============================] - 1s 10ms/step - loss: 0.1103 - val_loss: 0.6334\n",
            "Epoch 40/50\n",
            "100/100 [==============================] - 1s 8ms/step - loss: 0.0857 - val_loss: 0.6285\n",
            "Epoch 41/50\n",
            "100/100 [==============================] - 1s 10ms/step - loss: 0.0856 - val_loss: 0.6241\n",
            "Epoch 42/50\n",
            "100/100 [==============================] - 1s 8ms/step - loss: 0.1068 - val_loss: 0.6193\n",
            "Epoch 43/50\n",
            "100/100 [==============================] - 1s 10ms/step - loss: 0.0828 - val_loss: 0.6146\n",
            "Epoch 44/50\n",
            "100/100 [==============================] - 1s 8ms/step - loss: 0.0824 - val_loss: 0.6103\n",
            "Epoch 45/50\n",
            "100/100 [==============================] - 1s 10ms/step - loss: 0.1039 - val_loss: 0.6059\n",
            "Epoch 46/50\n",
            "100/100 [==============================] - 1s 8ms/step - loss: 0.0799 - val_loss: 0.6013\n",
            "Epoch 47/50\n",
            "100/100 [==============================] - 1s 8ms/step - loss: 0.0798 - val_loss: 0.5973\n",
            "Epoch 48/50\n",
            "100/100 [==============================] - 1s 7ms/step - loss: 0.1001 - val_loss: 0.5930\n",
            "Epoch 49/50\n",
            "100/100 [==============================] - 1s 7ms/step - loss: 0.0771 - val_loss: 0.5886\n",
            "Epoch 50/50\n",
            "100/100 [==============================] - 1s 10ms/step - loss: 0.0771 - val_loss: 0.5848\n"
          ]
        }
      ],
      "source": [
        "history = cnn_model.fit(train_data,epochs=50,steps_per_epoch=100,batch_size=16,validation_data=val_data,validation_steps=50,verbose=1)\n",
        "# history = lstm_model.fit(train_data,epochs=50,steps_per_epoch=100,validation_data=val_data,validation_steps=50,verbose=1)#callback\n",
        "##history = cnn_model.fit(train_data,epochs=50,steps_per_epoch=100,validation_data=val_data,validation_steps=50,verbose=1)"
      ]
    },
    {
      "cell_type": "code",
      "execution_count": 99,
      "metadata": {
        "id": "05kGXARbH9w3",
        "colab": {
          "base_uri": "https://localhost:8080/",
          "height": 567
        },
        "outputId": "c536b3a1-a452-472a-9b08-4438aa43cc45"
      },
      "outputs": [
        {
          "output_type": "display_data",
          "data": {
            "text/plain": [
              "<Figure size 1152x648 with 1 Axes>"
            ],
            "image/png": "[encoded data removed]"
          },
          "metadata": {
            "needs_background": "light"
          }
        }
      ],
      "source": [
        "plt.figure(figsize=(16,9))\n",
        "plt.plot(history.history['loss'])\n",
        "plt.plot(history.history['val_loss'])\n",
        "plt.title('Model loss')\n",
        "plt.ylabel('loss')\n",
        "plt.xlabel('epoch')\n",
        "plt.legend(['train loss', 'validation loss'])\n",
        "plt.show()"
      ]
    },
    {
      "cell_type": "code",
      "execution_count": 100,
      "metadata": {
        "id": "jJ6fj09EIUFi",
        "colab": {
          "base_uri": "https://localhost:8080/"
        },
        "outputId": "51bbdaaf-8fe8-41cd-eafb-96d0cd00df9e"
      },
      "outputs": [
        {
          "output_type": "execute_result",
          "data": {
            "text/plain": [
              "Index(['Open', 'High', 'Low', 'Close', 'Volume', 'Pre_Close', 'H-L', '0-C',\n",
              "       'SMA_7', 'rsi_7', 'EMA_7'],\n",
              "      dtype='object')"
            ]
          },
          "metadata": {},
          "execution_count": 100
        }
      ],
      "source": [
        "df.columns"
      ]
    },
    {
      "cell_type": "code",
      "execution_count": 101,
      "metadata": {
        "id": "eFhfHDpCIbc2",
        "colab": {
          "base_uri": "https://localhost:8080/"
        },
        "outputId": "cbeb032d-5ef1-4673-e65d-535c66ea83c2"
      },
      "outputs": [
        {
          "output_type": "stream",
          "name": "stdout",
          "text": [
            "1/1 [==============================] - 0s 223ms/step\n"
          ]
        },
        {
          "output_type": "execute_result",
          "data": {
            "text/plain": [
              "array([[2.5619404, 3.4679778, 2.4012551, 2.4977157, 3.669065 , 3.5929222,\n",
              "        2.391138 , 3.0890076, 3.2080138, 3.549191 ]], dtype=float32)"
            ]
          },
          "metadata": {},
          "execution_count": 101
        }
      ],
      "source": [
        "\n",
        "##['open']\n",
        "\n",
        "\n",
        "data_val = X_scaler.fit_transform(df[['Pre_Close']].tail(10))\n",
        "val_rescaled = data_val.reshape(1, data_val.shape[0], data_val.shape[1])\n",
        "pred=cnn_model.predict(val_rescaled)\n",
        "pred_Inverse = Y_scaler.inverse_transform(pred)\n",
        "pred_Inverse"
      ]
    },
    {
      "cell_type": "code",
      "execution_count": 102,
      "metadata": {
        "id": "qCa3fcUgIro5"
      },
      "outputs": [],
      "source": [
        "def timeseries_evaluation_metrics_func(y_true, y_pred):\n",
        "    def mean_absolute_percentage_error(y_true, y_pred): \n",
        "        y_true, y_pred = np.array(y_true), np.array(y_pred)\n",
        "        return np.mean(np.abs((y_true - y_pred) / y_true)) * 100\n",
        "\n",
        "    print('Evaluation metric results:-')\n",
        "    print(f'MSE is : {metrics.mean_squared_error(y_true, y_pred)}')\n",
        "    print(f'MAE is : {metrics.mean_absolute_error(y_true, y_pred)}')\n",
        "    print(f'RMSE is : {np.sqrt(metrics.mean_squared_error(y_true, y_pred))}')\n",
        "    print(f'MAPE is : {mean_absolute_percentage_error(y_true, y_pred)}')\n"
      ]
    },
    {
      "cell_type": "code",
      "execution_count": 103,
      "metadata": {
        "id": "vZheU0ClIv6C",
        "colab": {
          "base_uri": "https://localhost:8080/"
        },
        "outputId": "584d7f10-00de-4da6-b66d-3ece961546a9"
      },
      "outputs": [
        {
          "output_type": "stream",
          "name": "stdout",
          "text": [
            "Evaluation metric results:-\n",
            "MSE is : 0.2866262526111251\n",
            "MAE is : 0.4893588007888794\n",
            "RMSE is : 0.5353748711054014\n",
            "MAPE is : 17.259454855724236\n"
          ]
        }
      ],
      "source": [
        "validate = (df[['Close']].tail(10))\n",
        "timeseries_evaluation_metrics_func(validate['Close'],pred_Inverse[0])"
      ]
    },
    {
      "cell_type": "code",
      "execution_count": 104,
      "metadata": {
        "id": "9F4dY-uMJau0",
        "colab": {
          "base_uri": "https://localhost:8080/",
          "height": 553
        },
        "outputId": "c9c05101-aa58-465b-fac2-218e2477ad86"
      },
      "outputs": [
        {
          "output_type": "display_data",
          "data": {
            "text/plain": [
              "<Figure size 1152x648 with 1 Axes>"
            ],
            "image/png": "[encoded data removed]"
          },
          "metadata": {
            "needs_background": "light"
          }
        }
      ],
      "source": [
        "plt.figure(figsize=(16,9))\n",
        "plt.plot( list(validate['Close']))\n",
        "plt.plot( list(pred_Inverse[0]))\n",
        "plt.title(\"Actual vs Predicted\")\n",
        "plt.ylabel(\"Close\")\n",
        "plt.legend(('Actual','predicted'))\n",
        "plt.show()"
      ]
    }
  ],
  "metadata": {
    "colab": {
      "provenance": []
    },
    "kernelspec": {
      "display_name": "Python 3",
      "name": "python3"
    },
    "language_info": {
      "name": "python"
    }
  },
  "nbformat": 4,
  "nbformat_minor": 0
}