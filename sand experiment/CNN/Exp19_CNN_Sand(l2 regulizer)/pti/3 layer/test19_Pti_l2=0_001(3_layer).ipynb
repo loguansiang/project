{
  "cells": [
    {
      "cell_type": "code",
      "execution_count": 51,
      "metadata": {
        "id": "6r5emgwN_F-_"
      },
      "outputs": [],
      "source": [
        "import numpy as np\n",
        "import pandas as pd\n",
        "from keras.models import Sequential\n",
        "from keras.layers import LSTM, Dense, Dropout\n",
        "from keras import optimizers\n",
        "import matplotlib.pyplot as plt\n",
        "from keras.models import load_model\n",
        "from sklearn.preprocessing import MinMaxScaler\n",
        "from sklearn.model_selection import train_test_split\n",
        "import sklearn.metrics as metrics\n",
        "from keras.models import Sequential\n",
        "from keras.layers import LSTM, GRU, Dense, Dropout,Activation\n",
        "from keras import optimizers\n",
        "import numpy\n",
        "import matplotlib.pyplot as plt\n",
        "import pandas\n",
        "import math\n",
        "from keras.models import Sequential\n",
        "from keras.layers import Dense\n",
        "from keras.layers import LSTM\n",
        "from sklearn.preprocessing import MinMaxScaler\n",
        "from sklearn.metrics import mean_squared_error"
      ]
    },
    {
      "cell_type": "code",
      "execution_count": 52,
      "metadata": {
        "id": "QsNzkIw1_IjO"
      },
      "outputs": [],
      "source": [
        "sand = 'https://raw.githubusercontent.com/loguansiang/fyp/main/SAND%20fyp.csv'\n",
        "# slp= 'https://raw.githubusercontent.com/loguansiang/fyp/main/SLP%20fyp.csv'\n",
        "# mana = 'https://raw.githubusercontent.com/loguansiang/fyp/main/MANA%20fyp.csv'\n",
        "\n",
        "df = pd.read_csv(sand)"
      ]
    },
    {
      "cell_type": "code",
      "execution_count": 53,
      "metadata": {
        "id": "V1EiUFwj_L7L"
      },
      "outputs": [],
      "source": [
        "df['Date'] = pd.to_datetime(df['Date'])\n",
        "df.set_index('Date', inplace = True)"
      ]
    },
    {
      "cell_type": "code",
      "execution_count": 54,
      "metadata": {
        "colab": {
          "base_uri": "https://localhost:8080/",
          "height": 455
        },
        "id": "t2qffNXdEOmT",
        "outputId": "a36939a1-d99b-493d-9036-4cddb3dc3f91"
      },
      "outputs": [
        {
          "output_type": "execute_result",
          "data": {
            "text/plain": [
              "                Open      High       Low     Close  Adj Close     Volume\n",
              "Date                                                                    \n",
              "2020-08-14  0.086577  0.086577  0.059597  0.065645   0.065645  118988161\n",
              "2020-08-15  0.066077  0.069509  0.048985  0.050964   0.050964   36213441\n",
              "2020-08-16  0.051438  0.069508  0.048064  0.060847   0.060847   33023213\n",
              "2020-08-17  0.060847  0.065073  0.052525  0.053999   0.053999   11686493\n",
              "2020-08-18  0.053784  0.060990  0.050675  0.051700   0.051700    7401293\n",
              "...              ...       ...       ...       ...        ...        ...\n",
              "2022-04-13  2.781983  2.886945  2.751847  2.869923   2.869923  321784424\n",
              "2022-04-14  2.869366  2.916186  2.714203  2.780882   2.780882  349909147\n",
              "2022-04-15  2.781060  2.820187  2.755915  2.803639   2.803639  189256519\n",
              "2022-04-16  2.803614  2.901280  2.777383  2.822680   2.822680  234480315\n",
              "2022-04-17  2.820111  2.820111  2.781153  2.790278   2.790278  176793328\n",
              "\n",
              "[612 rows x 6 columns]"
            ],
            "text/html": [
              "\n",
              "  <div id=\"df-e6ed88d9-3290-4383-92b0-cbb2b7a745b9\">\n",
              "    <div class=\"colab-df-container\">\n",
              "      <div>\n",
              "<style scoped>\n",
              "    .dataframe tbody tr th:only-of-type {\n",
              "        vertical-align: middle;\n",
              "    }\n",
              "\n",
              "    .dataframe tbody tr th {\n",
              "        vertical-align: top;\n",
              "    }\n",
              "\n",
              "    .dataframe thead th {\n",
              "        text-align: right;\n",
              "    }\n",
              "</style>\n",
              "<table border=\"1\" class=\"dataframe\">\n",
              "  <thead>\n",
              "    <tr style=\"text-align: right;\">\n",
              "      <th></th>\n",
              "      <th>Open</th>\n",
              "      <th>High</th>\n",
              "      <th>Low</th>\n",
              "      <th>Close</th>\n",
              "      <th>Adj Close</th>\n",
              "      <th>Volume</th>\n",
              "    </tr>\n",
              "    <tr>\n",
              "      <th>Date</th>\n",
              "      <th></th>\n",
              "      <th></th>\n",
              "      <th></th>\n",
              "      <th></th>\n",
              "      <th></th>\n",
              "      <th></th>\n",
              "    </tr>\n",
              "  </thead>\n",
              "  <tbody>\n",
              "    <tr>\n",
              "      <th>2020-08-14</th>\n",
              "      <td>0.086577</td>\n",
              "      <td>0.086577</td>\n",
              "      <td>0.059597</td>\n",
              "      <td>0.065645</td>\n",
              "      <td>0.065645</td>\n",
              "      <td>118988161</td>\n",
              "    </tr>\n",
              "    <tr>\n",
              "      <th>2020-08-15</th>\n",
              "      <td>0.066077</td>\n",
              "      <td>0.069509</td>\n",
              "      <td>0.048985</td>\n",
              "      <td>0.050964</td>\n",
              "      <td>0.050964</td>\n",
              "      <td>36213441</td>\n",
              "    </tr>\n",
              "    <tr>\n",
              "      <th>2020-08-16</th>\n",
              "      <td>0.051438</td>\n",
              "      <td>0.069508</td>\n",
              "      <td>0.048064</td>\n",
              "      <td>0.060847</td>\n",
              "      <td>0.060847</td>\n",
              "      <td>33023213</td>\n",
              "    </tr>\n",
              "    <tr>\n",
              "      <th>2020-08-17</th>\n",
              "      <td>0.060847</td>\n",
              "      <td>0.065073</td>\n",
              "      <td>0.052525</td>\n",
              "      <td>0.053999</td>\n",
              "      <td>0.053999</td>\n",
              "      <td>11686493</td>\n",
              "    </tr>\n",
              "    <tr>\n",
              "      <th>2020-08-18</th>\n",
              "      <td>0.053784</td>\n",
              "      <td>0.060990</td>\n",
              "      <td>0.050675</td>\n",
              "      <td>0.051700</td>\n",
              "      <td>0.051700</td>\n",
              "      <td>7401293</td>\n",
              "    </tr>\n",
              "    <tr>\n",
              "      <th>...</th>\n",
              "      <td>...</td>\n",
              "      <td>...</td>\n",
              "      <td>...</td>\n",
              "      <td>...</td>\n",
              "      <td>...</td>\n",
              "      <td>...</td>\n",
              "    </tr>\n",
              "    <tr>\n",
              "      <th>2022-04-13</th>\n",
              "      <td>2.781983</td>\n",
              "      <td>2.886945</td>\n",
              "      <td>2.751847</td>\n",
              "      <td>2.869923</td>\n",
              "      <td>2.869923</td>\n",
              "      <td>321784424</td>\n",
              "    </tr>\n",
              "    <tr>\n",
              "      <th>2022-04-14</th>\n",
              "      <td>2.869366</td>\n",
              "      <td>2.916186</td>\n",
              "      <td>2.714203</td>\n",
              "      <td>2.780882</td>\n",
              "      <td>2.780882</td>\n",
              "      <td>349909147</td>\n",
              "    </tr>\n",
              "    <tr>\n",
              "      <th>2022-04-15</th>\n",
              "      <td>2.781060</td>\n",
              "      <td>2.820187</td>\n",
              "      <td>2.755915</td>\n",
              "      <td>2.803639</td>\n",
              "      <td>2.803639</td>\n",
              "      <td>189256519</td>\n",
              "    </tr>\n",
              "    <tr>\n",
              "      <th>2022-04-16</th>\n",
              "      <td>2.803614</td>\n",
              "      <td>2.901280</td>\n",
              "      <td>2.777383</td>\n",
              "      <td>2.822680</td>\n",
              "      <td>2.822680</td>\n",
              "      <td>234480315</td>\n",
              "    </tr>\n",
              "    <tr>\n",
              "      <th>2022-04-17</th>\n",
              "      <td>2.820111</td>\n",
              "      <td>2.820111</td>\n",
              "      <td>2.781153</td>\n",
              "      <td>2.790278</td>\n",
              "      <td>2.790278</td>\n",
              "      <td>176793328</td>\n",
              "    </tr>\n",
              "  </tbody>\n",
              "</table>\n",
              "<p>612 rows × 6 columns</p>\n",
              "</div>\n",
              "      <button class=\"colab-df-convert\" onclick=\"convertToInteractive('df-e6ed88d9-3290-4383-92b0-cbb2b7a745b9')\"\n",
              "              title=\"Convert this dataframe to an interactive table.\"\n",
              "              style=\"display:none;\">\n",
              "        \n",
              "  <svg xmlns=\"http://www.w3.org/2000/svg\" height=\"24px\"viewBox=\"0 0 24 24\"\n",
              "       width=\"24px\">\n",
              "    <path d=\"M0 0h24v24H0V0z\" fill=\"none\"/>\n",
              "    <path d=\"M18.56 5.44l.94 2.06.94-2.06 2.06-.94-2.06-.94-.94-2.06-.94 2.06-2.06.94zm-11 1L8.5 8.5l.94-2.06 2.06-.94-2.06-.94L8.5 2.5l-.94 2.06-2.06.94zm10 10l.94 2.06.94-2.06 2.06-.94-2.06-.94-.94-2.06-.94 2.06-2.06.94z\"/><path d=\"M17.41 7.96l-1.37-1.37c-.4-.4-.92-.59-1.43-.59-.52 0-1.04.2-1.43.59L10.3 9.45l-7.72 7.72c-.78.78-.78 2.05 0 2.83L4 21.41c.39.39.9.59 1.41.59.51 0 1.02-.2 1.41-.59l7.78-7.78 2.81-2.81c.8-.78.8-2.07 0-2.86zM5.41 20L4 18.59l7.72-7.72 1.47 1.35L5.41 20z\"/>\n",
              "  </svg>\n",
              "      </button>\n",
              "      \n",
              "  <style>\n",
              "    .colab-df-container {\n",
              "      display:flex;\n",
              "      flex-wrap:wrap;\n",
              "      gap: 12px;\n",
              "    }\n",
              "\n",
              "    .colab-df-convert {\n",
              "      background-color: #E8F0FE;\n",
              "      border: none;\n",
              "      border-radius: 50%;\n",
              "      cursor: pointer;\n",
              "      display: none;\n",
              "      fill: #1967D2;\n",
              "      height: 32px;\n",
              "      padding: 0 0 0 0;\n",
              "      width: 32px;\n",
              "    }\n",
              "\n",
              "    .colab-df-convert:hover {\n",
              "      background-color: #E2EBFA;\n",
              "      box-shadow: 0px 1px 2px rgba(60, 64, 67, 0.3), 0px 1px 3px 1px rgba(60, 64, 67, 0.15);\n",
              "      fill: #174EA6;\n",
              "    }\n",
              "\n",
              "    [theme=dark] .colab-df-convert {\n",
              "      background-color: #3B4455;\n",
              "      fill: #D2E3FC;\n",
              "    }\n",
              "\n",
              "    [theme=dark] .colab-df-convert:hover {\n",
              "      background-color: #434B5C;\n",
              "      box-shadow: 0px 1px 3px 1px rgba(0, 0, 0, 0.15);\n",
              "      filter: drop-shadow(0px 1px 2px rgba(0, 0, 0, 0.3));\n",
              "      fill: #FFFFFF;\n",
              "    }\n",
              "  </style>\n",
              "\n",
              "      <script>\n",
              "        const buttonEl =\n",
              "          document.querySelector('#df-e6ed88d9-3290-4383-92b0-cbb2b7a745b9 button.colab-df-convert');\n",
              "        buttonEl.style.display =\n",
              "          google.colab.kernel.accessAllowed ? 'block' : 'none';\n",
              "\n",
              "        async function convertToInteractive(key) {\n",
              "          const element = document.querySelector('#df-e6ed88d9-3290-4383-92b0-cbb2b7a745b9');\n",
              "          const dataTable =\n",
              "            await google.colab.kernel.invokeFunction('convertToInteractive',\n",
              "                                                     [key], {});\n",
              "          if (!dataTable) return;\n",
              "\n",
              "          const docLinkHtml = 'Like what you see? Visit the ' +\n",
              "            '<a target=\"_blank\" href=https://colab.research.google.com/notebooks/data_table.ipynb>data table notebook</a>'\n",
              "            + ' to learn more about interactive tables.';\n",
              "          element.innerHTML = '';\n",
              "          dataTable['output_type'] = 'display_data';\n",
              "          await google.colab.output.renderOutput(dataTable, element);\n",
              "          const docLink = document.createElement('div');\n",
              "          docLink.innerHTML = docLinkHtml;\n",
              "          element.appendChild(docLink);\n",
              "        }\n",
              "      </script>\n",
              "    </div>\n",
              "  </div>\n",
              "  "
            ]
          },
          "metadata": {},
          "execution_count": 54
        }
      ],
      "source": [
        "df"
      ]
    },
    {
      "cell_type": "code",
      "execution_count": 55,
      "metadata": {
        "colab": {
          "base_uri": "https://localhost:8080/"
        },
        "id": "ytoP2J2Wnpbi",
        "outputId": "e7fcd091-4128-435b-d938-b6e2f7a76e2f"
      },
      "outputs": [
        {
          "output_type": "stream",
          "name": "stdout",
          "text": [
            "Looking in indexes: https://pypi.org/simple, https://us-python.pkg.dev/colab-wheels/public/simple/\n",
            "Requirement already satisfied: ta in /usr/local/lib/python3.8/dist-packages (0.10.2)\n",
            "Requirement already satisfied: pandas in /usr/local/lib/python3.8/dist-packages (from ta) (1.3.5)\n",
            "Requirement already satisfied: numpy in /usr/local/lib/python3.8/dist-packages (from ta) (1.21.6)\n",
            "Requirement already satisfied: pytz>=2017.3 in /usr/local/lib/python3.8/dist-packages (from pandas->ta) (2022.6)\n",
            "Requirement already satisfied: python-dateutil>=2.7.3 in /usr/local/lib/python3.8/dist-packages (from pandas->ta) (2.8.2)\n",
            "Requirement already satisfied: six>=1.5 in /usr/local/lib/python3.8/dist-packages (from python-dateutil>=2.7.3->pandas->ta) (1.15.0)\n"
          ]
        }
      ],
      "source": [
        "pip install ta"
      ]
    },
    {
      "cell_type": "code",
      "execution_count": 56,
      "metadata": {
        "id": "4_NDYkO-nrru"
      },
      "outputs": [],
      "source": [
        "import pandas as pd\n",
        "import ta\n",
        "from ta import add_all_ta_features\n",
        "from ta.utils import dropna"
      ]
    },
    {
      "cell_type": "code",
      "execution_count": 57,
      "metadata": {
        "colab": {
          "base_uri": "https://localhost:8080/",
          "height": 455
        },
        "id": "LRlTWlPfmcol",
        "outputId": "096b7481-c9ec-46d2-cf58-9161e81ef404"
      },
      "outputs": [
        {
          "output_type": "execute_result",
          "data": {
            "text/plain": [
              "                Open      High       Low     Close     Volume  Pre_Close  \\\n",
              "Date                                                                       \n",
              "2020-08-20  0.052095  0.057325  0.050800  0.053648    7332475   0.052095   \n",
              "2020-08-21  0.053644  0.053738  0.044235  0.044235    5121097   0.053648   \n",
              "2020-08-22  0.044395  0.049011  0.040692  0.046011    4347394   0.044235   \n",
              "2020-08-23  0.045990  0.048237  0.041965  0.044007    3114426   0.046011   \n",
              "2020-08-24  0.043902  0.053543  0.042178  0.051299    7868186   0.044007   \n",
              "...              ...       ...       ...       ...        ...        ...   \n",
              "2022-04-13  2.781983  2.886945  2.751847  2.869923  321784424   2.782421   \n",
              "2022-04-14  2.869366  2.916186  2.714203  2.780882  349909147   2.869923   \n",
              "2022-04-15  2.781060  2.820187  2.755915  2.803639  189256519   2.780882   \n",
              "2022-04-16  2.803614  2.901280  2.777383  2.822680  234480315   2.803639   \n",
              "2022-04-17  2.820111  2.820111  2.781153  2.790278  176793328   2.822680   \n",
              "\n",
              "                 H-L       0-C     SMA_7      rsi_7     EMA_7  \n",
              "Date                                                           \n",
              "2020-08-20  0.006525 -0.001553  0.055557  36.094661  0.054128  \n",
              "2020-08-21  0.009503  0.009409  0.052498  23.308807  0.051380  \n",
              "2020-08-22  0.008319 -0.001616  0.051791  28.856159  0.049928  \n",
              "2020-08-23  0.006272  0.001983  0.049385  26.347291  0.048360  \n",
              "2020-08-24  0.011365 -0.007397  0.048999  46.203257  0.049127  \n",
              "...              ...       ...       ...        ...       ...  \n",
              "2022-04-13  0.135098 -0.087940  2.886363  40.236566  2.909637  \n",
              "2022-04-14  0.201983  0.088484  2.843185  36.188051  2.877448  \n",
              "2022-04-15  0.064272 -0.022579  2.829312  38.046757  2.858996  \n",
              "2022-04-16  0.123897 -0.019066  2.803156  39.759602  2.849917  \n",
              "2022-04-17  0.038958  0.029833  2.788510  37.690803  2.835007  \n",
              "\n",
              "[606 rows x 11 columns]"
            ],
            "text/html": [
              "\n",
              "  <div id=\"df-ddd3b741-e8c4-4ee8-862e-4afb7a2ad2ce\">\n",
              "    <div class=\"colab-df-container\">\n",
              "      <div>\n",
              "<style scoped>\n",
              "    .dataframe tbody tr th:only-of-type {\n",
              "        vertical-align: middle;\n",
              "    }\n",
              "\n",
              "    .dataframe tbody tr th {\n",
              "        vertical-align: top;\n",
              "    }\n",
              "\n",
              "    .dataframe thead th {\n",
              "        text-align: right;\n",
              "    }\n",
              "</style>\n",
              "<table border=\"1\" class=\"dataframe\">\n",
              "  <thead>\n",
              "    <tr style=\"text-align: right;\">\n",
              "      <th></th>\n",
              "      <th>Open</th>\n",
              "      <th>High</th>\n",
              "      <th>Low</th>\n",
              "      <th>Close</th>\n",
              "      <th>Volume</th>\n",
              "      <th>Pre_Close</th>\n",
              "      <th>H-L</th>\n",
              "      <th>0-C</th>\n",
              "      <th>SMA_7</th>\n",
              "      <th>rsi_7</th>\n",
              "      <th>EMA_7</th>\n",
              "    </tr>\n",
              "    <tr>\n",
              "      <th>Date</th>\n",
              "      <th></th>\n",
              "      <th></th>\n",
              "      <th></th>\n",
              "      <th></th>\n",
              "      <th></th>\n",
              "      <th></th>\n",
              "      <th></th>\n",
              "      <th></th>\n",
              "      <th></th>\n",
              "      <th></th>\n",
              "      <th></th>\n",
              "    </tr>\n",
              "  </thead>\n",
              "  <tbody>\n",
              "    <tr>\n",
              "      <th>2020-08-20</th>\n",
              "      <td>0.052095</td>\n",
              "      <td>0.057325</td>\n",
              "      <td>0.050800</td>\n",
              "      <td>0.053648</td>\n",
              "      <td>7332475</td>\n",
              "      <td>0.052095</td>\n",
              "      <td>0.006525</td>\n",
              "      <td>-0.001553</td>\n",
              "      <td>0.055557</td>\n",
              "      <td>36.094661</td>\n",
              "      <td>0.054128</td>\n",
              "    </tr>\n",
              "    <tr>\n",
              "      <th>2020-08-21</th>\n",
              "      <td>0.053644</td>\n",
              "      <td>0.053738</td>\n",
              "      <td>0.044235</td>\n",
              "      <td>0.044235</td>\n",
              "      <td>5121097</td>\n",
              "      <td>0.053648</td>\n",
              "      <td>0.009503</td>\n",
              "      <td>0.009409</td>\n",
              "      <td>0.052498</td>\n",
              "      <td>23.308807</td>\n",
              "      <td>0.051380</td>\n",
              "    </tr>\n",
              "    <tr>\n",
              "      <th>2020-08-22</th>\n",
              "      <td>0.044395</td>\n",
              "      <td>0.049011</td>\n",
              "      <td>0.040692</td>\n",
              "      <td>0.046011</td>\n",
              "      <td>4347394</td>\n",
              "      <td>0.044235</td>\n",
              "      <td>0.008319</td>\n",
              "      <td>-0.001616</td>\n",
              "      <td>0.051791</td>\n",
              "      <td>28.856159</td>\n",
              "      <td>0.049928</td>\n",
              "    </tr>\n",
              "    <tr>\n",
              "      <th>2020-08-23</th>\n",
              "      <td>0.045990</td>\n",
              "      <td>0.048237</td>\n",
              "      <td>0.041965</td>\n",
              "      <td>0.044007</td>\n",
              "      <td>3114426</td>\n",
              "      <td>0.046011</td>\n",
              "      <td>0.006272</td>\n",
              "      <td>0.001983</td>\n",
              "      <td>0.049385</td>\n",
              "      <td>26.347291</td>\n",
              "      <td>0.048360</td>\n",
              "    </tr>\n",
              "    <tr>\n",
              "      <th>2020-08-24</th>\n",
              "      <td>0.043902</td>\n",
              "      <td>0.053543</td>\n",
              "      <td>0.042178</td>\n",
              "      <td>0.051299</td>\n",
              "      <td>7868186</td>\n",
              "      <td>0.044007</td>\n",
              "      <td>0.011365</td>\n",
              "      <td>-0.007397</td>\n",
              "      <td>0.048999</td>\n",
              "      <td>46.203257</td>\n",
              "      <td>0.049127</td>\n",
              "    </tr>\n",
              "    <tr>\n",
              "      <th>...</th>\n",
              "      <td>...</td>\n",
              "      <td>...</td>\n",
              "      <td>...</td>\n",
              "      <td>...</td>\n",
              "      <td>...</td>\n",
              "      <td>...</td>\n",
              "      <td>...</td>\n",
              "      <td>...</td>\n",
              "      <td>...</td>\n",
              "      <td>...</td>\n",
              "      <td>...</td>\n",
              "    </tr>\n",
              "    <tr>\n",
              "      <th>2022-04-13</th>\n",
              "      <td>2.781983</td>\n",
              "      <td>2.886945</td>\n",
              "      <td>2.751847</td>\n",
              "      <td>2.869923</td>\n",
              "      <td>321784424</td>\n",
              "      <td>2.782421</td>\n",
              "      <td>0.135098</td>\n",
              "      <td>-0.087940</td>\n",
              "      <td>2.886363</td>\n",
              "      <td>40.236566</td>\n",
              "      <td>2.909637</td>\n",
              "    </tr>\n",
              "    <tr>\n",
              "      <th>2022-04-14</th>\n",
              "      <td>2.869366</td>\n",
              "      <td>2.916186</td>\n",
              "      <td>2.714203</td>\n",
              "      <td>2.780882</td>\n",
              "      <td>349909147</td>\n",
              "      <td>2.869923</td>\n",
              "      <td>0.201983</td>\n",
              "      <td>0.088484</td>\n",
              "      <td>2.843185</td>\n",
              "      <td>36.188051</td>\n",
              "      <td>2.877448</td>\n",
              "    </tr>\n",
              "    <tr>\n",
              "      <th>2022-04-15</th>\n",
              "      <td>2.781060</td>\n",
              "      <td>2.820187</td>\n",
              "      <td>2.755915</td>\n",
              "      <td>2.803639</td>\n",
              "      <td>189256519</td>\n",
              "      <td>2.780882</td>\n",
              "      <td>0.064272</td>\n",
              "      <td>-0.022579</td>\n",
              "      <td>2.829312</td>\n",
              "      <td>38.046757</td>\n",
              "      <td>2.858996</td>\n",
              "    </tr>\n",
              "    <tr>\n",
              "      <th>2022-04-16</th>\n",
              "      <td>2.803614</td>\n",
              "      <td>2.901280</td>\n",
              "      <td>2.777383</td>\n",
              "      <td>2.822680</td>\n",
              "      <td>234480315</td>\n",
              "      <td>2.803639</td>\n",
              "      <td>0.123897</td>\n",
              "      <td>-0.019066</td>\n",
              "      <td>2.803156</td>\n",
              "      <td>39.759602</td>\n",
              "      <td>2.849917</td>\n",
              "    </tr>\n",
              "    <tr>\n",
              "      <th>2022-04-17</th>\n",
              "      <td>2.820111</td>\n",
              "      <td>2.820111</td>\n",
              "      <td>2.781153</td>\n",
              "      <td>2.790278</td>\n",
              "      <td>176793328</td>\n",
              "      <td>2.822680</td>\n",
              "      <td>0.038958</td>\n",
              "      <td>0.029833</td>\n",
              "      <td>2.788510</td>\n",
              "      <td>37.690803</td>\n",
              "      <td>2.835007</td>\n",
              "    </tr>\n",
              "  </tbody>\n",
              "</table>\n",
              "<p>606 rows × 11 columns</p>\n",
              "</div>\n",
              "      <button class=\"colab-df-convert\" onclick=\"convertToInteractive('df-ddd3b741-e8c4-4ee8-862e-4afb7a2ad2ce')\"\n",
              "              title=\"Convert this dataframe to an interactive table.\"\n",
              "              style=\"display:none;\">\n",
              "        \n",
              "  <svg xmlns=\"http://www.w3.org/2000/svg\" height=\"24px\"viewBox=\"0 0 24 24\"\n",
              "       width=\"24px\">\n",
              "    <path d=\"M0 0h24v24H0V0z\" fill=\"none\"/>\n",
              "    <path d=\"M18.56 5.44l.94 2.06.94-2.06 2.06-.94-2.06-.94-.94-2.06-.94 2.06-2.06.94zm-11 1L8.5 8.5l.94-2.06 2.06-.94-2.06-.94L8.5 2.5l-.94 2.06-2.06.94zm10 10l.94 2.06.94-2.06 2.06-.94-2.06-.94-.94-2.06-.94 2.06-2.06.94z\"/><path d=\"M17.41 7.96l-1.37-1.37c-.4-.4-.92-.59-1.43-.59-.52 0-1.04.2-1.43.59L10.3 9.45l-7.72 7.72c-.78.78-.78 2.05 0 2.83L4 21.41c.39.39.9.59 1.41.59.51 0 1.02-.2 1.41-.59l7.78-7.78 2.81-2.81c.8-.78.8-2.07 0-2.86zM5.41 20L4 18.59l7.72-7.72 1.47 1.35L5.41 20z\"/>\n",
              "  </svg>\n",
              "      </button>\n",
              "      \n",
              "  <style>\n",
              "    .colab-df-container {\n",
              "      display:flex;\n",
              "      flex-wrap:wrap;\n",
              "      gap: 12px;\n",
              "    }\n",
              "\n",
              "    .colab-df-convert {\n",
              "      background-color: #E8F0FE;\n",
              "      border: none;\n",
              "      border-radius: 50%;\n",
              "      cursor: pointer;\n",
              "      display: none;\n",
              "      fill: #1967D2;\n",
              "      height: 32px;\n",
              "      padding: 0 0 0 0;\n",
              "      width: 32px;\n",
              "    }\n",
              "\n",
              "    .colab-df-convert:hover {\n",
              "      background-color: #E2EBFA;\n",
              "      box-shadow: 0px 1px 2px rgba(60, 64, 67, 0.3), 0px 1px 3px 1px rgba(60, 64, 67, 0.15);\n",
              "      fill: #174EA6;\n",
              "    }\n",
              "\n",
              "    [theme=dark] .colab-df-convert {\n",
              "      background-color: #3B4455;\n",
              "      fill: #D2E3FC;\n",
              "    }\n",
              "\n",
              "    [theme=dark] .colab-df-convert:hover {\n",
              "      background-color: #434B5C;\n",
              "      box-shadow: 0px 1px 3px 1px rgba(0, 0, 0, 0.15);\n",
              "      filter: drop-shadow(0px 1px 2px rgba(0, 0, 0, 0.3));\n",
              "      fill: #FFFFFF;\n",
              "    }\n",
              "  </style>\n",
              "\n",
              "      <script>\n",
              "        const buttonEl =\n",
              "          document.querySelector('#df-ddd3b741-e8c4-4ee8-862e-4afb7a2ad2ce button.colab-df-convert');\n",
              "        buttonEl.style.display =\n",
              "          google.colab.kernel.accessAllowed ? 'block' : 'none';\n",
              "\n",
              "        async function convertToInteractive(key) {\n",
              "          const element = document.querySelector('#df-ddd3b741-e8c4-4ee8-862e-4afb7a2ad2ce');\n",
              "          const dataTable =\n",
              "            await google.colab.kernel.invokeFunction('convertToInteractive',\n",
              "                                                     [key], {});\n",
              "          if (!dataTable) return;\n",
              "\n",
              "          const docLinkHtml = 'Like what you see? Visit the ' +\n",
              "            '<a target=\"_blank\" href=https://colab.research.google.com/notebooks/data_table.ipynb>data table notebook</a>'\n",
              "            + ' to learn more about interactive tables.';\n",
              "          element.innerHTML = '';\n",
              "          dataTable['output_type'] = 'display_data';\n",
              "          await google.colab.output.renderOutput(dataTable, element);\n",
              "          const docLink = document.createElement('div');\n",
              "          docLink.innerHTML = docLinkHtml;\n",
              "          element.appendChild(docLink);\n",
              "        }\n",
              "      </script>\n",
              "    </div>\n",
              "  </div>\n",
              "  "
            ]
          },
          "metadata": {},
          "execution_count": 57
        }
      ],
      "source": [
        "df['Pre_Close'] = df['Close'].shift(+1)\n",
        "df[('H-L')] = df['High'] - df['Low']\n",
        "df[('0-C')]= df['Open'] - df['Close']\n",
        "df['SMA_7'] = df.Close.rolling(7, min_periods=1).mean()\n",
        "df['rsi_7']=ta.momentum.rsi(df.Close,window=7)\n",
        "#df['MACD'] = ta.trend.macd_diff(df.Close)\n",
        "df['EMA_7']= df['Close'].ewm(span=7).mean()\n",
        "df = df.drop(columns=['Adj Close'])\n",
        "df.dropna(inplace= True)\n",
        "df"
      ]
    },
    {
      "cell_type": "code",
      "execution_count": 58,
      "metadata": {
        "id": "nUVCrzpt_Xb-"
      },
      "outputs": [],
      "source": [
        "def data_prep(dataset, target, data_start, data_end, look_back, horizon):\n",
        "    dataX,dataY = [],[]\n",
        "    data_start = data_start + look_back\n",
        "    if data_end is None:\n",
        "        data_end = len(dataset) - horizon\n",
        "\n",
        "    for i in range(data_start, data_end):\n",
        "        a = range(i-look_back, i)\n",
        "        dataX.append(dataset[a])\n",
        "\n",
        "        b = range(i+1, i+1+horizon)\n",
        "        dataY.append(target[b])\n",
        "    return np.array(dataX), np.array(dataY)"
      ]
    },
    {
      "cell_type": "code",
      "execution_count": 59,
      "metadata": {
        "id": "8uxf-46a_Zm1"
      },
      "outputs": [],
      "source": [
        "X_scaler = MinMaxScaler()\n",
        "Y_scaler = MinMaxScaler()\n",
        "X_data = X_scaler.fit_transform(df[['Open','High','Low', 'Volume']])\n",
        "Y_data = Y_scaler.fit_transform(df[['Close']])\n"
      ]
    },
    {
      "cell_type": "code",
      "execution_count": 60,
      "metadata": {
        "id": "vhampguE_cgy"
      },
      "outputs": [],
      "source": [
        "##TRAIN_SPLIT = int(len(df) * 0.8)\n",
        "look_back = 10\n",
        "horizon = 10\n",
        "train_split = int(len(df) * 0.8)\n",
        "x_train, y_train = data_prep(X_data, Y_data, 0, train_split, look_back, horizon)\n",
        "x_vali, y_vali = data_prep(X_data, Y_data, train_split, None, look_back, horizon)"
      ]
    },
    {
      "cell_type": "code",
      "execution_count": 61,
      "metadata": {
        "id": "BJNFqmFL_eer"
      },
      "outputs": [],
      "source": [
        "# x_train"
      ]
    },
    {
      "cell_type": "code",
      "execution_count": 62,
      "metadata": {
        "colab": {
          "base_uri": "https://localhost:8080/"
        },
        "id": "QxuHL7J-_g9-",
        "outputId": "56a23a89-e1d8-43f3-dca2-15c2e9596873"
      },
      "outputs": [
        {
          "output_type": "stream",
          "name": "stdout",
          "text": [
            "Multiple window of past history\n",
            "\n",
            "[[2.83694734e-03 3.03201955e-03 3.16017951e-03 4.25735345e-04]\n",
            " [3.04350110e-03 2.60551547e-03 2.21115712e-03 2.26069081e-04]\n",
            " [1.81017909e-03 2.04346228e-03 1.69898860e-03 1.56211107e-04]\n",
            " [2.02286680e-03 1.95143157e-03 1.88301076e-03 4.48858994e-05]\n",
            " [1.74443925e-03 2.58232944e-03 1.91380159e-03 4.74104920e-04]\n",
            " [2.67693150e-03 2.97506515e-03 2.43290889e-03 2.91205679e-04]\n",
            " [2.30156103e-03 3.20668766e-03 2.62892935e-03 5.16636406e-04]\n",
            " [3.66729615e-03 5.14159175e-03 3.69012865e-03 2.89300352e-03]\n",
            " [5.78670583e-03 6.00244749e-03 5.82336908e-03 2.07498525e-03]\n",
            " [5.17891237e-03 5.06585071e-03 5.34285873e-03 7.81648200e-04]]\n",
            "\n",
            " Target horizon\n",
            "\n",
            "[[0.0047021 ]\n",
            " [0.00347374]\n",
            " [0.00337472]\n",
            " [0.00161431]\n",
            " [0.00174523]\n",
            " [0.00080584]\n",
            " [0.00120685]\n",
            " [0.00084849]\n",
            " [0.0022731 ]\n",
            " [0.00209141]]\n"
          ]
        }
      ],
      "source": [
        "print ('Multiple window of past history\\n')\n",
        "print(x_train[0])\n",
        "print ('\\n Target horizon\\n')\n",
        "print (y_train[0])"
      ]
    },
    {
      "cell_type": "code",
      "execution_count": 63,
      "metadata": {
        "id": "9YHpXcEK_jRu"
      },
      "outputs": [],
      "source": [
        "import pandas as pd\n",
        "import numpy as np\n",
        "import matplotlib.pyplot as plt\n",
        "import plotly.express as px # to plot the time series plot\n",
        "from sklearn import metrics # for the evalution\n",
        "from sklearn.preprocessing import LabelEncoder,MinMaxScaler\n",
        "\n",
        "import tensorflow as tf"
      ]
    },
    {
      "cell_type": "code",
      "execution_count": 64,
      "metadata": {
        "id": "0zQIYwlSH0yK"
      },
      "outputs": [],
      "source": [
        "batch_size = 8\n",
        "\n",
        "train_data = tf.data.Dataset.from_tensor_slices((x_train, y_train))\n",
        "train_data = train_data.batch(batch_size).repeat()\n",
        "\n",
        "val_data = tf.data.Dataset.from_tensor_slices((x_vali, y_vali))\n",
        "val_data = val_data.batch(batch_size).repeat()"
      ]
    },
    {
      "cell_type": "code",
      "execution_count": 65,
      "metadata": {
        "id": "rqnDiq95Drku"
      },
      "outputs": [],
      "source": [
        "from keras.models import Model\n",
        "from keras.layers import Input\n",
        "from keras.layers import Dense\n",
        "from keras.layers import Flatten\n",
        "from keras.layers.convolutional import Conv1D\n",
        "from keras.layers.convolutional import MaxPooling1D\n",
        "# from keras.layers.merge import concatenate\n",
        "import tensorflow as tf"
      ]
    },
    {
      "cell_type": "code",
      "execution_count": 66,
      "metadata": {
        "colab": {
          "base_uri": "https://localhost:8080/"
        },
        "id": "tIWp2c1XnWf-",
        "outputId": "9213fc4a-6537-4920-a346-29e6b7a3095e"
      },
      "outputs": [
        {
          "output_type": "execute_result",
          "data": {
            "text/plain": [
              "(10, 4)"
            ]
          },
          "metadata": {},
          "execution_count": 66
        }
      ],
      "source": [
        "x_train.shape[-2:]"
      ]
    },
    {
      "cell_type": "code",
      "execution_count": 67,
      "metadata": {
        "colab": {
          "base_uri": "https://localhost:8080/"
        },
        "id": "h7vQ_Ll1_5ec",
        "outputId": "664cc2a4-0e48-4aef-d7b8-d7f68cdb1b58"
      },
      "outputs": [
        {
          "output_type": "stream",
          "name": "stdout",
          "text": [
            "Model: \"sequential_2\"\n",
            "_________________________________________________________________\n",
            " Layer (type)                Output Shape              Param #   \n",
            "=================================================================\n",
            " conv1d_6 (Conv1D)           (None, 10, 64)            320       \n",
            "                                                                 \n",
            " conv1d_7 (Conv1D)           (None, 10, 128)           8320      \n",
            "                                                                 \n",
            " max_pooling1d_2 (MaxPooling  (None, 10, 128)          0         \n",
            " 1D)                                                             \n",
            "                                                                 \n",
            " conv1d_8 (Conv1D)           (None, 10, 256)           33024     \n",
            "                                                                 \n",
            " flatten_2 (Flatten)         (None, 2560)              0         \n",
            "                                                                 \n",
            " dense_4 (Dense)             (None, 512)               1311232   \n",
            "                                                                 \n",
            " dropout_2 (Dropout)         (None, 512)               0         \n",
            "                                                                 \n",
            " dense_5 (Dense)             (None, 10)                5130      \n",
            "                                                                 \n",
            "=================================================================\n",
            "Total params: 1,358,026\n",
            "Trainable params: 1,358,026\n",
            "Non-trainable params: 0\n",
            "_________________________________________________________________\n"
          ]
        }
      ],
      "source": [
        "#define model\n",
        "import tensorflow as tf\n",
        "from tensorflow.keras import layers\n",
        "import tensorflow as tf\n",
        "from tensorflow.keras import layers\n",
        "from keras.callbacks import EarlyStopping\n",
        "from keras.optimizers import Adam\n",
        "from keras import regularizers\n",
        "\n",
        "# Set the learning rate\n",
        "#0.0001,0.001,0.01,0.1,1\n",
        "learning_rate = 0.00001\n",
        "\n",
        "# Create the optimizer with the desired learning rate\n",
        "optimizer = Adam(learning_rate=learning_rate)\n",
        "l1_rate=regularizers.l1(0.005)\n",
        "l2_rate=regularizers.l2(0.001)\n",
        "# Set random seed for as reproducible results as possible\n",
        "tf.random.set_seed(7)\n",
        "cnn_model = Sequential()\n",
        "cnn_model.add(Conv1D(filters=64, kernel_size=1, activation='relu', input_shape=(x_train.shape[-2:]),activity_regularizer= l1_rate,kernel_regularizer= l2_rate))\n",
        "cnn_model.add(Conv1D(filters=128, kernel_size=1,activity_regularizer= l1_rate,kernel_regularizer= l2_rate))\n",
        "cnn_model.add(MaxPooling1D(pool_size=(1)))\n",
        "cnn_model.add(Conv1D(filters=256, kernel_size=1,activity_regularizer= l1_rate,kernel_regularizer= l2_rate))\n",
        "cnn_model.add(Flatten())\n",
        "cnn_model.add(Dense(512,activity_regularizer= l1_rate))\n",
        "cnn_model.add(Dropout(0.5))\n",
        "cnn_model.add(Dense(10))\n",
        "# Compile the model with the optimizer\n",
        "cnn_model.compile(optimizer=optimizer, loss='mse')\n",
        "cnn_model.summary()\n",
        "\n"
      ]
    },
    {
      "cell_type": "code",
      "execution_count": 68,
      "metadata": {
        "id": "zts6fS0JE6Hy"
      },
      "outputs": [],
      "source": [
        "import tensorflow as tf\n",
        "from tensorflow.keras import layers"
      ]
    },
    {
      "cell_type": "code",
      "execution_count": 69,
      "metadata": {
        "colab": {
          "base_uri": "https://localhost:8080/"
        },
        "id": "1vqC4wRgHrxZ",
        "outputId": "70ef658b-ade1-4227-fd08-69f1c099c945"
      },
      "outputs": [
        {
          "output_type": "stream",
          "name": "stdout",
          "text": [
            "Epoch 1/50\n",
            "100/100 [==============================] - 3s 20ms/step - loss: 0.4987 - val_loss: 1.9847\n",
            "Epoch 2/50\n",
            "100/100 [==============================] - 2s 19ms/step - loss: 0.5930 - val_loss: 1.8419\n",
            "Epoch 3/50\n",
            "100/100 [==============================] - 2s 18ms/step - loss: 0.5846 - val_loss: 1.7446\n",
            "Epoch 4/50\n",
            "100/100 [==============================] - 3s 26ms/step - loss: 0.4378 - val_loss: 1.6651\n",
            "Epoch 5/50\n",
            "100/100 [==============================] - 3s 28ms/step - loss: 0.5300 - val_loss: 1.5851\n",
            "Epoch 6/50\n",
            "100/100 [==============================] - 3s 30ms/step - loss: 0.5239 - val_loss: 1.5236\n",
            "Epoch 7/50\n",
            "100/100 [==============================] - 3s 29ms/step - loss: 0.4063 - val_loss: 1.4679\n",
            "Epoch 8/50\n",
            "100/100 [==============================] - 3s 28ms/step - loss: 0.4883 - val_loss: 1.4091\n",
            "Epoch 9/50\n",
            "100/100 [==============================] - 3s 27ms/step - loss: 0.4830 - val_loss: 1.3662\n",
            "Epoch 10/50\n",
            "100/100 [==============================] - 3s 26ms/step - loss: 0.3827 - val_loss: 1.3241\n",
            "Epoch 11/50\n",
            "100/100 [==============================] - 3s 30ms/step - loss: 0.4567 - val_loss: 1.2801\n",
            "Epoch 12/50\n",
            "100/100 [==============================] - 3s 25ms/step - loss: 0.4526 - val_loss: 1.2476\n",
            "Epoch 13/50\n",
            "100/100 [==============================] - 3s 28ms/step - loss: 0.3640 - val_loss: 1.2148\n",
            "Epoch 14/50\n",
            "100/100 [==============================] - 3s 28ms/step - loss: 0.4316 - val_loss: 1.1800\n",
            "Epoch 15/50\n",
            "100/100 [==============================] - 3s 28ms/step - loss: 0.4286 - val_loss: 1.1555\n",
            "Epoch 16/50\n",
            "100/100 [==============================] - 2s 17ms/step - loss: 0.3486 - val_loss: 1.1292\n",
            "Epoch 17/50\n",
            "100/100 [==============================] - 2s 15ms/step - loss: 0.4113 - val_loss: 1.1016\n",
            "Epoch 18/50\n",
            "100/100 [==============================] - 2s 16ms/step - loss: 0.4089 - val_loss: 1.0825\n",
            "Epoch 19/50\n",
            "100/100 [==============================] - 2s 17ms/step - loss: 0.3352 - val_loss: 1.0615\n",
            "Epoch 20/50\n",
            "100/100 [==============================] - 2s 17ms/step - loss: 0.3942 - val_loss: 1.0388\n",
            "Epoch 21/50\n",
            "100/100 [==============================] - 2s 16ms/step - loss: 0.3926 - val_loss: 1.0234\n",
            "Epoch 22/50\n",
            "100/100 [==============================] - 2s 15ms/step - loss: 0.3239 - val_loss: 1.0056\n",
            "Epoch 23/50\n",
            "100/100 [==============================] - 2s 15ms/step - loss: 0.3792 - val_loss: 0.9869\n",
            "Epoch 24/50\n",
            "100/100 [==============================] - 2s 18ms/step - loss: 0.3781 - val_loss: 0.9739\n",
            "Epoch 25/50\n",
            "100/100 [==============================] - 2s 16ms/step - loss: 0.3136 - val_loss: 0.9587\n",
            "Epoch 26/50\n",
            "100/100 [==============================] - 2s 18ms/step - loss: 0.3659 - val_loss: 0.9427\n",
            "Epoch 27/50\n",
            "100/100 [==============================] - 2s 17ms/step - loss: 0.3646 - val_loss: 0.9314\n",
            "Epoch 28/50\n",
            "100/100 [==============================] - 2s 16ms/step - loss: 0.3038 - val_loss: 0.9175\n",
            "Epoch 29/50\n",
            "100/100 [==============================] - 2s 16ms/step - loss: 0.3536 - val_loss: 0.9032\n",
            "Epoch 30/50\n",
            "100/100 [==============================] - 2s 17ms/step - loss: 0.3524 - val_loss: 0.8929\n",
            "Epoch 31/50\n",
            "100/100 [==============================] - 2s 17ms/step - loss: 0.2947 - val_loss: 0.8806\n",
            "Epoch 32/50\n",
            "100/100 [==============================] - 2s 15ms/step - loss: 0.3424 - val_loss: 0.8678\n",
            "Epoch 33/50\n",
            "100/100 [==============================] - 2s 16ms/step - loss: 0.3413 - val_loss: 0.8585\n",
            "Epoch 34/50\n",
            "100/100 [==============================] - 2s 17ms/step - loss: 0.2861 - val_loss: 0.8472\n",
            "Epoch 35/50\n",
            "100/100 [==============================] - 2s 16ms/step - loss: 0.3318 - val_loss: 0.8354\n",
            "Epoch 36/50\n",
            "100/100 [==============================] - 2s 17ms/step - loss: 0.3307 - val_loss: 0.8272\n",
            "Epoch 37/50\n",
            "100/100 [==============================] - 2s 16ms/step - loss: 0.2777 - val_loss: 0.8171\n",
            "Epoch 38/50\n",
            "100/100 [==============================] - 2s 16ms/step - loss: 0.3217 - val_loss: 0.8060\n",
            "Epoch 39/50\n",
            "100/100 [==============================] - 2s 15ms/step - loss: 0.3209 - val_loss: 0.7987\n",
            "Epoch 40/50\n",
            "100/100 [==============================] - 2s 15ms/step - loss: 0.2696 - val_loss: 0.7896\n",
            "Epoch 41/50\n",
            "100/100 [==============================] - 2s 15ms/step - loss: 0.3120 - val_loss: 0.7789\n",
            "Epoch 42/50\n",
            "100/100 [==============================] - 2s 15ms/step - loss: 0.3111 - val_loss: 0.7720\n",
            "Epoch 43/50\n",
            "100/100 [==============================] - 2s 15ms/step - loss: 0.2619 - val_loss: 0.7625\n",
            "Epoch 44/50\n",
            "100/100 [==============================] - 2s 16ms/step - loss: 0.3028 - val_loss: 0.7531\n",
            "Epoch 45/50\n",
            "100/100 [==============================] - 2s 16ms/step - loss: 0.3019 - val_loss: 0.7466\n",
            "Epoch 46/50\n",
            "100/100 [==============================] - 2s 16ms/step - loss: 0.2544 - val_loss: 0.7381\n",
            "Epoch 47/50\n",
            "100/100 [==============================] - 2s 15ms/step - loss: 0.2939 - val_loss: 0.7294\n",
            "Epoch 48/50\n",
            "100/100 [==============================] - 2s 16ms/step - loss: 0.2931 - val_loss: 0.7236\n",
            "Epoch 49/50\n",
            "100/100 [==============================] - 2s 15ms/step - loss: 0.2473 - val_loss: 0.7162\n",
            "Epoch 50/50\n",
            "100/100 [==============================] - 2s 16ms/step - loss: 0.2854 - val_loss: 0.7078\n"
          ]
        }
      ],
      "source": [
        "history = cnn_model.fit(train_data,epochs=50,batch_size=8,steps_per_epoch=100,validation_data=val_data,validation_steps=50,verbose=1)"
      ]
    },
    {
      "cell_type": "code",
      "execution_count": 70,
      "metadata": {
        "id": "05kGXARbH9w3",
        "colab": {
          "base_uri": "https://localhost:8080/",
          "height": 567
        },
        "outputId": "f47c1a29-de76-40b6-bd3c-4641df45e497"
      },
      "outputs": [
        {
          "output_type": "display_data",
          "data": {
            "text/plain": [
              "<Figure size 1152x648 with 1 Axes>"
            ],
            "image/png": "[encoded data removed]"
          },
          "metadata": {
            "needs_background": "light"
          }
        }
      ],
      "source": [
        "plt.figure(figsize=(16,9))\n",
        "plt.plot(history.history['loss'])\n",
        "plt.plot(history.history['val_loss'])\n",
        "plt.title('Model loss')\n",
        "plt.ylabel('loss')\n",
        "plt.xlabel('epoch')\n",
        "plt.legend(['train loss', 'validation loss'])\n",
        "plt.show()"
      ]
    },
    {
      "cell_type": "code",
      "execution_count": 71,
      "metadata": {
        "id": "jJ6fj09EIUFi",
        "colab": {
          "base_uri": "https://localhost:8080/"
        },
        "outputId": "ad498d42-c143-4ecd-82b5-932dae966c23"
      },
      "outputs": [
        {
          "output_type": "execute_result",
          "data": {
            "text/plain": [
              "Index(['Open', 'High', 'Low', 'Close', 'Volume', 'Pre_Close', 'H-L', '0-C',\n",
              "       'SMA_7', 'rsi_7', 'EMA_7'],\n",
              "      dtype='object')"
            ]
          },
          "metadata": {},
          "execution_count": 71
        }
      ],
      "source": [
        "df.columns"
      ]
    },
    {
      "cell_type": "code",
      "execution_count": 72,
      "metadata": {
        "id": "eFhfHDpCIbc2",
        "colab": {
          "base_uri": "https://localhost:8080/"
        },
        "outputId": "458e67cb-81b1-49a9-ec52-42c7a9a4660e"
      },
      "outputs": [
        {
          "output_type": "stream",
          "name": "stdout",
          "text": [
            "1/1 [==============================] - 0s 141ms/step\n"
          ]
        },
        {
          "output_type": "execute_result",
          "data": {
            "text/plain": [
              "array([[2.9657462, 2.8801126, 2.175719 , 2.6149127, 2.6837916, 2.5816407,\n",
              "        2.817973 , 3.1456738, 2.6518474, 3.7414834]], dtype=float32)"
            ]
          },
          "metadata": {},
          "execution_count": 72
        }
      ],
      "source": [
        "\n",
        "data_val = X_scaler.fit_transform(df[['Open','High','Low', 'Volume']].tail(10))\n",
        "val_rescaled = data_val.reshape(1, data_val.shape[0], data_val.shape[1])\n",
        "pred=cnn_model.predict(val_rescaled)\n",
        "pred_Inverse = Y_scaler.inverse_transform(pred)\n",
        "pred_Inverse"
      ]
    },
    {
      "cell_type": "code",
      "execution_count": 73,
      "metadata": {
        "id": "qCa3fcUgIro5"
      },
      "outputs": [],
      "source": [
        "def timeseries_evaluation_metrics_func(y_true, y_pred):\n",
        "    def mean_absolute_percentage_error(y_true, y_pred): \n",
        "        y_true, y_pred = np.array(y_true), np.array(y_pred)\n",
        "        return np.mean(np.abs((y_true - y_pred) / y_true)) * 100\n",
        "\n",
        "    print('Evaluation metric results:-')\n",
        "    print(f'MSE is : {metrics.mean_squared_error(y_true, y_pred)}')\n",
        "    print(f'MAE is : {metrics.mean_absolute_error(y_true, y_pred)}')\n",
        "    print(f'RMSE is : {np.sqrt(metrics.mean_squared_error(y_true, y_pred))}')\n",
        "    print(f'MAPE is : {mean_absolute_percentage_error(y_true, y_pred)}')\n"
      ]
    },
    {
      "cell_type": "code",
      "execution_count": 74,
      "metadata": {
        "id": "vZheU0ClIv6C",
        "colab": {
          "base_uri": "https://localhost:8080/"
        },
        "outputId": "bcf566db-a569-4904-c5b1-047a2c8b5ae2"
      },
      "outputs": [
        {
          "output_type": "stream",
          "name": "stdout",
          "text": [
            "Evaluation metric results:-\n",
            "MSE is : 0.16823939065381865\n",
            "MAE is : 0.2850646125167847\n",
            "RMSE is : 0.410169953377644\n",
            "MAPE is : 10.05289627823477\n"
          ]
        }
      ],
      "source": [
        "validate = (df[['Close']].tail(10))\n",
        "timeseries_evaluation_metrics_func(validate['Close'],pred_Inverse[0])"
      ]
    },
    {
      "cell_type": "code",
      "execution_count": 75,
      "metadata": {
        "id": "9F4dY-uMJau0",
        "colab": {
          "base_uri": "https://localhost:8080/",
          "height": 553
        },
        "outputId": "8c8bd893-dce7-477e-d826-28553f6091bb"
      },
      "outputs": [
        {
          "output_type": "display_data",
          "data": {
            "text/plain": [
              "<Figure size 1152x648 with 1 Axes>"
            ],
            "image/png": "[encoded data removed]"
          },
          "metadata": {
            "needs_background": "light"
          }
        }
      ],
      "source": [
        "plt.figure(figsize=(16,9))\n",
        "plt.plot( list(validate['Close']))\n",
        "plt.plot( list(pred_Inverse[0]))\n",
        "plt.title(\"Actual vs Predicted\")\n",
        "plt.ylabel(\"Close\")\n",
        "plt.legend(('Actual','predicted'))\n",
        "plt.show()"
      ]
    }
  ],
  "metadata": {
    "colab": {
      "provenance": []
    },
    "kernelspec": {
      "display_name": "Python 3.10.8 64-bit (microsoft store)",
      "language": "python",
      "name": "python3"
    },
    "language_info": {
      "name": "python",
      "version": "3.10.8"
    },
    "vscode": {
      "interpreter": {
        "hash": "3b7e9cb8e453d6cda0fe8c8dd13f891a1f09162f0e7c66ffeae7751a7aecf00d"
      }
    }
  },
  "nbformat": 4,
  "nbformat_minor": 0
}