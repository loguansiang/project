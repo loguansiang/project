{
  "cells": [
    {
      "cell_type": "code",
      "execution_count": 1,
      "metadata": {
        "id": "6r5emgwN_F-_"
      },
      "outputs": [],
      "source": [
        "import numpy as np\n",
        "import pandas as pd\n",
        "from keras.models import Sequential\n",
        "from keras.layers import LSTM, Dense, Dropout\n",
        "from keras import optimizers\n",
        "import matplotlib.pyplot as plt\n",
        "from keras.models import load_model\n",
        "from sklearn.preprocessing import MinMaxScaler\n",
        "from sklearn.model_selection import train_test_split\n",
        "import sklearn.metrics as metrics\n",
        "from keras.models import Sequential\n",
        "from keras.layers import LSTM, GRU, Dense, Dropout,Activation\n",
        "from keras import optimizers\n",
        "import numpy\n",
        "import matplotlib.pyplot as plt\n",
        "import pandas\n",
        "import math\n",
        "from keras.models import Sequential\n",
        "from keras.layers import Dense\n",
        "from keras.layers import LSTM\n",
        "from sklearn.preprocessing import MinMaxScaler\n",
        "from sklearn.metrics import mean_squared_error"
      ]
    },
    {
      "cell_type": "code",
      "execution_count": 2,
      "metadata": {
        "id": "QsNzkIw1_IjO"
      },
      "outputs": [],
      "source": [
        "slp= 'https://raw.githubusercontent.com/loguansiang/fyp/main/SLP%20fyp.csv'\n",
        "df = pd.read_csv(slp)"
      ]
    },
    {
      "cell_type": "code",
      "execution_count": 3,
      "metadata": {
        "id": "V1EiUFwj_L7L"
      },
      "outputs": [],
      "source": [
        "df['Date'] = pd.to_datetime(df['Date'])\n",
        "df.set_index('Date', inplace = True)"
      ]
    },
    {
      "cell_type": "code",
      "execution_count": 4,
      "metadata": {
        "colab": {
          "base_uri": "https://localhost:8080/",
          "height": 455
        },
        "id": "t2qffNXdEOmT",
        "outputId": "7cbef79c-7c24-44a6-80ea-9d8ead773b43"
      },
      "outputs": [
        {
          "data": {
            "text/html": [
              "<div>\n",
              "<style scoped>\n",
              "    .dataframe tbody tr th:only-of-type {\n",
              "        vertical-align: middle;\n",
              "    }\n",
              "\n",
              "    .dataframe tbody tr th {\n",
              "        vertical-align: top;\n",
              "    }\n",
              "\n",
              "    .dataframe thead th {\n",
              "        text-align: right;\n",
              "    }\n",
              "</style>\n",
              "<table border=\"1\" class=\"dataframe\">\n",
              "  <thead>\n",
              "    <tr style=\"text-align: right;\">\n",
              "      <th></th>\n",
              "      <th>Open</th>\n",
              "      <th>High</th>\n",
              "      <th>Low</th>\n",
              "      <th>Close</th>\n",
              "      <th>Adj Close</th>\n",
              "      <th>Volume</th>\n",
              "    </tr>\n",
              "    <tr>\n",
              "      <th>Date</th>\n",
              "      <th></th>\n",
              "      <th></th>\n",
              "      <th></th>\n",
              "      <th></th>\n",
              "      <th></th>\n",
              "      <th></th>\n",
              "    </tr>\n",
              "  </thead>\n",
              "  <tbody>\n",
              "    <tr>\n",
              "      <th>2020-07-08</th>\n",
              "      <td>0.199600</td>\n",
              "      <td>0.200201</td>\n",
              "      <td>0.109705</td>\n",
              "      <td>0.110012</td>\n",
              "      <td>0.110012</td>\n",
              "      <td>8412</td>\n",
              "    </tr>\n",
              "    <tr>\n",
              "      <th>2020-07-09</th>\n",
              "      <td>0.110270</td>\n",
              "      <td>0.149273</td>\n",
              "      <td>0.062864</td>\n",
              "      <td>0.091263</td>\n",
              "      <td>0.091263</td>\n",
              "      <td>5864</td>\n",
              "    </tr>\n",
              "    <tr>\n",
              "      <th>2020-07-10</th>\n",
              "      <td>0.091247</td>\n",
              "      <td>0.104638</td>\n",
              "      <td>0.045408</td>\n",
              "      <td>0.055206</td>\n",
              "      <td>0.055206</td>\n",
              "      <td>302</td>\n",
              "    </tr>\n",
              "    <tr>\n",
              "      <th>2020-07-11</th>\n",
              "      <td>0.055206</td>\n",
              "      <td>0.089824</td>\n",
              "      <td>0.023832</td>\n",
              "      <td>0.033257</td>\n",
              "      <td>0.033257</td>\n",
              "      <td>380</td>\n",
              "    </tr>\n",
              "    <tr>\n",
              "      <th>2020-07-12</th>\n",
              "      <td>0.033253</td>\n",
              "      <td>0.033525</td>\n",
              "      <td>0.018149</td>\n",
              "      <td>0.018416</td>\n",
              "      <td>0.018416</td>\n",
              "      <td>42</td>\n",
              "    </tr>\n",
              "    <tr>\n",
              "      <th>...</th>\n",
              "      <td>...</td>\n",
              "      <td>...</td>\n",
              "      <td>...</td>\n",
              "      <td>...</td>\n",
              "      <td>...</td>\n",
              "      <td>...</td>\n",
              "    </tr>\n",
              "    <tr>\n",
              "      <th>2022-04-13</th>\n",
              "      <td>0.016956</td>\n",
              "      <td>0.017662</td>\n",
              "      <td>0.016659</td>\n",
              "      <td>0.017561</td>\n",
              "      <td>0.017561</td>\n",
              "      <td>195753852</td>\n",
              "    </tr>\n",
              "    <tr>\n",
              "      <th>2022-04-14</th>\n",
              "      <td>0.017563</td>\n",
              "      <td>0.018326</td>\n",
              "      <td>0.016753</td>\n",
              "      <td>0.017127</td>\n",
              "      <td>0.017127</td>\n",
              "      <td>214228125</td>\n",
              "    </tr>\n",
              "    <tr>\n",
              "      <th>2022-04-15</th>\n",
              "      <td>0.017128</td>\n",
              "      <td>0.017279</td>\n",
              "      <td>0.016853</td>\n",
              "      <td>0.017239</td>\n",
              "      <td>0.017239</td>\n",
              "      <td>107932100</td>\n",
              "    </tr>\n",
              "    <tr>\n",
              "      <th>2022-04-16</th>\n",
              "      <td>0.017242</td>\n",
              "      <td>0.017618</td>\n",
              "      <td>0.016952</td>\n",
              "      <td>0.017152</td>\n",
              "      <td>0.017152</td>\n",
              "      <td>128101400</td>\n",
              "    </tr>\n",
              "    <tr>\n",
              "      <th>2022-04-17</th>\n",
              "      <td>0.017156</td>\n",
              "      <td>0.017343</td>\n",
              "      <td>0.017092</td>\n",
              "      <td>0.017194</td>\n",
              "      <td>0.017194</td>\n",
              "      <td>110862176</td>\n",
              "    </tr>\n",
              "  </tbody>\n",
              "</table>\n",
              "<p>649 rows × 6 columns</p>\n",
              "</div>"
            ],
            "text/plain": [
              "                Open      High       Low     Close  Adj Close     Volume\n",
              "Date                                                                    \n",
              "2020-07-08  0.199600  0.200201  0.109705  0.110012   0.110012       8412\n",
              "2020-07-09  0.110270  0.149273  0.062864  0.091263   0.091263       5864\n",
              "2020-07-10  0.091247  0.104638  0.045408  0.055206   0.055206        302\n",
              "2020-07-11  0.055206  0.089824  0.023832  0.033257   0.033257        380\n",
              "2020-07-12  0.033253  0.033525  0.018149  0.018416   0.018416         42\n",
              "...              ...       ...       ...       ...        ...        ...\n",
              "2022-04-13  0.016956  0.017662  0.016659  0.017561   0.017561  195753852\n",
              "2022-04-14  0.017563  0.018326  0.016753  0.017127   0.017127  214228125\n",
              "2022-04-15  0.017128  0.017279  0.016853  0.017239   0.017239  107932100\n",
              "2022-04-16  0.017242  0.017618  0.016952  0.017152   0.017152  128101400\n",
              "2022-04-17  0.017156  0.017343  0.017092  0.017194   0.017194  110862176\n",
              "\n",
              "[649 rows x 6 columns]"
            ]
          },
          "execution_count": 4,
          "metadata": {},
          "output_type": "execute_result"
        }
      ],
      "source": [
        "df"
      ]
    },
    {
      "cell_type": "code",
      "execution_count": 5,
      "metadata": {
        "colab": {
          "base_uri": "https://localhost:8080/"
        },
        "id": "ytoP2J2Wnpbi",
        "outputId": "0e00c206-402d-475d-adf0-b6ad002de9ed"
      },
      "outputs": [
        {
          "name": "stdout",
          "output_type": "stream",
          "text": [
            "Requirement already satisfied: ta in c:\\users\\user\\appdata\\local\\packages\\pythonsoftwarefoundation.python.3.10_qbz5n2kfra8p0\\localcache\\local-packages\\python310\\site-packages (0.10.2)\n",
            "Requirement already satisfied: pandas in c:\\users\\user\\appdata\\local\\packages\\pythonsoftwarefoundation.python.3.10_qbz5n2kfra8p0\\localcache\\local-packages\\python310\\site-packages (from ta) (1.5.1)\n",
            "Requirement already satisfied: numpy in c:\\users\\user\\appdata\\local\\packages\\pythonsoftwarefoundation.python.3.10_qbz5n2kfra8p0\\localcache\\local-packages\\python310\\site-packages (from ta) (1.23.4)\n",
            "Requirement already satisfied: pytz>=2020.1 in c:\\users\\user\\appdata\\local\\packages\\pythonsoftwarefoundation.python.3.10_qbz5n2kfra8p0\\localcache\\local-packages\\python310\\site-packages (from pandas->ta) (2022.5)\n",
            "Requirement already satisfied: python-dateutil>=2.8.1 in c:\\users\\user\\appdata\\local\\packages\\pythonsoftwarefoundation.python.3.10_qbz5n2kfra8p0\\localcache\\local-packages\\python310\\site-packages (from pandas->ta) (2.8.2)\n",
            "Requirement already satisfied: six>=1.5 in c:\\users\\user\\appdata\\local\\packages\\pythonsoftwarefoundation.python.3.10_qbz5n2kfra8p0\\localcache\\local-packages\\python310\\site-packages (from python-dateutil>=2.8.1->pandas->ta) (1.16.0)\n",
            "Note: you may need to restart the kernel to use updated packages.\n"
          ]
        },
        {
          "name": "stderr",
          "output_type": "stream",
          "text": [
            "\n",
            "[notice] A new release of pip available: 22.3 -> 23.0\n",
            "[notice] To update, run: C:\\Users\\User\\AppData\\Local\\Microsoft\\WindowsApps\\PythonSoftwareFoundation.Python.3.10_qbz5n2kfra8p0\\python.exe -m pip install --upgrade pip\n"
          ]
        }
      ],
      "source": [
        "pip install ta"
      ]
    },
    {
      "cell_type": "code",
      "execution_count": 6,
      "metadata": {
        "id": "4_NDYkO-nrru"
      },
      "outputs": [],
      "source": [
        "import pandas as pd\n",
        "import ta\n",
        "from ta import add_all_ta_features\n",
        "from ta.utils import dropna"
      ]
    },
    {
      "cell_type": "code",
      "execution_count": 7,
      "metadata": {
        "colab": {
          "base_uri": "https://localhost:8080/",
          "height": 455
        },
        "id": "LRlTWlPfmcol",
        "outputId": "33809c74-2ed4-40f6-c3a1-463bdfba8abe"
      },
      "outputs": [
        {
          "data": {
            "text/html": [
              "<div>\n",
              "<style scoped>\n",
              "    .dataframe tbody tr th:only-of-type {\n",
              "        vertical-align: middle;\n",
              "    }\n",
              "\n",
              "    .dataframe tbody tr th {\n",
              "        vertical-align: top;\n",
              "    }\n",
              "\n",
              "    .dataframe thead th {\n",
              "        text-align: right;\n",
              "    }\n",
              "</style>\n",
              "<table border=\"1\" class=\"dataframe\">\n",
              "  <thead>\n",
              "    <tr style=\"text-align: right;\">\n",
              "      <th></th>\n",
              "      <th>Open</th>\n",
              "      <th>High</th>\n",
              "      <th>Low</th>\n",
              "      <th>Close</th>\n",
              "      <th>Volume</th>\n",
              "      <th>Pre_Close</th>\n",
              "      <th>H-L</th>\n",
              "      <th>0-C</th>\n",
              "      <th>SMA_7</th>\n",
              "      <th>rsi_7</th>\n",
              "      <th>EMA_7</th>\n",
              "    </tr>\n",
              "    <tr>\n",
              "      <th>Date</th>\n",
              "      <th></th>\n",
              "      <th></th>\n",
              "      <th></th>\n",
              "      <th></th>\n",
              "      <th></th>\n",
              "      <th></th>\n",
              "      <th></th>\n",
              "      <th></th>\n",
              "      <th></th>\n",
              "      <th></th>\n",
              "      <th></th>\n",
              "    </tr>\n",
              "  </thead>\n",
              "  <tbody>\n",
              "    <tr>\n",
              "      <th>2020-07-14</th>\n",
              "      <td>0.012000</td>\n",
              "      <td>0.076397</td>\n",
              "      <td>0.011938</td>\n",
              "      <td>0.034327</td>\n",
              "      <td>419</td>\n",
              "      <td>0.011982</td>\n",
              "      <td>0.064459</td>\n",
              "      <td>-0.022327</td>\n",
              "      <td>0.050638</td>\n",
              "      <td>27.681177</td>\n",
              "      <td>0.036470</td>\n",
              "    </tr>\n",
              "    <tr>\n",
              "      <th>2020-07-15</th>\n",
              "      <td>0.034318</td>\n",
              "      <td>0.034480</td>\n",
              "      <td>0.010670</td>\n",
              "      <td>0.010735</td>\n",
              "      <td>79</td>\n",
              "      <td>0.034327</td>\n",
              "      <td>0.023810</td>\n",
              "      <td>0.023583</td>\n",
              "      <td>0.036455</td>\n",
              "      <td>20.642657</td>\n",
              "      <td>0.029320</td>\n",
              "    </tr>\n",
              "    <tr>\n",
              "      <th>2020-07-16</th>\n",
              "      <td>0.010729</td>\n",
              "      <td>0.010755</td>\n",
              "      <td>0.009543</td>\n",
              "      <td>0.009627</td>\n",
              "      <td>35</td>\n",
              "      <td>0.010735</td>\n",
              "      <td>0.001212</td>\n",
              "      <td>0.001102</td>\n",
              "      <td>0.024793</td>\n",
              "      <td>20.359012</td>\n",
              "      <td>0.023997</td>\n",
              "    </tr>\n",
              "    <tr>\n",
              "      <th>2020-07-17</th>\n",
              "      <td>0.009628</td>\n",
              "      <td>0.009658</td>\n",
              "      <td>0.009562</td>\n",
              "      <td>0.009590</td>\n",
              "      <td>35</td>\n",
              "      <td>0.009627</td>\n",
              "      <td>0.000096</td>\n",
              "      <td>0.000038</td>\n",
              "      <td>0.018276</td>\n",
              "      <td>20.348119</td>\n",
              "      <td>0.020181</td>\n",
              "    </tr>\n",
              "    <tr>\n",
              "      <th>2020-07-18</th>\n",
              "      <td>0.009594</td>\n",
              "      <td>0.011825</td>\n",
              "      <td>0.009574</td>\n",
              "      <td>0.011774</td>\n",
              "      <td>42</td>\n",
              "      <td>0.009590</td>\n",
              "      <td>0.002251</td>\n",
              "      <td>-0.002180</td>\n",
              "      <td>0.015207</td>\n",
              "      <td>23.178636</td>\n",
              "      <td>0.017986</td>\n",
              "    </tr>\n",
              "    <tr>\n",
              "      <th>...</th>\n",
              "      <td>...</td>\n",
              "      <td>...</td>\n",
              "      <td>...</td>\n",
              "      <td>...</td>\n",
              "      <td>...</td>\n",
              "      <td>...</td>\n",
              "      <td>...</td>\n",
              "      <td>...</td>\n",
              "      <td>...</td>\n",
              "      <td>...</td>\n",
              "      <td>...</td>\n",
              "    </tr>\n",
              "    <tr>\n",
              "      <th>2022-04-13</th>\n",
              "      <td>0.016956</td>\n",
              "      <td>0.017662</td>\n",
              "      <td>0.016659</td>\n",
              "      <td>0.017561</td>\n",
              "      <td>195753852</td>\n",
              "      <td>0.016955</td>\n",
              "      <td>0.001003</td>\n",
              "      <td>-0.000605</td>\n",
              "      <td>0.018427</td>\n",
              "      <td>37.914164</td>\n",
              "      <td>0.018445</td>\n",
              "    </tr>\n",
              "    <tr>\n",
              "      <th>2022-04-14</th>\n",
              "      <td>0.017563</td>\n",
              "      <td>0.018326</td>\n",
              "      <td>0.016753</td>\n",
              "      <td>0.017127</td>\n",
              "      <td>214228125</td>\n",
              "      <td>0.017561</td>\n",
              "      <td>0.001573</td>\n",
              "      <td>0.000436</td>\n",
              "      <td>0.017850</td>\n",
              "      <td>35.801746</td>\n",
              "      <td>0.018116</td>\n",
              "    </tr>\n",
              "    <tr>\n",
              "      <th>2022-04-15</th>\n",
              "      <td>0.017128</td>\n",
              "      <td>0.017279</td>\n",
              "      <td>0.016853</td>\n",
              "      <td>0.017239</td>\n",
              "      <td>107932100</td>\n",
              "      <td>0.017127</td>\n",
              "      <td>0.000426</td>\n",
              "      <td>-0.000111</td>\n",
              "      <td>0.017545</td>\n",
              "      <td>36.860883</td>\n",
              "      <td>0.017897</td>\n",
              "    </tr>\n",
              "    <tr>\n",
              "      <th>2022-04-16</th>\n",
              "      <td>0.017242</td>\n",
              "      <td>0.017618</td>\n",
              "      <td>0.016952</td>\n",
              "      <td>0.017152</td>\n",
              "      <td>128101400</td>\n",
              "      <td>0.017239</td>\n",
              "      <td>0.000666</td>\n",
              "      <td>0.000090</td>\n",
              "      <td>0.017231</td>\n",
              "      <td>36.317886</td>\n",
              "      <td>0.017710</td>\n",
              "    </tr>\n",
              "    <tr>\n",
              "      <th>2022-04-17</th>\n",
              "      <td>0.017156</td>\n",
              "      <td>0.017343</td>\n",
              "      <td>0.017092</td>\n",
              "      <td>0.017194</td>\n",
              "      <td>110862176</td>\n",
              "      <td>0.017152</td>\n",
              "      <td>0.000251</td>\n",
              "      <td>-0.000038</td>\n",
              "      <td>0.017078</td>\n",
              "      <td>36.841893</td>\n",
              "      <td>0.017581</td>\n",
              "    </tr>\n",
              "  </tbody>\n",
              "</table>\n",
              "<p>643 rows × 11 columns</p>\n",
              "</div>"
            ],
            "text/plain": [
              "                Open      High       Low     Close     Volume  Pre_Close  \\\n",
              "Date                                                                       \n",
              "2020-07-14  0.012000  0.076397  0.011938  0.034327        419   0.011982   \n",
              "2020-07-15  0.034318  0.034480  0.010670  0.010735         79   0.034327   \n",
              "2020-07-16  0.010729  0.010755  0.009543  0.009627         35   0.010735   \n",
              "2020-07-17  0.009628  0.009658  0.009562  0.009590         35   0.009627   \n",
              "2020-07-18  0.009594  0.011825  0.009574  0.011774         42   0.009590   \n",
              "...              ...       ...       ...       ...        ...        ...   \n",
              "2022-04-13  0.016956  0.017662  0.016659  0.017561  195753852   0.016955   \n",
              "2022-04-14  0.017563  0.018326  0.016753  0.017127  214228125   0.017561   \n",
              "2022-04-15  0.017128  0.017279  0.016853  0.017239  107932100   0.017127   \n",
              "2022-04-16  0.017242  0.017618  0.016952  0.017152  128101400   0.017239   \n",
              "2022-04-17  0.017156  0.017343  0.017092  0.017194  110862176   0.017152   \n",
              "\n",
              "                 H-L       0-C     SMA_7      rsi_7     EMA_7  \n",
              "Date                                                           \n",
              "2020-07-14  0.064459 -0.022327  0.050638  27.681177  0.036470  \n",
              "2020-07-15  0.023810  0.023583  0.036455  20.642657  0.029320  \n",
              "2020-07-16  0.001212  0.001102  0.024793  20.359012  0.023997  \n",
              "2020-07-17  0.000096  0.000038  0.018276  20.348119  0.020181  \n",
              "2020-07-18  0.002251 -0.002180  0.015207  23.178636  0.017986  \n",
              "...              ...       ...       ...        ...       ...  \n",
              "2022-04-13  0.001003 -0.000605  0.018427  37.914164  0.018445  \n",
              "2022-04-14  0.001573  0.000436  0.017850  35.801746  0.018116  \n",
              "2022-04-15  0.000426 -0.000111  0.017545  36.860883  0.017897  \n",
              "2022-04-16  0.000666  0.000090  0.017231  36.317886  0.017710  \n",
              "2022-04-17  0.000251 -0.000038  0.017078  36.841893  0.017581  \n",
              "\n",
              "[643 rows x 11 columns]"
            ]
          },
          "execution_count": 7,
          "metadata": {},
          "output_type": "execute_result"
        }
      ],
      "source": [
        "df['Pre_Close'] = df['Close'].shift(+1)\n",
        "df[('H-L')] = df['High'] - df['Low']\n",
        "df[('0-C')]= df['Open'] - df['Close']\n",
        "df['SMA_7'] = df.Close.rolling(7, min_periods=1).mean()\n",
        "df['rsi_7']=ta.momentum.rsi(df.Close,window=7)\n",
        "#df['MACD'] = ta.trend.macd_diff(df.Close)\n",
        "df['EMA_7']= df['Close'].ewm(span=7).mean()\n",
        "df = df.drop(columns=['Adj Close'])\n",
        "df.dropna(inplace= True)\n",
        "df"
      ]
    },
    {
      "cell_type": "code",
      "execution_count": 8,
      "metadata": {
        "id": "nUVCrzpt_Xb-"
      },
      "outputs": [],
      "source": [
        "def data_prep(dataset, target, data_start, data_end, look_back, horizon):\n",
        "    dataX,dataY = [],[]\n",
        "    data_start = data_start + look_back\n",
        "    if data_end is None:\n",
        "        data_end = len(dataset) - horizon\n",
        "\n",
        "    for i in range(data_start, data_end):\n",
        "        a = range(i-look_back, i)\n",
        "        dataX.append(dataset[a])\n",
        "\n",
        "        b = range(i+1, i+1+horizon)\n",
        "        dataY.append(target[b])\n",
        "    return np.array(dataX), np.array(dataY)"
      ]
    },
    {
      "cell_type": "code",
      "execution_count": 9,
      "metadata": {
        "id": "8uxf-46a_Zm1"
      },
      "outputs": [],
      "source": [
        "X_scaler = MinMaxScaler()\n",
        "Y_scaler = MinMaxScaler()\n",
        "# X_data = X_scaler.fit_transform(df[['Open', 'High', 'Low','Volume','H-L',\t'0-C','SMA_7','rsi_7','EMA_7']])//experiment4\n",
        "X_data = X_scaler.fit_transform(df[['Pre_Close']])\n",
        "Y_data = Y_scaler.fit_transform(df[['Close']])\n",
        "\n"
      ]
    },
    {
      "cell_type": "code",
      "execution_count": 10,
      "metadata": {
        "id": "vhampguE_cgy"
      },
      "outputs": [],
      "source": [
        "##TRAIN_SPLIT = int(len(df) * 0.8)\n",
        "look_back = 10\n",
        "horizon = 10\n",
        "train_split = int(len(df) * 0.8)\n",
        "x_train, y_train = data_prep(X_data, Y_data, 0, train_split, look_back, horizon)\n",
        "x_vali, y_vali = data_prep(X_data, Y_data, train_split, None, look_back, horizon)"
      ]
    },
    {
      "cell_type": "code",
      "execution_count": 11,
      "metadata": {
        "id": "BJNFqmFL_eer"
      },
      "outputs": [],
      "source": [
        "# x_train"
      ]
    },
    {
      "cell_type": "code",
      "execution_count": 12,
      "metadata": {
        "colab": {
          "base_uri": "https://localhost:8080/"
        },
        "id": "QxuHL7J-_g9-",
        "outputId": "6569eee7-c6e9-43c3-a0f3-1c5c445097bc"
      },
      "outputs": [
        {
          "name": "stdout",
          "output_type": "stream",
          "text": [
            "Multiple window of past history\n",
            "\n",
            "[[0.00738709]\n",
            " [0.07036482]\n",
            " [0.00387252]\n",
            " [0.0007497 ]\n",
            " [0.00064542]\n",
            " [0.00680086]\n",
            " [0.00802124]\n",
            " [0.00772249]\n",
            " [0.00895414]\n",
            " [0.01145408]]\n",
            "\n",
            " Target horizon\n",
            "\n",
            "[[0.0345849 ]\n",
            " [0.035732  ]\n",
            " [0.04800906]\n",
            " [0.04678023]\n",
            " [0.01231652]\n",
            " [0.01026189]\n",
            " [0.0107692 ]\n",
            " [0.01726849]\n",
            " [0.02293917]\n",
            " [0.02313082]]\n"
          ]
        }
      ],
      "source": [
        "print ('Multiple window of past history\\n')\n",
        "print(x_train[0])\n",
        "print ('\\n Target horizon\\n')\n",
        "print (y_train[0])"
      ]
    },
    {
      "cell_type": "code",
      "execution_count": 13,
      "metadata": {
        "id": "9YHpXcEK_jRu"
      },
      "outputs": [],
      "source": [
        "import pandas as pd\n",
        "import numpy as np\n",
        "import matplotlib.pyplot as plt\n",
        "import plotly.express as px # to plot the time series plot\n",
        "from sklearn import metrics # for the evalution\n",
        "from sklearn.preprocessing import LabelEncoder,MinMaxScaler\n",
        "\n",
        "import tensorflow as tf"
      ]
    },
    {
      "cell_type": "code",
      "execution_count": 14,
      "metadata": {
        "id": "0zQIYwlSH0yK"
      },
      "outputs": [],
      "source": [
        "batch_size = 32\n",
        "buffer_size = 18\n",
        "\n",
        "train_data = tf.data.Dataset.from_tensor_slices((x_train, y_train))\n",
        "train_data = train_data.batch(batch_size).repeat()\n",
        "\n",
        "val_data = tf.data.Dataset.from_tensor_slices((x_vali, y_vali))\n",
        "val_data = val_data.batch(batch_size).repeat()"
      ]
    },
    {
      "cell_type": "code",
      "execution_count": 15,
      "metadata": {
        "id": "rqnDiq95Drku"
      },
      "outputs": [],
      "source": [
        "from keras.models import Model\n",
        "from keras.layers import Input\n",
        "from keras.layers import Dense\n",
        "from keras.layers import Flatten\n",
        "from keras.layers.convolutional import Conv1D\n",
        "from keras.layers.convolutional import MaxPooling1D\n",
        "# from keras.layers.merge import concatenate\n",
        "import tensorflow as tf"
      ]
    },
    {
      "cell_type": "code",
      "execution_count": 16,
      "metadata": {
        "colab": {
          "base_uri": "https://localhost:8080/"
        },
        "id": "tIWp2c1XnWf-",
        "outputId": "c7f879f4-a7fc-4264-b492-77cb2a8a2e3b"
      },
      "outputs": [
        {
          "data": {
            "text/plain": [
              "(10, 1)"
            ]
          },
          "execution_count": 16,
          "metadata": {},
          "output_type": "execute_result"
        }
      ],
      "source": [
        "x_train.shape[-2:]"
      ]
    },
    {
      "cell_type": "code",
      "execution_count": 17,
      "metadata": {
        "colab": {
          "base_uri": "https://localhost:8080/"
        },
        "id": "h7vQ_Ll1_5ec",
        "outputId": "0fc58580-10ce-48dd-845d-eae6f179b647"
      },
      "outputs": [
        {
          "name": "stdout",
          "output_type": "stream",
          "text": [
            "Model: \"sequential\"\n",
            "_________________________________________________________________\n",
            " Layer (type)                Output Shape              Param #   \n",
            "=================================================================\n",
            " conv1d (Conv1D)             (None, 10, 32)            64        \n",
            "                                                                 \n",
            " conv1d_1 (Conv1D)           (None, 10, 64)            2112      \n",
            "                                                                 \n",
            " max_pooling1d (MaxPooling1D  (None, 10, 64)           0         \n",
            " )                                                               \n",
            "                                                                 \n",
            " conv1d_2 (Conv1D)           (None, 10, 128)           8320      \n",
            "                                                                 \n",
            " flatten (Flatten)           (None, 1280)              0         \n",
            "                                                                 \n",
            " dense (Dense)               (None, 256)               327936    \n",
            "                                                                 \n",
            " dropout (Dropout)           (None, 256)               0         \n",
            "                                                                 \n",
            " dense_1 (Dense)             (None, 10)                2570      \n",
            "                                                                 \n",
            "=================================================================\n",
            "Total params: 341,002\n",
            "Trainable params: 341,002\n",
            "Non-trainable params: 0\n",
            "_________________________________________________________________\n"
          ]
        }
      ],
      "source": [
        "#define model\n",
        "import tensorflow as tf\n",
        "from tensorflow.keras import layers\n",
        "# Set random seed for as reproducible results as possible\n",
        "tf.random.set_seed(7)\n",
        "cnn_model = Sequential()\n",
        "cnn_model.add(Conv1D(filters=32, kernel_size=1, activation='relu', input_shape=(x_train.shape[-2:])))\n",
        "cnn_model.add(Conv1D(filters=64, kernel_size=1))\n",
        "cnn_model.add(MaxPooling1D(pool_size=(1)))\n",
        "cnn_model.add(Conv1D(filters=128, kernel_size=1))\n",
        "cnn_model.add(Flatten())\n",
        "cnn_model.add(Dense(256,))\n",
        "cnn_model.add(Dropout(0.2))\n",
        "cnn_model.add(Dense(10))\n",
        "cnn_model.compile(optimizer='adam', loss='mse')\n",
        "cnn_model.summary()\n"
      ]
    },
    {
      "cell_type": "code",
      "execution_count": 18,
      "metadata": {
        "id": "zts6fS0JE6Hy"
      },
      "outputs": [],
      "source": [
        "\n",
        "import tensorflow as tf\n",
        "from tensorflow.keras import layers\n"
      ]
    },
    {
      "cell_type": "code",
      "execution_count": 19,
      "metadata": {
        "colab": {
          "base_uri": "https://localhost:8080/"
        },
        "id": "1vqC4wRgHrxZ",
        "outputId": "c4df6fa5-bef8-48b7-e838-c38d89fa24b5"
      },
      "outputs": [
        {
          "name": "stdout",
          "output_type": "stream",
          "text": [
            "Epoch 1/50\n",
            "100/100 [==============================] - 1s 5ms/step - loss: 0.0261 - val_loss: 0.0012\n",
            "Epoch 2/50\n",
            "100/100 [==============================] - 0s 4ms/step - loss: 0.0201 - val_loss: 8.5091e-04\n",
            "Epoch 3/50\n",
            "100/100 [==============================] - 0s 4ms/step - loss: 0.0198 - val_loss: 0.0144\n",
            "Epoch 4/50\n",
            "100/100 [==============================] - 0s 4ms/step - loss: 0.0379 - val_loss: 0.0085\n",
            "Epoch 5/50\n",
            "100/100 [==============================] - 0s 4ms/step - loss: 0.0238 - val_loss: 0.0028\n",
            "Epoch 6/50\n",
            "100/100 [==============================] - 0s 4ms/step - loss: 0.0145 - val_loss: 8.0398e-04\n",
            "Epoch 7/50\n",
            "100/100 [==============================] - 0s 4ms/step - loss: 0.0158 - val_loss: 0.0031\n",
            "Epoch 8/50\n",
            "100/100 [==============================] - 0s 4ms/step - loss: 0.0137 - val_loss: 0.0025\n",
            "Epoch 9/50\n",
            "100/100 [==============================] - 0s 5ms/step - loss: 0.0140 - val_loss: 0.0010\n",
            "Epoch 10/50\n",
            "100/100 [==============================] - 0s 4ms/step - loss: 0.0145 - val_loss: 8.2605e-04\n",
            "Epoch 11/50\n",
            "100/100 [==============================] - 0s 4ms/step - loss: 0.0163 - val_loss: 0.0039\n",
            "Epoch 12/50\n",
            "100/100 [==============================] - 0s 4ms/step - loss: 0.0136 - val_loss: 0.0066\n",
            "Epoch 13/50\n",
            "100/100 [==============================] - 0s 4ms/step - loss: 0.0157 - val_loss: 0.0030\n",
            "Epoch 14/50\n",
            "100/100 [==============================] - 0s 4ms/step - loss: 0.0141 - val_loss: 4.2011e-04\n",
            "Epoch 15/50\n",
            "100/100 [==============================] - 0s 4ms/step - loss: 0.0148 - val_loss: 0.0028\n",
            "Epoch 16/50\n",
            "100/100 [==============================] - 0s 4ms/step - loss: 0.0230 - val_loss: 0.0155\n",
            "Epoch 17/50\n",
            "100/100 [==============================] - 0s 4ms/step - loss: 0.0189 - val_loss: 0.0022\n",
            "Epoch 18/50\n",
            "100/100 [==============================] - 0s 4ms/step - loss: 0.0171 - val_loss: 0.0013\n",
            "Epoch 19/50\n",
            "100/100 [==============================] - 0s 4ms/step - loss: 0.0148 - val_loss: 0.0016\n",
            "Epoch 20/50\n",
            "100/100 [==============================] - 0s 4ms/step - loss: 0.0133 - val_loss: 0.0072\n",
            "Epoch 21/50\n",
            "100/100 [==============================] - 0s 4ms/step - loss: 0.0132 - val_loss: 0.0030\n",
            "Epoch 22/50\n",
            "100/100 [==============================] - 0s 4ms/step - loss: 0.0135 - val_loss: 4.6849e-04\n",
            "Epoch 23/50\n",
            "100/100 [==============================] - 0s 4ms/step - loss: 0.0148 - val_loss: 6.5325e-04\n",
            "Epoch 24/50\n",
            "100/100 [==============================] - 0s 4ms/step - loss: 0.0130 - val_loss: 0.0010\n",
            "Epoch 25/50\n",
            "100/100 [==============================] - 0s 4ms/step - loss: 0.0134 - val_loss: 0.0014\n",
            "Epoch 26/50\n",
            "100/100 [==============================] - 0s 4ms/step - loss: 0.0138 - val_loss: 7.8959e-04\n",
            "Epoch 27/50\n",
            "100/100 [==============================] - 0s 4ms/step - loss: 0.0164 - val_loss: 0.0055\n",
            "Epoch 28/50\n",
            "100/100 [==============================] - 0s 4ms/step - loss: 0.0141 - val_loss: 0.0049\n",
            "Epoch 29/50\n",
            "100/100 [==============================] - 0s 4ms/step - loss: 0.0140 - val_loss: 0.0043\n",
            "Epoch 30/50\n",
            "100/100 [==============================] - 0s 4ms/step - loss: 0.0135 - val_loss: 7.7989e-04\n",
            "Epoch 31/50\n",
            "100/100 [==============================] - 0s 4ms/step - loss: 0.0149 - val_loss: 5.2785e-04\n",
            "Epoch 32/50\n",
            "100/100 [==============================] - 0s 4ms/step - loss: 0.0139 - val_loss: 0.0013\n",
            "Epoch 33/50\n",
            "100/100 [==============================] - 0s 4ms/step - loss: 0.0128 - val_loss: 0.0011\n",
            "Epoch 34/50\n",
            "100/100 [==============================] - 0s 4ms/step - loss: 0.0126 - val_loss: 4.8305e-04\n",
            "Epoch 35/50\n",
            "100/100 [==============================] - 0s 4ms/step - loss: 0.0152 - val_loss: 0.0028\n",
            "Epoch 36/50\n",
            "100/100 [==============================] - 0s 4ms/step - loss: 0.0134 - val_loss: 0.0049\n",
            "Epoch 37/50\n",
            "100/100 [==============================] - 0s 4ms/step - loss: 0.0127 - val_loss: 0.0030\n",
            "Epoch 38/50\n",
            "100/100 [==============================] - 0s 4ms/step - loss: 0.0134 - val_loss: 3.9898e-04\n",
            "Epoch 39/50\n",
            "100/100 [==============================] - 0s 4ms/step - loss: 0.0176 - val_loss: 0.0088\n",
            "Epoch 40/50\n",
            "100/100 [==============================] - 0s 4ms/step - loss: 0.0161 - val_loss: 0.0015\n",
            "Epoch 41/50\n",
            "100/100 [==============================] - 0s 4ms/step - loss: 0.0275 - val_loss: 0.0095\n",
            "Epoch 42/50\n",
            "100/100 [==============================] - 0s 4ms/step - loss: 0.0298 - val_loss: 6.8851e-04\n",
            "Epoch 43/50\n",
            "100/100 [==============================] - 0s 4ms/step - loss: 0.0239 - val_loss: 0.0037\n",
            "Epoch 44/50\n",
            "100/100 [==============================] - 0s 4ms/step - loss: 0.0130 - val_loss: 0.0027\n",
            "Epoch 45/50\n",
            "100/100 [==============================] - 0s 4ms/step - loss: 0.0124 - val_loss: 8.7808e-04\n",
            "Epoch 46/50\n",
            "100/100 [==============================] - 0s 4ms/step - loss: 0.0121 - val_loss: 2.7888e-04\n",
            "Epoch 47/50\n",
            "100/100 [==============================] - 0s 4ms/step - loss: 0.0138 - val_loss: 0.0015\n",
            "Epoch 48/50\n",
            "100/100 [==============================] - 0s 4ms/step - loss: 0.0130 - val_loss: 0.0038\n",
            "Epoch 49/50\n",
            "100/100 [==============================] - 0s 4ms/step - loss: 0.0122 - val_loss: 0.0019\n",
            "Epoch 50/50\n",
            "100/100 [==============================] - 0s 4ms/step - loss: 0.0119 - val_loss: 2.8384e-04\n"
          ]
        }
      ],
      "source": [
        "history = cnn_model.fit(train_data,epochs=50,steps_per_epoch=100,validation_data=val_data,validation_steps=50,verbose=1)"
      ]
    },
    {
      "cell_type": "code",
      "execution_count": 20,
      "metadata": {
        "colab": {
          "base_uri": "https://localhost:8080/",
          "height": 567
        },
        "id": "05kGXARbH9w3",
        "outputId": "3b35457d-0116-4715-ebb4-50463eb50469"
      },
      "outputs": [
        {
          "data": {
            "image/png": "[encoded data removed]",
            "text/plain": [
              "<Figure size 1600x900 with 1 Axes>"
            ]
          },
          "metadata": {},
          "output_type": "display_data"
        }
      ],
      "source": [
        "plt.figure(figsize=(16,9))\n",
        "plt.plot(history.history['loss'])\n",
        "plt.plot(history.history['val_loss'])\n",
        "plt.title('Model loss')\n",
        "plt.ylabel('loss')\n",
        "plt.xlabel('epoch')\n",
        "plt.legend(['train loss', 'validation loss'])\n",
        "plt.show()"
      ]
    },
    {
      "cell_type": "code",
      "execution_count": 21,
      "metadata": {
        "colab": {
          "base_uri": "https://localhost:8080/"
        },
        "id": "jJ6fj09EIUFi",
        "outputId": "3e35bb1b-93cd-4809-d67d-0a4ffd0fa46b"
      },
      "outputs": [
        {
          "data": {
            "text/plain": [
              "Index(['Open', 'High', 'Low', 'Close', 'Volume', 'Pre_Close', 'H-L', '0-C',\n",
              "       'SMA_7', 'rsi_7', 'EMA_7'],\n",
              "      dtype='object')"
            ]
          },
          "execution_count": 21,
          "metadata": {},
          "output_type": "execute_result"
        }
      ],
      "source": [
        "df.columns"
      ]
    },
    {
      "cell_type": "code",
      "execution_count": 22,
      "metadata": {
        "colab": {
          "base_uri": "https://localhost:8080/"
        },
        "id": "eFhfHDpCIbc2",
        "outputId": "93e1573f-b9d4-4b0c-ff06-cb35cb67c308"
      },
      "outputs": [
        {
          "name": "stdout",
          "output_type": "stream",
          "text": [
            "1/1 [==============================] - 0s 89ms/step\n"
          ]
        },
        {
          "data": {
            "text/plain": [
              "array([[0.04668395, 0.04973311, 0.04472918, 0.04873614, 0.053324  ,\n",
              "        0.03978013, 0.03101211, 0.02209424, 0.01981327, 0.0341566 ]],\n",
              "      dtype=float32)"
            ]
          },
          "execution_count": 22,
          "metadata": {},
          "output_type": "execute_result"
        }
      ],
      "source": [
        "data_val = X_scaler.fit_transform(df[['Pre_Close']].tail(10))\n",
        "val_rescaled = data_val.reshape(1, data_val.shape[0], data_val.shape[1])\n",
        "pred=cnn_model.predict(val_rescaled)\n",
        "pred_Inverse = Y_scaler.inverse_transform(pred)\n",
        "pred_Inverse"
      ]
    },
    {
      "cell_type": "code",
      "execution_count": 23,
      "metadata": {
        "id": "qCa3fcUgIro5"
      },
      "outputs": [],
      "source": [
        "def timeseries_evaluation_metrics_func(y_true, y_pred):\n",
        "    def mean_absolute_percentage_error(y_true, y_pred): \n",
        "        y_true, y_pred = np.array(y_true), np.array(y_pred)\n",
        "        return np.mean(np.abs((y_true - y_pred) / y_true)) * 100\n",
        "\n",
        "    print('Evaluation metric results:-')\n",
        "    print(f'MSE is : {metrics.mean_squared_error(y_true, y_pred)}')\n",
        "    print(f'MAE is : {metrics.mean_absolute_error(y_true, y_pred)}')\n",
        "    print(f'RMSE is : {np.sqrt(metrics.mean_squared_error(y_true, y_pred))}')\n",
        "    print(f'MAPE is : {mean_absolute_percentage_error(y_true, y_pred)}')\n"
      ]
    },
    {
      "cell_type": "code",
      "execution_count": 24,
      "metadata": {
        "colab": {
          "base_uri": "https://localhost:8080/"
        },
        "id": "vZheU0ClIv6C",
        "outputId": "10ad4aef-8cda-4d9a-d7cb-63e8205d87f9"
      },
      "outputs": [
        {
          "name": "stdout",
          "output_type": "stream",
          "text": [
            "Evaluation metric results:-\n",
            "MSE is : 0.0005747937027397151\n",
            "MAE is : 0.021353072889673707\n",
            "RMSE is : 0.023974855635430115\n",
            "MAPE is : 120.59950807616839\n"
          ]
        }
      ],
      "source": [
        "validate = (df[['Close']].tail(10))\n",
        "timeseries_evaluation_metrics_func(validate['Close'],pred_Inverse[0])"
      ]
    },
    {
      "cell_type": "code",
      "execution_count": 25,
      "metadata": {
        "colab": {
          "base_uri": "https://localhost:8080/",
          "height": 553
        },
        "id": "9F4dY-uMJau0",
        "outputId": "8fe207ee-0338-4f08-c26d-05363ae438e5"
      },
      "outputs": [
        {
          "data": {
            "image/png": "[encoded data removed]",
            "text/plain": [
              "<Figure size 1600x900 with 1 Axes>"
            ]
          },
          "metadata": {},
          "output_type": "display_data"
        }
      ],
      "source": [
        "plt.figure(figsize=(16,9))\n",
        "plt.plot( list(validate['Close']))\n",
        "plt.plot( list(pred_Inverse[0]))\n",
        "plt.title(\"Actual vs Predicted\")\n",
        "plt.ylabel(\"Close\")\n",
        "plt.legend(('Actual','predicted'))\n",
        "plt.show()"
      ]
    }
  ],
  "metadata": {
    "colab": {
      "collapsed_sections": [],
      "provenance": []
    },
    "kernelspec": {
      "display_name": "Python 3",
      "language": "python",
      "name": "python3"
    },
    "language_info": {
      "codemirror_mode": {
        "name": "ipython",
        "version": 3
      },
      "file_extension": ".py",
      "mimetype": "text/x-python",
      "name": "python",
      "nbconvert_exporter": "python",
      "pygments_lexer": "ipython3",
      "version": "3.10.10"
    },
    "vscode": {
      "interpreter": {
        "hash": "3b7e9cb8e453d6cda0fe8c8dd13f891a1f09162f0e7c66ffeae7751a7aecf00d"
      }
    }
  },
  "nbformat": 4,
  "nbformat_minor": 0
}
