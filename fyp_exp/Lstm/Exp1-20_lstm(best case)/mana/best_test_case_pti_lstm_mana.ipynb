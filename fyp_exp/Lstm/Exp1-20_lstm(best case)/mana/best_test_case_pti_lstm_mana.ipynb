{
  "nbformat": 4,
  "nbformat_minor": 0,
  "metadata": {
    "colab": {
      "provenance": []
    },
    "kernelspec": {
      "name": "python3",
      "display_name": "Python 3"
    },
    "language_info": {
      "name": "python"
    }
  },
  "cells": [
    {
      "cell_type": "code",
      "execution_count": 27,
      "metadata": {
        "id": "6r5emgwN_F-_"
      },
      "outputs": [],
      "source": [
        "import numpy as np\n",
        "import pandas as pd\n",
        "from keras.models import Sequential\n",
        "from keras.layers import LSTM, Dense, Dropout\n",
        "from keras import optimizers\n",
        "import matplotlib.pyplot as plt\n",
        "from keras.models import load_model\n",
        "from sklearn.preprocessing import MinMaxScaler\n",
        "from sklearn.model_selection import train_test_split\n",
        "import sklearn.metrics as metrics\n",
        "from keras.models import Sequential\n",
        "from keras.layers import LSTM, GRU, Dense, Dropout,Activation\n",
        "from keras import optimizers\n",
        "import numpy\n",
        "import matplotlib.pyplot as plt\n",
        "import pandas\n",
        "import math\n",
        "from keras.models import Sequential\n",
        "from keras.layers import Dense\n",
        "from keras.layers import LSTM\n",
        "from sklearn.preprocessing import MinMaxScaler\n",
        "from sklearn.metrics import mean_squared_error"
      ]
    },
    {
      "cell_type": "code",
      "source": [
        "# sand = 'https://raw.githubusercontent.com/loguansiang/fyp/main/SAND%20fyp.csv'\n",
        "# slp= 'https://raw.githubusercontent.com/loguansiang/fyp/main/SLP%20fyp.csv'\n",
        "mana = 'https://raw.githubusercontent.com/loguansiang/fyp/main/MANA%20fyp.csv'\n",
        "\n",
        "df = pd.read_csv(mana)"
      ],
      "metadata": {
        "id": "QsNzkIw1_IjO"
      },
      "execution_count": 28,
      "outputs": []
    },
    {
      "cell_type": "code",
      "source": [
        "df['Date'] = pd.to_datetime(df['Date'])\n",
        "df.set_index('Date', inplace = True)"
      ],
      "metadata": {
        "id": "V1EiUFwj_L7L"
      },
      "execution_count": 29,
      "outputs": []
    },
    {
      "cell_type": "code",
      "source": [
        "df"
      ],
      "metadata": {
        "colab": {
          "base_uri": "https://localhost:8080/",
          "height": 455
        },
        "id": "t2qffNXdEOmT",
        "outputId": "3ae2f439-0613-476b-8980-4d66ca826512"
      },
      "execution_count": 30,
      "outputs": [
        {
          "output_type": "execute_result",
          "data": {
            "text/plain": [
              "                Open      High       Low     Close  Adj Close     Volume\n",
              "Date                                                                    \n",
              "2017-11-09  0.014329  0.016111  0.013886  0.015130   0.015130     653800\n",
              "2017-11-10  0.015162  0.015734  0.012645  0.012940   0.012940     296429\n",
              "2017-11-11  0.013201  0.013616  0.011758  0.011979   0.011979     237865\n",
              "2017-11-12  0.011975  0.011975  0.010125  0.010505   0.010505     242761\n",
              "2017-11-13  0.010628  0.011660  0.010628  0.011330   0.011330     225836\n",
              "...              ...       ...       ...       ...        ...        ...\n",
              "2022-04-13  2.153283  2.212506  2.113025  2.201286   2.201286  216991854\n",
              "2022-04-14  2.200854  2.235230  2.100408  2.117604   2.117604  269798320\n",
              "2022-04-15  2.117844  2.152222  2.107485  2.143937   2.143937  201367474\n",
              "2022-04-16  2.143889  2.184819  2.117178  2.152566   2.152566  159910112\n",
              "2022-04-17  2.154083  2.154435  2.125707  2.133954   2.133954  125790432\n",
              "\n",
              "[1621 rows x 6 columns]"
            ],
            "text/html": [
              "\n",
              "  <div id=\"df-b539a700-1fcb-4440-991e-d6001fdcab8c\">\n",
              "    <div class=\"colab-df-container\">\n",
              "      <div>\n",
              "<style scoped>\n",
              "    .dataframe tbody tr th:only-of-type {\n",
              "        vertical-align: middle;\n",
              "    }\n",
              "\n",
              "    .dataframe tbody tr th {\n",
              "        vertical-align: top;\n",
              "    }\n",
              "\n",
              "    .dataframe thead th {\n",
              "        text-align: right;\n",
              "    }\n",
              "</style>\n",
              "<table border=\"1\" class=\"dataframe\">\n",
              "  <thead>\n",
              "    <tr style=\"text-align: right;\">\n",
              "      <th></th>\n",
              "      <th>Open</th>\n",
              "      <th>High</th>\n",
              "      <th>Low</th>\n",
              "      <th>Close</th>\n",
              "      <th>Adj Close</th>\n",
              "      <th>Volume</th>\n",
              "    </tr>\n",
              "    <tr>\n",
              "      <th>Date</th>\n",
              "      <th></th>\n",
              "      <th></th>\n",
              "      <th></th>\n",
              "      <th></th>\n",
              "      <th></th>\n",
              "      <th></th>\n",
              "    </tr>\n",
              "  </thead>\n",
              "  <tbody>\n",
              "    <tr>\n",
              "      <th>2017-11-09</th>\n",
              "      <td>0.014329</td>\n",
              "      <td>0.016111</td>\n",
              "      <td>0.013886</td>\n",
              "      <td>0.015130</td>\n",
              "      <td>0.015130</td>\n",
              "      <td>653800</td>\n",
              "    </tr>\n",
              "    <tr>\n",
              "      <th>2017-11-10</th>\n",
              "      <td>0.015162</td>\n",
              "      <td>0.015734</td>\n",
              "      <td>0.012645</td>\n",
              "      <td>0.012940</td>\n",
              "      <td>0.012940</td>\n",
              "      <td>296429</td>\n",
              "    </tr>\n",
              "    <tr>\n",
              "      <th>2017-11-11</th>\n",
              "      <td>0.013201</td>\n",
              "      <td>0.013616</td>\n",
              "      <td>0.011758</td>\n",
              "      <td>0.011979</td>\n",
              "      <td>0.011979</td>\n",
              "      <td>237865</td>\n",
              "    </tr>\n",
              "    <tr>\n",
              "      <th>2017-11-12</th>\n",
              "      <td>0.011975</td>\n",
              "      <td>0.011975</td>\n",
              "      <td>0.010125</td>\n",
              "      <td>0.010505</td>\n",
              "      <td>0.010505</td>\n",
              "      <td>242761</td>\n",
              "    </tr>\n",
              "    <tr>\n",
              "      <th>2017-11-13</th>\n",
              "      <td>0.010628</td>\n",
              "      <td>0.011660</td>\n",
              "      <td>0.010628</td>\n",
              "      <td>0.011330</td>\n",
              "      <td>0.011330</td>\n",
              "      <td>225836</td>\n",
              "    </tr>\n",
              "    <tr>\n",
              "      <th>...</th>\n",
              "      <td>...</td>\n",
              "      <td>...</td>\n",
              "      <td>...</td>\n",
              "      <td>...</td>\n",
              "      <td>...</td>\n",
              "      <td>...</td>\n",
              "    </tr>\n",
              "    <tr>\n",
              "      <th>2022-04-13</th>\n",
              "      <td>2.153283</td>\n",
              "      <td>2.212506</td>\n",
              "      <td>2.113025</td>\n",
              "      <td>2.201286</td>\n",
              "      <td>2.201286</td>\n",
              "      <td>216991854</td>\n",
              "    </tr>\n",
              "    <tr>\n",
              "      <th>2022-04-14</th>\n",
              "      <td>2.200854</td>\n",
              "      <td>2.235230</td>\n",
              "      <td>2.100408</td>\n",
              "      <td>2.117604</td>\n",
              "      <td>2.117604</td>\n",
              "      <td>269798320</td>\n",
              "    </tr>\n",
              "    <tr>\n",
              "      <th>2022-04-15</th>\n",
              "      <td>2.117844</td>\n",
              "      <td>2.152222</td>\n",
              "      <td>2.107485</td>\n",
              "      <td>2.143937</td>\n",
              "      <td>2.143937</td>\n",
              "      <td>201367474</td>\n",
              "    </tr>\n",
              "    <tr>\n",
              "      <th>2022-04-16</th>\n",
              "      <td>2.143889</td>\n",
              "      <td>2.184819</td>\n",
              "      <td>2.117178</td>\n",
              "      <td>2.152566</td>\n",
              "      <td>2.152566</td>\n",
              "      <td>159910112</td>\n",
              "    </tr>\n",
              "    <tr>\n",
              "      <th>2022-04-17</th>\n",
              "      <td>2.154083</td>\n",
              "      <td>2.154435</td>\n",
              "      <td>2.125707</td>\n",
              "      <td>2.133954</td>\n",
              "      <td>2.133954</td>\n",
              "      <td>125790432</td>\n",
              "    </tr>\n",
              "  </tbody>\n",
              "</table>\n",
              "<p>1621 rows × 6 columns</p>\n",
              "</div>\n",
              "      <button class=\"colab-df-convert\" onclick=\"convertToInteractive('df-b539a700-1fcb-4440-991e-d6001fdcab8c')\"\n",
              "              title=\"Convert this dataframe to an interactive table.\"\n",
              "              style=\"display:none;\">\n",
              "        \n",
              "  <svg xmlns=\"http://www.w3.org/2000/svg\" height=\"24px\"viewBox=\"0 0 24 24\"\n",
              "       width=\"24px\">\n",
              "    <path d=\"M0 0h24v24H0V0z\" fill=\"none\"/>\n",
              "    <path d=\"M18.56 5.44l.94 2.06.94-2.06 2.06-.94-2.06-.94-.94-2.06-.94 2.06-2.06.94zm-11 1L8.5 8.5l.94-2.06 2.06-.94-2.06-.94L8.5 2.5l-.94 2.06-2.06.94zm10 10l.94 2.06.94-2.06 2.06-.94-2.06-.94-.94-2.06-.94 2.06-2.06.94z\"/><path d=\"M17.41 7.96l-1.37-1.37c-.4-.4-.92-.59-1.43-.59-.52 0-1.04.2-1.43.59L10.3 9.45l-7.72 7.72c-.78.78-.78 2.05 0 2.83L4 21.41c.39.39.9.59 1.41.59.51 0 1.02-.2 1.41-.59l7.78-7.78 2.81-2.81c.8-.78.8-2.07 0-2.86zM5.41 20L4 18.59l7.72-7.72 1.47 1.35L5.41 20z\"/>\n",
              "  </svg>\n",
              "      </button>\n",
              "      \n",
              "  <style>\n",
              "    .colab-df-container {\n",
              "      display:flex;\n",
              "      flex-wrap:wrap;\n",
              "      gap: 12px;\n",
              "    }\n",
              "\n",
              "    .colab-df-convert {\n",
              "      background-color: #E8F0FE;\n",
              "      border: none;\n",
              "      border-radius: 50%;\n",
              "      cursor: pointer;\n",
              "      display: none;\n",
              "      fill: #1967D2;\n",
              "      height: 32px;\n",
              "      padding: 0 0 0 0;\n",
              "      width: 32px;\n",
              "    }\n",
              "\n",
              "    .colab-df-convert:hover {\n",
              "      background-color: #E2EBFA;\n",
              "      box-shadow: 0px 1px 2px rgba(60, 64, 67, 0.3), 0px 1px 3px 1px rgba(60, 64, 67, 0.15);\n",
              "      fill: #174EA6;\n",
              "    }\n",
              "\n",
              "    [theme=dark] .colab-df-convert {\n",
              "      background-color: #3B4455;\n",
              "      fill: #D2E3FC;\n",
              "    }\n",
              "\n",
              "    [theme=dark] .colab-df-convert:hover {\n",
              "      background-color: #434B5C;\n",
              "      box-shadow: 0px 1px 3px 1px rgba(0, 0, 0, 0.15);\n",
              "      filter: drop-shadow(0px 1px 2px rgba(0, 0, 0, 0.3));\n",
              "      fill: #FFFFFF;\n",
              "    }\n",
              "  </style>\n",
              "\n",
              "      <script>\n",
              "        const buttonEl =\n",
              "          document.querySelector('#df-b539a700-1fcb-4440-991e-d6001fdcab8c button.colab-df-convert');\n",
              "        buttonEl.style.display =\n",
              "          google.colab.kernel.accessAllowed ? 'block' : 'none';\n",
              "\n",
              "        async function convertToInteractive(key) {\n",
              "          const element = document.querySelector('#df-b539a700-1fcb-4440-991e-d6001fdcab8c');\n",
              "          const dataTable =\n",
              "            await google.colab.kernel.invokeFunction('convertToInteractive',\n",
              "                                                     [key], {});\n",
              "          if (!dataTable) return;\n",
              "\n",
              "          const docLinkHtml = 'Like what you see? Visit the ' +\n",
              "            '<a target=\"_blank\" href=https://colab.research.google.com/notebooks/data_table.ipynb>data table notebook</a>'\n",
              "            + ' to learn more about interactive tables.';\n",
              "          element.innerHTML = '';\n",
              "          dataTable['output_type'] = 'display_data';\n",
              "          await google.colab.output.renderOutput(dataTable, element);\n",
              "          const docLink = document.createElement('div');\n",
              "          docLink.innerHTML = docLinkHtml;\n",
              "          element.appendChild(docLink);\n",
              "        }\n",
              "      </script>\n",
              "    </div>\n",
              "  </div>\n",
              "  "
            ]
          },
          "metadata": {},
          "execution_count": 30
        }
      ]
    },
    {
      "cell_type": "code",
      "source": [
        "pip install ta"
      ],
      "metadata": {
        "colab": {
          "base_uri": "https://localhost:8080/"
        },
        "id": "ytoP2J2Wnpbi",
        "outputId": "38f19a23-066b-4544-c1cf-034388f2867c"
      },
      "execution_count": 31,
      "outputs": [
        {
          "output_type": "stream",
          "name": "stdout",
          "text": [
            "Looking in indexes: https://pypi.org/simple, https://us-python.pkg.dev/colab-wheels/public/simple/\n",
            "Requirement already satisfied: ta in /usr/local/lib/python3.8/dist-packages (0.10.2)\n",
            "Requirement already satisfied: numpy in /usr/local/lib/python3.8/dist-packages (from ta) (1.21.6)\n",
            "Requirement already satisfied: pandas in /usr/local/lib/python3.8/dist-packages (from ta) (1.3.5)\n",
            "Requirement already satisfied: python-dateutil>=2.7.3 in /usr/local/lib/python3.8/dist-packages (from pandas->ta) (2.8.2)\n",
            "Requirement already satisfied: pytz>=2017.3 in /usr/local/lib/python3.8/dist-packages (from pandas->ta) (2022.7)\n",
            "Requirement already satisfied: six>=1.5 in /usr/local/lib/python3.8/dist-packages (from python-dateutil>=2.7.3->pandas->ta) (1.15.0)\n"
          ]
        }
      ]
    },
    {
      "cell_type": "code",
      "source": [
        "import pandas as pd\n",
        "import ta\n",
        "from ta import add_all_ta_features\n",
        "from ta.utils import dropna"
      ],
      "metadata": {
        "id": "4_NDYkO-nrru"
      },
      "execution_count": 32,
      "outputs": []
    },
    {
      "cell_type": "code",
      "source": [
        "df['Pre_Close'] = df['Close'].shift(+1)\n",
        "df[('H-L')] = df['High'] - df['Low']\n",
        "df[('0-C')]= df['Open'] - df['Close']\n",
        "df['SMA_7'] = df.Close.rolling(7, min_periods=1).mean()\n",
        "df['rsi_7']=ta.momentum.rsi(df.Close,window=7)\n",
        "#df['MACD'] = ta.trend.macd_diff(df.Close)\n",
        "df['EMA_7']= df['Close'].ewm(span=7).mean()\n",
        "df = df.drop(columns=['Adj Close'])\n",
        "df.dropna(inplace= True)\n",
        "df"
      ],
      "metadata": {
        "colab": {
          "base_uri": "https://localhost:8080/",
          "height": 455
        },
        "id": "LRlTWlPfmcol",
        "outputId": "096fcec2-9c0d-4b75-f049-55545006781b"
      },
      "execution_count": 33,
      "outputs": [
        {
          "output_type": "execute_result",
          "data": {
            "text/plain": [
              "                Open      High       Low     Close     Volume  Pre_Close  \\\n",
              "Date                                                                       \n",
              "2017-11-15  0.011461  0.012014  0.011398  0.012002     283268   0.011419   \n",
              "2017-11-16  0.012013  0.012595  0.011742  0.011793     357512   0.012002   \n",
              "2017-11-17  0.011729  0.012085  0.011187  0.012028     268762   0.011793   \n",
              "2017-11-18  0.012021  0.013352  0.011435  0.013019     370149   0.012028   \n",
              "2017-11-19  0.012934  0.013975  0.012661  0.013099     379424   0.013019   \n",
              "...              ...       ...       ...       ...        ...        ...   \n",
              "2022-04-13  2.153283  2.212506  2.113025  2.201286  216991854   2.153636   \n",
              "2022-04-14  2.200854  2.235230  2.100408  2.117604  269798320   2.201286   \n",
              "2022-04-15  2.117844  2.152222  2.107485  2.143937  201367474   2.117604   \n",
              "2022-04-16  2.143889  2.184819  2.117178  2.152566  159910112   2.143937   \n",
              "2022-04-17  2.154083  2.154435  2.125707  2.133954  125790432   2.152566   \n",
              "\n",
              "                 H-L       0-C     SMA_7      rsi_7     EMA_7  \n",
              "Date                                                           \n",
              "2017-11-15  0.000616 -0.000541  0.012186  33.965216  0.011807  \n",
              "2017-11-16  0.000853  0.000220  0.011710  31.878810  0.011803  \n",
              "2017-11-17  0.000898 -0.000299  0.011579  36.958740  0.011864  \n",
              "2017-11-18  0.001917 -0.000998  0.011728  53.879565  0.012170  \n",
              "2017-11-19  0.001314 -0.000165  0.012099  55.016698  0.012413  \n",
              "...              ...       ...       ...        ...       ...  \n",
              "2022-04-13  0.099481 -0.048003  2.243642  37.935015  2.251587  \n",
              "2022-04-14  0.134822  0.083250  2.200956  33.194641  2.218091  \n",
              "2022-04-15  0.044737 -0.026093  2.183354  36.124984  2.199553  \n",
              "2022-04-16  0.067641 -0.008677  2.156682  37.178455  2.187806  \n",
              "2022-04-17  0.028728  0.020129  2.136927  35.696953  2.174343  \n",
              "\n",
              "[1615 rows x 11 columns]"
            ],
            "text/html": [
              "\n",
              "  <div id=\"df-6cc3a53f-22bb-4e4e-883b-8bfbaef46837\">\n",
              "    <div class=\"colab-df-container\">\n",
              "      <div>\n",
              "<style scoped>\n",
              "    .dataframe tbody tr th:only-of-type {\n",
              "        vertical-align: middle;\n",
              "    }\n",
              "\n",
              "    .dataframe tbody tr th {\n",
              "        vertical-align: top;\n",
              "    }\n",
              "\n",
              "    .dataframe thead th {\n",
              "        text-align: right;\n",
              "    }\n",
              "</style>\n",
              "<table border=\"1\" class=\"dataframe\">\n",
              "  <thead>\n",
              "    <tr style=\"text-align: right;\">\n",
              "      <th></th>\n",
              "      <th>Open</th>\n",
              "      <th>High</th>\n",
              "      <th>Low</th>\n",
              "      <th>Close</th>\n",
              "      <th>Volume</th>\n",
              "      <th>Pre_Close</th>\n",
              "      <th>H-L</th>\n",
              "      <th>0-C</th>\n",
              "      <th>SMA_7</th>\n",
              "      <th>rsi_7</th>\n",
              "      <th>EMA_7</th>\n",
              "    </tr>\n",
              "    <tr>\n",
              "      <th>Date</th>\n",
              "      <th></th>\n",
              "      <th></th>\n",
              "      <th></th>\n",
              "      <th></th>\n",
              "      <th></th>\n",
              "      <th></th>\n",
              "      <th></th>\n",
              "      <th></th>\n",
              "      <th></th>\n",
              "      <th></th>\n",
              "      <th></th>\n",
              "    </tr>\n",
              "  </thead>\n",
              "  <tbody>\n",
              "    <tr>\n",
              "      <th>2017-11-15</th>\n",
              "      <td>0.011461</td>\n",
              "      <td>0.012014</td>\n",
              "      <td>0.011398</td>\n",
              "      <td>0.012002</td>\n",
              "      <td>283268</td>\n",
              "      <td>0.011419</td>\n",
              "      <td>0.000616</td>\n",
              "      <td>-0.000541</td>\n",
              "      <td>0.012186</td>\n",
              "      <td>33.965216</td>\n",
              "      <td>0.011807</td>\n",
              "    </tr>\n",
              "    <tr>\n",
              "      <th>2017-11-16</th>\n",
              "      <td>0.012013</td>\n",
              "      <td>0.012595</td>\n",
              "      <td>0.011742</td>\n",
              "      <td>0.011793</td>\n",
              "      <td>357512</td>\n",
              "      <td>0.012002</td>\n",
              "      <td>0.000853</td>\n",
              "      <td>0.000220</td>\n",
              "      <td>0.011710</td>\n",
              "      <td>31.878810</td>\n",
              "      <td>0.011803</td>\n",
              "    </tr>\n",
              "    <tr>\n",
              "      <th>2017-11-17</th>\n",
              "      <td>0.011729</td>\n",
              "      <td>0.012085</td>\n",
              "      <td>0.011187</td>\n",
              "      <td>0.012028</td>\n",
              "      <td>268762</td>\n",
              "      <td>0.011793</td>\n",
              "      <td>0.000898</td>\n",
              "      <td>-0.000299</td>\n",
              "      <td>0.011579</td>\n",
              "      <td>36.958740</td>\n",
              "      <td>0.011864</td>\n",
              "    </tr>\n",
              "    <tr>\n",
              "      <th>2017-11-18</th>\n",
              "      <td>0.012021</td>\n",
              "      <td>0.013352</td>\n",
              "      <td>0.011435</td>\n",
              "      <td>0.013019</td>\n",
              "      <td>370149</td>\n",
              "      <td>0.012028</td>\n",
              "      <td>0.001917</td>\n",
              "      <td>-0.000998</td>\n",
              "      <td>0.011728</td>\n",
              "      <td>53.879565</td>\n",
              "      <td>0.012170</td>\n",
              "    </tr>\n",
              "    <tr>\n",
              "      <th>2017-11-19</th>\n",
              "      <td>0.012934</td>\n",
              "      <td>0.013975</td>\n",
              "      <td>0.012661</td>\n",
              "      <td>0.013099</td>\n",
              "      <td>379424</td>\n",
              "      <td>0.013019</td>\n",
              "      <td>0.001314</td>\n",
              "      <td>-0.000165</td>\n",
              "      <td>0.012099</td>\n",
              "      <td>55.016698</td>\n",
              "      <td>0.012413</td>\n",
              "    </tr>\n",
              "    <tr>\n",
              "      <th>...</th>\n",
              "      <td>...</td>\n",
              "      <td>...</td>\n",
              "      <td>...</td>\n",
              "      <td>...</td>\n",
              "      <td>...</td>\n",
              "      <td>...</td>\n",
              "      <td>...</td>\n",
              "      <td>...</td>\n",
              "      <td>...</td>\n",
              "      <td>...</td>\n",
              "      <td>...</td>\n",
              "    </tr>\n",
              "    <tr>\n",
              "      <th>2022-04-13</th>\n",
              "      <td>2.153283</td>\n",
              "      <td>2.212506</td>\n",
              "      <td>2.113025</td>\n",
              "      <td>2.201286</td>\n",
              "      <td>216991854</td>\n",
              "      <td>2.153636</td>\n",
              "      <td>0.099481</td>\n",
              "      <td>-0.048003</td>\n",
              "      <td>2.243642</td>\n",
              "      <td>37.935015</td>\n",
              "      <td>2.251587</td>\n",
              "    </tr>\n",
              "    <tr>\n",
              "      <th>2022-04-14</th>\n",
              "      <td>2.200854</td>\n",
              "      <td>2.235230</td>\n",
              "      <td>2.100408</td>\n",
              "      <td>2.117604</td>\n",
              "      <td>269798320</td>\n",
              "      <td>2.201286</td>\n",
              "      <td>0.134822</td>\n",
              "      <td>0.083250</td>\n",
              "      <td>2.200956</td>\n",
              "      <td>33.194641</td>\n",
              "      <td>2.218091</td>\n",
              "    </tr>\n",
              "    <tr>\n",
              "      <th>2022-04-15</th>\n",
              "      <td>2.117844</td>\n",
              "      <td>2.152222</td>\n",
              "      <td>2.107485</td>\n",
              "      <td>2.143937</td>\n",
              "      <td>201367474</td>\n",
              "      <td>2.117604</td>\n",
              "      <td>0.044737</td>\n",
              "      <td>-0.026093</td>\n",
              "      <td>2.183354</td>\n",
              "      <td>36.124984</td>\n",
              "      <td>2.199553</td>\n",
              "    </tr>\n",
              "    <tr>\n",
              "      <th>2022-04-16</th>\n",
              "      <td>2.143889</td>\n",
              "      <td>2.184819</td>\n",
              "      <td>2.117178</td>\n",
              "      <td>2.152566</td>\n",
              "      <td>159910112</td>\n",
              "      <td>2.143937</td>\n",
              "      <td>0.067641</td>\n",
              "      <td>-0.008677</td>\n",
              "      <td>2.156682</td>\n",
              "      <td>37.178455</td>\n",
              "      <td>2.187806</td>\n",
              "    </tr>\n",
              "    <tr>\n",
              "      <th>2022-04-17</th>\n",
              "      <td>2.154083</td>\n",
              "      <td>2.154435</td>\n",
              "      <td>2.125707</td>\n",
              "      <td>2.133954</td>\n",
              "      <td>125790432</td>\n",
              "      <td>2.152566</td>\n",
              "      <td>0.028728</td>\n",
              "      <td>0.020129</td>\n",
              "      <td>2.136927</td>\n",
              "      <td>35.696953</td>\n",
              "      <td>2.174343</td>\n",
              "    </tr>\n",
              "  </tbody>\n",
              "</table>\n",
              "<p>1615 rows × 11 columns</p>\n",
              "</div>\n",
              "      <button class=\"colab-df-convert\" onclick=\"convertToInteractive('df-6cc3a53f-22bb-4e4e-883b-8bfbaef46837')\"\n",
              "              title=\"Convert this dataframe to an interactive table.\"\n",
              "              style=\"display:none;\">\n",
              "        \n",
              "  <svg xmlns=\"http://www.w3.org/2000/svg\" height=\"24px\"viewBox=\"0 0 24 24\"\n",
              "       width=\"24px\">\n",
              "    <path d=\"M0 0h24v24H0V0z\" fill=\"none\"/>\n",
              "    <path d=\"M18.56 5.44l.94 2.06.94-2.06 2.06-.94-2.06-.94-.94-2.06-.94 2.06-2.06.94zm-11 1L8.5 8.5l.94-2.06 2.06-.94-2.06-.94L8.5 2.5l-.94 2.06-2.06.94zm10 10l.94 2.06.94-2.06 2.06-.94-2.06-.94-.94-2.06-.94 2.06-2.06.94z\"/><path d=\"M17.41 7.96l-1.37-1.37c-.4-.4-.92-.59-1.43-.59-.52 0-1.04.2-1.43.59L10.3 9.45l-7.72 7.72c-.78.78-.78 2.05 0 2.83L4 21.41c.39.39.9.59 1.41.59.51 0 1.02-.2 1.41-.59l7.78-7.78 2.81-2.81c.8-.78.8-2.07 0-2.86zM5.41 20L4 18.59l7.72-7.72 1.47 1.35L5.41 20z\"/>\n",
              "  </svg>\n",
              "      </button>\n",
              "      \n",
              "  <style>\n",
              "    .colab-df-container {\n",
              "      display:flex;\n",
              "      flex-wrap:wrap;\n",
              "      gap: 12px;\n",
              "    }\n",
              "\n",
              "    .colab-df-convert {\n",
              "      background-color: #E8F0FE;\n",
              "      border: none;\n",
              "      border-radius: 50%;\n",
              "      cursor: pointer;\n",
              "      display: none;\n",
              "      fill: #1967D2;\n",
              "      height: 32px;\n",
              "      padding: 0 0 0 0;\n",
              "      width: 32px;\n",
              "    }\n",
              "\n",
              "    .colab-df-convert:hover {\n",
              "      background-color: #E2EBFA;\n",
              "      box-shadow: 0px 1px 2px rgba(60, 64, 67, 0.3), 0px 1px 3px 1px rgba(60, 64, 67, 0.15);\n",
              "      fill: #174EA6;\n",
              "    }\n",
              "\n",
              "    [theme=dark] .colab-df-convert {\n",
              "      background-color: #3B4455;\n",
              "      fill: #D2E3FC;\n",
              "    }\n",
              "\n",
              "    [theme=dark] .colab-df-convert:hover {\n",
              "      background-color: #434B5C;\n",
              "      box-shadow: 0px 1px 3px 1px rgba(0, 0, 0, 0.15);\n",
              "      filter: drop-shadow(0px 1px 2px rgba(0, 0, 0, 0.3));\n",
              "      fill: #FFFFFF;\n",
              "    }\n",
              "  </style>\n",
              "\n",
              "      <script>\n",
              "        const buttonEl =\n",
              "          document.querySelector('#df-6cc3a53f-22bb-4e4e-883b-8bfbaef46837 button.colab-df-convert');\n",
              "        buttonEl.style.display =\n",
              "          google.colab.kernel.accessAllowed ? 'block' : 'none';\n",
              "\n",
              "        async function convertToInteractive(key) {\n",
              "          const element = document.querySelector('#df-6cc3a53f-22bb-4e4e-883b-8bfbaef46837');\n",
              "          const dataTable =\n",
              "            await google.colab.kernel.invokeFunction('convertToInteractive',\n",
              "                                                     [key], {});\n",
              "          if (!dataTable) return;\n",
              "\n",
              "          const docLinkHtml = 'Like what you see? Visit the ' +\n",
              "            '<a target=\"_blank\" href=https://colab.research.google.com/notebooks/data_table.ipynb>data table notebook</a>'\n",
              "            + ' to learn more about interactive tables.';\n",
              "          element.innerHTML = '';\n",
              "          dataTable['output_type'] = 'display_data';\n",
              "          await google.colab.output.renderOutput(dataTable, element);\n",
              "          const docLink = document.createElement('div');\n",
              "          docLink.innerHTML = docLinkHtml;\n",
              "          element.appendChild(docLink);\n",
              "        }\n",
              "      </script>\n",
              "    </div>\n",
              "  </div>\n",
              "  "
            ]
          },
          "metadata": {},
          "execution_count": 33
        }
      ]
    },
    {
      "cell_type": "code",
      "source": [
        "def data_prep(dataset, target, data_start, data_end, look_back, horizon):\n",
        "    dataX,dataY = [],[]\n",
        "    data_start = data_start + look_back\n",
        "    if data_end is None:\n",
        "        data_end = len(dataset) - horizon\n",
        "\n",
        "    for i in range(data_start, data_end):\n",
        "        a = range(i-look_back, i)\n",
        "        dataX.append(dataset[a])\n",
        "\n",
        "        b = range(i+1, i+1+horizon)\n",
        "        dataY.append(target[b])\n",
        "    return np.array(dataX), np.array(dataY)"
      ],
      "metadata": {
        "id": "nUVCrzpt_Xb-"
      },
      "execution_count": 34,
      "outputs": []
    },
    {
      "cell_type": "code",
      "source": [
        "X_scaler = MinMaxScaler()\n",
        "Y_scaler = MinMaxScaler()\n",
        "# X_data = X_scaler.fit_transform(df[['Open', 'High', 'Low','Volume','H-L',\t'0-C','SMA_7','rsi_7','EMA_7']])//experiment4\n",
        "X_data = X_scaler.fit_transform(df[['Open', 'High', 'Low','Volume']])\n",
        "Y_data = Y_scaler.fit_transform(df[['Close']])\n",
        "\n",
        "##['Open', 'High', 'Low','Volume']\n",
        "##['H-L',\t'0-C','SMA_7','rsi_7','EMA_7']"
      ],
      "metadata": {
        "id": "8uxf-46a_Zm1"
      },
      "execution_count": 35,
      "outputs": []
    },
    {
      "cell_type": "code",
      "source": [
        "##TRAIN_SPLIT = int(len(df) * 0.8)\n",
        "look_back = 10\n",
        "horizon = 10\n",
        "train_split = int(len(df) * 0.8)\n",
        "x_train, y_train = data_prep(X_data, Y_data, 0, train_split, look_back, horizon)\n",
        "x_vali, y_vali = data_prep(X_data, Y_data, train_split, None, look_back, horizon)"
      ],
      "metadata": {
        "id": "vhampguE_cgy"
      },
      "execution_count": 36,
      "outputs": []
    },
    {
      "cell_type": "code",
      "source": [
        "x_train"
      ],
      "metadata": {
        "colab": {
          "base_uri": "https://localhost:8080/"
        },
        "id": "BJNFqmFL_eer",
        "outputId": "ade2545f-f28b-4654-fcc8-50bba2fa2454"
      },
      "execution_count": 37,
      "outputs": [
        {
          "output_type": "execute_result",
          "data": {
            "text/plain": [
              "array([[[0.00000000e+00, 0.00000000e+00, 4.38738852e-05, 5.26079707e-07],\n",
              "        [1.06406131e-04, 9.86366915e-05, 1.15402874e-04, 3.21863877e-06],\n",
              "        [5.16609477e-05, 1.20537093e-05, 0.00000000e+00, 0.00000000e+00],\n",
              "        ...,\n",
              "        [3.40229749e-04, 3.01852044e-04, 3.84260379e-04, 2.22704416e-06],\n",
              "        [4.09239522e-04, 4.49722196e-04, 4.69512952e-04, 9.28429499e-06],\n",
              "        [4.47599703e-04, 1.35188292e-03, 4.73671614e-04, 1.02030232e-04]],\n",
              "\n",
              "       [[1.06406131e-04, 9.86366915e-05, 1.15402874e-04, 3.21863877e-06],\n",
              "        [5.16609477e-05, 1.20537093e-05, 0.00000000e+00, 0.00000000e+00],\n",
              "        [1.07948249e-04, 2.27153000e-04, 5.15674101e-05, 3.67693666e-06],\n",
              "        ...,\n",
              "        [4.09239522e-04, 4.49722196e-04, 4.69512952e-04, 9.28429499e-06],\n",
              "        [4.47599703e-04, 1.35188292e-03, 4.73671614e-04, 1.02030232e-04],\n",
              "        [8.26189633e-04, 7.94186649e-04, 8.25702362e-04, 1.99500479e-05]],\n",
              "\n",
              "       [[5.16609477e-05, 1.20537093e-05, 0.00000000e+00, 0.00000000e+00],\n",
              "        [1.07948249e-04, 2.27153000e-04, 5.15674101e-05, 3.67693666e-06],\n",
              "        [2.83942447e-04, 3.32920055e-04, 3.06493397e-04, 4.01330708e-06],\n",
              "        ...,\n",
              "        [4.47599703e-04, 1.35188292e-03, 4.73671614e-04, 1.02030232e-04],\n",
              "        [8.26189633e-04, 7.94186649e-04, 8.25702362e-04, 1.99500479e-05],\n",
              "        [7.93805158e-04, 6.63802864e-04, 8.19880235e-04, 9.24367668e-06]],\n",
              "\n",
              "       ...,\n",
              "\n",
              "       [[2.25251370e-01, 1.98288102e-01, 2.08611175e-01, 8.65469451e-03],\n",
              "        [2.01991414e-01, 2.11946652e-01, 2.16408459e-01, 9.49506666e-03],\n",
              "        [2.14877543e-01, 1.95169077e-01, 1.02709181e-01, 1.67742755e-02],\n",
              "        ...,\n",
              "        [1.17660121e-01, 1.30966777e-01, 1.20434231e-01, 8.28037262e-03],\n",
              "        [1.47976809e-01, 1.41460974e-01, 1.47667438e-01, 6.11647663e-03],\n",
              "        [1.49518541e-01, 1.69465136e-01, 1.56470078e-01, 1.11521252e-02]],\n",
              "\n",
              "       [[2.01991414e-01, 2.11946652e-01, 2.16408459e-01, 9.49506666e-03],\n",
              "        [2.14877543e-01, 1.95169077e-01, 1.02709181e-01, 1.67742755e-02],\n",
              "        [1.46860701e-01, 1.69247490e-01, 1.40902958e-01, 1.18584058e-02],\n",
              "        ...,\n",
              "        [1.47976809e-01, 1.41460974e-01, 1.47667438e-01, 6.11647663e-03],\n",
              "        [1.49518541e-01, 1.69465136e-01, 1.56470078e-01, 1.11521252e-02],\n",
              "        [1.91904807e-01, 1.69529479e-01, 1.76243892e-01, 7.40902223e-03]],\n",
              "\n",
              "       [[2.14877543e-01, 1.95169077e-01, 1.02709181e-01, 1.67742755e-02],\n",
              "        [1.46860701e-01, 1.69247490e-01, 1.40902958e-01, 1.18584058e-02],\n",
              "        [1.82440444e-01, 1.68430554e-01, 1.43815269e-01, 7.94695171e-03],\n",
              "        ...,\n",
              "        [1.49518541e-01, 1.69465136e-01, 1.56470078e-01, 1.11521252e-02],\n",
              "        [1.91904807e-01, 1.69529479e-01, 1.76243892e-01, 7.40902223e-03],\n",
              "        [1.70963232e-01, 1.58317492e-01, 1.58634038e-01, 5.34741940e-03]]])"
            ]
          },
          "metadata": {},
          "execution_count": 37
        }
      ]
    },
    {
      "cell_type": "code",
      "source": [
        "print ('Multiple window of past history\\n')\n",
        "print(x_train[0])\n",
        "print ('\\n Target horizon\\n')\n",
        "print (y_train[0])"
      ],
      "metadata": {
        "colab": {
          "base_uri": "https://localhost:8080/"
        },
        "id": "QxuHL7J-_g9-",
        "outputId": "3cdb33ba-153e-427a-8a74-987c97a25f1e"
      },
      "execution_count": 38,
      "outputs": [
        {
          "output_type": "stream",
          "name": "stdout",
          "text": [
            "Multiple window of past history\n",
            "\n",
            "[[0.00000000e+00 0.00000000e+00 4.38738852e-05 5.26079707e-07]\n",
            " [1.06406131e-04 9.86366915e-05 1.15402874e-04 3.21863877e-06]\n",
            " [5.16609477e-05 1.20537093e-05 0.00000000e+00 0.00000000e+00]\n",
            " [1.07948249e-04 2.27153000e-04 5.15674101e-05 3.67693666e-06]\n",
            " [2.83942447e-04 3.32920055e-04 3.06493397e-04 4.01330708e-06]\n",
            " [3.14399275e-04 3.20526805e-04 3.64922600e-04 2.12187174e-06]\n",
            " [3.13049922e-04 3.45652847e-04 2.57837051e-04 8.66268972e-06]\n",
            " [3.40229749e-04 3.01852044e-04 3.84260379e-04 2.22704416e-06]\n",
            " [4.09239522e-04 4.49722196e-04 4.69512952e-04 9.28429499e-06]\n",
            " [4.47599703e-04 1.35188292e-03 4.73671614e-04 1.02030232e-04]]\n",
            "\n",
            " Target horizon\n",
            "\n",
            "[[0.00069503]\n",
            " [0.00097085]\n",
            " [0.00113747]\n",
            " [0.00059169]\n",
            " [0.00063614]\n",
            " [0.00078173]\n",
            " [0.00096536]\n",
            " [0.00097633]\n",
            " [0.00119051]\n",
            " [0.00211655]]\n"
          ]
        }
      ]
    },
    {
      "cell_type": "code",
      "source": [
        "import pandas as pd\n",
        "import numpy as np\n",
        "import matplotlib.pyplot as plt\n",
        "import plotly.express as px # to plot the time series plot\n",
        "from sklearn import metrics # for the evalution\n",
        "from sklearn.preprocessing import LabelEncoder,MinMaxScaler\n",
        "\n",
        "import tensorflow as tf"
      ],
      "metadata": {
        "id": "9YHpXcEK_jRu"
      },
      "execution_count": 39,
      "outputs": []
    },
    {
      "cell_type": "code",
      "source": [
        "batch_size = 128\n",
        "buffer_size = 18\n",
        "\n",
        "train_data = tf.data.Dataset.from_tensor_slices((x_train, y_train))\n",
        "train_data = train_data.batch(batch_size).repeat()\n",
        "\n",
        "val_data = tf.data.Dataset.from_tensor_slices((x_vali, y_vali))\n",
        "val_data = val_data.batch(batch_size).repeat()"
      ],
      "metadata": {
        "id": "0zQIYwlSH0yK"
      },
      "execution_count": 40,
      "outputs": []
    },
    {
      "cell_type": "code",
      "source": [
        "from keras.models import Model\n",
        "from keras.layers import Input\n",
        "from keras.layers import Dense\n",
        "from keras.layers import Flatten\n",
        "from keras.layers.convolutional import Conv1D\n",
        "from keras.layers.convolutional import MaxPooling1D\n",
        "# from keras.layers.merge import concatenate\n",
        "import tensorflow as tf"
      ],
      "metadata": {
        "id": "rqnDiq95Drku"
      },
      "execution_count": 41,
      "outputs": []
    },
    {
      "cell_type": "code",
      "source": [
        "x_train.shape[-2:]"
      ],
      "metadata": {
        "colab": {
          "base_uri": "https://localhost:8080/"
        },
        "id": "tIWp2c1XnWf-",
        "outputId": "694d2bf6-b322-475c-a308-dc7538220bec"
      },
      "execution_count": 42,
      "outputs": [
        {
          "output_type": "execute_result",
          "data": {
            "text/plain": [
              "(10, 4)"
            ]
          },
          "metadata": {},
          "execution_count": 42
        }
      ]
    },
    {
      "cell_type": "code",
      "source": [
        "'''\n",
        "# define model\n",
        "import tensorflow as tf\n",
        "from tensorflow.keras import layers\n",
        "# Set random seed for as reproducible results as possible\n",
        "tf.random.set_seed(7)\n",
        "cnn_model = Sequential()\n",
        "cnn_model.add(Conv1D(filters=32, kernel_size=1, activation='relu', input_shape=(x_train.shape[-2:])))\n",
        "cnn_model.add(Conv1D(filters=64, kernel_size=1))\n",
        "cnn_model.add(MaxPooling1D(pool_size=(1)))\n",
        "cnn_model.add(Conv1D(filters=128, kernel_size=1))\n",
        "cnn_model.add(Flatten())\n",
        "cnn_model.add(Dense(256,))\n",
        "cnn_model.add(Dropout(0.2))\n",
        "cnn_model.add(Dense(10))\n",
        "cnn_model.compile(optimizer='adam', loss='mse')\n",
        "cnn_model.summary()\n",
        "'''"
      ],
      "metadata": {
        "colab": {
          "base_uri": "https://localhost:8080/",
          "height": 70
        },
        "id": "h7vQ_Ll1_5ec",
        "outputId": "f0b1fac8-703a-4268-e302-9c65841556a7"
      },
      "execution_count": 43,
      "outputs": [
        {
          "output_type": "execute_result",
          "data": {
            "text/plain": [
              "\"\\n# define model\\nimport tensorflow as tf\\nfrom tensorflow.keras import layers\\n# Set random seed for as reproducible results as possible\\ntf.random.set_seed(7)\\ncnn_model = Sequential()\\ncnn_model.add(Conv1D(filters=32, kernel_size=1, activation='relu', input_shape=(x_train.shape[-2:])))\\ncnn_model.add(Conv1D(filters=64, kernel_size=1))\\ncnn_model.add(MaxPooling1D(pool_size=(1)))\\ncnn_model.add(Conv1D(filters=128, kernel_size=1))\\ncnn_model.add(Flatten())\\ncnn_model.add(Dense(256,))\\ncnn_model.add(Dropout(0.2))\\ncnn_model.add(Dense(10))\\ncnn_model.compile(optimizer='adam', loss='mse')\\ncnn_model.summary()\\n\""
            ],
            "application/vnd.google.colaboratory.intrinsic+json": {
              "type": "string"
            }
          },
          "metadata": {},
          "execution_count": 43
        }
      ]
    },
    {
      "cell_type": "code",
      "source": [
        "import tensorflow as tf\n",
        "from tensorflow.keras import layers\n",
        "from keras.optimizers import Adam\n",
        "from tensorflow.python.keras import regularizers\n",
        "\n",
        "# Set the learning rate\n",
        "#0.0001,0.001,0.01,0.1,1\n",
        "learning_rate = 0.01\n",
        "l1_rate=regularizers.l1(0.01)\n",
        "# Create the optimizer with the desired learning rate\n",
        "optimizer = Adam(learning_rate=learning_rate)\n",
        "# Set random seed for as reproducible results as possible\n",
        "tf.random.set_seed(7)\n",
        "\n",
        "lstm_model = Sequential()\n",
        "lstm_model.add(LSTM(128,return_sequences=True,input_shape=(x_train.shape[-2:]),activity_regularizer= l1_rate))\n",
        "lstm_model.add(Dense(20,activation='linear',activity_regularizer= l1_rate))\n",
        "lstm_model.add(LSTM(64))\n",
        "lstm_model.add(Dropout(0.2))\n",
        "lstm_model.add(Dense(units=horizon,activation='linear'))\n",
        "lstm_model.add(Activation('linear'))\n",
        "lstm_model.compile(optimizer=optimizer, loss='mse')\n",
        "lstm_model.summary()\n",
        "\n"
      ],
      "metadata": {
        "colab": {
          "base_uri": "https://localhost:8080/"
        },
        "id": "zts6fS0JE6Hy",
        "outputId": "bae9c709-9619-46fe-d16d-b33b71f88553"
      },
      "execution_count": 44,
      "outputs": [
        {
          "output_type": "stream",
          "name": "stdout",
          "text": [
            "Model: \"sequential_1\"\n",
            "_________________________________________________________________\n",
            " Layer (type)                Output Shape              Param #   \n",
            "=================================================================\n",
            " lstm_2 (LSTM)               (None, 10, 128)           68096     \n",
            "                                                                 \n",
            " dense_2 (Dense)             (None, 10, 20)            2580      \n",
            "                                                                 \n",
            " lstm_3 (LSTM)               (None, 64)                21760     \n",
            "                                                                 \n",
            " dropout_1 (Dropout)         (None, 64)                0         \n",
            "                                                                 \n",
            " dense_3 (Dense)             (None, 10)                650       \n",
            "                                                                 \n",
            " activation_1 (Activation)   (None, 10)                0         \n",
            "                                                                 \n",
            "=================================================================\n",
            "Total params: 93,086\n",
            "Trainable params: 93,086\n",
            "Non-trainable params: 0\n",
            "_________________________________________________________________\n"
          ]
        }
      ]
    },
    {
      "cell_type": "code",
      "source": [
        "#model_path = 'CNN_Multivariate.h5'\n",
        "#early_stopings = tf.keras.callbacks.EarlyStopping(monitor='val_loss', min_delta=0, patience=10, verbose=1, mode='min')\n",
        "#checkpoint =  tf.keras.callbacks.ModelCheckpoint(model_path, monitor='val_loss', save_best_only=True, mode='min', verbose=0)\n",
        "#callbacks=[early_stopings,checkpoint]"
      ],
      "metadata": {
        "id": "pkWp7tm0HoY4"
      },
      "execution_count": 45,
      "outputs": []
    },
    {
      "cell_type": "code",
      "source": [
        "history = lstm_model.fit(train_data,epochs=50,steps_per_epoch=100,batch_size=128,validation_data=val_data,validation_steps=50,verbose=1)#callback\n",
        "##history = cnn_model.fit(train_data,epochs=50,steps_per_epoch=100,validation_data=val_data,validation_steps=50,verbose=1)"
      ],
      "metadata": {
        "colab": {
          "base_uri": "https://localhost:8080/"
        },
        "id": "1vqC4wRgHrxZ",
        "outputId": "30b630d8-763f-4fae-9c73-685a9ce68891"
      },
      "execution_count": 46,
      "outputs": [
        {
          "output_type": "stream",
          "name": "stdout",
          "text": [
            "Epoch 1/50\n",
            "100/100 [==============================] - 19s 146ms/step - loss: 0.0242 - val_loss: 0.1765\n",
            "Epoch 2/50\n",
            "100/100 [==============================] - 12s 117ms/step - loss: 0.0100 - val_loss: 0.1609\n",
            "Epoch 3/50\n",
            "100/100 [==============================] - 12s 116ms/step - loss: 0.0075 - val_loss: 0.1589\n",
            "Epoch 4/50\n",
            "100/100 [==============================] - 11s 106ms/step - loss: 0.0067 - val_loss: 0.1586\n",
            "Epoch 5/50\n",
            "100/100 [==============================] - 6s 56ms/step - loss: 0.0061 - val_loss: 0.1576\n",
            "Epoch 6/50\n",
            "100/100 [==============================] - 6s 56ms/step - loss: 0.0056 - val_loss: 0.1588\n",
            "Epoch 7/50\n",
            "100/100 [==============================] - 6s 57ms/step - loss: 0.0055 - val_loss: 0.1595\n",
            "Epoch 8/50\n",
            "100/100 [==============================] - 6s 57ms/step - loss: 0.0054 - val_loss: 0.1605\n",
            "Epoch 9/50\n",
            "100/100 [==============================] - 6s 57ms/step - loss: 0.0053 - val_loss: 0.1615\n",
            "Epoch 10/50\n",
            "100/100 [==============================] - 6s 56ms/step - loss: 0.0053 - val_loss: 0.1613\n",
            "Epoch 11/50\n",
            "100/100 [==============================] - 6s 58ms/step - loss: 0.0051 - val_loss: 0.1596\n",
            "Epoch 12/50\n",
            "100/100 [==============================] - 6s 58ms/step - loss: 0.0050 - val_loss: 0.1581\n",
            "Epoch 13/50\n",
            "100/100 [==============================] - 6s 57ms/step - loss: 0.0049 - val_loss: 0.1574\n",
            "Epoch 14/50\n",
            "100/100 [==============================] - 6s 58ms/step - loss: 0.0049 - val_loss: 0.1567\n",
            "Epoch 15/50\n",
            "100/100 [==============================] - 6s 58ms/step - loss: 0.0048 - val_loss: 0.1566\n",
            "Epoch 16/50\n",
            "100/100 [==============================] - 6s 58ms/step - loss: 0.0047 - val_loss: 0.1567\n",
            "Epoch 17/50\n",
            "100/100 [==============================] - 6s 58ms/step - loss: 0.0047 - val_loss: 0.1570\n",
            "Epoch 18/50\n",
            "100/100 [==============================] - 6s 58ms/step - loss: 0.0047 - val_loss: 0.1583\n",
            "Epoch 19/50\n",
            "100/100 [==============================] - 6s 59ms/step - loss: 0.0045 - val_loss: 0.1598\n",
            "Epoch 20/50\n",
            "100/100 [==============================] - 7s 68ms/step - loss: 0.0045 - val_loss: 0.1609\n",
            "Epoch 21/50\n",
            "100/100 [==============================] - 6s 58ms/step - loss: 0.0047 - val_loss: 0.1606\n",
            "Epoch 22/50\n",
            "100/100 [==============================] - 6s 58ms/step - loss: 0.0045 - val_loss: 0.1591\n",
            "Epoch 23/50\n",
            "100/100 [==============================] - 6s 59ms/step - loss: 0.0045 - val_loss: 0.1578\n",
            "Epoch 24/50\n",
            "100/100 [==============================] - 6s 60ms/step - loss: 0.0045 - val_loss: 0.1569\n",
            "Epoch 25/50\n",
            "100/100 [==============================] - 6s 63ms/step - loss: 0.0045 - val_loss: 0.1565\n",
            "Epoch 26/50\n",
            "100/100 [==============================] - 7s 73ms/step - loss: 0.0045 - val_loss: 0.1563\n",
            "Epoch 27/50\n",
            "100/100 [==============================] - 6s 59ms/step - loss: 0.0045 - val_loss: 0.1566\n",
            "Epoch 28/50\n",
            "100/100 [==============================] - 6s 58ms/step - loss: 0.0045 - val_loss: 0.1574\n",
            "Epoch 29/50\n",
            "100/100 [==============================] - 6s 58ms/step - loss: 0.0045 - val_loss: 0.1583\n",
            "Epoch 30/50\n",
            "100/100 [==============================] - 6s 59ms/step - loss: 0.0045 - val_loss: 0.1595\n",
            "Epoch 31/50\n",
            "100/100 [==============================] - 6s 59ms/step - loss: 0.0045 - val_loss: 0.1610\n",
            "Epoch 32/50\n",
            "100/100 [==============================] - 6s 59ms/step - loss: 0.0047 - val_loss: 0.1606\n",
            "Epoch 33/50\n",
            "100/100 [==============================] - 6s 59ms/step - loss: 0.0045 - val_loss: 0.1590\n",
            "Epoch 34/50\n",
            "100/100 [==============================] - 6s 60ms/step - loss: 0.0044 - val_loss: 0.1579\n",
            "Epoch 35/50\n",
            "100/100 [==============================] - 6s 58ms/step - loss: 0.0044 - val_loss: 0.1569\n",
            "Epoch 36/50\n",
            "100/100 [==============================] - 6s 60ms/step - loss: 0.0044 - val_loss: 0.1564\n",
            "Epoch 37/50\n",
            "100/100 [==============================] - 6s 60ms/step - loss: 0.0044 - val_loss: 0.1565\n",
            "Epoch 38/50\n",
            "100/100 [==============================] - 6s 59ms/step - loss: 0.0044 - val_loss: 0.1566\n",
            "Epoch 39/50\n",
            "100/100 [==============================] - 6s 58ms/step - loss: 0.0044 - val_loss: 0.1573\n",
            "Epoch 40/50\n",
            "100/100 [==============================] - 6s 59ms/step - loss: 0.0044 - val_loss: 0.1585\n",
            "Epoch 41/50\n",
            "100/100 [==============================] - 6s 59ms/step - loss: 0.0044 - val_loss: 0.1596\n",
            "Epoch 42/50\n",
            "100/100 [==============================] - 6s 59ms/step - loss: 0.0044 - val_loss: 0.1608\n",
            "Epoch 43/50\n",
            "100/100 [==============================] - 6s 59ms/step - loss: 0.0046 - val_loss: 0.1607\n",
            "Epoch 44/50\n",
            "100/100 [==============================] - 6s 59ms/step - loss: 0.0045 - val_loss: 0.1589\n",
            "Epoch 45/50\n",
            "100/100 [==============================] - 6s 59ms/step - loss: 0.0044 - val_loss: 0.1578\n",
            "Epoch 46/50\n",
            "100/100 [==============================] - 6s 59ms/step - loss: 0.0044 - val_loss: 0.1571\n",
            "Epoch 47/50\n",
            "100/100 [==============================] - 6s 59ms/step - loss: 0.0044 - val_loss: 0.1564\n",
            "Epoch 48/50\n",
            "100/100 [==============================] - 6s 58ms/step - loss: 0.0044 - val_loss: 0.1563\n",
            "Epoch 49/50\n",
            "100/100 [==============================] - 6s 59ms/step - loss: 0.0044 - val_loss: 0.1568\n",
            "Epoch 50/50\n",
            "100/100 [==============================] - 6s 58ms/step - loss: 0.0044 - val_loss: 0.1572\n"
          ]
        }
      ]
    },
    {
      "cell_type": "code",
      "source": [
        "plt.figure(figsize=(16,9))\n",
        "plt.plot(history.history['loss'])\n",
        "plt.plot(history.history['val_loss'])\n",
        "plt.title('Model loss')\n",
        "plt.ylabel('loss')\n",
        "plt.xlabel('epoch')\n",
        "plt.legend(['train loss', 'validation loss'])\n",
        "plt.show()"
      ],
      "metadata": {
        "id": "05kGXARbH9w3",
        "colab": {
          "base_uri": "https://localhost:8080/",
          "height": 567
        },
        "outputId": "8e71db08-afb9-4950-a2af-a7cf0312dfaa"
      },
      "execution_count": 47,
      "outputs": [
        {
          "output_type": "display_data",
          "data": {
            "text/plain": [
              "<Figure size 1152x648 with 1 Axes>"
            ],
            "image/png": "[encoded data removed]"
          },
          "metadata": {
            "needs_background": "light"
          }
        }
      ]
    },
    {
      "cell_type": "code",
      "source": [
        "df.columns"
      ],
      "metadata": {
        "id": "jJ6fj09EIUFi",
        "colab": {
          "base_uri": "https://localhost:8080/"
        },
        "outputId": "48af86f1-b5d0-4f5d-b066-baa370a84288"
      },
      "execution_count": 48,
      "outputs": [
        {
          "output_type": "execute_result",
          "data": {
            "text/plain": [
              "Index(['Open', 'High', 'Low', 'Close', 'Volume', 'Pre_Close', 'H-L', '0-C',\n",
              "       'SMA_7', 'rsi_7', 'EMA_7'],\n",
              "      dtype='object')"
            ]
          },
          "metadata": {},
          "execution_count": 48
        }
      ]
    },
    {
      "cell_type": "code",
      "source": [
        "##['Open', 'High', 'Low','Volume']\n",
        "##['H-L',\t'0-C','SMA_7','rsi_7','EMA_7']\n",
        "\n",
        "# data_val = X_scaler.fit_transform(df[['Open', 'High', 'Low','Volume','H-L',\t'0-C','SMA_7','rsi_7','EMA_7']].tail(10))\n",
        "data_val = X_scaler.fit_transform(df[['Open', 'High', 'Low','Volume']].tail(10))\n",
        "# data_val = X_scaler.fit_transform(df[['Open', 'High', 'Low','Volume']].tail(10))\n",
        "val_rescaled = data_val.reshape(1, data_val.shape[0], data_val.shape[1])\n",
        "pred=lstm_model.predict(val_rescaled)\n",
        "pred_Inverse = Y_scaler.inverse_transform(pred)\n",
        "pred_Inverse"
      ],
      "metadata": {
        "id": "eFhfHDpCIbc2",
        "colab": {
          "base_uri": "https://localhost:8080/"
        },
        "outputId": "1d5ab77e-9e5d-40f8-a81a-b69d8944982f"
      },
      "execution_count": 49,
      "outputs": [
        {
          "output_type": "stream",
          "name": "stdout",
          "text": [
            "1/1 [==============================] - 1s 934ms/step\n"
          ]
        },
        {
          "output_type": "execute_result",
          "data": {
            "text/plain": [
              "array([[0.20181711, 0.2066032 , 0.20897602, 0.2090299 , 0.21407229,\n",
              "        0.21164031, 0.2096973 , 0.21110398, 0.20706677, 0.20357154]],\n",
              "      dtype=float32)"
            ]
          },
          "metadata": {},
          "execution_count": 49
        }
      ]
    },
    {
      "cell_type": "code",
      "source": [
        "def timeseries_evaluation_metrics_func(y_true, y_pred):\n",
        "    def mean_absolute_percentage_error(y_true, y_pred): \n",
        "        y_true, y_pred = np.array(y_true), np.array(y_pred)\n",
        "        return np.mean(np.abs((y_true - y_pred) / y_true)) * 100\n",
        "\n",
        "    print('Evaluation metric results:-')\n",
        "    print(f'MSE is : {metrics.mean_squared_error(y_true, y_pred)}')\n",
        "    print(f'MAE is : {metrics.mean_absolute_error(y_true, y_pred)}')\n",
        "    print(f'RMSE is : {np.sqrt(metrics.mean_squared_error(y_true, y_pred))}')\n",
        "    print(f'MAPE is : {mean_absolute_percentage_error(y_true, y_pred)}')\n"
      ],
      "metadata": {
        "id": "qCa3fcUgIro5"
      },
      "execution_count": 50,
      "outputs": []
    },
    {
      "cell_type": "code",
      "source": [
        "validate = (df[['Close']].tail(10))\n",
        "timeseries_evaluation_metrics_func(validate['Close'],pred_Inverse[0])"
      ],
      "metadata": {
        "id": "vZheU0ClIv6C",
        "colab": {
          "base_uri": "https://localhost:8080/"
        },
        "outputId": "27aab4b9-ca58-4fc4-c384-9447be282557"
      },
      "execution_count": 51,
      "outputs": [
        {
          "output_type": "stream",
          "name": "stdout",
          "text": [
            "Evaluation metric results:-\n",
            "MSE is : 3.908828297004546\n",
            "MAE is : 1.9753568577334402\n",
            "RMSE is : 1.9770756932916216\n",
            "MAPE is : 90.44373227110387\n"
          ]
        }
      ]
    },
    {
      "cell_type": "code",
      "source": [
        "plt.figure(figsize=(16,9))\n",
        "plt.plot( list(validate['Close']))\n",
        "plt.plot( list(pred_Inverse[0]))\n",
        "plt.title(\"Actual vs Predicted\")\n",
        "plt.ylabel(\"Close\")\n",
        "plt.legend(('Actual','predicted'))\n",
        "plt.show()"
      ],
      "metadata": {
        "id": "9F4dY-uMJau0",
        "colab": {
          "base_uri": "https://localhost:8080/",
          "height": 553
        },
        "outputId": "f2cb108a-b815-4c7a-e605-04b5633cce48"
      },
      "execution_count": 52,
      "outputs": [
        {
          "output_type": "display_data",
          "data": {
            "text/plain": [
              "<Figure size 1152x648 with 1 Axes>"
            ],
            "image/png": "[encoded data removed]"
          },
          "metadata": {
            "needs_background": "light"
          }
        }
      ]
    }
  ]
}