{
  "cells": [
    {
      "cell_type": "code",
      "execution_count": 1,
      "metadata": {
        "id": "6r5emgwN_F-_"
      },
      "outputs": [],
      "source": [
        "import numpy as np\n",
        "import pandas as pd\n",
        "from keras.models import Sequential\n",
        "from keras.layers import LSTM, Dense, Dropout\n",
        "from keras import optimizers\n",
        "import matplotlib.pyplot as plt\n",
        "from keras.models import load_model\n",
        "from sklearn.preprocessing import MinMaxScaler\n",
        "from sklearn.model_selection import train_test_split\n",
        "import sklearn.metrics as metrics\n",
        "from keras.models import Sequential\n",
        "from keras.layers import LSTM, GRU, Dense, Dropout,Activation\n",
        "from keras import optimizers\n",
        "import numpy\n",
        "import matplotlib.pyplot as plt\n",
        "import pandas\n",
        "import math\n",
        "from keras.models import Sequential\n",
        "from keras.layers import Dense\n",
        "from keras.layers import LSTM\n",
        "from sklearn.preprocessing import MinMaxScaler\n",
        "from sklearn.metrics import mean_squared_error"
      ]
    },
    {
      "cell_type": "code",
      "execution_count": 2,
      "metadata": {
        "id": "QsNzkIw1_IjO"
      },
      "outputs": [],
      "source": [
        "# sand = 'https://raw.githubusercontent.com/loguansiang/fyp/main/SAND%20fyp.csv'\n",
        "slp= 'https://raw.githubusercontent.com/loguansiang/fyp/main/SLP%20fyp.csv'\n",
        "# mana = 'https://raw.githubusercontent.com/loguansiang/fyp/main/MANA%20fyp.csv'\n",
        "\n",
        "df = pd.read_csv(slp)"
      ]
    },
    {
      "cell_type": "code",
      "execution_count": 3,
      "metadata": {
        "id": "V1EiUFwj_L7L"
      },
      "outputs": [],
      "source": [
        "df['Date'] = pd.to_datetime(df['Date'])\n",
        "df.set_index('Date', inplace = True)"
      ]
    },
    {
      "cell_type": "code",
      "execution_count": 4,
      "metadata": {
        "id": "t2qffNXdEOmT",
        "colab": {
          "base_uri": "https://localhost:8080/",
          "height": 455
        },
        "outputId": "efe36896-72c0-4a23-df3c-c2b125471277"
      },
      "outputs": [
        {
          "output_type": "execute_result",
          "data": {
            "text/plain": [
              "                Open      High       Low     Close  Adj Close     Volume\n",
              "Date                                                                    \n",
              "2020-07-08  0.199600  0.200201  0.109705  0.110012   0.110012       8412\n",
              "2020-07-09  0.110270  0.149273  0.062864  0.091263   0.091263       5864\n",
              "2020-07-10  0.091247  0.104638  0.045408  0.055206   0.055206        302\n",
              "2020-07-11  0.055206  0.089824  0.023832  0.033257   0.033257        380\n",
              "2020-07-12  0.033253  0.033525  0.018149  0.018416   0.018416         42\n",
              "...              ...       ...       ...       ...        ...        ...\n",
              "2022-04-13  0.016956  0.017662  0.016659  0.017561   0.017561  195753852\n",
              "2022-04-14  0.017563  0.018326  0.016753  0.017127   0.017127  214228125\n",
              "2022-04-15  0.017128  0.017279  0.016853  0.017239   0.017239  107932100\n",
              "2022-04-16  0.017242  0.017618  0.016952  0.017152   0.017152  128101400\n",
              "2022-04-17  0.017156  0.017343  0.017092  0.017194   0.017194  110862176\n",
              "\n",
              "[649 rows x 6 columns]"
            ],
            "text/html": [
              "\n",
              "  <div id=\"df-9e952d18-246b-430f-a210-1c006eeb3478\">\n",
              "    <div class=\"colab-df-container\">\n",
              "      <div>\n",
              "<style scoped>\n",
              "    .dataframe tbody tr th:only-of-type {\n",
              "        vertical-align: middle;\n",
              "    }\n",
              "\n",
              "    .dataframe tbody tr th {\n",
              "        vertical-align: top;\n",
              "    }\n",
              "\n",
              "    .dataframe thead th {\n",
              "        text-align: right;\n",
              "    }\n",
              "</style>\n",
              "<table border=\"1\" class=\"dataframe\">\n",
              "  <thead>\n",
              "    <tr style=\"text-align: right;\">\n",
              "      <th></th>\n",
              "      <th>Open</th>\n",
              "      <th>High</th>\n",
              "      <th>Low</th>\n",
              "      <th>Close</th>\n",
              "      <th>Adj Close</th>\n",
              "      <th>Volume</th>\n",
              "    </tr>\n",
              "    <tr>\n",
              "      <th>Date</th>\n",
              "      <th></th>\n",
              "      <th></th>\n",
              "      <th></th>\n",
              "      <th></th>\n",
              "      <th></th>\n",
              "      <th></th>\n",
              "    </tr>\n",
              "  </thead>\n",
              "  <tbody>\n",
              "    <tr>\n",
              "      <th>2020-07-08</th>\n",
              "      <td>0.199600</td>\n",
              "      <td>0.200201</td>\n",
              "      <td>0.109705</td>\n",
              "      <td>0.110012</td>\n",
              "      <td>0.110012</td>\n",
              "      <td>8412</td>\n",
              "    </tr>\n",
              "    <tr>\n",
              "      <th>2020-07-09</th>\n",
              "      <td>0.110270</td>\n",
              "      <td>0.149273</td>\n",
              "      <td>0.062864</td>\n",
              "      <td>0.091263</td>\n",
              "      <td>0.091263</td>\n",
              "      <td>5864</td>\n",
              "    </tr>\n",
              "    <tr>\n",
              "      <th>2020-07-10</th>\n",
              "      <td>0.091247</td>\n",
              "      <td>0.104638</td>\n",
              "      <td>0.045408</td>\n",
              "      <td>0.055206</td>\n",
              "      <td>0.055206</td>\n",
              "      <td>302</td>\n",
              "    </tr>\n",
              "    <tr>\n",
              "      <th>2020-07-11</th>\n",
              "      <td>0.055206</td>\n",
              "      <td>0.089824</td>\n",
              "      <td>0.023832</td>\n",
              "      <td>0.033257</td>\n",
              "      <td>0.033257</td>\n",
              "      <td>380</td>\n",
              "    </tr>\n",
              "    <tr>\n",
              "      <th>2020-07-12</th>\n",
              "      <td>0.033253</td>\n",
              "      <td>0.033525</td>\n",
              "      <td>0.018149</td>\n",
              "      <td>0.018416</td>\n",
              "      <td>0.018416</td>\n",
              "      <td>42</td>\n",
              "    </tr>\n",
              "    <tr>\n",
              "      <th>...</th>\n",
              "      <td>...</td>\n",
              "      <td>...</td>\n",
              "      <td>...</td>\n",
              "      <td>...</td>\n",
              "      <td>...</td>\n",
              "      <td>...</td>\n",
              "    </tr>\n",
              "    <tr>\n",
              "      <th>2022-04-13</th>\n",
              "      <td>0.016956</td>\n",
              "      <td>0.017662</td>\n",
              "      <td>0.016659</td>\n",
              "      <td>0.017561</td>\n",
              "      <td>0.017561</td>\n",
              "      <td>195753852</td>\n",
              "    </tr>\n",
              "    <tr>\n",
              "      <th>2022-04-14</th>\n",
              "      <td>0.017563</td>\n",
              "      <td>0.018326</td>\n",
              "      <td>0.016753</td>\n",
              "      <td>0.017127</td>\n",
              "      <td>0.017127</td>\n",
              "      <td>214228125</td>\n",
              "    </tr>\n",
              "    <tr>\n",
              "      <th>2022-04-15</th>\n",
              "      <td>0.017128</td>\n",
              "      <td>0.017279</td>\n",
              "      <td>0.016853</td>\n",
              "      <td>0.017239</td>\n",
              "      <td>0.017239</td>\n",
              "      <td>107932100</td>\n",
              "    </tr>\n",
              "    <tr>\n",
              "      <th>2022-04-16</th>\n",
              "      <td>0.017242</td>\n",
              "      <td>0.017618</td>\n",
              "      <td>0.016952</td>\n",
              "      <td>0.017152</td>\n",
              "      <td>0.017152</td>\n",
              "      <td>128101400</td>\n",
              "    </tr>\n",
              "    <tr>\n",
              "      <th>2022-04-17</th>\n",
              "      <td>0.017156</td>\n",
              "      <td>0.017343</td>\n",
              "      <td>0.017092</td>\n",
              "      <td>0.017194</td>\n",
              "      <td>0.017194</td>\n",
              "      <td>110862176</td>\n",
              "    </tr>\n",
              "  </tbody>\n",
              "</table>\n",
              "<p>649 rows × 6 columns</p>\n",
              "</div>\n",
              "      <button class=\"colab-df-convert\" onclick=\"convertToInteractive('df-9e952d18-246b-430f-a210-1c006eeb3478')\"\n",
              "              title=\"Convert this dataframe to an interactive table.\"\n",
              "              style=\"display:none;\">\n",
              "        \n",
              "  <svg xmlns=\"http://www.w3.org/2000/svg\" height=\"24px\"viewBox=\"0 0 24 24\"\n",
              "       width=\"24px\">\n",
              "    <path d=\"M0 0h24v24H0V0z\" fill=\"none\"/>\n",
              "    <path d=\"M18.56 5.44l.94 2.06.94-2.06 2.06-.94-2.06-.94-.94-2.06-.94 2.06-2.06.94zm-11 1L8.5 8.5l.94-2.06 2.06-.94-2.06-.94L8.5 2.5l-.94 2.06-2.06.94zm10 10l.94 2.06.94-2.06 2.06-.94-2.06-.94-.94-2.06-.94 2.06-2.06.94z\"/><path d=\"M17.41 7.96l-1.37-1.37c-.4-.4-.92-.59-1.43-.59-.52 0-1.04.2-1.43.59L10.3 9.45l-7.72 7.72c-.78.78-.78 2.05 0 2.83L4 21.41c.39.39.9.59 1.41.59.51 0 1.02-.2 1.41-.59l7.78-7.78 2.81-2.81c.8-.78.8-2.07 0-2.86zM5.41 20L4 18.59l7.72-7.72 1.47 1.35L5.41 20z\"/>\n",
              "  </svg>\n",
              "      </button>\n",
              "      \n",
              "  <style>\n",
              "    .colab-df-container {\n",
              "      display:flex;\n",
              "      flex-wrap:wrap;\n",
              "      gap: 12px;\n",
              "    }\n",
              "\n",
              "    .colab-df-convert {\n",
              "      background-color: #E8F0FE;\n",
              "      border: none;\n",
              "      border-radius: 50%;\n",
              "      cursor: pointer;\n",
              "      display: none;\n",
              "      fill: #1967D2;\n",
              "      height: 32px;\n",
              "      padding: 0 0 0 0;\n",
              "      width: 32px;\n",
              "    }\n",
              "\n",
              "    .colab-df-convert:hover {\n",
              "      background-color: #E2EBFA;\n",
              "      box-shadow: 0px 1px 2px rgba(60, 64, 67, 0.3), 0px 1px 3px 1px rgba(60, 64, 67, 0.15);\n",
              "      fill: #174EA6;\n",
              "    }\n",
              "\n",
              "    [theme=dark] .colab-df-convert {\n",
              "      background-color: #3B4455;\n",
              "      fill: #D2E3FC;\n",
              "    }\n",
              "\n",
              "    [theme=dark] .colab-df-convert:hover {\n",
              "      background-color: #434B5C;\n",
              "      box-shadow: 0px 1px 3px 1px rgba(0, 0, 0, 0.15);\n",
              "      filter: drop-shadow(0px 1px 2px rgba(0, 0, 0, 0.3));\n",
              "      fill: #FFFFFF;\n",
              "    }\n",
              "  </style>\n",
              "\n",
              "      <script>\n",
              "        const buttonEl =\n",
              "          document.querySelector('#df-9e952d18-246b-430f-a210-1c006eeb3478 button.colab-df-convert');\n",
              "        buttonEl.style.display =\n",
              "          google.colab.kernel.accessAllowed ? 'block' : 'none';\n",
              "\n",
              "        async function convertToInteractive(key) {\n",
              "          const element = document.querySelector('#df-9e952d18-246b-430f-a210-1c006eeb3478');\n",
              "          const dataTable =\n",
              "            await google.colab.kernel.invokeFunction('convertToInteractive',\n",
              "                                                     [key], {});\n",
              "          if (!dataTable) return;\n",
              "\n",
              "          const docLinkHtml = 'Like what you see? Visit the ' +\n",
              "            '<a target=\"_blank\" href=https://colab.research.google.com/notebooks/data_table.ipynb>data table notebook</a>'\n",
              "            + ' to learn more about interactive tables.';\n",
              "          element.innerHTML = '';\n",
              "          dataTable['output_type'] = 'display_data';\n",
              "          await google.colab.output.renderOutput(dataTable, element);\n",
              "          const docLink = document.createElement('div');\n",
              "          docLink.innerHTML = docLinkHtml;\n",
              "          element.appendChild(docLink);\n",
              "        }\n",
              "      </script>\n",
              "    </div>\n",
              "  </div>\n",
              "  "
            ]
          },
          "metadata": {},
          "execution_count": 4
        }
      ],
      "source": [
        "df"
      ]
    },
    {
      "cell_type": "code",
      "execution_count": 5,
      "metadata": {
        "id": "ytoP2J2Wnpbi",
        "colab": {
          "base_uri": "https://localhost:8080/"
        },
        "outputId": "a7c6dfb7-8aca-4400-e70f-c7f73d9d46e7"
      },
      "outputs": [
        {
          "output_type": "stream",
          "name": "stdout",
          "text": [
            "Looking in indexes: https://pypi.org/simple, https://us-python.pkg.dev/colab-wheels/public/simple/\n",
            "Collecting ta\n",
            "  Downloading ta-0.10.2.tar.gz (25 kB)\n",
            "  Preparing metadata (setup.py) ... \u001b[?25l\u001b[?25hdone\n",
            "Requirement already satisfied: numpy in /usr/local/lib/python3.8/dist-packages (from ta) (1.21.6)\n",
            "Requirement already satisfied: pandas in /usr/local/lib/python3.8/dist-packages (from ta) (1.3.5)\n",
            "Requirement already satisfied: python-dateutil>=2.7.3 in /usr/local/lib/python3.8/dist-packages (from pandas->ta) (2.8.2)\n",
            "Requirement already satisfied: pytz>=2017.3 in /usr/local/lib/python3.8/dist-packages (from pandas->ta) (2022.7)\n",
            "Requirement already satisfied: six>=1.5 in /usr/local/lib/python3.8/dist-packages (from python-dateutil>=2.7.3->pandas->ta) (1.15.0)\n",
            "Building wheels for collected packages: ta\n",
            "  Building wheel for ta (setup.py) ... \u001b[?25l\u001b[?25hdone\n",
            "  Created wheel for ta: filename=ta-0.10.2-py3-none-any.whl size=29106 sha256=cad2baa299b1bda0fc8d018a317d52cff2d6fe3fea6d6e2de01abe6c08ddd0c4\n",
            "  Stored in directory: /root/.cache/pip/wheels/1b/81/50/db21d9643326c61dd6fee1dc2562d8351ee7753164c24ead38\n",
            "Successfully built ta\n",
            "Installing collected packages: ta\n",
            "Successfully installed ta-0.10.2\n"
          ]
        }
      ],
      "source": [
        "pip install ta"
      ]
    },
    {
      "cell_type": "code",
      "execution_count": 6,
      "metadata": {
        "id": "4_NDYkO-nrru"
      },
      "outputs": [],
      "source": [
        "import pandas as pd\n",
        "import ta\n",
        "from ta import add_all_ta_features\n",
        "from ta.utils import dropna"
      ]
    },
    {
      "cell_type": "code",
      "execution_count": 7,
      "metadata": {
        "id": "LRlTWlPfmcol",
        "colab": {
          "base_uri": "https://localhost:8080/",
          "height": 455
        },
        "outputId": "cb262683-6c3d-4db6-f62b-d645d3636103"
      },
      "outputs": [
        {
          "output_type": "execute_result",
          "data": {
            "text/plain": [
              "                Open      High       Low     Close     Volume  Pre_Close  \\\n",
              "Date                                                                       \n",
              "2020-07-14  0.012000  0.076397  0.011938  0.034327        419   0.011982   \n",
              "2020-07-15  0.034318  0.034480  0.010670  0.010735         79   0.034327   \n",
              "2020-07-16  0.010729  0.010755  0.009543  0.009627         35   0.010735   \n",
              "2020-07-17  0.009628  0.009658  0.009562  0.009590         35   0.009627   \n",
              "2020-07-18  0.009594  0.011825  0.009574  0.011774         42   0.009590   \n",
              "...              ...       ...       ...       ...        ...        ...   \n",
              "2022-04-13  0.016956  0.017662  0.016659  0.017561  195753852   0.016955   \n",
              "2022-04-14  0.017563  0.018326  0.016753  0.017127  214228125   0.017561   \n",
              "2022-04-15  0.017128  0.017279  0.016853  0.017239  107932100   0.017127   \n",
              "2022-04-16  0.017242  0.017618  0.016952  0.017152  128101400   0.017239   \n",
              "2022-04-17  0.017156  0.017343  0.017092  0.017194  110862176   0.017152   \n",
              "\n",
              "                 H-L       0-C     SMA_7      rsi_7     EMA_7  \n",
              "Date                                                           \n",
              "2020-07-14  0.064459 -0.022327  0.050638  27.681177  0.036470  \n",
              "2020-07-15  0.023810  0.023583  0.036455  20.642657  0.029320  \n",
              "2020-07-16  0.001212  0.001102  0.024793  20.359012  0.023997  \n",
              "2020-07-17  0.000096  0.000038  0.018276  20.348119  0.020181  \n",
              "2020-07-18  0.002251 -0.002180  0.015207  23.178636  0.017986  \n",
              "...              ...       ...       ...        ...       ...  \n",
              "2022-04-13  0.001003 -0.000605  0.018427  37.914164  0.018445  \n",
              "2022-04-14  0.001573  0.000436  0.017850  35.801746  0.018116  \n",
              "2022-04-15  0.000426 -0.000111  0.017545  36.860883  0.017897  \n",
              "2022-04-16  0.000666  0.000090  0.017231  36.317886  0.017710  \n",
              "2022-04-17  0.000251 -0.000038  0.017078  36.841893  0.017581  \n",
              "\n",
              "[643 rows x 11 columns]"
            ],
            "text/html": [
              "\n",
              "  <div id=\"df-358c6f73-d483-433f-9dfd-dafacff6d3d4\">\n",
              "    <div class=\"colab-df-container\">\n",
              "      <div>\n",
              "<style scoped>\n",
              "    .dataframe tbody tr th:only-of-type {\n",
              "        vertical-align: middle;\n",
              "    }\n",
              "\n",
              "    .dataframe tbody tr th {\n",
              "        vertical-align: top;\n",
              "    }\n",
              "\n",
              "    .dataframe thead th {\n",
              "        text-align: right;\n",
              "    }\n",
              "</style>\n",
              "<table border=\"1\" class=\"dataframe\">\n",
              "  <thead>\n",
              "    <tr style=\"text-align: right;\">\n",
              "      <th></th>\n",
              "      <th>Open</th>\n",
              "      <th>High</th>\n",
              "      <th>Low</th>\n",
              "      <th>Close</th>\n",
              "      <th>Volume</th>\n",
              "      <th>Pre_Close</th>\n",
              "      <th>H-L</th>\n",
              "      <th>0-C</th>\n",
              "      <th>SMA_7</th>\n",
              "      <th>rsi_7</th>\n",
              "      <th>EMA_7</th>\n",
              "    </tr>\n",
              "    <tr>\n",
              "      <th>Date</th>\n",
              "      <th></th>\n",
              "      <th></th>\n",
              "      <th></th>\n",
              "      <th></th>\n",
              "      <th></th>\n",
              "      <th></th>\n",
              "      <th></th>\n",
              "      <th></th>\n",
              "      <th></th>\n",
              "      <th></th>\n",
              "      <th></th>\n",
              "    </tr>\n",
              "  </thead>\n",
              "  <tbody>\n",
              "    <tr>\n",
              "      <th>2020-07-14</th>\n",
              "      <td>0.012000</td>\n",
              "      <td>0.076397</td>\n",
              "      <td>0.011938</td>\n",
              "      <td>0.034327</td>\n",
              "      <td>419</td>\n",
              "      <td>0.011982</td>\n",
              "      <td>0.064459</td>\n",
              "      <td>-0.022327</td>\n",
              "      <td>0.050638</td>\n",
              "      <td>27.681177</td>\n",
              "      <td>0.036470</td>\n",
              "    </tr>\n",
              "    <tr>\n",
              "      <th>2020-07-15</th>\n",
              "      <td>0.034318</td>\n",
              "      <td>0.034480</td>\n",
              "      <td>0.010670</td>\n",
              "      <td>0.010735</td>\n",
              "      <td>79</td>\n",
              "      <td>0.034327</td>\n",
              "      <td>0.023810</td>\n",
              "      <td>0.023583</td>\n",
              "      <td>0.036455</td>\n",
              "      <td>20.642657</td>\n",
              "      <td>0.029320</td>\n",
              "    </tr>\n",
              "    <tr>\n",
              "      <th>2020-07-16</th>\n",
              "      <td>0.010729</td>\n",
              "      <td>0.010755</td>\n",
              "      <td>0.009543</td>\n",
              "      <td>0.009627</td>\n",
              "      <td>35</td>\n",
              "      <td>0.010735</td>\n",
              "      <td>0.001212</td>\n",
              "      <td>0.001102</td>\n",
              "      <td>0.024793</td>\n",
              "      <td>20.359012</td>\n",
              "      <td>0.023997</td>\n",
              "    </tr>\n",
              "    <tr>\n",
              "      <th>2020-07-17</th>\n",
              "      <td>0.009628</td>\n",
              "      <td>0.009658</td>\n",
              "      <td>0.009562</td>\n",
              "      <td>0.009590</td>\n",
              "      <td>35</td>\n",
              "      <td>0.009627</td>\n",
              "      <td>0.000096</td>\n",
              "      <td>0.000038</td>\n",
              "      <td>0.018276</td>\n",
              "      <td>20.348119</td>\n",
              "      <td>0.020181</td>\n",
              "    </tr>\n",
              "    <tr>\n",
              "      <th>2020-07-18</th>\n",
              "      <td>0.009594</td>\n",
              "      <td>0.011825</td>\n",
              "      <td>0.009574</td>\n",
              "      <td>0.011774</td>\n",
              "      <td>42</td>\n",
              "      <td>0.009590</td>\n",
              "      <td>0.002251</td>\n",
              "      <td>-0.002180</td>\n",
              "      <td>0.015207</td>\n",
              "      <td>23.178636</td>\n",
              "      <td>0.017986</td>\n",
              "    </tr>\n",
              "    <tr>\n",
              "      <th>...</th>\n",
              "      <td>...</td>\n",
              "      <td>...</td>\n",
              "      <td>...</td>\n",
              "      <td>...</td>\n",
              "      <td>...</td>\n",
              "      <td>...</td>\n",
              "      <td>...</td>\n",
              "      <td>...</td>\n",
              "      <td>...</td>\n",
              "      <td>...</td>\n",
              "      <td>...</td>\n",
              "    </tr>\n",
              "    <tr>\n",
              "      <th>2022-04-13</th>\n",
              "      <td>0.016956</td>\n",
              "      <td>0.017662</td>\n",
              "      <td>0.016659</td>\n",
              "      <td>0.017561</td>\n",
              "      <td>195753852</td>\n",
              "      <td>0.016955</td>\n",
              "      <td>0.001003</td>\n",
              "      <td>-0.000605</td>\n",
              "      <td>0.018427</td>\n",
              "      <td>37.914164</td>\n",
              "      <td>0.018445</td>\n",
              "    </tr>\n",
              "    <tr>\n",
              "      <th>2022-04-14</th>\n",
              "      <td>0.017563</td>\n",
              "      <td>0.018326</td>\n",
              "      <td>0.016753</td>\n",
              "      <td>0.017127</td>\n",
              "      <td>214228125</td>\n",
              "      <td>0.017561</td>\n",
              "      <td>0.001573</td>\n",
              "      <td>0.000436</td>\n",
              "      <td>0.017850</td>\n",
              "      <td>35.801746</td>\n",
              "      <td>0.018116</td>\n",
              "    </tr>\n",
              "    <tr>\n",
              "      <th>2022-04-15</th>\n",
              "      <td>0.017128</td>\n",
              "      <td>0.017279</td>\n",
              "      <td>0.016853</td>\n",
              "      <td>0.017239</td>\n",
              "      <td>107932100</td>\n",
              "      <td>0.017127</td>\n",
              "      <td>0.000426</td>\n",
              "      <td>-0.000111</td>\n",
              "      <td>0.017545</td>\n",
              "      <td>36.860883</td>\n",
              "      <td>0.017897</td>\n",
              "    </tr>\n",
              "    <tr>\n",
              "      <th>2022-04-16</th>\n",
              "      <td>0.017242</td>\n",
              "      <td>0.017618</td>\n",
              "      <td>0.016952</td>\n",
              "      <td>0.017152</td>\n",
              "      <td>128101400</td>\n",
              "      <td>0.017239</td>\n",
              "      <td>0.000666</td>\n",
              "      <td>0.000090</td>\n",
              "      <td>0.017231</td>\n",
              "      <td>36.317886</td>\n",
              "      <td>0.017710</td>\n",
              "    </tr>\n",
              "    <tr>\n",
              "      <th>2022-04-17</th>\n",
              "      <td>0.017156</td>\n",
              "      <td>0.017343</td>\n",
              "      <td>0.017092</td>\n",
              "      <td>0.017194</td>\n",
              "      <td>110862176</td>\n",
              "      <td>0.017152</td>\n",
              "      <td>0.000251</td>\n",
              "      <td>-0.000038</td>\n",
              "      <td>0.017078</td>\n",
              "      <td>36.841893</td>\n",
              "      <td>0.017581</td>\n",
              "    </tr>\n",
              "  </tbody>\n",
              "</table>\n",
              "<p>643 rows × 11 columns</p>\n",
              "</div>\n",
              "      <button class=\"colab-df-convert\" onclick=\"convertToInteractive('df-358c6f73-d483-433f-9dfd-dafacff6d3d4')\"\n",
              "              title=\"Convert this dataframe to an interactive table.\"\n",
              "              style=\"display:none;\">\n",
              "        \n",
              "  <svg xmlns=\"http://www.w3.org/2000/svg\" height=\"24px\"viewBox=\"0 0 24 24\"\n",
              "       width=\"24px\">\n",
              "    <path d=\"M0 0h24v24H0V0z\" fill=\"none\"/>\n",
              "    <path d=\"M18.56 5.44l.94 2.06.94-2.06 2.06-.94-2.06-.94-.94-2.06-.94 2.06-2.06.94zm-11 1L8.5 8.5l.94-2.06 2.06-.94-2.06-.94L8.5 2.5l-.94 2.06-2.06.94zm10 10l.94 2.06.94-2.06 2.06-.94-2.06-.94-.94-2.06-.94 2.06-2.06.94z\"/><path d=\"M17.41 7.96l-1.37-1.37c-.4-.4-.92-.59-1.43-.59-.52 0-1.04.2-1.43.59L10.3 9.45l-7.72 7.72c-.78.78-.78 2.05 0 2.83L4 21.41c.39.39.9.59 1.41.59.51 0 1.02-.2 1.41-.59l7.78-7.78 2.81-2.81c.8-.78.8-2.07 0-2.86zM5.41 20L4 18.59l7.72-7.72 1.47 1.35L5.41 20z\"/>\n",
              "  </svg>\n",
              "      </button>\n",
              "      \n",
              "  <style>\n",
              "    .colab-df-container {\n",
              "      display:flex;\n",
              "      flex-wrap:wrap;\n",
              "      gap: 12px;\n",
              "    }\n",
              "\n",
              "    .colab-df-convert {\n",
              "      background-color: #E8F0FE;\n",
              "      border: none;\n",
              "      border-radius: 50%;\n",
              "      cursor: pointer;\n",
              "      display: none;\n",
              "      fill: #1967D2;\n",
              "      height: 32px;\n",
              "      padding: 0 0 0 0;\n",
              "      width: 32px;\n",
              "    }\n",
              "\n",
              "    .colab-df-convert:hover {\n",
              "      background-color: #E2EBFA;\n",
              "      box-shadow: 0px 1px 2px rgba(60, 64, 67, 0.3), 0px 1px 3px 1px rgba(60, 64, 67, 0.15);\n",
              "      fill: #174EA6;\n",
              "    }\n",
              "\n",
              "    [theme=dark] .colab-df-convert {\n",
              "      background-color: #3B4455;\n",
              "      fill: #D2E3FC;\n",
              "    }\n",
              "\n",
              "    [theme=dark] .colab-df-convert:hover {\n",
              "      background-color: #434B5C;\n",
              "      box-shadow: 0px 1px 3px 1px rgba(0, 0, 0, 0.15);\n",
              "      filter: drop-shadow(0px 1px 2px rgba(0, 0, 0, 0.3));\n",
              "      fill: #FFFFFF;\n",
              "    }\n",
              "  </style>\n",
              "\n",
              "      <script>\n",
              "        const buttonEl =\n",
              "          document.querySelector('#df-358c6f73-d483-433f-9dfd-dafacff6d3d4 button.colab-df-convert');\n",
              "        buttonEl.style.display =\n",
              "          google.colab.kernel.accessAllowed ? 'block' : 'none';\n",
              "\n",
              "        async function convertToInteractive(key) {\n",
              "          const element = document.querySelector('#df-358c6f73-d483-433f-9dfd-dafacff6d3d4');\n",
              "          const dataTable =\n",
              "            await google.colab.kernel.invokeFunction('convertToInteractive',\n",
              "                                                     [key], {});\n",
              "          if (!dataTable) return;\n",
              "\n",
              "          const docLinkHtml = 'Like what you see? Visit the ' +\n",
              "            '<a target=\"_blank\" href=https://colab.research.google.com/notebooks/data_table.ipynb>data table notebook</a>'\n",
              "            + ' to learn more about interactive tables.';\n",
              "          element.innerHTML = '';\n",
              "          dataTable['output_type'] = 'display_data';\n",
              "          await google.colab.output.renderOutput(dataTable, element);\n",
              "          const docLink = document.createElement('div');\n",
              "          docLink.innerHTML = docLinkHtml;\n",
              "          element.appendChild(docLink);\n",
              "        }\n",
              "      </script>\n",
              "    </div>\n",
              "  </div>\n",
              "  "
            ]
          },
          "metadata": {},
          "execution_count": 7
        }
      ],
      "source": [
        "df['Pre_Close'] = df['Close'].shift(+1)\n",
        "df[('H-L')] = df['High'] - df['Low']\n",
        "df[('0-C')]= df['Open'] - df['Close']\n",
        "df['SMA_7'] = df.Close.rolling(7, min_periods=1).mean()\n",
        "df['rsi_7']=ta.momentum.rsi(df.Close,window=7)\n",
        "#df['MACD'] = ta.trend.macd_diff(df.Close)\n",
        "df['EMA_7']= df['Close'].ewm(span=7).mean()\n",
        "df = df.drop(columns=['Adj Close'])\n",
        "df.dropna(inplace= True)\n",
        "df"
      ]
    },
    {
      "cell_type": "code",
      "execution_count": 8,
      "metadata": {
        "id": "nUVCrzpt_Xb-"
      },
      "outputs": [],
      "source": [
        "def data_prep(dataset, target, data_start, data_end, look_back, horizon):\n",
        "    dataX,dataY = [],[]\n",
        "    data_start = data_start + look_back\n",
        "    if data_end is None:\n",
        "        data_end = len(dataset) - horizon\n",
        "\n",
        "    for i in range(data_start, data_end):\n",
        "        a = range(i-look_back, i)\n",
        "        dataX.append(dataset[a])\n",
        "\n",
        "        b = range(i+1, i+1+horizon)\n",
        "        dataY.append(target[b])\n",
        "    return np.array(dataX), np.array(dataY)"
      ]
    },
    {
      "cell_type": "code",
      "execution_count": 9,
      "metadata": {
        "id": "8uxf-46a_Zm1"
      },
      "outputs": [],
      "source": [
        "X_scaler = MinMaxScaler()\n",
        "Y_scaler = MinMaxScaler()\n",
        "# X_data = X_scaler.fit_transform(df[['Open', 'High', 'Low','Volume','H-L',\t'0-C','SMA_7','rsi_7','EMA_7']])//experiment4\n",
        "X_data = X_scaler.fit_transform(df[['Volume']])\n",
        "Y_data = Y_scaler.fit_transform(df[['Close']])\n",
        "\n",
        "##['Open', 'High', 'Low','Volume']\n",
        "##['H-L',\t'0-C','SMA_7','rsi_7','EMA_7']"
      ]
    },
    {
      "cell_type": "code",
      "execution_count": 10,
      "metadata": {
        "id": "vhampguE_cgy"
      },
      "outputs": [],
      "source": [
        "##TRAIN_SPLIT = int(len(df) * 0.8)\n",
        "look_back = 10\n",
        "horizon = 10\n",
        "train_split = int(len(df) * 0.8)\n",
        "x_train, y_train = data_prep(X_data, Y_data, 0, train_split, look_back, horizon)\n",
        "x_vali, y_vali = data_prep(X_data, Y_data, train_split, None, look_back, horizon)"
      ]
    },
    {
      "cell_type": "code",
      "execution_count": 11,
      "metadata": {
        "id": "BJNFqmFL_eer"
      },
      "outputs": [],
      "source": [
        "# x_train"
      ]
    },
    {
      "cell_type": "code",
      "execution_count": 12,
      "metadata": {
        "id": "QxuHL7J-_g9-",
        "colab": {
          "base_uri": "https://localhost:8080/"
        },
        "outputId": "b8a29d43-d13e-4e12-ca80-66fa9c187360"
      },
      "outputs": [
        {
          "output_type": "stream",
          "name": "stdout",
          "text": [
            "Multiple window of past history\n",
            "\n",
            "[[8.08372041e-08]\n",
            " [1.52413822e-08]\n",
            " [6.75251108e-09]\n",
            " [6.75251108e-09]\n",
            " [8.10301330e-09]\n",
            " [5.78786664e-10]\n",
            " [5.78786664e-10]\n",
            " [0.00000000e+00]\n",
            " [2.89393332e-09]\n",
            " [3.08686221e-09]]\n",
            "\n",
            " Target horizon\n",
            "\n",
            "[[0.0345849 ]\n",
            " [0.035732  ]\n",
            " [0.04800906]\n",
            " [0.04678023]\n",
            " [0.01231652]\n",
            " [0.01026189]\n",
            " [0.0107692 ]\n",
            " [0.01726849]\n",
            " [0.02293917]\n",
            " [0.02313082]]\n"
          ]
        }
      ],
      "source": [
        "print ('Multiple window of past history\\n')\n",
        "print(x_train[0])\n",
        "print ('\\n Target horizon\\n')\n",
        "print (y_train[0])"
      ]
    },
    {
      "cell_type": "code",
      "execution_count": 13,
      "metadata": {
        "id": "9YHpXcEK_jRu"
      },
      "outputs": [],
      "source": [
        "import pandas as pd\n",
        "import numpy as np\n",
        "import matplotlib.pyplot as plt\n",
        "import plotly.express as px # to plot the time series plot\n",
        "from sklearn import metrics # for the evalution\n",
        "from sklearn.preprocessing import LabelEncoder,MinMaxScaler\n",
        "\n",
        "import tensorflow as tf"
      ]
    },
    {
      "cell_type": "code",
      "execution_count": 14,
      "metadata": {
        "id": "0zQIYwlSH0yK"
      },
      "outputs": [],
      "source": [
        "batch_size = 128\n",
        "buffer_size = 18\n",
        "\n",
        "train_data = tf.data.Dataset.from_tensor_slices((x_train, y_train))\n",
        "train_data = train_data.batch(batch_size).repeat()\n",
        "\n",
        "val_data = tf.data.Dataset.from_tensor_slices((x_vali, y_vali))\n",
        "val_data = val_data.batch(batch_size).repeat()"
      ]
    },
    {
      "cell_type": "code",
      "execution_count": 15,
      "metadata": {
        "id": "rqnDiq95Drku"
      },
      "outputs": [],
      "source": [
        "from keras.models import Model\n",
        "from keras.layers import Input\n",
        "from keras.layers import Dense\n",
        "from keras.layers import Flatten\n",
        "from keras.layers.convolutional import Conv1D\n",
        "from keras.layers.convolutional import MaxPooling1D\n",
        "# from keras.layers.merge import concatenate\n",
        "import tensorflow as tf"
      ]
    },
    {
      "cell_type": "code",
      "execution_count": 16,
      "metadata": {
        "id": "tIWp2c1XnWf-",
        "colab": {
          "base_uri": "https://localhost:8080/"
        },
        "outputId": "6763b0f4-e356-43a1-a964-d1e8fb802e22"
      },
      "outputs": [
        {
          "output_type": "execute_result",
          "data": {
            "text/plain": [
              "(10, 1)"
            ]
          },
          "metadata": {},
          "execution_count": 16
        }
      ],
      "source": [
        "x_train.shape[-2:]"
      ]
    },
    {
      "cell_type": "code",
      "execution_count": 17,
      "metadata": {
        "id": "h7vQ_Ll1_5ec"
      },
      "outputs": [],
      "source": [
        "\n",
        "# define model\n",
        "# import tensorflow as tf\n",
        "# from tensorflow.keras import layers\n",
        "# Set random seed for as reproducible results as possible\n",
        "# tf.random.set_seed(7)\n",
        "# cnn_model = Sequential()\n",
        "# cnn_model.add(Conv1D(filters=32, kernel_size=1, activation='relu', input_shape=(x_train.shape[-2:])))\n",
        "# cnn_model.add(Conv1D(filters=64, kernel_size=1))\n",
        "# cnn_model.add(MaxPooling1D(pool_size=(1)))\n",
        "# cnn_model.add(Conv1D(filters=128, kernel_size=1))\n",
        "# cnn_model.add(Flatten())\n",
        "# cnn_model.add(Dense(256,))\n",
        "# cnn_model.add(Dropout(0.2))\n",
        "# cnn_model.add(Dense(10))\n",
        "# cnn_model.compile(optimizer='adam', loss='mse')\n",
        "# cnn_model.summary()\n"
      ]
    },
    {
      "cell_type": "code",
      "execution_count": 18,
      "metadata": {
        "id": "zts6fS0JE6Hy",
        "colab": {
          "base_uri": "https://localhost:8080/"
        },
        "outputId": "df5985ce-fa6a-4611-f72a-d7b2d5c46f0f"
      },
      "outputs": [
        {
          "output_type": "stream",
          "name": "stdout",
          "text": [
            "Model: \"sequential\"\n",
            "_________________________________________________________________\n",
            " Layer (type)                Output Shape              Param #   \n",
            "=================================================================\n",
            " lstm (LSTM)                 (None, 10, 100)           40800     \n",
            "                                                                 \n",
            " dense (Dense)               (None, 10, 20)            2020      \n",
            "                                                                 \n",
            " lstm_1 (LSTM)               (None, 50)                14200     \n",
            "                                                                 \n",
            " dropout (Dropout)           (None, 50)                0         \n",
            "                                                                 \n",
            " dense_1 (Dense)             (None, 10)                510       \n",
            "                                                                 \n",
            " activation (Activation)     (None, 10)                0         \n",
            "                                                                 \n",
            "=================================================================\n",
            "Total params: 57,530\n",
            "Trainable params: 57,530\n",
            "Non-trainable params: 0\n",
            "_________________________________________________________________\n"
          ]
        }
      ],
      "source": [
        "import tensorflow as tf\n",
        "from tensorflow.keras import layers\n",
        "from keras.optimizers import Adam\n",
        "from tensorflow.python.keras import regularizers\n",
        "# Set the learning rate\n",
        "#0.0001,0.001,0.01,0.1,1\n",
        "learning_rate = 0.001\n",
        "\n",
        "l1_rate=regularizers.l1(0.001)\n",
        "l2_rate=regularizers.l2(0.001)\n",
        "# Create the optimizer with the desired learning rate\n",
        "optimizer = Adam(learning_rate=learning_rate)\n",
        "# Set random seed for as reproducible results as possible\n",
        "tf.random.set_seed(7)\n",
        "\n",
        "lstm_model = Sequential()\n",
        "lstm_model.add(LSTM(100,return_sequences=True,input_shape=(x_train.shape[-2:]),activity_regularizer= l1_rate,kernel_regularizer= l2_rate))\n",
        "lstm_model.add(Dense(20,activation='linear',activity_regularizer= l1_rate))\n",
        "lstm_model.add(LSTM(50,activity_regularizer= l1_rate))\n",
        "lstm_model.add(Dropout(0.3))\n",
        "lstm_model.add(Dense(units=horizon,activation='linear'))\n",
        "lstm_model.add(Activation('linear'))\n",
        "lstm_model.compile(optimizer=optimizer, loss='mse')\n",
        "lstm_model.summary()\n",
        "\n"
      ]
    },
    {
      "cell_type": "code",
      "execution_count": 19,
      "metadata": {
        "id": "pkWp7tm0HoY4"
      },
      "outputs": [],
      "source": [
        "#model_path = 'CNN_Multivariate.h5'\n",
        "#early_stopings = tf.keras.callbacks.EarlyStopping(monitor='val_loss', min_delta=0, patience=10, verbose=1, mode='min')\n",
        "#checkpoint =  tf.keras.callbacks.ModelCheckpoint(model_path, monitor='val_loss', save_best_only=True, mode='min', verbose=0)\n",
        "#callbacks=[early_stopings,checkpoint]"
      ]
    },
    {
      "cell_type": "code",
      "execution_count": 20,
      "metadata": {
        "id": "1vqC4wRgHrxZ",
        "colab": {
          "base_uri": "https://localhost:8080/"
        },
        "outputId": "a7a4be60-3ad4-416b-a687-0ebe33c4bda0"
      },
      "outputs": [
        {
          "output_type": "stream",
          "name": "stdout",
          "text": [
            "Epoch 1/50\n",
            "100/100 [==============================] - 11s 75ms/step - loss: 0.0526 - val_loss: 0.0356\n",
            "Epoch 2/50\n",
            "100/100 [==============================] - 6s 60ms/step - loss: 0.0451 - val_loss: 0.0347\n",
            "Epoch 3/50\n",
            "100/100 [==============================] - 6s 59ms/step - loss: 0.0443 - val_loss: 0.0348\n",
            "Epoch 4/50\n",
            "100/100 [==============================] - 6s 56ms/step - loss: 0.0440 - val_loss: 0.0343\n",
            "Epoch 5/50\n",
            "100/100 [==============================] - 4s 40ms/step - loss: 0.0436 - val_loss: 0.0352\n",
            "Epoch 6/50\n",
            "100/100 [==============================] - 3s 29ms/step - loss: 0.0434 - val_loss: 0.0355\n",
            "Epoch 7/50\n",
            "100/100 [==============================] - 3s 28ms/step - loss: 0.0432 - val_loss: 0.0366\n",
            "Epoch 8/50\n",
            "100/100 [==============================] - 3s 28ms/step - loss: 0.0431 - val_loss: 0.0377\n",
            "Epoch 9/50\n",
            "100/100 [==============================] - 3s 29ms/step - loss: 0.0429 - val_loss: 0.0397\n",
            "Epoch 10/50\n",
            "100/100 [==============================] - 3s 29ms/step - loss: 0.0428 - val_loss: 0.0413\n",
            "Epoch 11/50\n",
            "100/100 [==============================] - 3s 28ms/step - loss: 0.0426 - val_loss: 0.0421\n",
            "Epoch 12/50\n",
            "100/100 [==============================] - 3s 29ms/step - loss: 0.0425 - val_loss: 0.0433\n",
            "Epoch 13/50\n",
            "100/100 [==============================] - 3s 28ms/step - loss: 0.0424 - val_loss: 0.0442\n",
            "Epoch 14/50\n",
            "100/100 [==============================] - 3s 29ms/step - loss: 0.0423 - val_loss: 0.0449\n",
            "Epoch 15/50\n",
            "100/100 [==============================] - 3s 28ms/step - loss: 0.0422 - val_loss: 0.0460\n",
            "Epoch 16/50\n",
            "100/100 [==============================] - 3s 29ms/step - loss: 0.0422 - val_loss: 0.0464\n",
            "Epoch 17/50\n",
            "100/100 [==============================] - 3s 29ms/step - loss: 0.0421 - val_loss: 0.0470\n",
            "Epoch 18/50\n",
            "100/100 [==============================] - 3s 28ms/step - loss: 0.0419 - val_loss: 0.0470\n",
            "Epoch 19/50\n",
            "100/100 [==============================] - 3s 28ms/step - loss: 0.0419 - val_loss: 0.0478\n",
            "Epoch 20/50\n",
            "100/100 [==============================] - 3s 28ms/step - loss: 0.0418 - val_loss: 0.0483\n",
            "Epoch 21/50\n",
            "100/100 [==============================] - 3s 29ms/step - loss: 0.0417 - val_loss: 0.0490\n",
            "Epoch 22/50\n",
            "100/100 [==============================] - 3s 29ms/step - loss: 0.0417 - val_loss: 0.0493\n",
            "Epoch 23/50\n",
            "100/100 [==============================] - 3s 29ms/step - loss: 0.0416 - val_loss: 0.0491\n",
            "Epoch 24/50\n",
            "100/100 [==============================] - 3s 29ms/step - loss: 0.0415 - val_loss: 0.0493\n",
            "Epoch 25/50\n",
            "100/100 [==============================] - 3s 29ms/step - loss: 0.0415 - val_loss: 0.0501\n",
            "Epoch 26/50\n",
            "100/100 [==============================] - 3s 28ms/step - loss: 0.0415 - val_loss: 0.0502\n",
            "Epoch 27/50\n",
            "100/100 [==============================] - 3s 29ms/step - loss: 0.0414 - val_loss: 0.0508\n",
            "Epoch 28/50\n",
            "100/100 [==============================] - 3s 28ms/step - loss: 0.0413 - val_loss: 0.0509\n",
            "Epoch 29/50\n",
            "100/100 [==============================] - 3s 29ms/step - loss: 0.0412 - val_loss: 0.0513\n",
            "Epoch 30/50\n",
            "100/100 [==============================] - 3s 29ms/step - loss: 0.0412 - val_loss: 0.0521\n",
            "Epoch 31/50\n",
            "100/100 [==============================] - 3s 29ms/step - loss: 0.0412 - val_loss: 0.0523\n",
            "Epoch 32/50\n",
            "100/100 [==============================] - 3s 29ms/step - loss: 0.0411 - val_loss: 0.0532\n",
            "Epoch 33/50\n",
            "100/100 [==============================] - 4s 38ms/step - loss: 0.0410 - val_loss: 0.0537\n",
            "Epoch 34/50\n",
            "100/100 [==============================] - 4s 40ms/step - loss: 0.0410 - val_loss: 0.0542\n",
            "Epoch 35/50\n",
            "100/100 [==============================] - 3s 28ms/step - loss: 0.0408 - val_loss: 0.0555\n",
            "Epoch 36/50\n",
            "100/100 [==============================] - 3s 28ms/step - loss: 0.0407 - val_loss: 0.0565\n",
            "Epoch 37/50\n",
            "100/100 [==============================] - 3s 28ms/step - loss: 0.0405 - val_loss: 0.0579\n",
            "Epoch 38/50\n",
            "100/100 [==============================] - 3s 29ms/step - loss: 0.0399 - val_loss: 0.0543\n",
            "Epoch 39/50\n",
            "100/100 [==============================] - 3s 29ms/step - loss: 0.0386 - val_loss: 0.0546\n",
            "Epoch 40/50\n",
            "100/100 [==============================] - 3s 30ms/step - loss: 0.0360 - val_loss: 0.0645\n",
            "Epoch 41/50\n",
            "100/100 [==============================] - 3s 29ms/step - loss: 0.0331 - val_loss: 0.0750\n",
            "Epoch 42/50\n",
            "100/100 [==============================] - 3s 29ms/step - loss: 0.0322 - val_loss: 0.0744\n",
            "Epoch 43/50\n",
            "100/100 [==============================] - 3s 28ms/step - loss: 0.0287 - val_loss: 0.1007\n",
            "Epoch 44/50\n",
            "100/100 [==============================] - 3s 29ms/step - loss: 0.0274 - val_loss: 0.0840\n",
            "Epoch 45/50\n",
            "100/100 [==============================] - 3s 29ms/step - loss: 0.0294 - val_loss: 0.1152\n",
            "Epoch 46/50\n",
            "100/100 [==============================] - 3s 28ms/step - loss: 0.0289 - val_loss: 0.1132\n",
            "Epoch 47/50\n",
            "100/100 [==============================] - 3s 29ms/step - loss: 0.0262 - val_loss: 0.1005\n",
            "Epoch 48/50\n",
            "100/100 [==============================] - 3s 29ms/step - loss: 0.0249 - val_loss: 0.1190\n",
            "Epoch 49/50\n",
            "100/100 [==============================] - 3s 29ms/step - loss: 0.0254 - val_loss: 0.1173\n",
            "Epoch 50/50\n",
            "100/100 [==============================] - 3s 29ms/step - loss: 0.0249 - val_loss: 0.1213\n"
          ]
        }
      ],
      "source": [
        "history = lstm_model.fit(train_data,epochs=50,batch_size =128,steps_per_epoch=100,validation_data=val_data,validation_steps=50,verbose=1)#callback\n",
        "##history = cnn_model.fit(train_data,epochs=50,steps_per_epoch=100,validation_data=val_data,validation_steps=50,verbose=1)"
      ]
    },
    {
      "cell_type": "code",
      "execution_count": 21,
      "metadata": {
        "id": "05kGXARbH9w3",
        "colab": {
          "base_uri": "https://localhost:8080/",
          "height": 567
        },
        "outputId": "95b866cb-52ef-4fc0-9839-3679f5892377"
      },
      "outputs": [
        {
          "output_type": "display_data",
          "data": {
            "text/plain": [
              "<Figure size 1152x648 with 1 Axes>"
            ],
            "image/png": "[encoded data removed]"
          },
          "metadata": {
            "needs_background": "light"
          }
        }
      ],
      "source": [
        "plt.figure(figsize=(16,9))\n",
        "plt.plot(history.history['loss'])\n",
        "plt.plot(history.history['val_loss'])\n",
        "plt.title('Model loss')\n",
        "plt.ylabel('loss')\n",
        "plt.xlabel('epoch')\n",
        "plt.legend(['train loss', 'validation loss'])\n",
        "plt.show()"
      ]
    },
    {
      "cell_type": "code",
      "execution_count": 22,
      "metadata": {
        "id": "jJ6fj09EIUFi",
        "colab": {
          "base_uri": "https://localhost:8080/"
        },
        "outputId": "512fb1be-17b0-4178-8de9-a07404558c39"
      },
      "outputs": [
        {
          "output_type": "execute_result",
          "data": {
            "text/plain": [
              "Index(['Open', 'High', 'Low', 'Close', 'Volume', 'Pre_Close', 'H-L', '0-C',\n",
              "       'SMA_7', 'rsi_7', 'EMA_7'],\n",
              "      dtype='object')"
            ]
          },
          "metadata": {},
          "execution_count": 22
        }
      ],
      "source": [
        "df.columns"
      ]
    },
    {
      "cell_type": "code",
      "execution_count": 23,
      "metadata": {
        "id": "eFhfHDpCIbc2",
        "colab": {
          "base_uri": "https://localhost:8080/"
        },
        "outputId": "6f7b1b8d-a082-4295-a2bd-3f36182f37d7"
      },
      "outputs": [
        {
          "output_type": "stream",
          "name": "stdout",
          "text": [
            "1/1 [==============================] - 1s 706ms/step\n"
          ]
        },
        {
          "output_type": "execute_result",
          "data": {
            "text/plain": [
              "array([[0.05363965, 0.05464289, 0.05085403, 0.05568399, 0.05159558,\n",
              "        0.04837334, 0.05335029, 0.0479991 , 0.04887765, 0.0465024 ]],\n",
              "      dtype=float32)"
            ]
          },
          "metadata": {},
          "execution_count": 23
        }
      ],
      "source": [
        "\n",
        "##['open']\n",
        "\n",
        "\n",
        "data_val = X_scaler.fit_transform(df[['Volume']].tail(10))\n",
        "val_rescaled = data_val.reshape(1, data_val.shape[0], data_val.shape[1])\n",
        "pred=lstm_model.predict(val_rescaled)\n",
        "pred_Inverse = Y_scaler.inverse_transform(pred)\n",
        "pred_Inverse"
      ]
    },
    {
      "cell_type": "code",
      "execution_count": 24,
      "metadata": {
        "id": "qCa3fcUgIro5"
      },
      "outputs": [],
      "source": [
        "def timeseries_evaluation_metrics_func(y_true, y_pred):\n",
        "    def mean_absolute_percentage_error(y_true, y_pred): \n",
        "        y_true, y_pred = np.array(y_true), np.array(y_pred)\n",
        "        return np.mean(np.abs((y_true - y_pred) / y_true)) * 100\n",
        "\n",
        "    print('Evaluation metric results:-')\n",
        "    print(f'MSE is : {metrics.mean_squared_error(y_true, y_pred)}')\n",
        "    print(f'MAE is : {metrics.mean_absolute_error(y_true, y_pred)}')\n",
        "    print(f'RMSE is : {np.sqrt(metrics.mean_squared_error(y_true, y_pred))}')\n",
        "    print(f'MAPE is : {mean_absolute_percentage_error(y_true, y_pred)}')\n"
      ]
    },
    {
      "cell_type": "code",
      "execution_count": 25,
      "metadata": {
        "id": "vZheU0ClIv6C",
        "colab": {
          "base_uri": "https://localhost:8080/"
        },
        "outputId": "7ee44cf2-a38c-4782-c5f3-57d7585879c9"
      },
      "outputs": [
        {
          "output_type": "stream",
          "name": "stdout",
          "text": [
            "Evaluation metric results:-\n",
            "MSE is : 0.001130479013810252\n",
            "MAE is : 0.03349869179778099\n",
            "RMSE is : 0.03362259677375101\n",
            "MAPE is : 190.4078378125271\n"
          ]
        }
      ],
      "source": [
        "validate = (df[['Close']].tail(10))\n",
        "timeseries_evaluation_metrics_func(validate['Close'],pred_Inverse[0])"
      ]
    },
    {
      "cell_type": "code",
      "execution_count": 26,
      "metadata": {
        "id": "9F4dY-uMJau0",
        "colab": {
          "base_uri": "https://localhost:8080/",
          "height": 553
        },
        "outputId": "da1c69ab-91a1-4503-e7f5-ab7b0f964b54"
      },
      "outputs": [
        {
          "output_type": "display_data",
          "data": {
            "text/plain": [
              "<Figure size 1152x648 with 1 Axes>"
            ],
            "image/png": "[encoded data removed]"
          },
          "metadata": {
            "needs_background": "light"
          }
        }
      ],
      "source": [
        "plt.figure(figsize=(16,9))\n",
        "plt.plot( list(validate['Close']))\n",
        "plt.plot( list(pred_Inverse[0]))\n",
        "plt.title(\"Actual vs Predicted\")\n",
        "plt.ylabel(\"Close\")\n",
        "plt.legend(('Actual','predicted'))\n",
        "plt.show()"
      ]
    }
  ],
  "metadata": {
    "colab": {
      "provenance": []
    },
    "kernelspec": {
      "display_name": "Python 3.10.8 64-bit (microsoft store)",
      "language": "python",
      "name": "python3"
    },
    "language_info": {
      "name": "python",
      "version": "3.10.8"
    },
    "vscode": {
      "interpreter": {
        "hash": "3b7e9cb8e453d6cda0fe8c8dd13f891a1f09162f0e7c66ffeae7751a7aecf00d"
      }
    }
  },
  "nbformat": 4,
  "nbformat_minor": 0
}