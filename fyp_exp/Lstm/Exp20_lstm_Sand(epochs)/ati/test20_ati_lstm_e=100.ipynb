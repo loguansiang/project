{
  "nbformat": 4,
  "nbformat_minor": 0,
  "metadata": {
    "colab": {
      "provenance": []
    },
    "kernelspec": {
      "name": "python3",
      "display_name": "Python 3"
    },
    "language_info": {
      "name": "python"
    }
  },
  "cells": [
    {
      "cell_type": "markdown",
      "source": [
        "Test 1 (SAND) GRU model"
      ],
      "metadata": {
        "id": "imX7FpVVdT0L"
      }
    },
    {
      "cell_type": "code",
      "execution_count": 1,
      "metadata": {
        "id": "6r5emgwN_F-_"
      },
      "outputs": [],
      "source": [
        "import numpy as np\n",
        "import pandas as pd\n",
        "from keras.models import Sequential\n",
        "from keras.layers import LSTM, Dense, Dropout\n",
        "from keras import optimizers\n",
        "import matplotlib.pyplot as plt\n",
        "from keras.models import load_model\n",
        "from sklearn.preprocessing import MinMaxScaler\n",
        "from sklearn.model_selection import train_test_split\n",
        "import sklearn.metrics as metrics\n",
        "from keras.models import Sequential\n",
        "from keras.layers import LSTM, GRU, Dense, Dropout,Activation\n",
        "from keras import optimizers\n",
        "import numpy\n",
        "import matplotlib.pyplot as plt\n",
        "import pandas\n",
        "import math\n",
        "from keras.models import Sequential\n",
        "from keras.layers import Dense\n",
        "from keras.layers import LSTM\n",
        "from sklearn.preprocessing import MinMaxScaler\n",
        "from sklearn.metrics import mean_squared_error"
      ]
    },
    {
      "cell_type": "code",
      "source": [
        "sand = 'https://raw.githubusercontent.com/loguansiang/fyp/main/SAND%20fyp.csv'\n",
        "# slp= 'https://raw.githubusercontent.com/loguansiang/fyp/main/SLP%20fyp.csv'\n",
        "# mana = 'https://raw.githubusercontent.com/loguansiang/fyp/main/MANA%20fyp.csv'\n",
        "\n",
        "df = pd.read_csv(sand)"
      ],
      "metadata": {
        "id": "QsNzkIw1_IjO"
      },
      "execution_count": 2,
      "outputs": []
    },
    {
      "cell_type": "code",
      "source": [
        "df['Date'] = pd.to_datetime(df['Date'])\n",
        "df.set_index('Date', inplace = True)"
      ],
      "metadata": {
        "id": "V1EiUFwj_L7L"
      },
      "execution_count": 3,
      "outputs": []
    },
    {
      "cell_type": "code",
      "source": [
        "df"
      ],
      "metadata": {
        "colab": {
          "base_uri": "https://localhost:8080/",
          "height": 455
        },
        "id": "t2qffNXdEOmT",
        "outputId": "27d79c2a-2dcd-4b11-be74-70f7aeff1b7a"
      },
      "execution_count": 4,
      "outputs": [
        {
          "output_type": "execute_result",
          "data": {
            "text/plain": [
              "                Open      High       Low     Close  Adj Close     Volume\n",
              "Date                                                                    \n",
              "2020-08-14  0.086577  0.086577  0.059597  0.065645   0.065645  118988161\n",
              "2020-08-15  0.066077  0.069509  0.048985  0.050964   0.050964   36213441\n",
              "2020-08-16  0.051438  0.069508  0.048064  0.060847   0.060847   33023213\n",
              "2020-08-17  0.060847  0.065073  0.052525  0.053999   0.053999   11686493\n",
              "2020-08-18  0.053784  0.060990  0.050675  0.051700   0.051700    7401293\n",
              "...              ...       ...       ...       ...        ...        ...\n",
              "2022-04-13  2.781983  2.886945  2.751847  2.869923   2.869923  321784424\n",
              "2022-04-14  2.869366  2.916186  2.714203  2.780882   2.780882  349909147\n",
              "2022-04-15  2.781060  2.820187  2.755915  2.803639   2.803639  189256519\n",
              "2022-04-16  2.803614  2.901280  2.777383  2.822680   2.822680  234480315\n",
              "2022-04-17  2.820111  2.820111  2.781153  2.790278   2.790278  176793328\n",
              "\n",
              "[612 rows x 6 columns]"
            ],
            "text/html": [
              "\n",
              "  <div id=\"df-59e42b8f-f5bb-48a5-acfe-9f5d0b7876ee\">\n",
              "    <div class=\"colab-df-container\">\n",
              "      <div>\n",
              "<style scoped>\n",
              "    .dataframe tbody tr th:only-of-type {\n",
              "        vertical-align: middle;\n",
              "    }\n",
              "\n",
              "    .dataframe tbody tr th {\n",
              "        vertical-align: top;\n",
              "    }\n",
              "\n",
              "    .dataframe thead th {\n",
              "        text-align: right;\n",
              "    }\n",
              "</style>\n",
              "<table border=\"1\" class=\"dataframe\">\n",
              "  <thead>\n",
              "    <tr style=\"text-align: right;\">\n",
              "      <th></th>\n",
              "      <th>Open</th>\n",
              "      <th>High</th>\n",
              "      <th>Low</th>\n",
              "      <th>Close</th>\n",
              "      <th>Adj Close</th>\n",
              "      <th>Volume</th>\n",
              "    </tr>\n",
              "    <tr>\n",
              "      <th>Date</th>\n",
              "      <th></th>\n",
              "      <th></th>\n",
              "      <th></th>\n",
              "      <th></th>\n",
              "      <th></th>\n",
              "      <th></th>\n",
              "    </tr>\n",
              "  </thead>\n",
              "  <tbody>\n",
              "    <tr>\n",
              "      <th>2020-08-14</th>\n",
              "      <td>0.086577</td>\n",
              "      <td>0.086577</td>\n",
              "      <td>0.059597</td>\n",
              "      <td>0.065645</td>\n",
              "      <td>0.065645</td>\n",
              "      <td>118988161</td>\n",
              "    </tr>\n",
              "    <tr>\n",
              "      <th>2020-08-15</th>\n",
              "      <td>0.066077</td>\n",
              "      <td>0.069509</td>\n",
              "      <td>0.048985</td>\n",
              "      <td>0.050964</td>\n",
              "      <td>0.050964</td>\n",
              "      <td>36213441</td>\n",
              "    </tr>\n",
              "    <tr>\n",
              "      <th>2020-08-16</th>\n",
              "      <td>0.051438</td>\n",
              "      <td>0.069508</td>\n",
              "      <td>0.048064</td>\n",
              "      <td>0.060847</td>\n",
              "      <td>0.060847</td>\n",
              "      <td>33023213</td>\n",
              "    </tr>\n",
              "    <tr>\n",
              "      <th>2020-08-17</th>\n",
              "      <td>0.060847</td>\n",
              "      <td>0.065073</td>\n",
              "      <td>0.052525</td>\n",
              "      <td>0.053999</td>\n",
              "      <td>0.053999</td>\n",
              "      <td>11686493</td>\n",
              "    </tr>\n",
              "    <tr>\n",
              "      <th>2020-08-18</th>\n",
              "      <td>0.053784</td>\n",
              "      <td>0.060990</td>\n",
              "      <td>0.050675</td>\n",
              "      <td>0.051700</td>\n",
              "      <td>0.051700</td>\n",
              "      <td>7401293</td>\n",
              "    </tr>\n",
              "    <tr>\n",
              "      <th>...</th>\n",
              "      <td>...</td>\n",
              "      <td>...</td>\n",
              "      <td>...</td>\n",
              "      <td>...</td>\n",
              "      <td>...</td>\n",
              "      <td>...</td>\n",
              "    </tr>\n",
              "    <tr>\n",
              "      <th>2022-04-13</th>\n",
              "      <td>2.781983</td>\n",
              "      <td>2.886945</td>\n",
              "      <td>2.751847</td>\n",
              "      <td>2.869923</td>\n",
              "      <td>2.869923</td>\n",
              "      <td>321784424</td>\n",
              "    </tr>\n",
              "    <tr>\n",
              "      <th>2022-04-14</th>\n",
              "      <td>2.869366</td>\n",
              "      <td>2.916186</td>\n",
              "      <td>2.714203</td>\n",
              "      <td>2.780882</td>\n",
              "      <td>2.780882</td>\n",
              "      <td>349909147</td>\n",
              "    </tr>\n",
              "    <tr>\n",
              "      <th>2022-04-15</th>\n",
              "      <td>2.781060</td>\n",
              "      <td>2.820187</td>\n",
              "      <td>2.755915</td>\n",
              "      <td>2.803639</td>\n",
              "      <td>2.803639</td>\n",
              "      <td>189256519</td>\n",
              "    </tr>\n",
              "    <tr>\n",
              "      <th>2022-04-16</th>\n",
              "      <td>2.803614</td>\n",
              "      <td>2.901280</td>\n",
              "      <td>2.777383</td>\n",
              "      <td>2.822680</td>\n",
              "      <td>2.822680</td>\n",
              "      <td>234480315</td>\n",
              "    </tr>\n",
              "    <tr>\n",
              "      <th>2022-04-17</th>\n",
              "      <td>2.820111</td>\n",
              "      <td>2.820111</td>\n",
              "      <td>2.781153</td>\n",
              "      <td>2.790278</td>\n",
              "      <td>2.790278</td>\n",
              "      <td>176793328</td>\n",
              "    </tr>\n",
              "  </tbody>\n",
              "</table>\n",
              "<p>612 rows × 6 columns</p>\n",
              "</div>\n",
              "      <button class=\"colab-df-convert\" onclick=\"convertToInteractive('df-59e42b8f-f5bb-48a5-acfe-9f5d0b7876ee')\"\n",
              "              title=\"Convert this dataframe to an interactive table.\"\n",
              "              style=\"display:none;\">\n",
              "        \n",
              "  <svg xmlns=\"http://www.w3.org/2000/svg\" height=\"24px\"viewBox=\"0 0 24 24\"\n",
              "       width=\"24px\">\n",
              "    <path d=\"M0 0h24v24H0V0z\" fill=\"none\"/>\n",
              "    <path d=\"M18.56 5.44l.94 2.06.94-2.06 2.06-.94-2.06-.94-.94-2.06-.94 2.06-2.06.94zm-11 1L8.5 8.5l.94-2.06 2.06-.94-2.06-.94L8.5 2.5l-.94 2.06-2.06.94zm10 10l.94 2.06.94-2.06 2.06-.94-2.06-.94-.94-2.06-.94 2.06-2.06.94z\"/><path d=\"M17.41 7.96l-1.37-1.37c-.4-.4-.92-.59-1.43-.59-.52 0-1.04.2-1.43.59L10.3 9.45l-7.72 7.72c-.78.78-.78 2.05 0 2.83L4 21.41c.39.39.9.59 1.41.59.51 0 1.02-.2 1.41-.59l7.78-7.78 2.81-2.81c.8-.78.8-2.07 0-2.86zM5.41 20L4 18.59l7.72-7.72 1.47 1.35L5.41 20z\"/>\n",
              "  </svg>\n",
              "      </button>\n",
              "      \n",
              "  <style>\n",
              "    .colab-df-container {\n",
              "      display:flex;\n",
              "      flex-wrap:wrap;\n",
              "      gap: 12px;\n",
              "    }\n",
              "\n",
              "    .colab-df-convert {\n",
              "      background-color: #E8F0FE;\n",
              "      border: none;\n",
              "      border-radius: 50%;\n",
              "      cursor: pointer;\n",
              "      display: none;\n",
              "      fill: #1967D2;\n",
              "      height: 32px;\n",
              "      padding: 0 0 0 0;\n",
              "      width: 32px;\n",
              "    }\n",
              "\n",
              "    .colab-df-convert:hover {\n",
              "      background-color: #E2EBFA;\n",
              "      box-shadow: 0px 1px 2px rgba(60, 64, 67, 0.3), 0px 1px 3px 1px rgba(60, 64, 67, 0.15);\n",
              "      fill: #174EA6;\n",
              "    }\n",
              "\n",
              "    [theme=dark] .colab-df-convert {\n",
              "      background-color: #3B4455;\n",
              "      fill: #D2E3FC;\n",
              "    }\n",
              "\n",
              "    [theme=dark] .colab-df-convert:hover {\n",
              "      background-color: #434B5C;\n",
              "      box-shadow: 0px 1px 3px 1px rgba(0, 0, 0, 0.15);\n",
              "      filter: drop-shadow(0px 1px 2px rgba(0, 0, 0, 0.3));\n",
              "      fill: #FFFFFF;\n",
              "    }\n",
              "  </style>\n",
              "\n",
              "      <script>\n",
              "        const buttonEl =\n",
              "          document.querySelector('#df-59e42b8f-f5bb-48a5-acfe-9f5d0b7876ee button.colab-df-convert');\n",
              "        buttonEl.style.display =\n",
              "          google.colab.kernel.accessAllowed ? 'block' : 'none';\n",
              "\n",
              "        async function convertToInteractive(key) {\n",
              "          const element = document.querySelector('#df-59e42b8f-f5bb-48a5-acfe-9f5d0b7876ee');\n",
              "          const dataTable =\n",
              "            await google.colab.kernel.invokeFunction('convertToInteractive',\n",
              "                                                     [key], {});\n",
              "          if (!dataTable) return;\n",
              "\n",
              "          const docLinkHtml = 'Like what you see? Visit the ' +\n",
              "            '<a target=\"_blank\" href=https://colab.research.google.com/notebooks/data_table.ipynb>data table notebook</a>'\n",
              "            + ' to learn more about interactive tables.';\n",
              "          element.innerHTML = '';\n",
              "          dataTable['output_type'] = 'display_data';\n",
              "          await google.colab.output.renderOutput(dataTable, element);\n",
              "          const docLink = document.createElement('div');\n",
              "          docLink.innerHTML = docLinkHtml;\n",
              "          element.appendChild(docLink);\n",
              "        }\n",
              "      </script>\n",
              "    </div>\n",
              "  </div>\n",
              "  "
            ]
          },
          "metadata": {},
          "execution_count": 4
        }
      ]
    },
    {
      "cell_type": "code",
      "source": [
        "pip install ta"
      ],
      "metadata": {
        "colab": {
          "base_uri": "https://localhost:8080/"
        },
        "id": "ytoP2J2Wnpbi",
        "outputId": "9c0c8f71-bc40-498f-c459-c331e39524dd"
      },
      "execution_count": 5,
      "outputs": [
        {
          "output_type": "stream",
          "name": "stdout",
          "text": [
            "Looking in indexes: https://pypi.org/simple, https://us-python.pkg.dev/colab-wheels/public/simple/\n",
            "Collecting ta\n",
            "  Downloading ta-0.10.2.tar.gz (25 kB)\n",
            "Requirement already satisfied: numpy in /usr/local/lib/python3.8/dist-packages (from ta) (1.21.6)\n",
            "Requirement already satisfied: pandas in /usr/local/lib/python3.8/dist-packages (from ta) (1.3.5)\n",
            "Requirement already satisfied: python-dateutil>=2.7.3 in /usr/local/lib/python3.8/dist-packages (from pandas->ta) (2.8.2)\n",
            "Requirement already satisfied: pytz>=2017.3 in /usr/local/lib/python3.8/dist-packages (from pandas->ta) (2022.6)\n",
            "Requirement already satisfied: six>=1.5 in /usr/local/lib/python3.8/dist-packages (from python-dateutil>=2.7.3->pandas->ta) (1.15.0)\n",
            "Building wheels for collected packages: ta\n",
            "  Building wheel for ta (setup.py) ... \u001b[?25l\u001b[?25hdone\n",
            "  Created wheel for ta: filename=ta-0.10.2-py3-none-any.whl size=29106 sha256=e00271b12eaa542fb314ddb380dacc43997f4c03f4a3c41b32915683cbfed824\n",
            "  Stored in directory: /root/.cache/pip/wheels/1b/81/50/db21d9643326c61dd6fee1dc2562d8351ee7753164c24ead38\n",
            "Successfully built ta\n",
            "Installing collected packages: ta\n",
            "Successfully installed ta-0.10.2\n"
          ]
        }
      ]
    },
    {
      "cell_type": "code",
      "source": [
        "import pandas as pd\n",
        "import ta\n",
        "from ta import add_all_ta_features\n",
        "from ta.utils import dropna"
      ],
      "metadata": {
        "id": "4_NDYkO-nrru"
      },
      "execution_count": 6,
      "outputs": []
    },
    {
      "cell_type": "code",
      "source": [
        "df['Pre_Close'] = df['Close'].shift(+1)\n",
        "df[('H-L')] = df['High'] - df['Low']\n",
        "df[('0-C')]= df['Open'] - df['Close']\n",
        "df['SMA_7'] = df.Close.rolling(7, min_periods=1).mean()\n",
        "df['rsi_7']=ta.momentum.rsi(df.Close,window=7)\n",
        "#df['MACD'] = ta.trend.macd_diff(df.Close)\n",
        "df['EMA_7']= df['Close'].ewm(span=7).mean()\n",
        "df = df.drop(columns=['Adj Close'])\n",
        "df.dropna(inplace= True)\n",
        "df"
      ],
      "metadata": {
        "colab": {
          "base_uri": "https://localhost:8080/",
          "height": 455
        },
        "id": "LRlTWlPfmcol",
        "outputId": "601b4566-331f-48ca-cf26-cd41ed871e09"
      },
      "execution_count": 7,
      "outputs": [
        {
          "output_type": "execute_result",
          "data": {
            "text/plain": [
              "                Open      High       Low     Close     Volume  Pre_Close  \\\n",
              "Date                                                                       \n",
              "2020-08-20  0.052095  0.057325  0.050800  0.053648    7332475   0.052095   \n",
              "2020-08-21  0.053644  0.053738  0.044235  0.044235    5121097   0.053648   \n",
              "2020-08-22  0.044395  0.049011  0.040692  0.046011    4347394   0.044235   \n",
              "2020-08-23  0.045990  0.048237  0.041965  0.044007    3114426   0.046011   \n",
              "2020-08-24  0.043902  0.053543  0.042178  0.051299    7868186   0.044007   \n",
              "...              ...       ...       ...       ...        ...        ...   \n",
              "2022-04-13  2.781983  2.886945  2.751847  2.869923  321784424   2.782421   \n",
              "2022-04-14  2.869366  2.916186  2.714203  2.780882  349909147   2.869923   \n",
              "2022-04-15  2.781060  2.820187  2.755915  2.803639  189256519   2.780882   \n",
              "2022-04-16  2.803614  2.901280  2.777383  2.822680  234480315   2.803639   \n",
              "2022-04-17  2.820111  2.820111  2.781153  2.790278  176793328   2.822680   \n",
              "\n",
              "                 H-L       0-C     SMA_7      rsi_7     EMA_7  \n",
              "Date                                                           \n",
              "2020-08-20  0.006525 -0.001553  0.055557  36.094661  0.054128  \n",
              "2020-08-21  0.009503  0.009409  0.052498  23.308807  0.051380  \n",
              "2020-08-22  0.008319 -0.001616  0.051791  28.856159  0.049928  \n",
              "2020-08-23  0.006272  0.001983  0.049385  26.347291  0.048360  \n",
              "2020-08-24  0.011365 -0.007397  0.048999  46.203257  0.049127  \n",
              "...              ...       ...       ...        ...       ...  \n",
              "2022-04-13  0.135098 -0.087940  2.886363  40.236566  2.909637  \n",
              "2022-04-14  0.201983  0.088484  2.843185  36.188051  2.877448  \n",
              "2022-04-15  0.064272 -0.022579  2.829312  38.046757  2.858996  \n",
              "2022-04-16  0.123897 -0.019066  2.803156  39.759602  2.849917  \n",
              "2022-04-17  0.038958  0.029833  2.788510  37.690803  2.835007  \n",
              "\n",
              "[606 rows x 11 columns]"
            ],
            "text/html": [
              "\n",
              "  <div id=\"df-5d1e816f-5e91-40c4-bb8f-b445205a2335\">\n",
              "    <div class=\"colab-df-container\">\n",
              "      <div>\n",
              "<style scoped>\n",
              "    .dataframe tbody tr th:only-of-type {\n",
              "        vertical-align: middle;\n",
              "    }\n",
              "\n",
              "    .dataframe tbody tr th {\n",
              "        vertical-align: top;\n",
              "    }\n",
              "\n",
              "    .dataframe thead th {\n",
              "        text-align: right;\n",
              "    }\n",
              "</style>\n",
              "<table border=\"1\" class=\"dataframe\">\n",
              "  <thead>\n",
              "    <tr style=\"text-align: right;\">\n",
              "      <th></th>\n",
              "      <th>Open</th>\n",
              "      <th>High</th>\n",
              "      <th>Low</th>\n",
              "      <th>Close</th>\n",
              "      <th>Volume</th>\n",
              "      <th>Pre_Close</th>\n",
              "      <th>H-L</th>\n",
              "      <th>0-C</th>\n",
              "      <th>SMA_7</th>\n",
              "      <th>rsi_7</th>\n",
              "      <th>EMA_7</th>\n",
              "    </tr>\n",
              "    <tr>\n",
              "      <th>Date</th>\n",
              "      <th></th>\n",
              "      <th></th>\n",
              "      <th></th>\n",
              "      <th></th>\n",
              "      <th></th>\n",
              "      <th></th>\n",
              "      <th></th>\n",
              "      <th></th>\n",
              "      <th></th>\n",
              "      <th></th>\n",
              "      <th></th>\n",
              "    </tr>\n",
              "  </thead>\n",
              "  <tbody>\n",
              "    <tr>\n",
              "      <th>2020-08-20</th>\n",
              "      <td>0.052095</td>\n",
              "      <td>0.057325</td>\n",
              "      <td>0.050800</td>\n",
              "      <td>0.053648</td>\n",
              "      <td>7332475</td>\n",
              "      <td>0.052095</td>\n",
              "      <td>0.006525</td>\n",
              "      <td>-0.001553</td>\n",
              "      <td>0.055557</td>\n",
              "      <td>36.094661</td>\n",
              "      <td>0.054128</td>\n",
              "    </tr>\n",
              "    <tr>\n",
              "      <th>2020-08-21</th>\n",
              "      <td>0.053644</td>\n",
              "      <td>0.053738</td>\n",
              "      <td>0.044235</td>\n",
              "      <td>0.044235</td>\n",
              "      <td>5121097</td>\n",
              "      <td>0.053648</td>\n",
              "      <td>0.009503</td>\n",
              "      <td>0.009409</td>\n",
              "      <td>0.052498</td>\n",
              "      <td>23.308807</td>\n",
              "      <td>0.051380</td>\n",
              "    </tr>\n",
              "    <tr>\n",
              "      <th>2020-08-22</th>\n",
              "      <td>0.044395</td>\n",
              "      <td>0.049011</td>\n",
              "      <td>0.040692</td>\n",
              "      <td>0.046011</td>\n",
              "      <td>4347394</td>\n",
              "      <td>0.044235</td>\n",
              "      <td>0.008319</td>\n",
              "      <td>-0.001616</td>\n",
              "      <td>0.051791</td>\n",
              "      <td>28.856159</td>\n",
              "      <td>0.049928</td>\n",
              "    </tr>\n",
              "    <tr>\n",
              "      <th>2020-08-23</th>\n",
              "      <td>0.045990</td>\n",
              "      <td>0.048237</td>\n",
              "      <td>0.041965</td>\n",
              "      <td>0.044007</td>\n",
              "      <td>3114426</td>\n",
              "      <td>0.046011</td>\n",
              "      <td>0.006272</td>\n",
              "      <td>0.001983</td>\n",
              "      <td>0.049385</td>\n",
              "      <td>26.347291</td>\n",
              "      <td>0.048360</td>\n",
              "    </tr>\n",
              "    <tr>\n",
              "      <th>2020-08-24</th>\n",
              "      <td>0.043902</td>\n",
              "      <td>0.053543</td>\n",
              "      <td>0.042178</td>\n",
              "      <td>0.051299</td>\n",
              "      <td>7868186</td>\n",
              "      <td>0.044007</td>\n",
              "      <td>0.011365</td>\n",
              "      <td>-0.007397</td>\n",
              "      <td>0.048999</td>\n",
              "      <td>46.203257</td>\n",
              "      <td>0.049127</td>\n",
              "    </tr>\n",
              "    <tr>\n",
              "      <th>...</th>\n",
              "      <td>...</td>\n",
              "      <td>...</td>\n",
              "      <td>...</td>\n",
              "      <td>...</td>\n",
              "      <td>...</td>\n",
              "      <td>...</td>\n",
              "      <td>...</td>\n",
              "      <td>...</td>\n",
              "      <td>...</td>\n",
              "      <td>...</td>\n",
              "      <td>...</td>\n",
              "    </tr>\n",
              "    <tr>\n",
              "      <th>2022-04-13</th>\n",
              "      <td>2.781983</td>\n",
              "      <td>2.886945</td>\n",
              "      <td>2.751847</td>\n",
              "      <td>2.869923</td>\n",
              "      <td>321784424</td>\n",
              "      <td>2.782421</td>\n",
              "      <td>0.135098</td>\n",
              "      <td>-0.087940</td>\n",
              "      <td>2.886363</td>\n",
              "      <td>40.236566</td>\n",
              "      <td>2.909637</td>\n",
              "    </tr>\n",
              "    <tr>\n",
              "      <th>2022-04-14</th>\n",
              "      <td>2.869366</td>\n",
              "      <td>2.916186</td>\n",
              "      <td>2.714203</td>\n",
              "      <td>2.780882</td>\n",
              "      <td>349909147</td>\n",
              "      <td>2.869923</td>\n",
              "      <td>0.201983</td>\n",
              "      <td>0.088484</td>\n",
              "      <td>2.843185</td>\n",
              "      <td>36.188051</td>\n",
              "      <td>2.877448</td>\n",
              "    </tr>\n",
              "    <tr>\n",
              "      <th>2022-04-15</th>\n",
              "      <td>2.781060</td>\n",
              "      <td>2.820187</td>\n",
              "      <td>2.755915</td>\n",
              "      <td>2.803639</td>\n",
              "      <td>189256519</td>\n",
              "      <td>2.780882</td>\n",
              "      <td>0.064272</td>\n",
              "      <td>-0.022579</td>\n",
              "      <td>2.829312</td>\n",
              "      <td>38.046757</td>\n",
              "      <td>2.858996</td>\n",
              "    </tr>\n",
              "    <tr>\n",
              "      <th>2022-04-16</th>\n",
              "      <td>2.803614</td>\n",
              "      <td>2.901280</td>\n",
              "      <td>2.777383</td>\n",
              "      <td>2.822680</td>\n",
              "      <td>234480315</td>\n",
              "      <td>2.803639</td>\n",
              "      <td>0.123897</td>\n",
              "      <td>-0.019066</td>\n",
              "      <td>2.803156</td>\n",
              "      <td>39.759602</td>\n",
              "      <td>2.849917</td>\n",
              "    </tr>\n",
              "    <tr>\n",
              "      <th>2022-04-17</th>\n",
              "      <td>2.820111</td>\n",
              "      <td>2.820111</td>\n",
              "      <td>2.781153</td>\n",
              "      <td>2.790278</td>\n",
              "      <td>176793328</td>\n",
              "      <td>2.822680</td>\n",
              "      <td>0.038958</td>\n",
              "      <td>0.029833</td>\n",
              "      <td>2.788510</td>\n",
              "      <td>37.690803</td>\n",
              "      <td>2.835007</td>\n",
              "    </tr>\n",
              "  </tbody>\n",
              "</table>\n",
              "<p>606 rows × 11 columns</p>\n",
              "</div>\n",
              "      <button class=\"colab-df-convert\" onclick=\"convertToInteractive('df-5d1e816f-5e91-40c4-bb8f-b445205a2335')\"\n",
              "              title=\"Convert this dataframe to an interactive table.\"\n",
              "              style=\"display:none;\">\n",
              "        \n",
              "  <svg xmlns=\"http://www.w3.org/2000/svg\" height=\"24px\"viewBox=\"0 0 24 24\"\n",
              "       width=\"24px\">\n",
              "    <path d=\"M0 0h24v24H0V0z\" fill=\"none\"/>\n",
              "    <path d=\"M18.56 5.44l.94 2.06.94-2.06 2.06-.94-2.06-.94-.94-2.06-.94 2.06-2.06.94zm-11 1L8.5 8.5l.94-2.06 2.06-.94-2.06-.94L8.5 2.5l-.94 2.06-2.06.94zm10 10l.94 2.06.94-2.06 2.06-.94-2.06-.94-.94-2.06-.94 2.06-2.06.94z\"/><path d=\"M17.41 7.96l-1.37-1.37c-.4-.4-.92-.59-1.43-.59-.52 0-1.04.2-1.43.59L10.3 9.45l-7.72 7.72c-.78.78-.78 2.05 0 2.83L4 21.41c.39.39.9.59 1.41.59.51 0 1.02-.2 1.41-.59l7.78-7.78 2.81-2.81c.8-.78.8-2.07 0-2.86zM5.41 20L4 18.59l7.72-7.72 1.47 1.35L5.41 20z\"/>\n",
              "  </svg>\n",
              "      </button>\n",
              "      \n",
              "  <style>\n",
              "    .colab-df-container {\n",
              "      display:flex;\n",
              "      flex-wrap:wrap;\n",
              "      gap: 12px;\n",
              "    }\n",
              "\n",
              "    .colab-df-convert {\n",
              "      background-color: #E8F0FE;\n",
              "      border: none;\n",
              "      border-radius: 50%;\n",
              "      cursor: pointer;\n",
              "      display: none;\n",
              "      fill: #1967D2;\n",
              "      height: 32px;\n",
              "      padding: 0 0 0 0;\n",
              "      width: 32px;\n",
              "    }\n",
              "\n",
              "    .colab-df-convert:hover {\n",
              "      background-color: #E2EBFA;\n",
              "      box-shadow: 0px 1px 2px rgba(60, 64, 67, 0.3), 0px 1px 3px 1px rgba(60, 64, 67, 0.15);\n",
              "      fill: #174EA6;\n",
              "    }\n",
              "\n",
              "    [theme=dark] .colab-df-convert {\n",
              "      background-color: #3B4455;\n",
              "      fill: #D2E3FC;\n",
              "    }\n",
              "\n",
              "    [theme=dark] .colab-df-convert:hover {\n",
              "      background-color: #434B5C;\n",
              "      box-shadow: 0px 1px 3px 1px rgba(0, 0, 0, 0.15);\n",
              "      filter: drop-shadow(0px 1px 2px rgba(0, 0, 0, 0.3));\n",
              "      fill: #FFFFFF;\n",
              "    }\n",
              "  </style>\n",
              "\n",
              "      <script>\n",
              "        const buttonEl =\n",
              "          document.querySelector('#df-5d1e816f-5e91-40c4-bb8f-b445205a2335 button.colab-df-convert');\n",
              "        buttonEl.style.display =\n",
              "          google.colab.kernel.accessAllowed ? 'block' : 'none';\n",
              "\n",
              "        async function convertToInteractive(key) {\n",
              "          const element = document.querySelector('#df-5d1e816f-5e91-40c4-bb8f-b445205a2335');\n",
              "          const dataTable =\n",
              "            await google.colab.kernel.invokeFunction('convertToInteractive',\n",
              "                                                     [key], {});\n",
              "          if (!dataTable) return;\n",
              "\n",
              "          const docLinkHtml = 'Like what you see? Visit the ' +\n",
              "            '<a target=\"_blank\" href=https://colab.research.google.com/notebooks/data_table.ipynb>data table notebook</a>'\n",
              "            + ' to learn more about interactive tables.';\n",
              "          element.innerHTML = '';\n",
              "          dataTable['output_type'] = 'display_data';\n",
              "          await google.colab.output.renderOutput(dataTable, element);\n",
              "          const docLink = document.createElement('div');\n",
              "          docLink.innerHTML = docLinkHtml;\n",
              "          element.appendChild(docLink);\n",
              "        }\n",
              "      </script>\n",
              "    </div>\n",
              "  </div>\n",
              "  "
            ]
          },
          "metadata": {},
          "execution_count": 7
        }
      ]
    },
    {
      "cell_type": "code",
      "source": [
        "def data_prep(dataset, target, data_start, data_end, look_back, horizon):\n",
        "    dataX,dataY = [],[]\n",
        "    data_start = data_start + look_back\n",
        "    if data_end is None:\n",
        "        data_end = len(dataset) - horizon\n",
        "\n",
        "    for i in range(data_start, data_end):\n",
        "        a = range(i-look_back, i)\n",
        "        dataX.append(dataset[a])\n",
        "\n",
        "        b = range(i+1, i+1+horizon)\n",
        "        dataY.append(target[b])\n",
        "    return np.array(dataX), np.array(dataY)"
      ],
      "metadata": {
        "id": "nUVCrzpt_Xb-"
      },
      "execution_count": 8,
      "outputs": []
    },
    {
      "cell_type": "code",
      "source": [
        "X_scaler = MinMaxScaler()\n",
        "Y_scaler = MinMaxScaler()\n",
        "# X_data = X_scaler.fit_transform(df[['Open', 'High', 'Low','Volume','H-L',\t'0-C','SMA_7','rsi_7','EMA_7']])//experiment4\n",
        "X_data = X_scaler.fit_transform(df[['H-L',\t'0-C','SMA_7','rsi_7','EMA_7']])\n",
        "Y_data = Y_scaler.fit_transform(df[['Close']])\n",
        "\n",
        "##['Open', 'High', 'Low','Volume']\n",
        "##['H-L',\t'0-C','SMA_7','rsi_7','EMA_7']"
      ],
      "metadata": {
        "id": "8uxf-46a_Zm1"
      },
      "execution_count": 9,
      "outputs": []
    },
    {
      "cell_type": "code",
      "source": [
        "##TRAIN_SPLIT = int(len(df) * 0.8)\n",
        "look_back = 10\n",
        "horizon = 10\n",
        "train_split = int(len(df) * 0.8)\n",
        "x_train, y_train = data_prep(X_data, Y_data, 0, train_split, look_back, horizon)\n",
        "x_vali, y_vali = data_prep(X_data, Y_data, train_split, None, look_back, horizon)"
      ],
      "metadata": {
        "id": "vhampguE_cgy"
      },
      "execution_count": 10,
      "outputs": []
    },
    {
      "cell_type": "code",
      "source": [
        "x_train"
      ],
      "metadata": {
        "colab": {
          "base_uri": "https://localhost:8080/"
        },
        "id": "BJNFqmFL_eer",
        "outputId": "fc74e9fb-0452-49be-a47e-8b2285653331"
      },
      "execution_count": 11,
      "outputs": [
        {
          "output_type": "execute_result",
          "data": {
            "text/plain": [
              "array([[[0.00191371, 0.63511549, 0.00303412, 0.28354178, 0.00301667],\n",
              "        [0.00300256, 0.64105838, 0.00260118, 0.13017381, 0.00260212],\n",
              "        [0.00256966, 0.63508134, 0.00250103, 0.19671502, 0.00238325],\n",
              "        ...,\n",
              "        [0.00706034, 0.62761614, 0.00255979, 0.73288956, 0.00344186],\n",
              "        [0.00431189, 0.63843715, 0.00307355, 0.646305  , 0.00392704],\n",
              "        [0.00264717, 0.6344118 , 0.00360937, 0.67646739, 0.00439727]],\n",
              "\n",
              "       [[0.00300256, 0.64105838, 0.00260118, 0.13017381, 0.00260212],\n",
              "        [0.00256966, 0.63508134, 0.00250103, 0.19671502, 0.00238325],\n",
              "        [0.00182121, 0.63703248, 0.0021605 , 0.16662082, 0.00214664],\n",
              "        ...,\n",
              "        [0.00431189, 0.63843715, 0.00307355, 0.646305  , 0.00392704],\n",
              "        [0.00264717, 0.6344118 , 0.00360937, 0.67646739, 0.00439727],\n",
              "        [0.00289287, 0.63934089, 0.00406708, 0.55147151, 0.00452496]],\n",
              "\n",
              "       [[0.00256966, 0.63508134, 0.00250103, 0.19671502, 0.00238325],\n",
              "        [0.00182121, 0.63703248, 0.0021605 , 0.16662082, 0.00214664],\n",
              "        [0.00368337, 0.63194726, 0.0021059 , 0.40479569, 0.00226236],\n",
              "        ...,\n",
              "        [0.00264717, 0.6344118 , 0.00360937, 0.67646739, 0.00439727],\n",
              "        [0.00289287, 0.63934089, 0.00406708, 0.55147151, 0.00452496],\n",
              "        [0.00362706, 0.63418411, 0.00444896, 0.5995042 , 0.00475462]],\n",
              "\n",
              "       ...,\n",
              "\n",
              "       [[0.73397694, 0.62532779, 0.93792234, 0.43718621, 0.95914656],\n",
              "        [0.33759574, 0.99152155, 0.89623478, 0.32921704, 0.92279183],\n",
              "        [0.33521146, 0.5869777 , 0.86664834, 0.34826208, 0.89854316],\n",
              "        ...,\n",
              "        [0.13939143, 0.527184  , 0.73847802, 0.30244771, 0.79702118],\n",
              "        [0.17035491, 0.40928374, 0.73942418, 0.44074887, 0.80296214],\n",
              "        [0.33494235, 1.        , 0.72500983, 0.28612906, 0.78179157]],\n",
              "\n",
              "       [[0.33759574, 0.99152155, 0.89623478, 0.32921704, 0.92279183],\n",
              "        [0.33521146, 0.5869777 , 0.86664834, 0.34826208, 0.89854316],\n",
              "        [0.1767721 , 0.73569943, 0.83744761, 0.31588481, 0.87354477],\n",
              "        ...,\n",
              "        [0.17035491, 0.40928374, 0.73942418, 0.44074887, 0.80296214],\n",
              "        [0.33494235, 1.        , 0.72500983, 0.28612906, 0.78179157],\n",
              "        [0.1215106 , 0.64643907, 0.71388907, 0.28267526, 0.7652435 ]],\n",
              "\n",
              "       [[0.33521146, 0.5869777 , 0.86664834, 0.34826208, 0.89854316],\n",
              "        [0.1767721 , 0.73569943, 0.83744761, 0.31588481, 0.87354477],\n",
              "        [0.1617443 , 0.61867579, 0.81268044, 0.32347032, 0.85573291],\n",
              "        ...,\n",
              "        [0.33494235, 1.        , 0.72500983, 0.28612906, 0.78179157],\n",
              "        [0.1215106 , 0.64643907, 0.71388907, 0.28267526, 0.7652435 ],\n",
              "        [0.27558066, 0.43984389, 0.70970828, 0.40606606, 0.76671078]]])"
            ]
          },
          "metadata": {},
          "execution_count": 11
        }
      ]
    },
    {
      "cell_type": "code",
      "source": [
        "print ('Multiple window of past history\\n')\n",
        "print(x_train[0])\n",
        "print ('\\n Target horizon\\n')\n",
        "print (y_train[0])"
      ],
      "metadata": {
        "colab": {
          "base_uri": "https://localhost:8080/"
        },
        "id": "QxuHL7J-_g9-",
        "outputId": "5e647307-a2f5-4600-9659-1f6ab0a570f2"
      },
      "execution_count": 12,
      "outputs": [
        {
          "output_type": "stream",
          "name": "stdout",
          "text": [
            "Multiple window of past history\n",
            "\n",
            "[[0.00191371 0.63511549 0.00303412 0.28354178 0.00301667]\n",
            " [0.00300256 0.64105838 0.00260118 0.13017381 0.00260212]\n",
            " [0.00256966 0.63508134 0.00250103 0.19671502 0.00238325]\n",
            " [0.00182121 0.63703248 0.0021605  0.16662082 0.00214664]\n",
            " [0.00368337 0.63194726 0.0021059  0.40479569 0.00226236]\n",
            " [0.00357807 0.63748354 0.0020327  0.3372283  0.00222159]\n",
            " [0.00379452 0.63052469 0.00215415 0.55600539 0.00257865]\n",
            " [0.00706034 0.62761614 0.00255979 0.73288956 0.00344186]\n",
            " [0.00431189 0.63843715 0.00307355 0.646305   0.00392704]\n",
            " [0.00264717 0.6344118  0.00360937 0.67646739 0.00439727]]\n",
            "\n",
            " Target horizon\n",
            "\n",
            "[[0.0047021 ]\n",
            " [0.00347374]\n",
            " [0.00337472]\n",
            " [0.00161431]\n",
            " [0.00174523]\n",
            " [0.00080584]\n",
            " [0.00120685]\n",
            " [0.00084849]\n",
            " [0.0022731 ]\n",
            " [0.00209141]]\n"
          ]
        }
      ]
    },
    {
      "cell_type": "code",
      "source": [
        "import pandas as pd\n",
        "import numpy as np\n",
        "import matplotlib.pyplot as plt\n",
        "import plotly.express as px # to plot the time series plot\n",
        "from sklearn import metrics # for the evalution\n",
        "from sklearn.preprocessing import LabelEncoder,MinMaxScaler\n",
        "\n",
        "import tensorflow as tf"
      ],
      "metadata": {
        "id": "9YHpXcEK_jRu"
      },
      "execution_count": 13,
      "outputs": []
    },
    {
      "cell_type": "code",
      "source": [
        "batch_size = 128\n",
        "buffer_size = 18\n",
        "\n",
        "train_data = tf.data.Dataset.from_tensor_slices((x_train, y_train))\n",
        "train_data = train_data.batch(batch_size).repeat()\n",
        "\n",
        "val_data = tf.data.Dataset.from_tensor_slices((x_vali, y_vali))\n",
        "val_data = val_data.batch(batch_size).repeat()"
      ],
      "metadata": {
        "id": "0zQIYwlSH0yK"
      },
      "execution_count": 14,
      "outputs": []
    },
    {
      "cell_type": "code",
      "source": [
        "from keras.models import Model\n",
        "from keras.layers import Input\n",
        "from keras.layers import Dense\n",
        "from keras.layers import Flatten\n",
        "from keras.layers.convolutional import Conv1D\n",
        "from keras.layers.convolutional import MaxPooling1D\n",
        "# from keras.layers.merge import concatenate\n",
        "import tensorflow as tf"
      ],
      "metadata": {
        "id": "rqnDiq95Drku"
      },
      "execution_count": 15,
      "outputs": []
    },
    {
      "cell_type": "code",
      "source": [
        "x_train.shape[-2:]"
      ],
      "metadata": {
        "colab": {
          "base_uri": "https://localhost:8080/"
        },
        "id": "tIWp2c1XnWf-",
        "outputId": "d7fb2481-fa91-4d6d-ed81-109ee3977cbf"
      },
      "execution_count": 16,
      "outputs": [
        {
          "output_type": "execute_result",
          "data": {
            "text/plain": [
              "(10, 5)"
            ]
          },
          "metadata": {},
          "execution_count": 16
        }
      ]
    },
    {
      "cell_type": "code",
      "source": [
        "import tensorflow as tf\n",
        "from tensorflow.keras import layers\n",
        "from keras.optimizers import Adam\n",
        "from tensorflow.python.keras import regularizers\n",
        "# Set the learning rate\n",
        "#0.0001,0.001,0.01,0.1,1\n",
        "learning_rate = 0.01\n",
        "\n",
        "l1_rate=regularizers.l1(0.001)\n",
        "# Create the optimizer with the desired learning rate\n",
        "optimizer = Adam(learning_rate=learning_rate)\n",
        "# Set random seed for as reproducible results as possible\n",
        "tf.random.set_seed(7)\n",
        "\n",
        "lstm_model = Sequential()\n",
        "lstm_model.add(LSTM(32,return_sequences=True,input_shape=(x_train.shape[-2:]),activity_regularizer= l1_rate))\n",
        "lstm_model.add(Dense(20,activation='linear',activity_regularizer= l1_rate))\n",
        "lstm_model.add(LSTM(16,activity_regularizer= l1_rate))\n",
        "lstm_model.add(Dropout(0.4))\n",
        "lstm_model.add(Dense(units=horizon,activation='linear',activity_regularizer= l1_rate))\n",
        "lstm_model.add(Activation('linear'))\n",
        "lstm_model.compile(optimizer=optimizer, loss='mse')\n",
        "lstm_model.summary()\n",
        "\n"
      ],
      "metadata": {
        "colab": {
          "base_uri": "https://localhost:8080/"
        },
        "id": "zts6fS0JE6Hy",
        "outputId": "dbd47ed7-248d-4a53-c7d8-033af6ca6c89"
      },
      "execution_count": 17,
      "outputs": [
        {
          "output_type": "stream",
          "name": "stdout",
          "text": [
            "Model: \"sequential\"\n",
            "_________________________________________________________________\n",
            " Layer (type)                Output Shape              Param #   \n",
            "=================================================================\n",
            " lstm (LSTM)                 (None, 10, 32)            4864      \n",
            "                                                                 \n",
            " dense (Dense)               (None, 10, 20)            660       \n",
            "                                                                 \n",
            " lstm_1 (LSTM)               (None, 16)                2368      \n",
            "                                                                 \n",
            " dropout (Dropout)           (None, 16)                0         \n",
            "                                                                 \n",
            " dense_1 (Dense)             (None, 10)                170       \n",
            "                                                                 \n",
            " activation (Activation)     (None, 10)                0         \n",
            "                                                                 \n",
            "=================================================================\n",
            "Total params: 8,062\n",
            "Trainable params: 8,062\n",
            "Non-trainable params: 0\n",
            "_________________________________________________________________\n"
          ]
        }
      ]
    },
    {
      "cell_type": "code",
      "source": [
        "#model_path = 'CNN_Multivariate.h5'\n",
        "#early_stopings = tf.keras.callbacks.EarlyStopping(monitor='val_loss', min_delta=0, patience=10, verbose=1, mode='min')\n",
        "#checkpoint =  tf.keras.callbacks.ModelCheckpoint(model_path, monitor='val_loss', save_best_only=True, mode='min', verbose=0)\n",
        "#callbacks=[early_stopings,checkpoint]"
      ],
      "metadata": {
        "id": "pkWp7tm0HoY4"
      },
      "execution_count": 18,
      "outputs": []
    },
    {
      "cell_type": "code",
      "source": [
        "history = lstm_model.fit(train_data,epochs=100,steps_per_epoch=100,batch_size =128,validation_data=val_data,validation_steps=50,verbose=1)#callback\n",
        "##history = cnn_model.fit(train_data,epochs=50,steps_per_epoch=100,validation_data=val_data,validation_steps=50,verbose=1)"
      ],
      "metadata": {
        "colab": {
          "base_uri": "https://localhost:8080/"
        },
        "id": "1vqC4wRgHrxZ",
        "outputId": "41406c29-d3ec-44b6-a2d7-dbe999b637f1"
      },
      "execution_count": 19,
      "outputs": [
        {
          "output_type": "stream",
          "name": "stdout",
          "text": [
            "Epoch 1/100\n",
            "100/100 [==============================] - 9s 51ms/step - loss: 0.0186 - val_loss: 0.0243\n",
            "Epoch 2/100\n",
            "100/100 [==============================] - 3s 31ms/step - loss: 0.0100 - val_loss: 0.0197\n",
            "Epoch 3/100\n",
            "100/100 [==============================] - 3s 33ms/step - loss: 0.0077 - val_loss: 0.0165\n",
            "Epoch 4/100\n",
            "100/100 [==============================] - 3s 28ms/step - loss: 0.0082 - val_loss: 0.0185\n",
            "Epoch 5/100\n",
            "100/100 [==============================] - 3s 25ms/step - loss: 0.0064 - val_loss: 0.0173\n",
            "Epoch 6/100\n",
            "100/100 [==============================] - 3s 31ms/step - loss: 0.0062 - val_loss: 0.0328\n",
            "Epoch 7/100\n",
            "100/100 [==============================] - 3s 31ms/step - loss: 0.0058 - val_loss: 0.0400\n",
            "Epoch 8/100\n",
            "100/100 [==============================] - 3s 30ms/step - loss: 0.0062 - val_loss: 0.0317\n",
            "Epoch 9/100\n",
            "100/100 [==============================] - 3s 29ms/step - loss: 0.0055 - val_loss: 0.0431\n",
            "Epoch 10/100\n",
            "100/100 [==============================] - 2s 18ms/step - loss: 0.0053 - val_loss: 0.0479\n",
            "Epoch 11/100\n",
            "100/100 [==============================] - 1s 15ms/step - loss: 0.0052 - val_loss: 0.0360\n",
            "Epoch 12/100\n",
            "100/100 [==============================] - 1s 14ms/step - loss: 0.0053 - val_loss: 0.0461\n",
            "Epoch 13/100\n",
            "100/100 [==============================] - 1s 14ms/step - loss: 0.0051 - val_loss: 0.0380\n",
            "Epoch 14/100\n",
            "100/100 [==============================] - 1s 14ms/step - loss: 0.0048 - val_loss: 0.0374\n",
            "Epoch 15/100\n",
            "100/100 [==============================] - 1s 14ms/step - loss: 0.0052 - val_loss: 0.0467\n",
            "Epoch 16/100\n",
            "100/100 [==============================] - 1s 15ms/step - loss: 0.0051 - val_loss: 0.0448\n",
            "Epoch 17/100\n",
            "100/100 [==============================] - 1s 15ms/step - loss: 0.0048 - val_loss: 0.0487\n",
            "Epoch 18/100\n",
            "100/100 [==============================] - 1s 15ms/step - loss: 0.0052 - val_loss: 0.0511\n",
            "Epoch 19/100\n",
            "100/100 [==============================] - 1s 15ms/step - loss: 0.0050 - val_loss: 0.0497\n",
            "Epoch 20/100\n",
            "100/100 [==============================] - 1s 15ms/step - loss: 0.0047 - val_loss: 0.0390\n",
            "Epoch 21/100\n",
            "100/100 [==============================] - 1s 15ms/step - loss: 0.0047 - val_loss: 0.0512\n",
            "Epoch 22/100\n",
            "100/100 [==============================] - 1s 15ms/step - loss: 0.0048 - val_loss: 0.0406\n",
            "Epoch 23/100\n",
            "100/100 [==============================] - 1s 14ms/step - loss: 0.0047 - val_loss: 0.0419\n",
            "Epoch 24/100\n",
            "100/100 [==============================] - 1s 15ms/step - loss: 0.0048 - val_loss: 0.0401\n",
            "Epoch 25/100\n",
            "100/100 [==============================] - 1s 15ms/step - loss: 0.0048 - val_loss: 0.0303\n",
            "Epoch 26/100\n",
            "100/100 [==============================] - 1s 15ms/step - loss: 0.0048 - val_loss: 0.0533\n",
            "Epoch 27/100\n",
            "100/100 [==============================] - 1s 15ms/step - loss: 0.0045 - val_loss: 0.0394\n",
            "Epoch 28/100\n",
            "100/100 [==============================] - 1s 14ms/step - loss: 0.0045 - val_loss: 0.0369\n",
            "Epoch 29/100\n",
            "100/100 [==============================] - 1s 15ms/step - loss: 0.0047 - val_loss: 0.0381\n",
            "Epoch 30/100\n",
            "100/100 [==============================] - 1s 15ms/step - loss: 0.0046 - val_loss: 0.0431\n",
            "Epoch 31/100\n",
            "100/100 [==============================] - 1s 15ms/step - loss: 0.0046 - val_loss: 0.0406\n",
            "Epoch 32/100\n",
            "100/100 [==============================] - 1s 15ms/step - loss: 0.0044 - val_loss: 0.0336\n",
            "Epoch 33/100\n",
            "100/100 [==============================] - 1s 15ms/step - loss: 0.0047 - val_loss: 0.0481\n",
            "Epoch 34/100\n",
            "100/100 [==============================] - 1s 14ms/step - loss: 0.0046 - val_loss: 0.0458\n",
            "Epoch 35/100\n",
            "100/100 [==============================] - 1s 14ms/step - loss: 0.0045 - val_loss: 0.0410\n",
            "Epoch 36/100\n",
            "100/100 [==============================] - 1s 14ms/step - loss: 0.0044 - val_loss: 0.0356\n",
            "Epoch 37/100\n",
            "100/100 [==============================] - 1s 14ms/step - loss: 0.0043 - val_loss: 0.0440\n",
            "Epoch 38/100\n",
            "100/100 [==============================] - 1s 14ms/step - loss: 0.0045 - val_loss: 0.0425\n",
            "Epoch 39/100\n",
            "100/100 [==============================] - 1s 15ms/step - loss: 0.0045 - val_loss: 0.0475\n",
            "Epoch 40/100\n",
            "100/100 [==============================] - 1s 15ms/step - loss: 0.0044 - val_loss: 0.0375\n",
            "Epoch 41/100\n",
            "100/100 [==============================] - 1s 15ms/step - loss: 0.0044 - val_loss: 0.0415\n",
            "Epoch 42/100\n",
            "100/100 [==============================] - 1s 14ms/step - loss: 0.0046 - val_loss: 0.0386\n",
            "Epoch 43/100\n",
            "100/100 [==============================] - 2s 15ms/step - loss: 0.0045 - val_loss: 0.0395\n",
            "Epoch 44/100\n",
            "100/100 [==============================] - 1s 14ms/step - loss: 0.0044 - val_loss: 0.0437\n",
            "Epoch 45/100\n",
            "100/100 [==============================] - 1s 15ms/step - loss: 0.0045 - val_loss: 0.0419\n",
            "Epoch 46/100\n",
            "100/100 [==============================] - 1s 14ms/step - loss: 0.0045 - val_loss: 0.0425\n",
            "Epoch 47/100\n",
            "100/100 [==============================] - 1s 15ms/step - loss: 0.0043 - val_loss: 0.0460\n",
            "Epoch 48/100\n",
            "100/100 [==============================] - 1s 15ms/step - loss: 0.0046 - val_loss: 0.0500\n",
            "Epoch 49/100\n",
            "100/100 [==============================] - 1s 15ms/step - loss: 0.0042 - val_loss: 0.0513\n",
            "Epoch 50/100\n",
            "100/100 [==============================] - 1s 15ms/step - loss: 0.0046 - val_loss: 0.0381\n",
            "Epoch 51/100\n",
            "100/100 [==============================] - 1s 15ms/step - loss: 0.0044 - val_loss: 0.0514\n",
            "Epoch 52/100\n",
            "100/100 [==============================] - 1s 15ms/step - loss: 0.0044 - val_loss: 0.0523\n",
            "Epoch 53/100\n",
            "100/100 [==============================] - 1s 15ms/step - loss: 0.0047 - val_loss: 0.0479\n",
            "Epoch 54/100\n",
            "100/100 [==============================] - 1s 15ms/step - loss: 0.0043 - val_loss: 0.0492\n",
            "Epoch 55/100\n",
            "100/100 [==============================] - 1s 15ms/step - loss: 0.0042 - val_loss: 0.0526\n",
            "Epoch 56/100\n",
            "100/100 [==============================] - 2s 15ms/step - loss: 0.0042 - val_loss: 0.0628\n",
            "Epoch 57/100\n",
            "100/100 [==============================] - 1s 15ms/step - loss: 0.0043 - val_loss: 0.0448\n",
            "Epoch 58/100\n",
            "100/100 [==============================] - 1s 15ms/step - loss: 0.0043 - val_loss: 0.0579\n",
            "Epoch 59/100\n",
            "100/100 [==============================] - 1s 15ms/step - loss: 0.0044 - val_loss: 0.0485\n",
            "Epoch 60/100\n",
            "100/100 [==============================] - 2s 15ms/step - loss: 0.0043 - val_loss: 0.0657\n",
            "Epoch 61/100\n",
            "100/100 [==============================] - 1s 15ms/step - loss: 0.0046 - val_loss: 0.0562\n",
            "Epoch 62/100\n",
            "100/100 [==============================] - 2s 15ms/step - loss: 0.0043 - val_loss: 0.0548\n",
            "Epoch 63/100\n",
            "100/100 [==============================] - 2s 15ms/step - loss: 0.0051 - val_loss: 0.0617\n",
            "Epoch 64/100\n",
            "100/100 [==============================] - 2s 15ms/step - loss: 0.0043 - val_loss: 0.0529\n",
            "Epoch 65/100\n",
            "100/100 [==============================] - 3s 27ms/step - loss: 0.0043 - val_loss: 0.0693\n",
            "Epoch 66/100\n",
            "100/100 [==============================] - 3s 26ms/step - loss: 0.0043 - val_loss: 0.0691\n",
            "Epoch 67/100\n",
            "100/100 [==============================] - 1s 15ms/step - loss: 0.0041 - val_loss: 0.0535\n",
            "Epoch 68/100\n",
            "100/100 [==============================] - 1s 15ms/step - loss: 0.0044 - val_loss: 0.0555\n",
            "Epoch 69/100\n",
            "100/100 [==============================] - 1s 15ms/step - loss: 0.0041 - val_loss: 0.0647\n",
            "Epoch 70/100\n",
            "100/100 [==============================] - 1s 15ms/step - loss: 0.0043 - val_loss: 0.0631\n",
            "Epoch 71/100\n",
            "100/100 [==============================] - 1s 15ms/step - loss: 0.0045 - val_loss: 0.0541\n",
            "Epoch 72/100\n",
            "100/100 [==============================] - 1s 15ms/step - loss: 0.0040 - val_loss: 0.0783\n",
            "Epoch 73/100\n",
            "100/100 [==============================] - 1s 15ms/step - loss: 0.0043 - val_loss: 0.0645\n",
            "Epoch 74/100\n",
            "100/100 [==============================] - 1s 15ms/step - loss: 0.0042 - val_loss: 0.0644\n",
            "Epoch 75/100\n",
            "100/100 [==============================] - 1s 15ms/step - loss: 0.0043 - val_loss: 0.0482\n",
            "Epoch 76/100\n",
            "100/100 [==============================] - 1s 15ms/step - loss: 0.0043 - val_loss: 0.0769\n",
            "Epoch 77/100\n",
            "100/100 [==============================] - 1s 15ms/step - loss: 0.0043 - val_loss: 0.0474\n",
            "Epoch 78/100\n",
            "100/100 [==============================] - 1s 15ms/step - loss: 0.0039 - val_loss: 0.0654\n",
            "Epoch 79/100\n",
            "100/100 [==============================] - 2s 15ms/step - loss: 0.0041 - val_loss: 0.1366\n",
            "Epoch 80/100\n",
            "100/100 [==============================] - 1s 15ms/step - loss: 0.0044 - val_loss: 0.0574\n",
            "Epoch 81/100\n",
            "100/100 [==============================] - 1s 14ms/step - loss: 0.0042 - val_loss: 0.0567\n",
            "Epoch 82/100\n",
            "100/100 [==============================] - 2s 15ms/step - loss: 0.0039 - val_loss: 0.0723\n",
            "Epoch 83/100\n",
            "100/100 [==============================] - 1s 15ms/step - loss: 0.0039 - val_loss: 0.1766\n",
            "Epoch 84/100\n",
            "100/100 [==============================] - 1s 15ms/step - loss: 0.0047 - val_loss: 0.0450\n",
            "Epoch 85/100\n",
            "100/100 [==============================] - 1s 15ms/step - loss: 0.0042 - val_loss: 0.1643\n",
            "Epoch 86/100\n",
            "100/100 [==============================] - 1s 15ms/step - loss: 0.0039 - val_loss: 0.1890\n",
            "Epoch 87/100\n",
            "100/100 [==============================] - 1s 15ms/step - loss: 0.0045 - val_loss: 0.0690\n",
            "Epoch 88/100\n",
            "100/100 [==============================] - 1s 15ms/step - loss: 0.0040 - val_loss: 0.1944\n",
            "Epoch 89/100\n",
            "100/100 [==============================] - 1s 15ms/step - loss: 0.0044 - val_loss: 0.0368\n",
            "Epoch 90/100\n",
            "100/100 [==============================] - 1s 15ms/step - loss: 0.0043 - val_loss: 0.0373\n",
            "Epoch 91/100\n",
            "100/100 [==============================] - 2s 15ms/step - loss: 0.0041 - val_loss: 0.0370\n",
            "Epoch 92/100\n",
            "100/100 [==============================] - 1s 15ms/step - loss: 0.0041 - val_loss: 0.0450\n",
            "Epoch 93/100\n",
            "100/100 [==============================] - 2s 15ms/step - loss: 0.0042 - val_loss: 0.0518\n",
            "Epoch 94/100\n",
            "100/100 [==============================] - 2s 15ms/step - loss: 0.0043 - val_loss: 0.1563\n",
            "Epoch 95/100\n",
            "100/100 [==============================] - 2s 15ms/step - loss: 0.0041 - val_loss: 0.5416\n",
            "Epoch 96/100\n",
            "100/100 [==============================] - 2s 15ms/step - loss: 0.0047 - val_loss: 0.0541\n",
            "Epoch 97/100\n",
            "100/100 [==============================] - 1s 15ms/step - loss: 0.0040 - val_loss: 0.3427\n",
            "Epoch 98/100\n",
            "100/100 [==============================] - 1s 15ms/step - loss: 0.0039 - val_loss: 0.5884\n",
            "Epoch 99/100\n",
            "100/100 [==============================] - 2s 15ms/step - loss: 0.0044 - val_loss: 0.3089\n",
            "Epoch 100/100\n",
            "100/100 [==============================] - 1s 15ms/step - loss: 0.0040 - val_loss: 0.7047\n"
          ]
        }
      ]
    },
    {
      "cell_type": "code",
      "source": [
        "plt.figure(figsize=(16,9))\n",
        "plt.plot(history.history['loss'])\n",
        "plt.plot(history.history['val_loss'])\n",
        "plt.title('Model loss')\n",
        "plt.ylabel('loss')\n",
        "plt.xlabel('epoch')\n",
        "plt.legend(['train loss', 'validation loss'])\n",
        "plt.show()"
      ],
      "metadata": {
        "id": "05kGXARbH9w3",
        "colab": {
          "base_uri": "https://localhost:8080/",
          "height": 567
        },
        "outputId": "7a447fc2-8d9b-4743-d17d-384c7814f3d9"
      },
      "execution_count": 20,
      "outputs": [
        {
          "output_type": "display_data",
          "data": {
            "text/plain": [
              "<Figure size 1152x648 with 1 Axes>"
            ],
            "image/png": "[encoded data removed]"
          },
          "metadata": {
            "needs_background": "light"
          }
        }
      ]
    },
    {
      "cell_type": "code",
      "source": [
        "df.columns"
      ],
      "metadata": {
        "id": "jJ6fj09EIUFi",
        "colab": {
          "base_uri": "https://localhost:8080/"
        },
        "outputId": "e6db658a-73e3-403f-aa47-986ff7efbd53"
      },
      "execution_count": 21,
      "outputs": [
        {
          "output_type": "execute_result",
          "data": {
            "text/plain": [
              "Index(['Open', 'High', 'Low', 'Close', 'Volume', 'Pre_Close', 'H-L', '0-C',\n",
              "       'SMA_7', 'rsi_7', 'EMA_7'],\n",
              "      dtype='object')"
            ]
          },
          "metadata": {},
          "execution_count": 21
        }
      ]
    },
    {
      "cell_type": "code",
      "source": [
        "##['Open', 'High', 'Low','Volume']\n",
        "##['H-L',\t'0-C','SMA_7','rsi_7','EMA_7']\n",
        "\n",
        "# data_val = X_scaler.fit_transform(df[['Open', 'High', 'Low','Volume','H-L',\t'0-C','SMA_7','rsi_7','EMA_7']].tail(10))\n",
        "data_val = X_scaler.fit_transform(df[['H-L',\t'0-C','SMA_7','rsi_7','EMA_7']].tail(10))\n",
        "# data_val = X_scaler.fit_transform(df[['Open', 'High', 'Low','Volume']].tail(10))\n",
        "val_rescaled = data_val.reshape(1, data_val.shape[0], data_val.shape[1])\n",
        "pred=lstm_model.predict(val_rescaled)\n",
        "pred_Inverse = Y_scaler.inverse_transform(pred)\n",
        "pred_Inverse"
      ],
      "metadata": {
        "id": "eFhfHDpCIbc2",
        "colab": {
          "base_uri": "https://localhost:8080/"
        },
        "outputId": "01271c42-9bda-432c-bceb-48b8e17cf082"
      },
      "execution_count": 22,
      "outputs": [
        {
          "output_type": "stream",
          "name": "stdout",
          "text": [
            "1/1 [==============================] - 1s 872ms/step\n"
          ]
        },
        {
          "output_type": "execute_result",
          "data": {
            "text/plain": [
              "array([[6.2508364, 6.1170807, 5.938598 , 5.6879606, 5.397329 , 5.182568 ,\n",
              "        4.9764605, 4.781147 , 4.617452 , 4.4773903]], dtype=float32)"
            ]
          },
          "metadata": {},
          "execution_count": 22
        }
      ]
    },
    {
      "cell_type": "code",
      "source": [
        "def timeseries_evaluation_metrics_func(y_true, y_pred):\n",
        "    def mean_absolute_percentage_error(y_true, y_pred): \n",
        "        y_true, y_pred = np.array(y_true), np.array(y_pred)\n",
        "        return np.mean(np.abs((y_true - y_pred) / y_true)) * 100\n",
        "\n",
        "    print('Evaluation metric results:-')\n",
        "    print(f'MSE is : {metrics.mean_squared_error(y_true, y_pred)}')\n",
        "    print(f'MAE is : {metrics.mean_absolute_error(y_true, y_pred)}')\n",
        "    print(f'RMSE is : {np.sqrt(metrics.mean_squared_error(y_true, y_pred))}')\n",
        "    print(f'MAPE is : {mean_absolute_percentage_error(y_true, y_pred)}')\n"
      ],
      "metadata": {
        "id": "qCa3fcUgIro5"
      },
      "execution_count": 23,
      "outputs": []
    },
    {
      "cell_type": "code",
      "source": [
        "validate = (df[['Close']].tail(10))\n",
        "timeseries_evaluation_metrics_func(validate['Close'],pred_Inverse[0])"
      ],
      "metadata": {
        "id": "vZheU0ClIv6C",
        "colab": {
          "base_uri": "https://localhost:8080/"
        },
        "outputId": "70bc1c14-d9fa-439a-bfe8-71c338130279"
      },
      "execution_count": 24,
      "outputs": [
        {
          "output_type": "stream",
          "name": "stdout",
          "text": [
            "Evaluation metric results:-\n",
            "MSE is : 6.6274560897125685\n",
            "MAE is : 2.510793266235352\n",
            "RMSE is : 2.574384604077753\n",
            "MAPE is : 88.54388260066891\n"
          ]
        }
      ]
    },
    {
      "cell_type": "code",
      "source": [
        "plt.figure(figsize=(16,9))\n",
        "plt.plot( list(validate['Close']))\n",
        "plt.plot( list(pred_Inverse[0]))\n",
        "plt.title(\"Actual vs Predicted\")\n",
        "plt.ylabel(\"Close\")\n",
        "plt.legend(('Actual','predicted'))\n",
        "plt.show()"
      ],
      "metadata": {
        "id": "9F4dY-uMJau0",
        "colab": {
          "base_uri": "https://localhost:8080/",
          "height": 553
        },
        "outputId": "272f8493-66a3-41a9-c1be-920710bc292a"
      },
      "execution_count": 25,
      "outputs": [
        {
          "output_type": "display_data",
          "data": {
            "text/plain": [
              "<Figure size 1152x648 with 1 Axes>"
            ],
            "image/png": "[encoded data removed]"
          },
          "metadata": {
            "needs_background": "light"
          }
        }
      ]
    }
  ]
}