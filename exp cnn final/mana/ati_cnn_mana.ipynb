{
  "cells": [
    {
      "cell_type": "markdown",
      "metadata": {
        "id": "imX7FpVVdT0L"
      },
      "source": [
        "**(SAND) GRU model -‘Open’, ‘EMA_7’**\n",
        "\n",
        "\n",
        "\n"
      ]
    },
    {
      "cell_type": "code",
      "execution_count": 27,
      "metadata": {
        "id": "6r5emgwN_F-_"
      },
      "outputs": [],
      "source": [
        "import numpy as np\n",
        "import pandas as pd\n",
        "from keras.models import Sequential\n",
        "from keras.layers import LSTM, Dense, Dropout\n",
        "from keras import optimizers\n",
        "import matplotlib.pyplot as plt\n",
        "from keras.models import load_model\n",
        "from sklearn.preprocessing import MinMaxScaler\n",
        "from sklearn.model_selection import train_test_split\n",
        "import sklearn.metrics as metrics\n",
        "from keras.models import Sequential\n",
        "from keras.layers import LSTM, GRU, Dense, Dropout,Activation\n",
        "from keras import optimizers\n",
        "import numpy\n",
        "import matplotlib.pyplot as plt\n",
        "import pandas\n",
        "import math\n",
        "from keras.models import Sequential\n",
        "from keras.layers import Dense\n",
        "from keras.layers import LSTM\n",
        "from sklearn.preprocessing import MinMaxScaler\n",
        "from sklearn.metrics import mean_squared_error"
      ]
    },
    {
      "cell_type": "code",
      "execution_count": 28,
      "metadata": {
        "id": "QsNzkIw1_IjO"
      },
      "outputs": [],
      "source": [
        "#sand = 'https://raw.githubusercontent.com/loguansiang/fyp/main/SAND%20fyp.csv'\n",
        "#slp= 'https://raw.githubusercontent.com/loguansiang/fyp/main/SLP%20fyp.csv'\n",
        "mana = 'https://raw.githubusercontent.com/loguansiang/fyp/main/MANA%20fyp.csv'\n",
        "\n",
        "df = pd.read_csv(mana)"
      ]
    },
    {
      "cell_type": "code",
      "execution_count": 29,
      "metadata": {
        "id": "V1EiUFwj_L7L"
      },
      "outputs": [],
      "source": [
        "df['Date'] = pd.to_datetime(df['Date'])\n",
        "df.set_index('Date', inplace = True)"
      ]
    },
    {
      "cell_type": "code",
      "execution_count": 30,
      "metadata": {
        "colab": {
          "base_uri": "https://localhost:8080/",
          "height": 455
        },
        "id": "t2qffNXdEOmT",
        "outputId": "27da7c04-278c-433a-ab86-a191e3dc447e"
      },
      "outputs": [
        {
          "output_type": "execute_result",
          "data": {
            "text/plain": [
              "                Open      High       Low     Close  Adj Close     Volume\n",
              "Date                                                                    \n",
              "2017-11-09  0.014329  0.016111  0.013886  0.015130   0.015130     653800\n",
              "2017-11-10  0.015162  0.015734  0.012645  0.012940   0.012940     296429\n",
              "2017-11-11  0.013201  0.013616  0.011758  0.011979   0.011979     237865\n",
              "2017-11-12  0.011975  0.011975  0.010125  0.010505   0.010505     242761\n",
              "2017-11-13  0.010628  0.011660  0.010628  0.011330   0.011330     225836\n",
              "...              ...       ...       ...       ...        ...        ...\n",
              "2022-04-13  2.153283  2.212506  2.113025  2.201286   2.201286  216991854\n",
              "2022-04-14  2.200854  2.235230  2.100408  2.117604   2.117604  269798320\n",
              "2022-04-15  2.117844  2.152222  2.107485  2.143937   2.143937  201367474\n",
              "2022-04-16  2.143889  2.184819  2.117178  2.152566   2.152566  159910112\n",
              "2022-04-17  2.154083  2.154435  2.125707  2.133954   2.133954  125790432\n",
              "\n",
              "[1621 rows x 6 columns]"
            ],
            "text/html": [
              "\n",
              "  <div id=\"df-7aee39d2-d7ef-43a4-8d86-86d1a0f9c39d\">\n",
              "    <div class=\"colab-df-container\">\n",
              "      <div>\n",
              "<style scoped>\n",
              "    .dataframe tbody tr th:only-of-type {\n",
              "        vertical-align: middle;\n",
              "    }\n",
              "\n",
              "    .dataframe tbody tr th {\n",
              "        vertical-align: top;\n",
              "    }\n",
              "\n",
              "    .dataframe thead th {\n",
              "        text-align: right;\n",
              "    }\n",
              "</style>\n",
              "<table border=\"1\" class=\"dataframe\">\n",
              "  <thead>\n",
              "    <tr style=\"text-align: right;\">\n",
              "      <th></th>\n",
              "      <th>Open</th>\n",
              "      <th>High</th>\n",
              "      <th>Low</th>\n",
              "      <th>Close</th>\n",
              "      <th>Adj Close</th>\n",
              "      <th>Volume</th>\n",
              "    </tr>\n",
              "    <tr>\n",
              "      <th>Date</th>\n",
              "      <th></th>\n",
              "      <th></th>\n",
              "      <th></th>\n",
              "      <th></th>\n",
              "      <th></th>\n",
              "      <th></th>\n",
              "    </tr>\n",
              "  </thead>\n",
              "  <tbody>\n",
              "    <tr>\n",
              "      <th>2017-11-09</th>\n",
              "      <td>0.014329</td>\n",
              "      <td>0.016111</td>\n",
              "      <td>0.013886</td>\n",
              "      <td>0.015130</td>\n",
              "      <td>0.015130</td>\n",
              "      <td>653800</td>\n",
              "    </tr>\n",
              "    <tr>\n",
              "      <th>2017-11-10</th>\n",
              "      <td>0.015162</td>\n",
              "      <td>0.015734</td>\n",
              "      <td>0.012645</td>\n",
              "      <td>0.012940</td>\n",
              "      <td>0.012940</td>\n",
              "      <td>296429</td>\n",
              "    </tr>\n",
              "    <tr>\n",
              "      <th>2017-11-11</th>\n",
              "      <td>0.013201</td>\n",
              "      <td>0.013616</td>\n",
              "      <td>0.011758</td>\n",
              "      <td>0.011979</td>\n",
              "      <td>0.011979</td>\n",
              "      <td>237865</td>\n",
              "    </tr>\n",
              "    <tr>\n",
              "      <th>2017-11-12</th>\n",
              "      <td>0.011975</td>\n",
              "      <td>0.011975</td>\n",
              "      <td>0.010125</td>\n",
              "      <td>0.010505</td>\n",
              "      <td>0.010505</td>\n",
              "      <td>242761</td>\n",
              "    </tr>\n",
              "    <tr>\n",
              "      <th>2017-11-13</th>\n",
              "      <td>0.010628</td>\n",
              "      <td>0.011660</td>\n",
              "      <td>0.010628</td>\n",
              "      <td>0.011330</td>\n",
              "      <td>0.011330</td>\n",
              "      <td>225836</td>\n",
              "    </tr>\n",
              "    <tr>\n",
              "      <th>...</th>\n",
              "      <td>...</td>\n",
              "      <td>...</td>\n",
              "      <td>...</td>\n",
              "      <td>...</td>\n",
              "      <td>...</td>\n",
              "      <td>...</td>\n",
              "    </tr>\n",
              "    <tr>\n",
              "      <th>2022-04-13</th>\n",
              "      <td>2.153283</td>\n",
              "      <td>2.212506</td>\n",
              "      <td>2.113025</td>\n",
              "      <td>2.201286</td>\n",
              "      <td>2.201286</td>\n",
              "      <td>216991854</td>\n",
              "    </tr>\n",
              "    <tr>\n",
              "      <th>2022-04-14</th>\n",
              "      <td>2.200854</td>\n",
              "      <td>2.235230</td>\n",
              "      <td>2.100408</td>\n",
              "      <td>2.117604</td>\n",
              "      <td>2.117604</td>\n",
              "      <td>269798320</td>\n",
              "    </tr>\n",
              "    <tr>\n",
              "      <th>2022-04-15</th>\n",
              "      <td>2.117844</td>\n",
              "      <td>2.152222</td>\n",
              "      <td>2.107485</td>\n",
              "      <td>2.143937</td>\n",
              "      <td>2.143937</td>\n",
              "      <td>201367474</td>\n",
              "    </tr>\n",
              "    <tr>\n",
              "      <th>2022-04-16</th>\n",
              "      <td>2.143889</td>\n",
              "      <td>2.184819</td>\n",
              "      <td>2.117178</td>\n",
              "      <td>2.152566</td>\n",
              "      <td>2.152566</td>\n",
              "      <td>159910112</td>\n",
              "    </tr>\n",
              "    <tr>\n",
              "      <th>2022-04-17</th>\n",
              "      <td>2.154083</td>\n",
              "      <td>2.154435</td>\n",
              "      <td>2.125707</td>\n",
              "      <td>2.133954</td>\n",
              "      <td>2.133954</td>\n",
              "      <td>125790432</td>\n",
              "    </tr>\n",
              "  </tbody>\n",
              "</table>\n",
              "<p>1621 rows × 6 columns</p>\n",
              "</div>\n",
              "      <button class=\"colab-df-convert\" onclick=\"convertToInteractive('df-7aee39d2-d7ef-43a4-8d86-86d1a0f9c39d')\"\n",
              "              title=\"Convert this dataframe to an interactive table.\"\n",
              "              style=\"display:none;\">\n",
              "        \n",
              "  <svg xmlns=\"http://www.w3.org/2000/svg\" height=\"24px\"viewBox=\"0 0 24 24\"\n",
              "       width=\"24px\">\n",
              "    <path d=\"M0 0h24v24H0V0z\" fill=\"none\"/>\n",
              "    <path d=\"M18.56 5.44l.94 2.06.94-2.06 2.06-.94-2.06-.94-.94-2.06-.94 2.06-2.06.94zm-11 1L8.5 8.5l.94-2.06 2.06-.94-2.06-.94L8.5 2.5l-.94 2.06-2.06.94zm10 10l.94 2.06.94-2.06 2.06-.94-2.06-.94-.94-2.06-.94 2.06-2.06.94z\"/><path d=\"M17.41 7.96l-1.37-1.37c-.4-.4-.92-.59-1.43-.59-.52 0-1.04.2-1.43.59L10.3 9.45l-7.72 7.72c-.78.78-.78 2.05 0 2.83L4 21.41c.39.39.9.59 1.41.59.51 0 1.02-.2 1.41-.59l7.78-7.78 2.81-2.81c.8-.78.8-2.07 0-2.86zM5.41 20L4 18.59l7.72-7.72 1.47 1.35L5.41 20z\"/>\n",
              "  </svg>\n",
              "      </button>\n",
              "      \n",
              "  <style>\n",
              "    .colab-df-container {\n",
              "      display:flex;\n",
              "      flex-wrap:wrap;\n",
              "      gap: 12px;\n",
              "    }\n",
              "\n",
              "    .colab-df-convert {\n",
              "      background-color: #E8F0FE;\n",
              "      border: none;\n",
              "      border-radius: 50%;\n",
              "      cursor: pointer;\n",
              "      display: none;\n",
              "      fill: #1967D2;\n",
              "      height: 32px;\n",
              "      padding: 0 0 0 0;\n",
              "      width: 32px;\n",
              "    }\n",
              "\n",
              "    .colab-df-convert:hover {\n",
              "      background-color: #E2EBFA;\n",
              "      box-shadow: 0px 1px 2px rgba(60, 64, 67, 0.3), 0px 1px 3px 1px rgba(60, 64, 67, 0.15);\n",
              "      fill: #174EA6;\n",
              "    }\n",
              "\n",
              "    [theme=dark] .colab-df-convert {\n",
              "      background-color: #3B4455;\n",
              "      fill: #D2E3FC;\n",
              "    }\n",
              "\n",
              "    [theme=dark] .colab-df-convert:hover {\n",
              "      background-color: #434B5C;\n",
              "      box-shadow: 0px 1px 3px 1px rgba(0, 0, 0, 0.15);\n",
              "      filter: drop-shadow(0px 1px 2px rgba(0, 0, 0, 0.3));\n",
              "      fill: #FFFFFF;\n",
              "    }\n",
              "  </style>\n",
              "\n",
              "      <script>\n",
              "        const buttonEl =\n",
              "          document.querySelector('#df-7aee39d2-d7ef-43a4-8d86-86d1a0f9c39d button.colab-df-convert');\n",
              "        buttonEl.style.display =\n",
              "          google.colab.kernel.accessAllowed ? 'block' : 'none';\n",
              "\n",
              "        async function convertToInteractive(key) {\n",
              "          const element = document.querySelector('#df-7aee39d2-d7ef-43a4-8d86-86d1a0f9c39d');\n",
              "          const dataTable =\n",
              "            await google.colab.kernel.invokeFunction('convertToInteractive',\n",
              "                                                     [key], {});\n",
              "          if (!dataTable) return;\n",
              "\n",
              "          const docLinkHtml = 'Like what you see? Visit the ' +\n",
              "            '<a target=\"_blank\" href=https://colab.research.google.com/notebooks/data_table.ipynb>data table notebook</a>'\n",
              "            + ' to learn more about interactive tables.';\n",
              "          element.innerHTML = '';\n",
              "          dataTable['output_type'] = 'display_data';\n",
              "          await google.colab.output.renderOutput(dataTable, element);\n",
              "          const docLink = document.createElement('div');\n",
              "          docLink.innerHTML = docLinkHtml;\n",
              "          element.appendChild(docLink);\n",
              "        }\n",
              "      </script>\n",
              "    </div>\n",
              "  </div>\n",
              "  "
            ]
          },
          "metadata": {},
          "execution_count": 30
        }
      ],
      "source": [
        "df"
      ]
    },
    {
      "cell_type": "code",
      "execution_count": 31,
      "metadata": {
        "colab": {
          "base_uri": "https://localhost:8080/"
        },
        "id": "ytoP2J2Wnpbi",
        "outputId": "8bdc24e9-9cb6-499e-a3dd-2f437fa67cdc"
      },
      "outputs": [
        {
          "output_type": "stream",
          "name": "stdout",
          "text": [
            "Looking in indexes: https://pypi.org/simple, https://us-python.pkg.dev/colab-wheels/public/simple/\n",
            "Requirement already satisfied: ta in /usr/local/lib/python3.8/dist-packages (0.10.2)\n",
            "Requirement already satisfied: pandas in /usr/local/lib/python3.8/dist-packages (from ta) (1.3.5)\n",
            "Requirement already satisfied: numpy in /usr/local/lib/python3.8/dist-packages (from ta) (1.21.6)\n",
            "Requirement already satisfied: python-dateutil>=2.7.3 in /usr/local/lib/python3.8/dist-packages (from pandas->ta) (2.8.2)\n",
            "Requirement already satisfied: pytz>=2017.3 in /usr/local/lib/python3.8/dist-packages (from pandas->ta) (2022.7)\n",
            "Requirement already satisfied: six>=1.5 in /usr/local/lib/python3.8/dist-packages (from python-dateutil>=2.7.3->pandas->ta) (1.15.0)\n"
          ]
        }
      ],
      "source": [
        "pip install ta"
      ]
    },
    {
      "cell_type": "code",
      "execution_count": 32,
      "metadata": {
        "id": "4_NDYkO-nrru"
      },
      "outputs": [],
      "source": [
        "import pandas as pd\n",
        "import ta\n",
        "from ta import add_all_ta_features\n",
        "from ta.utils import dropna"
      ]
    },
    {
      "cell_type": "code",
      "execution_count": 33,
      "metadata": {
        "colab": {
          "base_uri": "https://localhost:8080/",
          "height": 455
        },
        "id": "LRlTWlPfmcol",
        "outputId": "8fb72e0e-0489-45ea-cf36-04064064bc94"
      },
      "outputs": [
        {
          "output_type": "execute_result",
          "data": {
            "text/plain": [
              "                Open      High       Low     Close     Volume  Pre_Close  \\\n",
              "Date                                                                       \n",
              "2017-11-15  0.011461  0.012014  0.011398  0.012002     283268   0.011419   \n",
              "2017-11-16  0.012013  0.012595  0.011742  0.011793     357512   0.012002   \n",
              "2017-11-17  0.011729  0.012085  0.011187  0.012028     268762   0.011793   \n",
              "2017-11-18  0.012021  0.013352  0.011435  0.013019     370149   0.012028   \n",
              "2017-11-19  0.012934  0.013975  0.012661  0.013099     379424   0.013019   \n",
              "...              ...       ...       ...       ...        ...        ...   \n",
              "2022-04-13  2.153283  2.212506  2.113025  2.201286  216991854   2.153636   \n",
              "2022-04-14  2.200854  2.235230  2.100408  2.117604  269798320   2.201286   \n",
              "2022-04-15  2.117844  2.152222  2.107485  2.143937  201367474   2.117604   \n",
              "2022-04-16  2.143889  2.184819  2.117178  2.152566  159910112   2.143937   \n",
              "2022-04-17  2.154083  2.154435  2.125707  2.133954  125790432   2.152566   \n",
              "\n",
              "                 H-L       0-C     SMA_7      rsi_7     EMA_7  \n",
              "Date                                                           \n",
              "2017-11-15  0.000616 -0.000541  0.012186  33.965216  0.011807  \n",
              "2017-11-16  0.000853  0.000220  0.011710  31.878810  0.011803  \n",
              "2017-11-17  0.000898 -0.000299  0.011579  36.958740  0.011864  \n",
              "2017-11-18  0.001917 -0.000998  0.011728  53.879565  0.012170  \n",
              "2017-11-19  0.001314 -0.000165  0.012099  55.016698  0.012413  \n",
              "...              ...       ...       ...        ...       ...  \n",
              "2022-04-13  0.099481 -0.048003  2.243642  37.935015  2.251587  \n",
              "2022-04-14  0.134822  0.083250  2.200956  33.194641  2.218091  \n",
              "2022-04-15  0.044737 -0.026093  2.183354  36.124984  2.199553  \n",
              "2022-04-16  0.067641 -0.008677  2.156682  37.178455  2.187806  \n",
              "2022-04-17  0.028728  0.020129  2.136927  35.696953  2.174343  \n",
              "\n",
              "[1615 rows x 11 columns]"
            ],
            "text/html": [
              "\n",
              "  <div id=\"df-c7496f94-62cf-46a5-9da3-1d70a614fe44\">\n",
              "    <div class=\"colab-df-container\">\n",
              "      <div>\n",
              "<style scoped>\n",
              "    .dataframe tbody tr th:only-of-type {\n",
              "        vertical-align: middle;\n",
              "    }\n",
              "\n",
              "    .dataframe tbody tr th {\n",
              "        vertical-align: top;\n",
              "    }\n",
              "\n",
              "    .dataframe thead th {\n",
              "        text-align: right;\n",
              "    }\n",
              "</style>\n",
              "<table border=\"1\" class=\"dataframe\">\n",
              "  <thead>\n",
              "    <tr style=\"text-align: right;\">\n",
              "      <th></th>\n",
              "      <th>Open</th>\n",
              "      <th>High</th>\n",
              "      <th>Low</th>\n",
              "      <th>Close</th>\n",
              "      <th>Volume</th>\n",
              "      <th>Pre_Close</th>\n",
              "      <th>H-L</th>\n",
              "      <th>0-C</th>\n",
              "      <th>SMA_7</th>\n",
              "      <th>rsi_7</th>\n",
              "      <th>EMA_7</th>\n",
              "    </tr>\n",
              "    <tr>\n",
              "      <th>Date</th>\n",
              "      <th></th>\n",
              "      <th></th>\n",
              "      <th></th>\n",
              "      <th></th>\n",
              "      <th></th>\n",
              "      <th></th>\n",
              "      <th></th>\n",
              "      <th></th>\n",
              "      <th></th>\n",
              "      <th></th>\n",
              "      <th></th>\n",
              "    </tr>\n",
              "  </thead>\n",
              "  <tbody>\n",
              "    <tr>\n",
              "      <th>2017-11-15</th>\n",
              "      <td>0.011461</td>\n",
              "      <td>0.012014</td>\n",
              "      <td>0.011398</td>\n",
              "      <td>0.012002</td>\n",
              "      <td>283268</td>\n",
              "      <td>0.011419</td>\n",
              "      <td>0.000616</td>\n",
              "      <td>-0.000541</td>\n",
              "      <td>0.012186</td>\n",
              "      <td>33.965216</td>\n",
              "      <td>0.011807</td>\n",
              "    </tr>\n",
              "    <tr>\n",
              "      <th>2017-11-16</th>\n",
              "      <td>0.012013</td>\n",
              "      <td>0.012595</td>\n",
              "      <td>0.011742</td>\n",
              "      <td>0.011793</td>\n",
              "      <td>357512</td>\n",
              "      <td>0.012002</td>\n",
              "      <td>0.000853</td>\n",
              "      <td>0.000220</td>\n",
              "      <td>0.011710</td>\n",
              "      <td>31.878810</td>\n",
              "      <td>0.011803</td>\n",
              "    </tr>\n",
              "    <tr>\n",
              "      <th>2017-11-17</th>\n",
              "      <td>0.011729</td>\n",
              "      <td>0.012085</td>\n",
              "      <td>0.011187</td>\n",
              "      <td>0.012028</td>\n",
              "      <td>268762</td>\n",
              "      <td>0.011793</td>\n",
              "      <td>0.000898</td>\n",
              "      <td>-0.000299</td>\n",
              "      <td>0.011579</td>\n",
              "      <td>36.958740</td>\n",
              "      <td>0.011864</td>\n",
              "    </tr>\n",
              "    <tr>\n",
              "      <th>2017-11-18</th>\n",
              "      <td>0.012021</td>\n",
              "      <td>0.013352</td>\n",
              "      <td>0.011435</td>\n",
              "      <td>0.013019</td>\n",
              "      <td>370149</td>\n",
              "      <td>0.012028</td>\n",
              "      <td>0.001917</td>\n",
              "      <td>-0.000998</td>\n",
              "      <td>0.011728</td>\n",
              "      <td>53.879565</td>\n",
              "      <td>0.012170</td>\n",
              "    </tr>\n",
              "    <tr>\n",
              "      <th>2017-11-19</th>\n",
              "      <td>0.012934</td>\n",
              "      <td>0.013975</td>\n",
              "      <td>0.012661</td>\n",
              "      <td>0.013099</td>\n",
              "      <td>379424</td>\n",
              "      <td>0.013019</td>\n",
              "      <td>0.001314</td>\n",
              "      <td>-0.000165</td>\n",
              "      <td>0.012099</td>\n",
              "      <td>55.016698</td>\n",
              "      <td>0.012413</td>\n",
              "    </tr>\n",
              "    <tr>\n",
              "      <th>...</th>\n",
              "      <td>...</td>\n",
              "      <td>...</td>\n",
              "      <td>...</td>\n",
              "      <td>...</td>\n",
              "      <td>...</td>\n",
              "      <td>...</td>\n",
              "      <td>...</td>\n",
              "      <td>...</td>\n",
              "      <td>...</td>\n",
              "      <td>...</td>\n",
              "      <td>...</td>\n",
              "    </tr>\n",
              "    <tr>\n",
              "      <th>2022-04-13</th>\n",
              "      <td>2.153283</td>\n",
              "      <td>2.212506</td>\n",
              "      <td>2.113025</td>\n",
              "      <td>2.201286</td>\n",
              "      <td>216991854</td>\n",
              "      <td>2.153636</td>\n",
              "      <td>0.099481</td>\n",
              "      <td>-0.048003</td>\n",
              "      <td>2.243642</td>\n",
              "      <td>37.935015</td>\n",
              "      <td>2.251587</td>\n",
              "    </tr>\n",
              "    <tr>\n",
              "      <th>2022-04-14</th>\n",
              "      <td>2.200854</td>\n",
              "      <td>2.235230</td>\n",
              "      <td>2.100408</td>\n",
              "      <td>2.117604</td>\n",
              "      <td>269798320</td>\n",
              "      <td>2.201286</td>\n",
              "      <td>0.134822</td>\n",
              "      <td>0.083250</td>\n",
              "      <td>2.200956</td>\n",
              "      <td>33.194641</td>\n",
              "      <td>2.218091</td>\n",
              "    </tr>\n",
              "    <tr>\n",
              "      <th>2022-04-15</th>\n",
              "      <td>2.117844</td>\n",
              "      <td>2.152222</td>\n",
              "      <td>2.107485</td>\n",
              "      <td>2.143937</td>\n",
              "      <td>201367474</td>\n",
              "      <td>2.117604</td>\n",
              "      <td>0.044737</td>\n",
              "      <td>-0.026093</td>\n",
              "      <td>2.183354</td>\n",
              "      <td>36.124984</td>\n",
              "      <td>2.199553</td>\n",
              "    </tr>\n",
              "    <tr>\n",
              "      <th>2022-04-16</th>\n",
              "      <td>2.143889</td>\n",
              "      <td>2.184819</td>\n",
              "      <td>2.117178</td>\n",
              "      <td>2.152566</td>\n",
              "      <td>159910112</td>\n",
              "      <td>2.143937</td>\n",
              "      <td>0.067641</td>\n",
              "      <td>-0.008677</td>\n",
              "      <td>2.156682</td>\n",
              "      <td>37.178455</td>\n",
              "      <td>2.187806</td>\n",
              "    </tr>\n",
              "    <tr>\n",
              "      <th>2022-04-17</th>\n",
              "      <td>2.154083</td>\n",
              "      <td>2.154435</td>\n",
              "      <td>2.125707</td>\n",
              "      <td>2.133954</td>\n",
              "      <td>125790432</td>\n",
              "      <td>2.152566</td>\n",
              "      <td>0.028728</td>\n",
              "      <td>0.020129</td>\n",
              "      <td>2.136927</td>\n",
              "      <td>35.696953</td>\n",
              "      <td>2.174343</td>\n",
              "    </tr>\n",
              "  </tbody>\n",
              "</table>\n",
              "<p>1615 rows × 11 columns</p>\n",
              "</div>\n",
              "      <button class=\"colab-df-convert\" onclick=\"convertToInteractive('df-c7496f94-62cf-46a5-9da3-1d70a614fe44')\"\n",
              "              title=\"Convert this dataframe to an interactive table.\"\n",
              "              style=\"display:none;\">\n",
              "        \n",
              "  <svg xmlns=\"http://www.w3.org/2000/svg\" height=\"24px\"viewBox=\"0 0 24 24\"\n",
              "       width=\"24px\">\n",
              "    <path d=\"M0 0h24v24H0V0z\" fill=\"none\"/>\n",
              "    <path d=\"M18.56 5.44l.94 2.06.94-2.06 2.06-.94-2.06-.94-.94-2.06-.94 2.06-2.06.94zm-11 1L8.5 8.5l.94-2.06 2.06-.94-2.06-.94L8.5 2.5l-.94 2.06-2.06.94zm10 10l.94 2.06.94-2.06 2.06-.94-2.06-.94-.94-2.06-.94 2.06-2.06.94z\"/><path d=\"M17.41 7.96l-1.37-1.37c-.4-.4-.92-.59-1.43-.59-.52 0-1.04.2-1.43.59L10.3 9.45l-7.72 7.72c-.78.78-.78 2.05 0 2.83L4 21.41c.39.39.9.59 1.41.59.51 0 1.02-.2 1.41-.59l7.78-7.78 2.81-2.81c.8-.78.8-2.07 0-2.86zM5.41 20L4 18.59l7.72-7.72 1.47 1.35L5.41 20z\"/>\n",
              "  </svg>\n",
              "      </button>\n",
              "      \n",
              "  <style>\n",
              "    .colab-df-container {\n",
              "      display:flex;\n",
              "      flex-wrap:wrap;\n",
              "      gap: 12px;\n",
              "    }\n",
              "\n",
              "    .colab-df-convert {\n",
              "      background-color: #E8F0FE;\n",
              "      border: none;\n",
              "      border-radius: 50%;\n",
              "      cursor: pointer;\n",
              "      display: none;\n",
              "      fill: #1967D2;\n",
              "      height: 32px;\n",
              "      padding: 0 0 0 0;\n",
              "      width: 32px;\n",
              "    }\n",
              "\n",
              "    .colab-df-convert:hover {\n",
              "      background-color: #E2EBFA;\n",
              "      box-shadow: 0px 1px 2px rgba(60, 64, 67, 0.3), 0px 1px 3px 1px rgba(60, 64, 67, 0.15);\n",
              "      fill: #174EA6;\n",
              "    }\n",
              "\n",
              "    [theme=dark] .colab-df-convert {\n",
              "      background-color: #3B4455;\n",
              "      fill: #D2E3FC;\n",
              "    }\n",
              "\n",
              "    [theme=dark] .colab-df-convert:hover {\n",
              "      background-color: #434B5C;\n",
              "      box-shadow: 0px 1px 3px 1px rgba(0, 0, 0, 0.15);\n",
              "      filter: drop-shadow(0px 1px 2px rgba(0, 0, 0, 0.3));\n",
              "      fill: #FFFFFF;\n",
              "    }\n",
              "  </style>\n",
              "\n",
              "      <script>\n",
              "        const buttonEl =\n",
              "          document.querySelector('#df-c7496f94-62cf-46a5-9da3-1d70a614fe44 button.colab-df-convert');\n",
              "        buttonEl.style.display =\n",
              "          google.colab.kernel.accessAllowed ? 'block' : 'none';\n",
              "\n",
              "        async function convertToInteractive(key) {\n",
              "          const element = document.querySelector('#df-c7496f94-62cf-46a5-9da3-1d70a614fe44');\n",
              "          const dataTable =\n",
              "            await google.colab.kernel.invokeFunction('convertToInteractive',\n",
              "                                                     [key], {});\n",
              "          if (!dataTable) return;\n",
              "\n",
              "          const docLinkHtml = 'Like what you see? Visit the ' +\n",
              "            '<a target=\"_blank\" href=https://colab.research.google.com/notebooks/data_table.ipynb>data table notebook</a>'\n",
              "            + ' to learn more about interactive tables.';\n",
              "          element.innerHTML = '';\n",
              "          dataTable['output_type'] = 'display_data';\n",
              "          await google.colab.output.renderOutput(dataTable, element);\n",
              "          const docLink = document.createElement('div');\n",
              "          docLink.innerHTML = docLinkHtml;\n",
              "          element.appendChild(docLink);\n",
              "        }\n",
              "      </script>\n",
              "    </div>\n",
              "  </div>\n",
              "  "
            ]
          },
          "metadata": {},
          "execution_count": 33
        }
      ],
      "source": [
        "df['Pre_Close'] = df['Close'].shift(+1)\n",
        "df[('H-L')] = df['High'] - df['Low']\n",
        "df[('0-C')]= df['Open'] - df['Close']\n",
        "df['SMA_7'] = df.Close.rolling(7, min_periods=1).mean()\n",
        "df['rsi_7']=ta.momentum.rsi(df.Close,window=7)\n",
        "#df['MACD'] = ta.trend.macd_diff(df.Close)\n",
        "df['EMA_7']= df['Close'].ewm(span=7).mean()\n",
        "df = df.drop(columns=['Adj Close'])\n",
        "df.dropna(inplace= True)\n",
        "df"
      ]
    },
    {
      "cell_type": "code",
      "execution_count": 34,
      "metadata": {
        "id": "nUVCrzpt_Xb-"
      },
      "outputs": [],
      "source": [
        "def data_prep(dataset, target, data_start, data_end, look_back, horizon):\n",
        "    dataX,dataY = [],[]\n",
        "    data_start = data_start + look_back\n",
        "    if data_end is None:\n",
        "        data_end = len(dataset) - horizon\n",
        "\n",
        "    for i in range(data_start, data_end):\n",
        "        a = range(i-look_back, i)\n",
        "        dataX.append(dataset[a])\n",
        "\n",
        "        b = range(i+1, i+1+horizon)\n",
        "        dataY.append(target[b])\n",
        "    return np.array(dataX), np.array(dataY)"
      ]
    },
    {
      "cell_type": "code",
      "execution_count": 35,
      "metadata": {
        "id": "8uxf-46a_Zm1"
      },
      "outputs": [],
      "source": [
        "X_scaler = MinMaxScaler()\n",
        "Y_scaler = MinMaxScaler()\n",
        "# X_data = X_scaler.fit_transform(df[['Open', 'High', 'Low','Volume','H-L',\t'0-C','SMA_7','rsi_7','EMA_7']])//experiment4\n",
        "X_data = X_scaler.fit_transform(df[['H-L',\t'0-C','SMA_7','rsi_7','EMA_7']])\n",
        "Y_data = Y_scaler.fit_transform(df[['Close']])\n",
        "\n",
        "##['Open', 'High', 'Low','Volume']\n",
        "##['H-L',\t'0-C','SMA_7','rsi_7','EMA_7']"
      ]
    },
    {
      "cell_type": "code",
      "execution_count": 36,
      "metadata": {
        "id": "vhampguE_cgy"
      },
      "outputs": [],
      "source": [
        "##TRAIN_SPLIT = int(len(df) * 0.8)\n",
        "look_back = 10\n",
        "horizon = 10\n",
        "train_split = int(len(df) * 0.8)\n",
        "x_train, y_train = data_prep(X_data, Y_data, 0, train_split, look_back, horizon)\n",
        "x_vali, y_vali = data_prep(X_data, Y_data, train_split, None, look_back, horizon)"
      ]
    },
    {
      "cell_type": "code",
      "execution_count": 37,
      "metadata": {
        "id": "BJNFqmFL_eer"
      },
      "outputs": [],
      "source": [
        "# x_train"
      ]
    },
    {
      "cell_type": "code",
      "execution_count": 38,
      "metadata": {
        "colab": {
          "base_uri": "https://localhost:8080/"
        },
        "id": "QxuHL7J-_g9-",
        "outputId": "38d58e04-a98a-44c0-d9a4-418312a7376b"
      },
      "outputs": [
        {
          "output_type": "stream",
          "name": "stdout",
          "text": [
            "Multiple window of past history\n",
            "\n",
            "[[3.35052781e-05 7.58809413e-01 1.25256615e-04 2.76218916e-01\n",
            "  8.47734650e-07]\n",
            " [1.03160988e-04 7.59075663e-01 2.68849219e-05 2.52505773e-01\n",
            "  0.00000000e+00]\n",
            " [1.16386756e-04 7.58894081e-01 0.00000000e+00 3.10241946e-01\n",
            "  1.29376077e-05]\n",
            " [4.15876917e-04 7.58649524e-01 3.06582443e-05 5.02556315e-01\n",
            "  7.81253218e-05]\n",
            " [2.38651630e-04 7.58940964e-01 1.07126981e-04 5.15480445e-01\n",
            "  1.29788299e-04]\n",
            " [1.34608924e-04 7.59014436e-01 1.57742563e-04 5.04003734e-01\n",
            "  1.64689330e-04]\n",
            " [3.29468568e-04 7.58957757e-01 2.10303764e-04 5.35366863e-01\n",
            "  1.98826548e-04]\n",
            " [7.49460168e-05 7.58875538e-01 2.56762796e-04 6.06691441e-01\n",
            "  2.44458927e-04]\n",
            " [2.10436659e-04 7.58909126e-01 3.17106475e-04 6.51026278e-01\n",
            "  2.92466951e-04]\n",
            " [1.76637475e-03 7.58253123e-01 4.31662184e-04 8.36482586e-01\n",
            "  4.39778126e-04]]\n",
            "\n",
            " Target horizon\n",
            "\n",
            "[[0.00069503]\n",
            " [0.00097085]\n",
            " [0.00113747]\n",
            " [0.00059169]\n",
            " [0.00063614]\n",
            " [0.00078173]\n",
            " [0.00096536]\n",
            " [0.00097633]\n",
            " [0.00119051]\n",
            " [0.00211655]]\n"
          ]
        }
      ],
      "source": [
        "print ('Multiple window of past history\\n')\n",
        "print(x_train[0])\n",
        "print ('\\n Target horizon\\n')\n",
        "print (y_train[0])"
      ]
    },
    {
      "cell_type": "code",
      "execution_count": 39,
      "metadata": {
        "id": "9YHpXcEK_jRu"
      },
      "outputs": [],
      "source": [
        "import pandas as pd\n",
        "import numpy as np\n",
        "import matplotlib.pyplot as plt\n",
        "import plotly.express as px # to plot the time series plot\n",
        "from sklearn import metrics # for the evalution\n",
        "from sklearn.preprocessing import LabelEncoder,MinMaxScaler\n",
        "\n",
        "import tensorflow as tf"
      ]
    },
    {
      "cell_type": "code",
      "execution_count": 40,
      "metadata": {
        "id": "0zQIYwlSH0yK"
      },
      "outputs": [],
      "source": [
        "batch_size = 32\n",
        "buffer_size = 18\n",
        "\n",
        "train_data = tf.data.Dataset.from_tensor_slices((x_train, y_train))\n",
        "train_data = train_data.batch(batch_size).repeat()\n",
        "\n",
        "val_data = tf.data.Dataset.from_tensor_slices((x_vali, y_vali))\n",
        "val_data = val_data.batch(batch_size).repeat()"
      ]
    },
    {
      "cell_type": "code",
      "execution_count": 41,
      "metadata": {
        "id": "rqnDiq95Drku"
      },
      "outputs": [],
      "source": [
        "from keras.models import Model\n",
        "from keras.layers import Input\n",
        "from keras.layers import Dense\n",
        "from keras.layers import Flatten\n",
        "from keras.layers.convolutional import Conv1D\n",
        "from keras.layers.convolutional import MaxPooling1D\n",
        "# from keras.layers.merge import concatenate\n",
        "import tensorflow as tf"
      ]
    },
    {
      "cell_type": "code",
      "execution_count": 42,
      "metadata": {
        "colab": {
          "base_uri": "https://localhost:8080/"
        },
        "id": "tIWp2c1XnWf-",
        "outputId": "d04509aa-75a0-4de0-a06d-6887d0bd769b"
      },
      "outputs": [
        {
          "output_type": "execute_result",
          "data": {
            "text/plain": [
              "(10, 5)"
            ]
          },
          "metadata": {},
          "execution_count": 42
        }
      ],
      "source": [
        "x_train.shape[-2:]"
      ]
    },
    {
      "cell_type": "code",
      "execution_count": 43,
      "metadata": {
        "colab": {
          "base_uri": "https://localhost:8080/"
        },
        "id": "h7vQ_Ll1_5ec",
        "outputId": "a560d80c-6910-4d67-94e8-b038315435e6"
      },
      "outputs": [
        {
          "output_type": "stream",
          "name": "stdout",
          "text": [
            "Model: \"sequential_1\"\n",
            "_________________________________________________________________\n",
            " Layer (type)                Output Shape              Param #   \n",
            "=================================================================\n",
            " conv1d_3 (Conv1D)           (None, 10, 32)            192       \n",
            "                                                                 \n",
            " conv1d_4 (Conv1D)           (None, 10, 64)            2112      \n",
            "                                                                 \n",
            " max_pooling1d_1 (MaxPooling  (None, 10, 64)           0         \n",
            " 1D)                                                             \n",
            "                                                                 \n",
            " conv1d_5 (Conv1D)           (None, 10, 128)           8320      \n",
            "                                                                 \n",
            " flatten_1 (Flatten)         (None, 1280)              0         \n",
            "                                                                 \n",
            " dense_2 (Dense)             (None, 256)               327936    \n",
            "                                                                 \n",
            " dropout_1 (Dropout)         (None, 256)               0         \n",
            "                                                                 \n",
            " dense_3 (Dense)             (None, 10)                2570      \n",
            "                                                                 \n",
            "=================================================================\n",
            "Total params: 341,130\n",
            "Trainable params: 341,130\n",
            "Non-trainable params: 0\n",
            "_________________________________________________________________\n"
          ]
        }
      ],
      "source": [
        "#define model\n",
        "import tensorflow as tf\n",
        "from tensorflow.keras import layers\n",
        "# Set random seed for as reproducible results as possible\n",
        "tf.random.set_seed(7)\n",
        "cnn_model = Sequential()\n",
        "cnn_model.add(Conv1D(filters=32, kernel_size=1, activation='relu', input_shape=(x_train.shape[-2:])))\n",
        "cnn_model.add(Conv1D(filters=64, kernel_size=1))\n",
        "cnn_model.add(MaxPooling1D(pool_size=(1)))\n",
        "cnn_model.add(Conv1D(filters=128, kernel_size=1))\n",
        "cnn_model.add(Flatten())\n",
        "cnn_model.add(Dense(256,))\n",
        "cnn_model.add(Dropout(0.2))\n",
        "cnn_model.add(Dense(10))\n",
        "cnn_model.compile(optimizer='adam', loss='mse')\n",
        "cnn_model.summary()\n"
      ]
    },
    {
      "cell_type": "code",
      "execution_count": 44,
      "metadata": {
        "id": "zts6fS0JE6Hy"
      },
      "outputs": [],
      "source": [
        "\n",
        "import tensorflow as tf\n",
        "from tensorflow.keras import layers\n",
        "\n",
        "# Set random seed for as reproducible results as possible\n",
        "# tf.random.set_seed(7)\n",
        "\n",
        "# lstm_model = Sequential()\n",
        "# lstm_model.add(LSTM(100,return_sequences=True,input_shape=(x_train.shape[-2:])))\n",
        "# lstm_model.add(Dense(20,activation='linear'))\n",
        "# lstm_model.add(LSTM(50))\n",
        "# lstm_model.add(Dropout(0.2))\n",
        "# lstm_model.add(Dense(units=horizon,activation='linear'))\n",
        "# lstm_model.compile(loss='mean_squared_error', optimizer='adam')\n",
        "# lstm_model.summary()\n"
      ]
    },
    {
      "cell_type": "code",
      "execution_count": 45,
      "metadata": {
        "id": "pkWp7tm0HoY4"
      },
      "outputs": [],
      "source": [
        "#model_path = 'CNN_Multivariate.h5'\n",
        "#early_stopings = tf.keras.callbacks.EarlyStopping(monitor='val_loss', min_delta=0, patience=10, verbose=1, mode='min')\n",
        "#checkpoint =  tf.keras.callbacks.ModelCheckpoint(model_path, monitor='val_loss', save_best_only=True, mode='min', verbose=0)\n",
        "#callbacks=[early_stopings,checkpoint]"
      ]
    },
    {
      "cell_type": "code",
      "execution_count": 46,
      "metadata": {
        "colab": {
          "base_uri": "https://localhost:8080/"
        },
        "id": "1vqC4wRgHrxZ",
        "outputId": "f63fcee7-513c-43e6-eed9-7eb1a7818033"
      },
      "outputs": [
        {
          "output_type": "stream",
          "name": "stdout",
          "text": [
            "Epoch 1/50\n",
            "100/100 [==============================] - 1s 8ms/step - loss: 0.0092 - val_loss: 0.2352\n",
            "Epoch 2/50\n",
            "100/100 [==============================] - 1s 8ms/step - loss: 0.0048 - val_loss: 0.0776\n",
            "Epoch 3/50\n",
            "100/100 [==============================] - 1s 7ms/step - loss: 0.0013 - val_loss: 0.0333\n",
            "Epoch 4/50\n",
            "100/100 [==============================] - 1s 6ms/step - loss: 7.1476e-04 - val_loss: 0.0366\n",
            "Epoch 5/50\n",
            "100/100 [==============================] - 1s 7ms/step - loss: 0.0011 - val_loss: 0.0353\n",
            "Epoch 6/50\n",
            "100/100 [==============================] - 1s 7ms/step - loss: 0.0012 - val_loss: 0.0300\n",
            "Epoch 7/50\n",
            "100/100 [==============================] - 1s 6ms/step - loss: 6.6351e-04 - val_loss: 0.0183\n",
            "Epoch 8/50\n",
            "100/100 [==============================] - 1s 6ms/step - loss: 5.9970e-04 - val_loss: 0.0411\n",
            "Epoch 9/50\n",
            "100/100 [==============================] - 1s 7ms/step - loss: 0.0010 - val_loss: 0.0543\n",
            "Epoch 10/50\n",
            "100/100 [==============================] - 1s 7ms/step - loss: 0.0012 - val_loss: 0.0237\n",
            "Epoch 11/50\n",
            "100/100 [==============================] - 1s 7ms/step - loss: 7.0119e-04 - val_loss: 0.0299\n",
            "Epoch 12/50\n",
            "100/100 [==============================] - 1s 9ms/step - loss: 7.9646e-04 - val_loss: 0.0241\n",
            "Epoch 13/50\n",
            "100/100 [==============================] - 1s 9ms/step - loss: 4.5037e-04 - val_loss: 0.0187\n",
            "Epoch 14/50\n",
            "100/100 [==============================] - 1s 10ms/step - loss: 5.5100e-04 - val_loss: 0.0189\n",
            "Epoch 15/50\n",
            "100/100 [==============================] - 1s 10ms/step - loss: 5.0420e-04 - val_loss: 0.0392\n",
            "Epoch 16/50\n",
            "100/100 [==============================] - 1s 12ms/step - loss: 7.2163e-04 - val_loss: 0.0111\n",
            "Epoch 17/50\n",
            "100/100 [==============================] - 1s 12ms/step - loss: 5.4925e-04 - val_loss: 0.0736\n",
            "Epoch 18/50\n",
            "100/100 [==============================] - 1s 13ms/step - loss: 8.7110e-04 - val_loss: 0.0300\n",
            "Epoch 19/50\n",
            "100/100 [==============================] - 2s 18ms/step - loss: 8.1325e-04 - val_loss: 0.0235\n",
            "Epoch 20/50\n",
            "100/100 [==============================] - 1s 12ms/step - loss: 4.3992e-04 - val_loss: 0.0416\n",
            "Epoch 21/50\n",
            "100/100 [==============================] - 1s 11ms/step - loss: 7.5741e-04 - val_loss: 0.0157\n",
            "Epoch 22/50\n",
            "100/100 [==============================] - 1s 11ms/step - loss: 4.7888e-04 - val_loss: 0.0250\n",
            "Epoch 23/50\n",
            "100/100 [==============================] - 1s 10ms/step - loss: 8.2068e-04 - val_loss: 0.0154\n",
            "Epoch 24/50\n",
            "100/100 [==============================] - 1s 11ms/step - loss: 5.5212e-04 - val_loss: 0.0127\n",
            "Epoch 25/50\n",
            "100/100 [==============================] - 1s 9ms/step - loss: 0.0011 - val_loss: 0.0180\n",
            "Epoch 26/50\n",
            "100/100 [==============================] - 1s 11ms/step - loss: 9.4703e-04 - val_loss: 0.0870\n",
            "Epoch 27/50\n",
            "100/100 [==============================] - 1s 10ms/step - loss: 0.0011 - val_loss: 0.0212\n",
            "Epoch 28/50\n",
            "100/100 [==============================] - 1s 10ms/step - loss: 0.0014 - val_loss: 0.0148\n",
            "Epoch 29/50\n",
            "100/100 [==============================] - 1s 12ms/step - loss: 4.0666e-04 - val_loss: 0.0153\n",
            "Epoch 30/50\n",
            "100/100 [==============================] - 1s 11ms/step - loss: 5.7465e-04 - val_loss: 0.0469\n",
            "Epoch 31/50\n",
            "100/100 [==============================] - 1s 12ms/step - loss: 6.1579e-04 - val_loss: 0.0795\n",
            "Epoch 32/50\n",
            "100/100 [==============================] - 1s 11ms/step - loss: 0.0011 - val_loss: 0.0293\n",
            "Epoch 33/50\n",
            "100/100 [==============================] - 1s 10ms/step - loss: 9.1686e-04 - val_loss: 0.0481\n",
            "Epoch 34/50\n",
            "100/100 [==============================] - 1s 10ms/step - loss: 6.6231e-04 - val_loss: 0.0192\n",
            "Epoch 35/50\n",
            "100/100 [==============================] - 1s 10ms/step - loss: 3.5331e-04 - val_loss: 0.0094\n",
            "Epoch 36/50\n",
            "100/100 [==============================] - 1s 10ms/step - loss: 3.8318e-04 - val_loss: 0.0096\n",
            "Epoch 37/50\n",
            "100/100 [==============================] - 1s 7ms/step - loss: 7.6682e-04 - val_loss: 0.0107\n",
            "Epoch 38/50\n",
            "100/100 [==============================] - 1s 7ms/step - loss: 2.0808e-04 - val_loss: 0.0129\n",
            "Epoch 39/50\n",
            "100/100 [==============================] - 1s 7ms/step - loss: 2.3099e-04 - val_loss: 0.0179\n",
            "Epoch 40/50\n",
            "100/100 [==============================] - 1s 7ms/step - loss: 2.6478e-04 - val_loss: 0.0624\n",
            "Epoch 41/50\n",
            "100/100 [==============================] - 1s 7ms/step - loss: 6.6354e-04 - val_loss: 0.0235\n",
            "Epoch 42/50\n",
            "100/100 [==============================] - 1s 7ms/step - loss: 8.5967e-04 - val_loss: 0.0671\n",
            "Epoch 43/50\n",
            "100/100 [==============================] - 1s 7ms/step - loss: 8.5806e-04 - val_loss: 0.0144\n",
            "Epoch 44/50\n",
            "100/100 [==============================] - 1s 7ms/step - loss: 0.0013 - val_loss: 0.1977\n",
            "Epoch 45/50\n",
            "100/100 [==============================] - 1s 7ms/step - loss: 0.0015 - val_loss: 0.0114\n",
            "Epoch 46/50\n",
            "100/100 [==============================] - 1s 7ms/step - loss: 0.0012 - val_loss: 0.0124\n",
            "Epoch 47/50\n",
            "100/100 [==============================] - 1s 7ms/step - loss: 3.1643e-04 - val_loss: 0.0190\n",
            "Epoch 48/50\n",
            "100/100 [==============================] - 1s 7ms/step - loss: 2.3909e-04 - val_loss: 0.0151\n",
            "Epoch 49/50\n",
            "100/100 [==============================] - 1s 7ms/step - loss: 1.5256e-04 - val_loss: 0.0115\n",
            "Epoch 50/50\n",
            "100/100 [==============================] - 1s 7ms/step - loss: 3.5287e-04 - val_loss: 0.0100\n"
          ]
        }
      ],
      "source": [
        "history = cnn_model.fit(train_data,epochs=50,steps_per_epoch=100,validation_data=val_data,validation_steps=50,verbose=1)\n",
        "# history = lstm_model.fit(train_data,epochs=50,steps_per_epoch=100,validation_data=val_data,validation_steps=50,verbose=1)#callback\n",
        "##history = cnn_model.fit(train_data,epochs=50,steps_per_epoch=100,validation_data=val_data,validation_steps=50,verbose=1)"
      ]
    },
    {
      "cell_type": "code",
      "execution_count": 47,
      "metadata": {
        "colab": {
          "base_uri": "https://localhost:8080/",
          "height": 567
        },
        "id": "05kGXARbH9w3",
        "outputId": "b099dd8f-f8cb-42ec-fef9-65256bc6875a"
      },
      "outputs": [
        {
          "output_type": "display_data",
          "data": {
            "text/plain": [
              "<Figure size 1152x648 with 1 Axes>"
            ],
            "image/png": "[encoded data removed]"
          },
          "metadata": {
            "needs_background": "light"
          }
        }
      ],
      "source": [
        "plt.figure(figsize=(16,9))\n",
        "plt.plot(history.history['loss'])\n",
        "plt.plot(history.history['val_loss'])\n",
        "plt.title('Model loss')\n",
        "plt.ylabel('loss')\n",
        "plt.xlabel('epoch')\n",
        "plt.legend(['train loss', 'validation loss'])\n",
        "plt.show()"
      ]
    },
    {
      "cell_type": "code",
      "execution_count": 48,
      "metadata": {
        "colab": {
          "base_uri": "https://localhost:8080/"
        },
        "id": "jJ6fj09EIUFi",
        "outputId": "04858013-4e30-4815-eb86-9748d54841db"
      },
      "outputs": [
        {
          "output_type": "execute_result",
          "data": {
            "text/plain": [
              "Index(['Open', 'High', 'Low', 'Close', 'Volume', 'Pre_Close', 'H-L', '0-C',\n",
              "       'SMA_7', 'rsi_7', 'EMA_7'],\n",
              "      dtype='object')"
            ]
          },
          "metadata": {},
          "execution_count": 48
        }
      ],
      "source": [
        "df.columns"
      ]
    },
    {
      "cell_type": "code",
      "execution_count": 49,
      "metadata": {
        "colab": {
          "base_uri": "https://localhost:8080/"
        },
        "id": "eFhfHDpCIbc2",
        "outputId": "6f398629-cca3-47c3-b6b2-4648323fa7e9"
      },
      "outputs": [
        {
          "output_type": "stream",
          "name": "stdout",
          "text": [
            "1/1 [==============================] - 0s 77ms/step\n"
          ]
        },
        {
          "output_type": "execute_result",
          "data": {
            "text/plain": [
              "array([[1.3856539, 1.4042575, 1.299479 , 1.2072008, 1.3029147, 1.7421191,\n",
              "        1.5473269, 1.7297056, 1.3295285, 1.820373 ]], dtype=float32)"
            ]
          },
          "metadata": {},
          "execution_count": 49
        }
      ],
      "source": [
        "\n",
        "##['open']\n",
        "\n",
        "\n",
        "data_val = X_scaler.fit_transform(df[['H-L','0-C','SMA_7','rsi_7','EMA_7']].tail(10))\n",
        "val_rescaled = data_val.reshape(1, data_val.shape[0], data_val.shape[1])\n",
        "pred=cnn_model.predict(val_rescaled)\n",
        "pred_Inverse = Y_scaler.inverse_transform(pred)\n",
        "pred_Inverse"
      ]
    },
    {
      "cell_type": "code",
      "execution_count": 50,
      "metadata": {
        "id": "qCa3fcUgIro5"
      },
      "outputs": [],
      "source": [
        "def timeseries_evaluation_metrics_func(y_true, y_pred):\n",
        "    def mean_absolute_percentage_error(y_true, y_pred): \n",
        "        y_true, y_pred = np.array(y_true), np.array(y_pred)\n",
        "        return np.mean(np.abs((y_true - y_pred) / y_true)) * 100\n",
        "\n",
        "    print('Evaluation metric results:-')\n",
        "    print(f'MSE is : {metrics.mean_squared_error(y_true, y_pred)}')\n",
        "    print(f'MAE is : {metrics.mean_absolute_error(y_true, y_pred)}')\n",
        "    print(f'RMSE is : {np.sqrt(metrics.mean_squared_error(y_true, y_pred))}')\n",
        "    print(f'MAPE is : {mean_absolute_percentage_error(y_true, y_pred)}')\n"
      ]
    },
    {
      "cell_type": "code",
      "execution_count": 51,
      "metadata": {
        "colab": {
          "base_uri": "https://localhost:8080/"
        },
        "id": "vZheU0ClIv6C",
        "outputId": "326865b9-8a6b-452c-c9a8-3462493aec40"
      },
      "outputs": [
        {
          "output_type": "stream",
          "name": "stdout",
          "text": [
            "Evaluation metric results:-\n",
            "MSE is : 0.5524253611049487\n",
            "MAE is : 0.7068588020965577\n",
            "RMSE is : 0.7432532281160632\n",
            "MAPE is : 32.24740621761027\n"
          ]
        }
      ],
      "source": [
        "validate = (df[['Close']].tail(10))\n",
        "timeseries_evaluation_metrics_func(validate['Close'],pred_Inverse[0])"
      ]
    },
    {
      "cell_type": "code",
      "execution_count": 52,
      "metadata": {
        "colab": {
          "base_uri": "https://localhost:8080/",
          "height": 553
        },
        "id": "9F4dY-uMJau0",
        "outputId": "f85f3b11-722f-480d-e559-f055b383e43b"
      },
      "outputs": [
        {
          "output_type": "display_data",
          "data": {
            "text/plain": [
              "<Figure size 1152x648 with 1 Axes>"
            ],
            "image/png": "[encoded data removed]"
          },
          "metadata": {
            "needs_background": "light"
          }
        }
      ],
      "source": [
        "plt.figure(figsize=(16,9))\n",
        "plt.plot( list(validate['Close']))\n",
        "plt.plot( list(pred_Inverse[0]))\n",
        "plt.title(\"Actual vs Predicted\")\n",
        "plt.ylabel(\"Close\")\n",
        "plt.legend(('Actual','predicted'))\n",
        "plt.show()"
      ]
    }
  ],
  "metadata": {
    "colab": {
      "provenance": []
    },
    "kernelspec": {
      "display_name": "Python 3.10.8 64-bit (microsoft store)",
      "language": "python",
      "name": "python3"
    },
    "language_info": {
      "name": "python",
      "version": "3.10.8"
    },
    "vscode": {
      "interpreter": {
        "hash": "3b7e9cb8e453d6cda0fe8c8dd13f891a1f09162f0e7c66ffeae7751a7aecf00d"
      }
    }
  },
  "nbformat": 4,
  "nbformat_minor": 0
}